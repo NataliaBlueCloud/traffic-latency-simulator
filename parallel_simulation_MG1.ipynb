{
  "cells": [
    {
      "cell_type": "markdown",
      "metadata": {
        "id": "view-in-github",
        "colab_type": "text"
      },
      "source": [
        "<a href=\"https://colab.research.google.com/github/NataliaBlueCloud/traffic-latency-simulator/blob/main/parallel_simulation_MG1.ipynb\" target=\"_parent\"><img src=\"https://colab.research.google.com/assets/colab-badge.svg\" alt=\"Open In Colab\"/></a>"
      ]
    },
    {
      "cell_type": "code",
      "execution_count": null,
      "metadata": {
        "id": "m46U-uP8Gm3s",
        "vscode": {
          "languageId": "r"
        }
      },
      "outputs": [],
      "source": [
        "system('git clone https://github.com/NataliaBlueCloud/traffic-latency-simulator.git')\n"
      ]
    },
    {
      "cell_type": "code",
      "execution_count": null,
      "metadata": {
        "colab": {
          "base_uri": "https://localhost:8080/"
        },
        "id": "i9Yof6HRMzkz",
        "outputId": "ada3e699-c23a-4d0a-fadf-77e1eee52c2a",
        "vscode": {
          "languageId": "r"
        }
      },
      "outputs": [
        {
          "output_type": "stream",
          "name": "stderr",
          "text": [
            "Installing package into ‘/usr/local/lib/R/site-library’\n",
            "(as ‘lib’ is unspecified)\n",
            "\n",
            "Warning message in install.packages(\"igraph\"):\n",
            "“installation of package ‘igraph’ had non-zero exit status”\n",
            "Installing package into ‘/usr/local/lib/R/site-library’\n",
            "(as ‘lib’ is unspecified)\n",
            "\n",
            "Warning message in install.packages(\"simmer\"):\n",
            "“installation of package ‘simmer’ had non-zero exit status”\n",
            "Installing package into ‘/usr/local/lib/R/site-library’\n",
            "(as ‘lib’ is unspecified)\n",
            "\n",
            "Installing package into ‘/usr/local/lib/R/site-library’\n",
            "(as ‘lib’ is unspecified)\n",
            "\n",
            "also installing the dependency ‘gdtools’\n",
            "\n",
            "\n",
            "Warning message in install.packages(\"hrbrthemes\"):\n",
            "“installation of package ‘gdtools’ had non-zero exit status”\n",
            "Warning message in install.packages(\"hrbrthemes\"):\n",
            "“installation of package ‘hrbrthemes’ had non-zero exit status”\n",
            "Installing package into ‘/usr/local/lib/R/site-library’\n",
            "(as ‘lib’ is unspecified)\n",
            "\n",
            "Installing package into ‘/usr/local/lib/R/site-library’\n",
            "(as ‘lib’ is unspecified)\n",
            "\n",
            "Installing package into ‘/usr/local/lib/R/site-library’\n",
            "(as ‘lib’ is unspecified)\n",
            "\n",
            "Installing package into ‘/usr/local/lib/R/site-library’\n",
            "(as ‘lib’ is unspecified)\n",
            "\n",
            "Installing package into ‘/usr/local/lib/R/site-library’\n",
            "(as ‘lib’ is unspecified)\n",
            "\n",
            "Installing package into ‘/usr/local/lib/R/site-library’\n",
            "(as ‘lib’ is unspecified)\n",
            "\n"
          ]
        }
      ],
      "source": [
        "install.packages(\"igraph\")\n",
        "install.packages(\"simmer\")\n",
        "install.packages(\"SciViews\")\n",
        "install.packages(\"hrbrthemes\")\n",
        "install.packages(\"viridis\")\n",
        "install.packages(\"googledrive\")\n",
        "install.packages(\"readxl\")\n",
        "install.packages(\"openxlsx\")\n",
        "install.packages(\"doParallel\")\n",
        "install.packages(\"foreach\")\n"
      ]
    },
    {
      "cell_type": "code",
      "execution_count": null,
      "metadata": {
        "id": "iFi0-Vv4MkU4",
        "vscode": {
          "languageId": "r"
        }
      },
      "outputs": [],
      "source": [
        "library(ggplot2)\n",
        "library(igraph)\n",
        "library(stringr)\n",
        "library(tidyverse)\n",
        "library(readr)\n",
        "library(SciViews)\n",
        "library(dplyr)\n",
        "library(viridis)\n",
        "library(readxl)\n",
        "library(openxlsx)\n",
        "library(simmer)\n",
        "library(doParallel)\n",
        "library(foreach)"
      ]
    },
    {
      "cell_type": "code",
      "execution_count": null,
      "metadata": {
        "id": "9yiG_F8YNY0J",
        "vscode": {
          "languageId": "r"
        }
      },
      "outputs": [],
      "source": [
        "source(\"/content/traffic-latency-simulator/func/igraph_functions.R\")\n",
        "source(\"/content/traffic-latency-simulator/func/general_function_base.R\")\n",
        "source(\"/content/traffic-latency-simulator/func/simmer_function_base.R\")"
      ]
    },
    {
      "cell_type": "markdown",
      "metadata": {
        "id": "kuVxhIS7vQ0o"
      },
      "source": [
        "#Input data"
      ]
    },
    {
      "cell_type": "markdown",
      "metadata": {
        "id": "ckvEg6keFBoE"
      },
      "source": [
        "The **average packet size** is taken from: Amsterdam Internet Exchange Ethernet Frame Size Distribution, statistics available online at https://stats.ams-ix.net/sflow/size.html, accessed on July 2023\n",
        "\n",
        "Packet sizes in Bytes: 64-127, 128-511, 512 - 1023, 1024 - 1513, 1514, more than 1515.\n",
        "\n",
        "\n",
        "With their probabilities: 0.332, 0.054, 0.033, 0.037, 0.346, 0.146, 0.052"
      ]
    },
    {
      "cell_type": "code",
      "execution_count": null,
      "metadata": {
        "colab": {
          "base_uri": "https://localhost:8080/",
          "height": 34
        },
        "id": "wcrOmHJ6ZZPd",
        "outputId": "6428e952-93c5-4199-daba-17acfbdd4ab8",
        "vscode": {
          "languageId": "r"
        }
      },
      "outputs": [
        {
          "output_type": "display_data",
          "data": {
            "text/html": [
              "1019.035"
            ],
            "text/markdown": "1019.035",
            "text/latex": "1019.035",
            "text/plain": [
              "[1] 1019.035"
            ]
          },
          "metadata": {}
        }
      ],
      "source": [
        "PS_size=c((64+127)/2,(128+255)/2,(256+511)/2, (512+1023)/2, (1024+1513)/2, 1514, (1515+9100)/2)\n",
        "PS_weights=c(33.2/100, 5.4/100, 3.3/100, 3.7/100, 34.6/100, 14.6/100, 5.2/100)\n",
        "N = sum(PS_size*PS_weights)\n",
        "N\n",
        "var_N <- sum(PS_size^2*PS_weights) - N^2\n",
        "Cs2 <- var_N/(N^2)\n",
        "\n",
        "CapacityGbps = 10\n",
        "#Calculation of delays for different capacities\n",
        "Load_local = 0.3\n",
        "Load_regional = 0.5\n",
        "Load_national = 0.4"
      ]
    },
    {
      "cell_type": "markdown",
      "metadata": {
        "id": "EuPLs1y6vgyN"
      },
      "source": [
        "Input excel file with topology information: links, nodes, traffic\n",
        "\n",
        "Prefix base - the common name for the nodes in the file."
      ]
    },
    {
      "cell_type": "code",
      "execution_count": null,
      "metadata": {
        "id": "__KjYBXGzgnX",
        "vscode": {
          "languageId": "r"
        },
        "colab": {
          "base_uri": "https://localhost:8080/"
        },
        "outputId": "2faef513-4a2d-4499-c1fa-a54d00212373"
      },
      "outputs": [
        {
          "output_type": "stream",
          "name": "stdout",
          "text": [
            "Enter 'Tokyo', 'Milano', or 'MAN157' to choose the respective topology: Tokyo\n",
            "[1] \"/content/traffic-latency-simulator/input_files/Metro_topology_full_Tokyo.xlsx\"\n"
          ]
        }
      ],
      "source": [
        "topology_choice <- readline(prompt = \"Enter 'Tokyo', 'Milano', or 'MAN157' to choose the respective topology: \")\n",
        "\n",
        "# Define the file paths based on user input\n",
        "if (tolower(topology_choice) == \"tokyo\" | tolower(topology_choice) == \"Tokyo\") {\n",
        "  file_name_v2 <- \"/content/traffic-latency-simulator/input_files/Metro_topology_full_Tokyo.xlsx\"\n",
        "  prefix_base <- \"Tokyo_\"\n",
        "  topology_name = \"Tokyo\"\n",
        "  print(file_name_v2)\n",
        "} else if (tolower(topology_choice) == \"milano\" | tolower(topology_choice) == \"Milano\") {\n",
        "  file_name_v2 <- \"/content/traffic-latency-simulator/input_files/Metro_topology_full_Milano.xlsx\"\n",
        "  prefix_base <- \"Node\"\n",
        "  topology_name = \"Milano\"\n",
        "  print(file_name_v2)\n",
        "} else if (tolower(topology_choice) == \"man157\" | tolower(topology_choice) == \"MAN157\") {\n",
        "  file_name_v2 <- \"/content/traffic-latency-simulator/input_files/Metro_topology_MAN157.xlsx\"\n",
        "  prefix_base <- \"Node\"\n",
        "  topology_name = \"MAN157\"\n",
        "  print(file_name_v2)\n",
        "} else {\n",
        "  stop(\"Invalid input. Please enter either 'Tokyo', 'Milano', or 'MAN157'.\")\n",
        "}"
      ]
    },
    {
      "cell_type": "code",
      "execution_count": null,
      "metadata": {
        "id": "MwmNHKnAfszI",
        "vscode": {
          "languageId": "r"
        }
      },
      "outputs": [],
      "source": [
        "nodes_info <- read_excel(file_name_v2, sheet = 1)\n",
        "links_info <- read_excel(file_name_v2, sheet = 2)\n",
        "traffic_file <- read_excel(file_name_v2, sheet = 3)"
      ]
    },
    {
      "cell_type": "code",
      "execution_count": null,
      "metadata": {
        "id": "aVvcRBOi6szb",
        "vscode": {
          "languageId": "r"
        },
        "colab": {
          "base_uri": "https://localhost:8080/"
        },
        "outputId": "9ce4e7d5-5638-487f-b271-19f486c2252e"
      },
      "outputs": [
        {
          "output_type": "stream",
          "name": "stdout",
          "text": [
            "\u001b[90m# A tibble: 86 × 4\u001b[39m\n",
            "   sourceID destinationID distanceKm capacityGbps\n",
            "   \u001b[3m\u001b[90m<chr>\u001b[39m\u001b[23m    \u001b[3m\u001b[90m<chr>\u001b[39m\u001b[23m              \u001b[3m\u001b[90m<dbl>\u001b[39m\u001b[23m        \u001b[3m\u001b[90m<dbl>\u001b[39m\u001b[23m\n",
            "\u001b[90m 1\u001b[39m Tokyo_01 Tokyo_02             1          \u001b[4m1\u001b[24m346.\n",
            "\u001b[90m 2\u001b[39m Tokyo_01 Tokyo_03             1           928.\n",
            "\u001b[90m 3\u001b[39m Tokyo_01 Tokyo_04             0.8           0 \n",
            "\u001b[90m 4\u001b[39m Tokyo_01 Tokyo_05             0.8           0 \n",
            "\u001b[90m 5\u001b[39m Tokyo_01 Tokyo_06             0.8        \u001b[4m1\u001b[24m750.\n",
            "\u001b[90m 6\u001b[39m Tokyo_02 Tokyo_01             1          \u001b[4m8\u001b[24m856.\n",
            "\u001b[90m 7\u001b[39m Tokyo_02 Tokyo_03             1             0 \n",
            "\u001b[90m 8\u001b[39m Tokyo_02 Tokyo_08             1           917.\n",
            "\u001b[90m 9\u001b[39m Tokyo_03 Tokyo_01             1          \u001b[4m7\u001b[24m263.\n",
            "\u001b[90m10\u001b[39m Tokyo_03 Tokyo_02             1             0 \n",
            "\u001b[90m# ℹ 76 more rows\u001b[39m\n",
            "\u001b[90m# A tibble: 23 × 11\u001b[39m\n",
            "   node_name node_code `Node Type`  `Central office type` Reference Regional C…¹\n",
            "   \u001b[3m\u001b[90m<chr>\u001b[39m\u001b[23m     \u001b[3m\u001b[90m<chr>\u001b[39m\u001b[23m     \u001b[3m\u001b[90m<chr>\u001b[39m\u001b[23m        \u001b[3m\u001b[90m<chr>\u001b[39m\u001b[23m                 \u001b[3m\u001b[90m<chr>\u001b[39m\u001b[23m                 \n",
            "\u001b[90m 1\u001b[39m Tokyo_01  HL2       Metro Core … National CO           Tokyo_07              \n",
            "\u001b[90m 2\u001b[39m Tokyo_02  HL4       Metro Aggre… Local CO              Tokyo_07              \n",
            "\u001b[90m 3\u001b[39m Tokyo_03  HL4       Metro Aggre… Local CO              Tokyo_13              \n",
            "\u001b[90m 4\u001b[39m Tokyo_04  HL2       Metro Core … National CO           Tokyo_16              \n",
            "\u001b[90m 5\u001b[39m Tokyo_05  HL2       Metro Core … National CO           Tokyo_16              \n",
            "\u001b[90m 6\u001b[39m Tokyo_06  HL4       Metro Aggre… Local CO              Tokyo_07              \n",
            "\u001b[90m 7\u001b[39m Tokyo_07  HL3       Metro Core   Regional CO           Tokyo_07              \n",
            "\u001b[90m 8\u001b[39m Tokyo_08  HL4       Metro Aggre… Local CO              Tokyo_07              \n",
            "\u001b[90m 9\u001b[39m Tokyo_09  HL4       Metro Aggre… Local CO              Tokyo_13              \n",
            "\u001b[90m10\u001b[39m Tokyo_10  HL4       Metro Aggre… Local CO              Tokyo_13              \n",
            "\u001b[90m# ℹ 13 more rows\u001b[39m\n",
            "\u001b[90m# ℹ abbreviated name: ¹​`Reference Regional CO`\u001b[39m\n",
            "\u001b[90m# ℹ 6 more variables: `Reference National CO` <chr>, Households <dbl>,\u001b[39m\n",
            "\u001b[90m#   `Macro cells sites` <dbl>, `Small cell sites` <dbl>,\u001b[39m\n",
            "\u001b[90m#   `Twin Regional CO` <chr>, `Twin National CO` <chr>\u001b[39m\n",
            "\u001b[90m# A tibble: 46 × 4\u001b[39m\n",
            "   sourceID destinationID trafficGbps service\n",
            "   \u001b[3m\u001b[90m<chr>\u001b[39m\u001b[23m    \u001b[3m\u001b[90m<chr>\u001b[39m\u001b[23m               \u001b[3m\u001b[90m<dbl>\u001b[39m\u001b[23m \u001b[3m\u001b[90m<chr>\u001b[39m\u001b[23m  \n",
            "\u001b[90m 1\u001b[39m Tokyo_01 Tokyo_01               0  CWB    \n",
            "\u001b[90m 2\u001b[39m Tokyo_02 Tokyo_01            \u001b[4m2\u001b[24m264. CWB    \n",
            "\u001b[90m 3\u001b[39m Tokyo_03 Tokyo_01             849. CWB    \n",
            "\u001b[90m 4\u001b[39m Tokyo_04 Tokyo_04            \u001b[4m5\u001b[24m375. CWB    \n",
            "\u001b[90m 5\u001b[39m Tokyo_05 Tokyo_05            \u001b[4m1\u001b[24m371. CWB    \n",
            "\u001b[90m 6\u001b[39m Tokyo_06 Tokyo_01            \u001b[4m2\u001b[24m911. CWB    \n",
            "\u001b[90m 7\u001b[39m Tokyo_07 Tokyo_01            \u001b[4m1\u001b[24m612. CWB    \n",
            "\u001b[90m 8\u001b[39m Tokyo_08 Tokyo_01            \u001b[4m2\u001b[24m662. CWB    \n",
            "\u001b[90m 9\u001b[39m Tokyo_09 Tokyo_01             443. CWB    \n",
            "\u001b[90m10\u001b[39m Tokyo_10 Tokyo_04            \u001b[4m2\u001b[24m843. CWB    \n",
            "\u001b[90m# ℹ 36 more rows\u001b[39m\n"
          ]
        }
      ],
      "source": [
        "print(links_info)\n",
        "print(nodes_info)\n",
        "print(traffic_file)"
      ]
    },
    {
      "cell_type": "markdown",
      "metadata": {
        "id": "FjuqTmIov7Jc"
      },
      "source": [
        "Definition of national and regional Cental Offices (COs)."
      ]
    },
    {
      "cell_type": "code",
      "execution_count": null,
      "metadata": {
        "id": "Ilk5V28yv6Qr",
        "vscode": {
          "languageId": "r"
        },
        "colab": {
          "base_uri": "https://localhost:8080/"
        },
        "outputId": "91da2278-949a-4c6b-d26f-7338071851d1"
      },
      "outputs": [
        {
          "output_type": "stream",
          "name": "stdout",
          "text": [
            "National nodes: 1 4 5 \n",
            "Regional nodes: 7 13 16 \n"
          ]
        }
      ],
      "source": [
        "national_nodes <- c()\n",
        "regional_nodes <- c()\n",
        "\n",
        "for (i in seq_along(nodes_info$node_code)) {\n",
        "  if (nodes_info$node_code[i] == \"HL2\") {\n",
        "    national_nodes <- c(national_nodes, i)\n",
        "  }\n",
        "  if (nodes_info$node_code[i] == \"HL3\") {\n",
        "    regional_nodes <- c(regional_nodes, i)\n",
        "  }\n",
        "}\n",
        "\n",
        "cat(\"National nodes:\", national_nodes, \"\\n\")\n",
        "cat(\"Regional nodes:\", regional_nodes, \"\\n\")"
      ]
    },
    {
      "cell_type": "markdown",
      "metadata": {
        "id": "AGoIy4XH6e8y"
      },
      "source": [
        "#Functions"
      ]
    },
    {
      "cell_type": "markdown",
      "metadata": {
        "id": "Ouv6PIa_3brU"
      },
      "source": [
        "### Vysochanskij–Petunin's bound calculation function\n",
        "Inputs:\n",
        "- **delay_hops**: Vector of delay at each hop\n",
        "- **a**: Upper bound percentile from 0 to 1\n",
        "\n",
        "Output:\n",
        "- Vysochanskij–Petunin's upper bound\n"
      ]
    },
    {
      "cell_type": "code",
      "execution_count": null,
      "metadata": {
        "id": "3m0IbQs83UN6",
        "vscode": {
          "languageId": "r"
        }
      },
      "outputs": [],
      "source": [
        "func_bounds_VP <- function(delay_hops, a)\n",
        "{\n",
        "  mu = sum(delay_hops)\n",
        "  sigma = sqrt(sum(delay_hops^2))\n",
        "  k <- sqrt(4/9/(1-a))\n",
        "  Prop_VP <- 1 - 4/9/(k^2)\n",
        "  upper_bound_VP <- k * sigma + mu\n",
        "  return(upper_bound_VP)\n",
        "}"
      ]
    },
    {
      "cell_type": "markdown",
      "metadata": {
        "id": "BVsjRyLiF-L8"
      },
      "source": [
        "##Simmer simulation"
      ]
    },
    {
      "cell_type": "markdown",
      "metadata": {
        "id": "4DQ8v_371dH3"
      },
      "source": [
        "\n",
        "### Function to perform simulation in a simmer environment with M/G/1 queueing model\n",
        "Inputs:\n",
        "- **env**: Simmer environment\n",
        "- **from**: Source node\n",
        "- **to**: Destination node\n",
        "- **graph**: Graph object representing the network topology\n",
        "- **traffic_val**: Traffic value (lambda) for the simulation\n",
        "- **log_info**: Information for logging purposes\n",
        "- **PS_size**: Packet size\n",
        "- **PS_weights**: Packet weights\n",
        "\n",
        "Output:\n",
        "- List containing updated environment, trajectory name, transmission delay, and propagation delay\n"
      ]
    },
    {
      "cell_type": "code",
      "execution_count": null,
      "metadata": {
        "id": "-udvJ2D81ctK",
        "vscode": {
          "languageId": "r"
        }
      },
      "outputs": [],
      "source": [
        "simmer_simulation_mg1 <- function(env, from, to, graph, traffic_val, log_info, PS_size, PS_weights)\n",
        "{\n",
        "  name = paste0('traffic_', from, \"_\", to, \"_\", log_info)\n",
        "  if (from != to && traffic_val != 0) {\n",
        "    c(traffic, delay_transm, delay_prop) := simmer_trajectory_simulation_mg1(env, from, to, trajectory_name = traffic , graph, log_info, PS_size = PS_size, PS_weights = PS_weights) #creating trajectory\n",
        "    assign(name, traffic)\n",
        "    print(name)\n",
        "    #print(get(name))\n",
        "    env<- simmer_generator(env, get(name), name, traffic_val)\n",
        "  }\n",
        "  return(list(env, name, delay_transm, delay_prop))\n",
        "}"
      ]
    },
    {
      "cell_type": "markdown",
      "metadata": {
        "id": "1J_NZPIk3lMC"
      },
      "source": [
        "### Function to create cross trajectories in the simmer environment based on the network load\n",
        "Inputs:\n",
        "- **env**: Simmer environment\n",
        "- **g**: Graph object representing the network topology\n",
        "- **from**: Source node\n",
        "- **to**: Destination node\n",
        "- **lambda_simmer**: Traffic value (lambda) for the simulation\n",
        "- **PS_size**: Packet size\n",
        "- **PS_weights**: Packet weights\n",
        "\n",
        "Output:\n",
        "- Updated simmer environment"
      ]
    },
    {
      "cell_type": "code",
      "execution_count": null,
      "metadata": {
        "id": "R3VSMoF3D5OO",
        "vscode": {
          "languageId": "r"
        }
      },
      "outputs": [],
      "source": [
        "simmer_crosstrajectory_simulation_mg1 <- function(env, g, from, to, lambda_simmer, PS_size, PS_weights)\n",
        "{\n",
        "  path <- shortest_paths(g, from, to, weights = NULL, output = \"both\", algorithm = c(\"automatic\"))\n",
        "  N = sum(PS_size*PS_weights)\n",
        "  path_size <- length(path[[\"vpath\"]][[1]])\n",
        "  nodes_capacity <- rep(0, length(V(g)))\n",
        "  nodes_capacity[path[[\"vpath\"]][[1]][-path_size]] <- E(g)$capacityGbps[path[[\"epath\"]][[1]]]\n",
        "  nodes_capacity_Bps <- nodes_capacity*1e9\n",
        "  nodes_capacity <- nodes_capacity_Bps/(8*N)\n",
        "\n",
        "  nodes_load <- rep(0, length(V(g)))\n",
        "  nodes_load[path[[\"vpath\"]][[1]][-path_size]] <- E(g)$Load[path[[\"epath\"]][[1]]]\n",
        "\n",
        "  for (i in path[[\"vpath\"]][[1]][-path_size])\n",
        "  {\n",
        "\n",
        "    load_compare <- lambda_simmer/(nodes_capacity[i])\n",
        "    if (nodes_load[i] > load_compare )\n",
        "    {\n",
        "      print(paste0(\"node_\", i))\n",
        "      print(nodes_capacity[i])\n",
        "      print(nodes_load[i])\n",
        "      trajectory_name <- trajectory() %>%\n",
        "        seize(paste0(\"node_\", i)) %>%\n",
        "        set_attribute(\"capacity\", nodes_capacity_Bps[i]) %>%\n",
        "        timeout(function() 8*sample(PS_size,size = 1, replace = T, prob = PS_weights)/(get_attribute(env, \"capacity\"))) %>%\n",
        "        release(paste0(\"node_\", i)) #%>%\n",
        "\n",
        "      name <- paste0(\"traffic_cross_\", from,\"_\", to, \"_node_\", i,\"_\")\n",
        "      assign(name, trajectory_name)\n",
        "      traffic_val <- nodes_load[i] * nodes_capacity[i] - lambda_simmer\n",
        "      print(traffic_val)\n",
        "      print(lambda_simmer)\n",
        "      print(nodes_load[i]*nodes_capacity[i])\n",
        "      env<- simmer_generator(env, get(name), name, traffic_val)\n",
        "    }\n",
        "  }\n",
        "  return(env)\n",
        "}\n",
        "\n"
      ]
    },
    {
      "cell_type": "markdown",
      "metadata": {
        "id": "zzNbQqp53nuY"
      },
      "source": [
        "### Main function to perform simulation using trajectories in a simmer environment\n",
        "Inputs:\n",
        "- **g**: Graph object representing the network topology\n",
        "- **traffic_file**: Data frame containing traffic information\n",
        "- **PS_size**: Packet size\n",
        "- **PS_weights**: Packet weights\n",
        "- **load**: Traffic load (default: $0.3$)\n",
        "- **CapacityGbps**: Link capacity in Gbps (default: $10~Gb/s$)\n",
        "\n",
        "Output:\n",
        "- List containing delay and traffic information"
      ]
    },
    {
      "cell_type": "code",
      "execution_count": null,
      "metadata": {
        "id": "QuPB0Nmrr7yM",
        "vscode": {
          "languageId": "r"
        }
      },
      "outputs": [],
      "source": [
        "\n",
        "simulation_simmer <- function(g, traffic_file, PS_size, PS_weights, load = 0.3,\n",
        "                              CapacityGbps = 10, ncores=1){\n",
        "  E(g)$Queue_Delay_sim <- 0\n",
        "  E(g)$Queue_Delay_theor_VP_upbound99 <- 0\n",
        "  E(g)$Queue_Delay_sim_99p <- 0\n",
        "\n",
        "  #####################################simmer\n",
        "  queue_delay_tr_flow <- numeric(nrow(traffic_file))\n",
        "  # queue_delay_tr_flow <- numeric(nrow(traffic_file))\n",
        "  prop_delay_tr_flow <- numeric(nrow(traffic_file))\n",
        "  delay_tr_flow <- numeric(nrow(traffic_file))\n",
        "  delay_tr_flow_p_99 <- numeric(nrow(traffic_file))\n",
        "  exp_delay_igraph <- numeric(nrow(traffic_file))\n",
        "  delay_tr_flow_VP_upbound_p_99_100 <- numeric(nrow(traffic_file))\n",
        "  digits = 10\n",
        "  print(\"start simulation in simmer\")\n",
        "  N = sum(PS_size*PS_weights)\n",
        "  cat(\"Load = \",load, \"\\n\")\n",
        "  traffic_file$traffic_ps <- CapacityGbps*1e9/(8*N)*load\n",
        "  traffic_file$trafficGbps <- CapacityGbps*load\n",
        "  assign(\"traffic_file\", traffic_file, .GlobalEnv)\n",
        "  cluster <- makeCluster(ncores)\n",
        "  print(cluster)\n",
        "  registerDoParallel(cluster)\n",
        "  results = numeric(nrow(traffic_file))\n",
        "  results <- foreach (line = 1:nrow(traffic_file)) %dopar%\n",
        "  #forend <- foreach (line = 1:4) %dopar%\n",
        "  {\n",
        "    print(line)\n",
        "    if(traffic_file$sourceID[line] != traffic_file$destinationID[line] && traffic_file$traffic_ps[line] != 0)\n",
        "    {\n",
        "      file_param = paste0(line,\"_params\")\n",
        "      file_result = paste0(line, \"_results\")\n",
        "      save(line, traffic_file, g, PS_size, PS_weights, file=file_param)\n",
        "      command <- paste0(\"Rscript /content/traffic-latency-simulator/parallelized_v2/traffic_flow_simulation.R \", file_param)\n",
        "      out_res<-system(command)\n",
        "      print(out_res)\n",
        "      load(file_result)\n",
        "      unlink(file_param)\n",
        "      unlink(file_result)\n",
        "      results[line]<-res\n",
        "    } else{\n",
        "      print(\"no info of traffic\")\n",
        "      results[line]<-(c(0,0,NaN,0,0,0))\n",
        "    }\n",
        "  }\n",
        "  stopCluster(cluster)\n",
        "  print(results)\n",
        "  i=0\n",
        "  for (res in results){\n",
        "    i=i+1\n",
        "    exp_delay_igraph[i]<- res[1]\n",
        "    queue_delay_tr_flow[i] <- res[2]\n",
        "    prop_delay_tr_flow[i] <- res[3]\n",
        "    delay_tr_flow[i] <- res[4]\n",
        "    delay_tr_flow_p_99[i] <- res[5]\n",
        "    delay_tr_flow_VP_upbound_p_99_100[i] <-res[6]\n",
        "  }\n",
        "\n",
        "  igraph_df_calc <- data_frame(exp_delay_igraph, delay_tr_flow, delay_tr_flow_p_99, delay_tr_flow_VP_upbound_p_99_100)\n",
        "\n",
        "  assign(\"igraph_df_calc\", igraph_df_calc, .GlobalEnv)\n",
        "\n",
        "  return(list(delay_tr_flow, exp_delay_igraph, delay_tr_flow_p_99, delay_tr_flow_VP_upbound_p_99_100, g))\n",
        "}"
      ]
    },
    {
      "cell_type": "markdown",
      "metadata": {
        "id": "0PVf76ur3rFa"
      },
      "source": [
        "### Function to calculate end-to-end delays theoretically\n",
        "Inputs:\n",
        "- **g**: Graph object representing the network topology\n",
        "- **traffic_file**: Data frame containing traffic information\n",
        "- **Cs2**: coefficient of variation of service time\n",
        "\n",
        "Output:\n",
        "- List containing updated graph and theoretical delay values"
      ]
    },
    {
      "cell_type": "code",
      "execution_count": null,
      "metadata": {
        "id": "Mms2n4H0FKFO",
        "vscode": {
          "languageId": "r"
        }
      },
      "outputs": [],
      "source": [
        "prop_queue_tr_delay_e2e <- function(g, traffic_file, Cs2){\n",
        "\n",
        "  E(g)$Queue_Delay <- ifelse(E(g)$Traffic == 0, 0, E(g)$Load/(1-E(g)$Load)/E(g)$Traffic*(Cs2 + 1)/2) #M/G/1\n",
        "  latencyPropTransQueuing_theor_s <- rep(0, nrow(traffic_file))\n",
        "  latencyPercentile99_theor_s <- rep(0, nrow(traffic_file))\n",
        "  for (line in 1:nrow(traffic_file))\n",
        "  {\n",
        "    if(traffic_file$traffic_ps[line] != 0){\n",
        "      vertex_sourse <- which(V(g)$name==traffic_file$sourceID[line])\n",
        "      vertex_destination<- which(V(g)$name==traffic_file$destinationID[line])\n",
        "      path <- shortest_paths(g, vertex_sourse, vertex_destination,\n",
        "                             weights = NULL,\n",
        "                             output = \"both\",\n",
        "                             algorithm = c(\"automatic\"))\n",
        "      latencyPropTransQueuing_theor_s[line] = sum(E(g)[path[[\"epath\"]][[1]]]$Queue_Delay) + sum(E(g)[path[[\"epath\"]][[1]]]$Prop_Delay)\n",
        "      latencyPercentile99_theor_s[line] <- func_bounds_VP(E(g)[path[[\"epath\"]][[1]]]$Queue_Delay, 0.99) + sum(E(g)[path[[\"epath\"]][[1]]]$Prop_Delay)\n",
        "    }\n",
        "    else {\n",
        "      latencyPropTransQueuing_theor_s[line] <- 0\n",
        "      latencyPercentile99_theor_s[line] <- 0\n",
        "    }\n",
        "  }\n",
        "  return(list(g, latencyPropTransQueuing_theor_s, latencyPercentile99_theor_s))\n",
        "}\n"
      ]
    },
    {
      "cell_type": "markdown",
      "metadata": {
        "id": "_Mgt90Ot7Hn0"
      },
      "source": [
        "##Igraph calculations\n"
      ]
    },
    {
      "cell_type": "markdown",
      "metadata": {
        "id": "vpkRRJ4036Q2"
      },
      "source": [
        "### Main function to perform simulation using theoretical delay calculations\n",
        "Inputs:\n",
        "- **nodes_info**: Information about nodes in the network\n",
        "- **links_info**: Information about links in the network\n",
        "- **traffic_file**: Data frame containing traffic information\n",
        "- **Capacity**: Link capacity in Gbps (default: $10~Gb/s$)\n",
        "- **calc_dist**: Flag to calculate distance (default: $FALSE$)\n",
        "- **distance**: Custom distance parameter (default: $5$)\n",
        "- **Load_local**: Local traffic load (default: $0.3$)\n",
        "- **Load_regional**: Regional traffic load (default: $0.5$)\n",
        "- **Load_national**: National traffic load (default: $0.4$)\n",
        "- **prefix_base**: Base prefix for nodes\n",
        "- **national_nodes**: List of national nodes\n",
        "- **regional_nodes**: List of regional nodes\n",
        "- **N**: Number of packets\n",
        "- **Cs2**: coefficient of variation of service time\n",
        "\n",
        "Output:\n",
        "- List containing updated graph and delay information"
      ]
    },
    {
      "cell_type": "code",
      "execution_count": null,
      "metadata": {
        "id": "qfxxbejlFQvC",
        "vscode": {
          "languageId": "r"
        }
      },
      "outputs": [],
      "source": [
        "simulation_igraph <- function(nodes_info, links_info, traffic_file, Capacity = 10, calc_dist =  FALSE, distance = 5, Load_local = 0.3, Load_regional = 0.5, Load_national = 0.4, prefix_base, national_nodes, regional_nodes, N, Cs2){\n",
        "\n",
        "  traffic_file$traffic_ps <- traffic_file$trafficGbps*10^9/(8*N)\n",
        "  g = graph_from_data_frame(links_info, directed = TRUE)\n",
        "  E(g)$capacityGbps <- Capacity\n",
        "  for (NCO in national_nodes){\n",
        "    a <- (filter(traffic_file, traffic_file$destinationID == V(g)$name[NCO]))\n",
        "    size <- length(a$destinationID)\n",
        "    E(g)$capacityGbps[incident(g, NCO, mode = c(\"in\"))] <- Capacity*size\n",
        "  }\n",
        "  E(g)$Capacity <- E(g)$capacityGbps*1e9/(8*N) #p/s\n",
        "  ############distance put original distance(calc_dist = 1) or custom distance (calc_dist = 1) with paramentr \"distance\" in km\n",
        "  if( calc_dist == TRUE ) {\n",
        "    E(g)$Distance = E(g)$distanceKm * distance\n",
        "  }\n",
        "  else {\n",
        "    E(g)$Distance <- E(g)$distanceKm\n",
        "  }\n",
        "  ####Load of the links\n",
        "  #for Local CO\n",
        "  E(g)$Load <- Load_local\n",
        "  #national COs\n",
        "  for (NCO in national_nodes){\n",
        "    E(g)$Load[incident(g, NCO, mode = c(\"in\"))] <- Load_national\n",
        "  }\n",
        "  #regional COs\n",
        "  for (RCO in regional_nodes){\n",
        "    E(g)$Load[incident(g, RCO, mode = c(\"in\"))] <- Load_regional\n",
        "  }\n",
        "\n",
        "  E(g)$Traffic <- E(g)$Capacity * E(g)$Load\n",
        "  E(g)$Ni = E(g)$Load/(1-E(g)$Load) # average number of packets in each system\n",
        "  E(g)$Prop_Delay <- 5*10^(-6)*E(g)$Distance\n",
        "  c(g, traffic_file$latencyPropTransQueuing_theor_s_mg1, traffic_file$latencyPercentile99_theor_s_mg1) := prop_queue_tr_delay_e2e(g, traffic_file, Cs2)\n",
        "\n",
        "  data_av <- traffic_file$latencyPropTransQueuing_theor_s_mg1\n",
        "  data_99 <- traffic_file$latencyPercentile99_theor_s_mg1\n",
        "\n",
        "\n",
        "  assign(\"traffic_file\", traffic_file, .GlobalEnv)\n",
        "\n",
        "  links_info$prop_delay_s <- 5*10^(-6)*links_info$distanceKm\n",
        "  assign(\"links_info_df\", links_info, .GlobalEnv)\n",
        "\n",
        "  #removing the local traffic\n",
        "  data_av <- data_av[data_av != 0]\n",
        "  data_99 <- data_99[data_99 != 0]\n",
        "  return(list(g, data_av, data_99))\n",
        "\n",
        "}\n"
      ]
    },
    {
      "cell_type": "markdown",
      "metadata": {
        "id": "IBnLQmNbRVKG"
      },
      "source": [
        "##Building the graph:\n"
      ]
    },
    {
      "cell_type": "code",
      "execution_count": null,
      "metadata": {
        "id": "_LrIUCnkO0mn",
        "vscode": {
          "languageId": "r"
        }
      },
      "outputs": [],
      "source": [
        "g <- graph.data.frame(links_info, directed = TRUE, vertices = nodes_info)"
      ]
    },
    {
      "cell_type": "markdown",
      "metadata": {
        "id": "yBMu61N3p8ku"
      },
      "source": [
        "##Calculations of the capacity in p/s\n",
        "\n"
      ]
    },
    {
      "cell_type": "code",
      "execution_count": null,
      "metadata": {
        "id": "YKJhGdD0vXLe",
        "vscode": {
          "languageId": "r"
        }
      },
      "outputs": [],
      "source": [
        "E(g)$Distance <- E(g)$distanceKm\n",
        "E(g)$Definition <- paste0(get.edgelist(g)[,1],\"->\",get.edgelist(g)[,2])\n",
        "E(g)$Capacity <- E(g)$capacityGbps*10^9/(8*N)\n"
      ]
    },
    {
      "cell_type": "markdown",
      "metadata": {
        "id": "MQBkY531sUCl"
      },
      "source": [
        "##Plot graph"
      ]
    },
    {
      "cell_type": "code",
      "execution_count": null,
      "metadata": {
        "id": "Q3F-XqcUvVji",
        "vscode": {
          "languageId": "r"
        },
        "colab": {
          "base_uri": "https://localhost:8080/",
          "height": 437
        },
        "outputId": "4ef22031-749f-4878-e373-a734ba33a241"
      },
      "outputs": [
        {
          "output_type": "display_data",
          "data": {
            "text/plain": [
              "Plot with title “”"
            ],
            "image/png": "[encoded data removed]"
          },
          "metadata": {
            "image/png": {
              "width": 420,
              "height": 420
            }
          }
        }
      ],
      "source": [
        "#plot graph\n",
        "V(g)$color <- \"tomato\"\n",
        "V(g)$color[national_nodes] <- \"yellow\"\n",
        "\n",
        "deg <- degree(g, mode=\"all\")\n",
        "V(g)$size <- deg*1.5\n",
        "l <- layout_nicely(g)\n",
        "plot(g, edge.arrow.size=.3, vertex.label = V(g)$name, edge.curved=.5, layout=l)\n"
      ]
    },
    {
      "cell_type": "code",
      "execution_count": null,
      "metadata": {
        "id": "TI2jKSzQ58DR",
        "vscode": {
          "languageId": "r"
        },
        "colab": {
          "base_uri": "https://localhost:8080/",
          "height": 437
        },
        "outputId": "650f5bc2-b5d4-49ef-c131-77b60f3f1662"
      },
      "outputs": [
        {
          "output_type": "display_data",
          "data": {
            "text/plain": [
              "Plot with title “”"
            ],
            "image/png": "[encoded data removed]"
          },
          "metadata": {
            "image/png": {
              "width": 420,
              "height": 420
            }
          }
        }
      ],
      "source": [
        "# Plot graph\n",
        "g1 <- as.undirected(g)\n",
        "V(g1)$name <- c(1:length(V(g1)))\n",
        "\n",
        "# Calculate degree and scale node size\n",
        "deg <- degree(g1, mode = \"all\")\n",
        "V(g1)$size <- 10  # Adjust scaling factor for better visibility\n",
        "\n",
        "V(g1)$color <- \"gray\"  # Default color for all nodes\n",
        "V(g1)$color[national_nodes] <- \"darkblue\"  # Color for national nodes\n",
        "\n",
        "# Set label color based on node type\n",
        "V(g1)$label.color <- \"black\"  # Default label color\n",
        "V(g1)$label.color[national_nodes] <- \"white\"  # Label color for national nodes\n",
        "\n",
        "\n",
        "# Calculate degree and scale node size\n",
        "deg <- degree(g1, mode = \"all\")\n",
        "V(g1)$size <- 10  # Adjust scaling factor for better visibility\n",
        "\n",
        "# Use an undirected layout\n",
        "l <- layout_nicely(g1)\n",
        "\n",
        "# Plot the graph with enhanced appearance\n",
        "plot(g1,\n",
        "     edge.arrow.size = 0,        # Remove edge arrows\n",
        "     vertex.shape = \"square\",\n",
        "     vertex.label = V(g1)$name,          # Remove node labels\n",
        "     vertex.label.color = V(g1)$label.color,  # Set label color\n",
        "\n",
        "     edge.curved = 0.1,          # Slight curve for edges\n",
        "     layout = l,\n",
        "     vertex.size = V(g1)$size,    # Set vertex size based on degree\n",
        "     vertex.color = V(g1)$color,  # Set vertex color\n",
        "     vertex.frame.color = \"white\",  # Remove border around vertices\n",
        "     edge.color = \"black\"         # Set edge color to gray\n",
        ")\n",
        "# Add the legend\n",
        "legend(\"topright\",                    # Position of the legend\n",
        "       legend = c(\"ACO\", \"MCO\"),       # Labels\n",
        "       fill = c(\"gray\", \"darkblue\"),   # Colors corresponding to the labels\n",
        "       title = \"Node Types\",           # Title of the legend\n",
        "       bty = \"n\",                      # No box around the legend\n",
        "       cex = 1.2)                      # Font size of legend text"
      ]
    },
    {
      "cell_type": "markdown",
      "metadata": {
        "id": "qHloL9vvV719"
      },
      "source": [
        "#Igraph calculations"
      ]
    },
    {
      "cell_type": "markdown",
      "metadata": {
        "id": "9FY0yggeRq8o"
      },
      "source": [
        "## Total traffic calculatons\n"
      ]
    },
    {
      "cell_type": "markdown",
      "metadata": {
        "id": "2A_XJRmvv-sb"
      },
      "source": [
        "## Calculations of the load, average number of packets, queueing and propagation delays:"
      ]
    },
    {
      "cell_type": "markdown",
      "metadata": {
        "id": "T46jfsTDsrwN"
      },
      "source": [
        "Load for Local COs $0.3$;\n",
        "\n",
        "Regional COs $0.5$;\n",
        "\n",
        "Rational COs $0.4$"
      ]
    },
    {
      "cell_type": "code",
      "execution_count": null,
      "metadata": {
        "id": "uq8ANa32ioh9",
        "vscode": {
          "languageId": "r"
        }
      },
      "outputs": [],
      "source": [
        "c(g_c10, data_av, data_99) := simulation_igraph(nodes_info, links_info, traffic_file, Capacity = 10, calc_dist = 1, distance = 0.5, Load_local, Load_regional, Load_national, prefix_base, national_nodes, regional_nodes , N, Cs2)"
      ]
    },
    {
      "cell_type": "markdown",
      "metadata": {
        "id": "WV2phTnHiJR-"
      },
      "source": [
        "#Simmer simulation"
      ]
    },
    {
      "cell_type": "markdown",
      "metadata": {
        "id": "FxMgknc-hvYq"
      },
      "source": [
        "Including queuing, transmission, propagation delay"
      ]
    },
    {
      "cell_type": "markdown",
      "metadata": {
        "id": "bPowjNII2p2j"
      },
      "source": [
        "Output table with links information"
      ]
    },
    {
      "cell_type": "markdown",
      "metadata": {
        "id": "JnMFUAsY1pvi"
      },
      "source": [
        "Simulation of all traffic flows, comparision of experimental with theretical\n",
        "\n",
        "## Memory Usage and running time estimation\n"
      ]
    },
    {
      "cell_type": "markdown",
      "metadata": {
        "id": "-hJWPWChDgtl"
      },
      "source": [
        "For Google Collab"
      ]
    },
    {
      "cell_type": "code",
      "execution_count": null,
      "metadata": {
        "id": "4A1TccoKDIjf",
        "vscode": {
          "languageId": "r"
        }
      },
      "outputs": [],
      "source": [
        "mem_usage_calc <- function(){\n",
        "  output <- system('grep \"MemTotal\" /proc/meminfo', intern = TRUE)\n",
        "\n",
        "  # Extract the Total Physical Memory values (remove 'Mem Usage: ' and keep the numeric part)\n",
        "\n",
        "  mem_lines <- sub(\"MemTotal:       \", \"\", output)\n",
        "  memory_total <- sub(\" kB\", \"\", mem_lines)\n",
        "\n",
        "  memory_total <- as.numeric(memory_total)\n",
        "\n",
        "\n",
        "  output <- system('grep \"MemAvailable\" /proc/meminfo', intern = TRUE)\n",
        "  mem_lines <- sub(\"MemAvailable:   \", \"\", output)\n",
        "  memory_usage <- sub(\" kB\", \"\", mem_lines)\n",
        "  memory_usage <- as.numeric(memory_usage)\n",
        "\n",
        "  # Convert the total memory usage from KB to MB\n",
        "  total_mem_usage_mb <- memory_total - memory_usage\n",
        "\n",
        "  # Print the total memory usage in MB\n",
        "  cat(\"Total memory usage:\", total_mem_usage_mb/1024, \"MB\\n\")\n",
        "  return(total_mem_usage_mb)\n",
        "}"
      ]
    },
    {
      "cell_type": "code",
      "execution_count": null,
      "metadata": {
        "id": "evUYZEsz5lqb",
        "vscode": {
          "languageId": "r"
        },
        "colab": {
          "base_uri": "https://localhost:8080/",
          "height": 34
        },
        "outputId": "e29f2d54-2e75-41cd-950e-3ad7e2479a73"
      },
      "outputs": [
        {
          "output_type": "display_data",
          "data": {
            "text/html": [
              "2"
            ],
            "text/markdown": "2",
            "text/latex": "2",
            "text/plain": [
              "[1] 2"
            ]
          },
          "metadata": {}
        }
      ],
      "source": [
        "detectCores()\n"
      ]
    },
    {
      "cell_type": "code",
      "execution_count": null,
      "metadata": {
        "id": "zyyrvhZmvDnA",
        "vscode": {
          "languageId": "r"
        },
        "colab": {
          "base_uri": "https://localhost:8080/",
          "height": 129
        },
        "outputId": "b8a7d482-6c9c-4f7e-ed95-26f3e16f1e12"
      },
      "outputs": [
        {
          "output_type": "display_data",
          "data": {
            "text/html": [
              "<table class=\"dataframe\">\n",
              "<caption>A matrix: 2 × 6 of type dbl</caption>\n",
              "<thead>\n",
              "\t<tr><th></th><th scope=col>used</th><th scope=col>(Mb)</th><th scope=col>gc trigger</th><th scope=col>(Mb)</th><th scope=col>max used</th><th scope=col>(Mb)</th></tr>\n",
              "</thead>\n",
              "<tbody>\n",
              "\t<tr><th scope=row>Ncells</th><td>1583659</td><td>84.6</td><td> 2946194</td><td>157.4</td><td> 2946194</td><td>157.4</td></tr>\n",
              "\t<tr><th scope=row>Vcells</th><td>2884288</td><td>22.1</td><td>10146329</td><td> 77.5</td><td>10146329</td><td> 77.5</td></tr>\n",
              "</tbody>\n",
              "</table>\n"
            ],
            "text/markdown": "\nA matrix: 2 × 6 of type dbl\n\n| <!--/--> | used | (Mb) | gc trigger | (Mb) | max used | (Mb) |\n|---|---|---|---|---|---|---|\n| Ncells | 1583659 | 84.6 |  2946194 | 157.4 |  2946194 | 157.4 |\n| Vcells | 2884288 | 22.1 | 10146329 |  77.5 | 10146329 |  77.5 |\n\n",
            "text/latex": "A matrix: 2 × 6 of type dbl\n\\begin{tabular}{r|llllll}\n  & used & (Mb) & gc trigger & (Mb) & max used & (Mb)\\\\\n\\hline\n\tNcells & 1583659 & 84.6 &  2946194 & 157.4 &  2946194 & 157.4\\\\\n\tVcells & 2884288 & 22.1 & 10146329 &  77.5 & 10146329 &  77.5\\\\\n\\end{tabular}\n",
            "text/plain": [
              "       used    (Mb) gc trigger (Mb)  max used (Mb) \n",
              "Ncells 1583659 84.6  2946194   157.4  2946194 157.4\n",
              "Vcells 2884288 22.1 10146329    77.5 10146329  77.5"
            ]
          },
          "metadata": {}
        }
      ],
      "source": [
        "gc(full=TRUE)"
      ]
    },
    {
      "cell_type": "code",
      "execution_count": null,
      "metadata": {
        "id": "dH-_kzoOMrJD",
        "vscode": {
          "languageId": "r"
        },
        "colab": {
          "base_uri": "https://localhost:8080/",
          "height": 1000
        },
        "outputId": "3cc4b075-b054-49af-f879-3beb57a22fc0"
      },
      "outputs": [
        {
          "output_type": "stream",
          "name": "stdout",
          "text": [
            "Total memory usage: 1210.707 MB\n",
            "[1] \"start simulation in simmer\"\n",
            "Load =  0.3 \n",
            "socket cluster with 4 nodes on host ‘localhost’\n",
            "[[1]]\n",
            "[1]   0   0 NaN   0   0   0\n",
            "\n",
            "[[2]]\n",
            "[1] 2.642017e-06 1.420167e-07 2.500000e-06 2.631339e-06 3.141110e-06\n",
            "[6] 3.588795e-06\n",
            "\n",
            "[[3]]\n",
            "[1] 2.642017e-06 1.420167e-07 2.500000e-06 2.631339e-06 3.141110e-06\n",
            "[6] 3.588795e-06\n",
            "\n",
            "[[4]]\n",
            "[1]   0   0 NaN   0   0   0\n",
            "\n",
            "[[5]]\n",
            "[1]   0   0 NaN   0   0   0\n",
            "\n",
            "[[6]]\n",
            "[1] 2.142017e-06 1.420167e-07 2.000000e-06 2.131339e-06 2.641110e-06\n",
            "[6] 3.088795e-06\n",
            "\n",
            "[[7]]\n",
            "[1] 5.481032e-06 1.481032e-06 4.000000e-06 5.362629e-06 1.018707e-05\n",
            "[6] 1.445786e-05\n",
            "\n",
            "[[8]]\n",
            "[1] 6.481032e-06 1.481032e-06 5.000000e-06 6.354782e-06 1.097502e-05\n",
            "[6] 1.545786e-05\n",
            "\n",
            "[[9]]\n",
            "[1] 6.481032e-06 1.481032e-06 5.000000e-06 6.354782e-06 1.097502e-05\n",
            "[6] 1.545786e-05\n",
            "\n",
            "[[10]]\n",
            "[1] 6.016637e-06 2.016637e-06 4.000000e-06 5.920128e-06 1.290013e-05\n",
            "[6] 1.854992e-05\n",
            "\n",
            "[[11]]\n",
            "[1] 1.032005e-05 2.820046e-06 7.500000e-06 1.010755e-05 1.667746e-05\n",
            "[6] 2.297985e-05\n",
            "\n",
            "[[12]]\n",
            "[1] 6.016637e-06 2.016637e-06 4.000000e-06 5.920128e-06 1.290013e-05\n",
            "[6] 1.854992e-05\n",
            "\n",
            "[[13]]\n",
            "[1] 2.142017e-06 1.420167e-07 2.000000e-06 2.131339e-06 2.641110e-06\n",
            "[6] 3.088795e-06\n",
            "\n",
            "[[14]]\n",
            "[1] 1.642017e-06 1.420167e-07 1.500000e-06 1.631339e-06 2.141110e-06\n",
            "[6] 2.588795e-06\n",
            "\n",
            "[[15]]\n",
            "[1] 4.481032e-06 1.481032e-06 3.000000e-06 4.367047e-06 9.041275e-06\n",
            "[6] 1.345786e-05\n",
            "\n",
            "[[16]]\n",
            "[1] 1.642017e-06 1.420167e-07 1.500000e-06 1.631339e-06 2.141110e-06\n",
            "[6] 2.588795e-06\n",
            "\n",
            "[[17]]\n",
            "[1] 4.516637e-06 2.016637e-06 2.500000e-06 4.441680e-06 1.199526e-05\n",
            "[6] 1.704992e-05\n",
            "\n",
            "[[18]]\n",
            "[1] 1.890546e-06 3.905460e-07 1.500000e-06 1.861022e-06 3.346836e-06\n",
            "[6] 4.494186e-06\n",
            "\n",
            "[[19]]\n",
            "[1] 4.516637e-06 2.016637e-06 2.500000e-06 4.441680e-06 1.199526e-05\n",
            "[6] 1.704992e-05\n",
            "\n",
            "[[20]]\n",
            "[1] 4.481032e-06 1.481032e-06 3.000000e-06 4.367047e-06 9.041275e-06\n",
            "[6] 1.345786e-05\n",
            "\n",
            "[[21]]\n",
            "[1] 4.729561e-06 1.729561e-06 3.000000e-06 4.606034e-06 9.290443e-06\n",
            "[6] 1.402827e-05\n",
            "\n",
            "[[22]]\n",
            "[1] 9.355652e-06 3.355652e-06 6.000000e-06 9.146406e-06 1.666799e-05\n",
            "[6] 2.474300e-05\n",
            "\n",
            "[[23]]\n",
            "[1] 9.855652e-06 3.355652e-06 6.500000e-06 9.662122e-06 1.768558e-05\n",
            "[6] 2.524300e-05\n",
            "\n",
            "[[24]]\n",
            "[1]   0   0 NaN   0   0   0\n",
            "\n",
            "[[25]]\n",
            "[1] 3.839015e-06 1.339015e-06 2.500000e-06 3.697348e-06 8.327364e-06\n",
            "[6] 1.276578e-05\n",
            "\n",
            "[[26]]\n",
            "[1] 3.839015e-06 1.339015e-06 2.500000e-06 3.697348e-06 8.327364e-06\n",
            "[6] 1.276578e-05\n",
            "\n",
            "[[27]]\n",
            "[1]   0   0 NaN   0   0   0\n",
            "\n",
            "[[28]]\n",
            "[1]   0   0 NaN   0   0   0\n",
            "\n",
            "[[29]]\n",
            "[1] 3.339015e-06 1.339015e-06 2.000000e-06 3.197348e-06 7.827364e-06\n",
            "[6] 1.226578e-05\n",
            "\n",
            "[[30]]\n",
            "[1] 7.213636e-06 3.213636e-06 4.000000e-06 7.054131e-06 1.524793e-05\n",
            "[6] 2.257182e-05\n",
            "\n",
            "[[31]]\n",
            "[1] 7.678030e-06 2.678030e-06 5.000000e-06 7.416550e-06 1.407032e-05\n",
            "[6] 2.030238e-05\n",
            "\n",
            "[[32]]\n",
            "[1] 7.678030e-06 2.678030e-06 5.000000e-06 7.416550e-06 1.407032e-05\n",
            "[6] 2.030238e-05\n",
            "\n",
            "[[33]]\n",
            "[1] 7.213636e-06 3.213636e-06 4.000000e-06 7.148629e-06 1.537229e-05\n",
            "[6] 2.257182e-05\n",
            "\n",
            "[[34]]\n",
            "[1] 1.151704e-05 4.017044e-06 7.500000e-06 1.116775e-05 1.833469e-05\n",
            "[6] 2.697866e-05\n",
            "\n",
            "[[35]]\n",
            "[1] 7.213636e-06 3.213636e-06 4.000000e-06 7.148629e-06 1.537229e-05\n",
            "[6] 2.257182e-05\n",
            "\n",
            "[[36]]\n",
            "[1] 3.874621e-06 1.874621e-06 2.000000e-06 3.736765e-06 1.077266e-05\n",
            "[6] 1.637209e-05\n",
            "\n",
            "[[37]]\n",
            "[1] 2.839015e-06 1.339015e-06 1.500000e-06 2.697348e-06 7.327364e-06\n",
            "[6] 1.176578e-05\n",
            "\n",
            "[[38]]\n",
            "[1] 5.678030e-06 2.678030e-06 3.000000e-06 5.372279e-06 1.158256e-05\n",
            "[6] 1.830238e-05\n",
            "\n",
            "[[39]]\n",
            "[1] 3.374621e-06 1.874621e-06 1.500000e-06 3.236765e-06 1.027266e-05\n",
            "[6] 1.587209e-05\n",
            "\n",
            "[[40]]\n",
            "[1] 5.713636e-06 3.213636e-06 2.500000e-06 5.522336e-06 1.418423e-05\n",
            "[6] 2.107182e-05\n",
            "\n",
            "[[41]]\n",
            "[1] 2.839015e-06 1.339015e-06 1.500000e-06 2.697348e-06 7.327364e-06\n",
            "[6] 1.176578e-05\n",
            "\n",
            "[[42]]\n",
            "[1] 5.713636e-06 3.213636e-06 2.500000e-06 5.522336e-06 1.418423e-05\n",
            "[6] 2.107182e-05\n",
            "\n",
            "[[43]]\n",
            "[1] 5.678030e-06 2.678030e-06 3.000000e-06 5.372279e-06 1.158256e-05\n",
            "[6] 1.830238e-05\n",
            "\n",
            "[[44]]\n",
            "[1] 5.678030e-06 2.678030e-06 3.000000e-06 5.372279e-06 1.158256e-05\n",
            "[6] 1.830238e-05\n",
            "\n",
            "[[45]]\n",
            "[1] 1.055265e-05 4.552650e-06 6.000000e-06 1.025910e-05 1.945040e-05\n",
            "[6] 2.831669e-05\n",
            "\n",
            "[[46]]\n",
            "[1] 1.151704e-05 4.017044e-06 7.500000e-06 1.116775e-05 1.833469e-05\n",
            "[6] 2.697866e-05\n",
            "\n",
            "\u001b[90m# A tibble: 46 × 11\u001b[39m\n",
            "   sourceID destinationID trafficGbps service traffic_ps latencyPropTransQueui…¹\n",
            "   \u001b[3m\u001b[90m<chr>\u001b[39m\u001b[23m    \u001b[3m\u001b[90m<chr>\u001b[39m\u001b[23m               \u001b[3m\u001b[90m<dbl>\u001b[39m\u001b[23m \u001b[3m\u001b[90m<chr>\u001b[39m\u001b[23m        \u001b[3m\u001b[90m<dbl>\u001b[39m\u001b[23m                   \u001b[3m\u001b[90m<dbl>\u001b[39m\u001b[23m\n",
            "\u001b[90m 1\u001b[39m Tokyo_01 Tokyo_01                3 CWB        \u001b[4m3\u001b[24m\u001b[4m6\u001b[24m\u001b[4m7\u001b[24m995.              0         \n",
            "\u001b[90m 2\u001b[39m Tokyo_02 Tokyo_01                3 CWB        \u001b[4m3\u001b[24m\u001b[4m6\u001b[24m\u001b[4m7\u001b[24m995.              0.000\u001b[4m0\u001b[24m\u001b[4m0\u001b[24m\u001b[4m2\u001b[24m64\n",
            "\u001b[90m 3\u001b[39m Tokyo_03 Tokyo_01                3 CWB        \u001b[4m3\u001b[24m\u001b[4m6\u001b[24m\u001b[4m7\u001b[24m995.              0.000\u001b[4m0\u001b[24m\u001b[4m0\u001b[24m\u001b[4m2\u001b[24m64\n",
            "\u001b[90m 4\u001b[39m Tokyo_04 Tokyo_04                3 CWB        \u001b[4m3\u001b[24m\u001b[4m6\u001b[24m\u001b[4m7\u001b[24m995.              0         \n",
            "\u001b[90m 5\u001b[39m Tokyo_05 Tokyo_05                3 CWB        \u001b[4m3\u001b[24m\u001b[4m6\u001b[24m\u001b[4m7\u001b[24m995.              0         \n",
            "\u001b[90m 6\u001b[39m Tokyo_06 Tokyo_01                3 CWB        \u001b[4m3\u001b[24m\u001b[4m6\u001b[24m\u001b[4m7\u001b[24m995.              0.000\u001b[4m0\u001b[24m\u001b[4m0\u001b[24m\u001b[4m2\u001b[24m14\n",
            "\u001b[90m 7\u001b[39m Tokyo_07 Tokyo_01                3 CWB        \u001b[4m3\u001b[24m\u001b[4m6\u001b[24m\u001b[4m7\u001b[24m995.              0.000\u001b[4m0\u001b[24m\u001b[4m0\u001b[24m\u001b[4m5\u001b[24m48\n",
            "\u001b[90m 8\u001b[39m Tokyo_08 Tokyo_01                3 CWB        \u001b[4m3\u001b[24m\u001b[4m6\u001b[24m\u001b[4m7\u001b[24m995.              0.000\u001b[4m0\u001b[24m\u001b[4m0\u001b[24m\u001b[4m6\u001b[24m48\n",
            "\u001b[90m 9\u001b[39m Tokyo_09 Tokyo_01                3 CWB        \u001b[4m3\u001b[24m\u001b[4m6\u001b[24m\u001b[4m7\u001b[24m995.              0.000\u001b[4m0\u001b[24m\u001b[4m0\u001b[24m\u001b[4m6\u001b[24m48\n",
            "\u001b[90m10\u001b[39m Tokyo_10 Tokyo_04                3 CWB        \u001b[4m3\u001b[24m\u001b[4m6\u001b[24m\u001b[4m7\u001b[24m995.              0.000\u001b[4m0\u001b[24m\u001b[4m0\u001b[24m\u001b[4m6\u001b[24m02\n",
            "\u001b[90m# ℹ 36 more rows\u001b[39m\n",
            "\u001b[90m# ℹ abbreviated name: ¹​latencyPropTransQueuing_theor_s_mg1\u001b[39m\n",
            "\u001b[90m# ℹ 5 more variables: latencyPercentile99_theor_s_mg1 <dbl>, Delay_sim_s <dbl>,\u001b[39m\n",
            "\u001b[90m#   Delay_th_s <dbl>, D99_sim_s <dbl>, VPbound_99th_s <dbl>\u001b[39m\n",
            "\u001b[90m# A tibble: 40 × 11\u001b[39m\n",
            "   sourceID destinationID trafficGbps service traffic_ps latencyPropTransQueui…¹\n",
            "   \u001b[3m\u001b[90m<chr>\u001b[39m\u001b[23m    \u001b[3m\u001b[90m<chr>\u001b[39m\u001b[23m               \u001b[3m\u001b[90m<dbl>\u001b[39m\u001b[23m \u001b[3m\u001b[90m<chr>\u001b[39m\u001b[23m        \u001b[3m\u001b[90m<dbl>\u001b[39m\u001b[23m                   \u001b[3m\u001b[90m<dbl>\u001b[39m\u001b[23m\n",
            "\u001b[90m 1\u001b[39m Tokyo_02 Tokyo_01                3 CWB        \u001b[4m3\u001b[24m\u001b[4m6\u001b[24m\u001b[4m7\u001b[24m995.              0.000\u001b[4m0\u001b[24m\u001b[4m0\u001b[24m\u001b[4m2\u001b[24m64\n",
            "\u001b[90m 2\u001b[39m Tokyo_03 Tokyo_01                3 CWB        \u001b[4m3\u001b[24m\u001b[4m6\u001b[24m\u001b[4m7\u001b[24m995.              0.000\u001b[4m0\u001b[24m\u001b[4m0\u001b[24m\u001b[4m2\u001b[24m64\n",
            "\u001b[90m 3\u001b[39m Tokyo_06 Tokyo_01                3 CWB        \u001b[4m3\u001b[24m\u001b[4m6\u001b[24m\u001b[4m7\u001b[24m995.              0.000\u001b[4m0\u001b[24m\u001b[4m0\u001b[24m\u001b[4m2\u001b[24m14\n",
            "\u001b[90m 4\u001b[39m Tokyo_07 Tokyo_01                3 CWB        \u001b[4m3\u001b[24m\u001b[4m6\u001b[24m\u001b[4m7\u001b[24m995.              0.000\u001b[4m0\u001b[24m\u001b[4m0\u001b[24m\u001b[4m5\u001b[24m48\n",
            "\u001b[90m 5\u001b[39m Tokyo_08 Tokyo_01                3 CWB        \u001b[4m3\u001b[24m\u001b[4m6\u001b[24m\u001b[4m7\u001b[24m995.              0.000\u001b[4m0\u001b[24m\u001b[4m0\u001b[24m\u001b[4m6\u001b[24m48\n",
            "\u001b[90m 6\u001b[39m Tokyo_09 Tokyo_01                3 CWB        \u001b[4m3\u001b[24m\u001b[4m6\u001b[24m\u001b[4m7\u001b[24m995.              0.000\u001b[4m0\u001b[24m\u001b[4m0\u001b[24m\u001b[4m6\u001b[24m48\n",
            "\u001b[90m 7\u001b[39m Tokyo_10 Tokyo_04                3 CWB        \u001b[4m3\u001b[24m\u001b[4m6\u001b[24m\u001b[4m7\u001b[24m995.              0.000\u001b[4m0\u001b[24m\u001b[4m0\u001b[24m\u001b[4m6\u001b[24m02\n",
            "\u001b[90m 8\u001b[39m Tokyo_11 Tokyo_01                3 CWB        \u001b[4m3\u001b[24m\u001b[4m6\u001b[24m\u001b[4m7\u001b[24m995.              0.000\u001b[4m0\u001b[24m\u001b[4m1\u001b[24m\u001b[4m0\u001b[24m3 \n",
            "\u001b[90m 9\u001b[39m Tokyo_12 Tokyo_04                3 CWB        \u001b[4m3\u001b[24m\u001b[4m6\u001b[24m\u001b[4m7\u001b[24m995.              0.000\u001b[4m0\u001b[24m\u001b[4m0\u001b[24m\u001b[4m6\u001b[24m02\n",
            "\u001b[90m10\u001b[39m Tokyo_13 Tokyo_04                3 CWB        \u001b[4m3\u001b[24m\u001b[4m6\u001b[24m\u001b[4m7\u001b[24m995.              0.000\u001b[4m0\u001b[24m\u001b[4m0\u001b[24m\u001b[4m2\u001b[24m14\n",
            "\u001b[90m# ℹ 30 more rows\u001b[39m\n",
            "\u001b[90m# ℹ abbreviated name: ¹​latencyPropTransQueuing_theor_s_mg1\u001b[39m\n",
            "\u001b[90m# ℹ 5 more variables: latencyPercentile99_theor_s_mg1 <dbl>, Delay_sim_s <dbl>,\u001b[39m\n",
            "\u001b[90m#   Delay_th_s <dbl>, D99_sim_s <dbl>, VPbound_99th_s <dbl>\u001b[39m\n",
            "Total memory usage: 1164.344 MB\n"
          ]
        },
        {
          "output_type": "display_data",
          "data": {
            "text/html": [
              "<table class=\"dataframe\">\n",
              "<caption>A matrix: 2 × 6 of type dbl</caption>\n",
              "<thead>\n",
              "\t<tr><th></th><th scope=col>used</th><th scope=col>(Mb)</th><th scope=col>gc trigger</th><th scope=col>(Mb)</th><th scope=col>max used</th><th scope=col>(Mb)</th></tr>\n",
              "</thead>\n",
              "<tbody>\n",
              "\t<tr><th scope=row>Ncells</th><td>1582463</td><td>84.6</td><td> 2946194</td><td>157.4</td><td> 2946194</td><td>157.4</td></tr>\n",
              "\t<tr><th scope=row>Vcells</th><td>2881367</td><td>22.0</td><td>10146329</td><td> 77.5</td><td>10146329</td><td> 77.5</td></tr>\n",
              "</tbody>\n",
              "</table>\n"
            ],
            "text/markdown": "\nA matrix: 2 × 6 of type dbl\n\n| <!--/--> | used | (Mb) | gc trigger | (Mb) | max used | (Mb) |\n|---|---|---|---|---|---|---|\n| Ncells | 1582463 | 84.6 |  2946194 | 157.4 |  2946194 | 157.4 |\n| Vcells | 2881367 | 22.0 | 10146329 |  77.5 | 10146329 |  77.5 |\n\n",
            "text/latex": "A matrix: 2 × 6 of type dbl\n\\begin{tabular}{r|llllll}\n  & used & (Mb) & gc trigger & (Mb) & max used & (Mb)\\\\\n\\hline\n\tNcells & 1582463 & 84.6 &  2946194 & 157.4 &  2946194 & 157.4\\\\\n\tVcells & 2881367 & 22.0 & 10146329 &  77.5 & 10146329 &  77.5\\\\\n\\end{tabular}\n",
            "text/plain": [
              "       used    (Mb) gc trigger (Mb)  max used (Mb) \n",
              "Ncells 1582463 84.6  2946194   157.4  2946194 157.4\n",
              "Vcells 2881367 22.0 10146329    77.5 10146329  77.5"
            ]
          },
          "metadata": {}
        }
      ],
      "source": [
        "start_mem <- mem_usage_calc()\n",
        "start_time <- proc.time()\n",
        "c(traffic_file$Delay_sim_s, traffic_file$Delay_th_s, traffic_file$D99_sim_s, traffic_file$VPbound_99th_s, g_c10) :=\n",
        "  simulation_simmer(g_c10, traffic_file, PS_size, PS_weights, load = 0.3,\n",
        "  CapacityGbps = CapacityGbps, ncores=4)\n",
        "print(traffic_file)\n",
        "# c(traffic_file$Delay_sim_s, traffic_file$Delay_th_s, traffic_file$D99_sim_s, traffic_file$VPbound_99th_s, g_c10) := simulation_simmer(g_c10, traffic_file, PS_size, PS_weights, load = 0.3, CapacityGbps = CapacityGbps)\n",
        "traffic_file_v2 <- dplyr::filter(traffic_file, VPbound_99th_s != 0)\n",
        "print(traffic_file_v2)\n",
        "end_time <- proc.time()\n",
        "end_mem <- mem_usage_calc()\n",
        "gc(full=TRUE)"
      ]
    },
    {
      "cell_type": "code",
      "execution_count": null,
      "metadata": {
        "id": "YMIxyAP-43-I",
        "vscode": {
          "languageId": "r"
        }
      },
      "outputs": [],
      "source": [
        "traffic_file_v2"
      ]
    },
    {
      "cell_type": "code",
      "execution_count": null,
      "metadata": {
        "id": "1VV8cL855wOp",
        "vscode": {
          "languageId": "r"
        }
      },
      "outputs": [],
      "source": [
        "end_time <- proc.time()\n",
        "end_mem <- mem_usage_calc()#end_time <- proc.time()\n",
        "#end_mem <- mem_usage_calc()\n",
        "execution_time <- end_time - start_time\n",
        "memory_used <- end_mem - start_mem\n",
        "# Print with a custom message\n",
        "cat(\"Memory usage during code execution:\\n\")\n",
        "cat(\"  Used memory: \", memory_used, \"Mb \\n\")\n",
        "cat(sprintf(\"Execution time on DES:\\n Elapsed: %.3f seconds\\n\",\n",
        "            execution_time[\"elapsed\"]))"
      ]
    },
    {
      "cell_type": "code",
      "execution_count": 107,
      "metadata": {
        "id": "OUAFSkBqr_1G",
        "vscode": {
          "languageId": "r"
        },
        "colab": {
          "base_uri": "https://localhost:8080/",
          "height": 1000
        },
        "outputId": "70a24b37-fe4d-461b-bc64-d09db2deee34"
      },
      "outputs": [
        {
          "output_type": "stream",
          "name": "stdout",
          "text": [
            "[1] 1357296\n"
          ]
        },
        {
          "output_type": "display_data",
          "data": {
            "text/html": [
              "<table class=\"dataframe\">\n",
              "<caption>A matrix: 2 × 6 of type dbl</caption>\n",
              "<thead>\n",
              "\t<tr><th></th><th scope=col>used</th><th scope=col>(Mb)</th><th scope=col>gc trigger</th><th scope=col>(Mb)</th><th scope=col>max used</th><th scope=col>(Mb)</th></tr>\n",
              "</thead>\n",
              "<tbody>\n",
              "\t<tr><th scope=row>Ncells</th><td>1591474</td><td>85.0</td><td> 2946194</td><td>157.4</td><td> 2946194</td><td>157.4</td></tr>\n",
              "\t<tr><th scope=row>Vcells</th><td>2919503</td><td>22.3</td><td>10146329</td><td> 77.5</td><td>10146329</td><td> 77.5</td></tr>\n",
              "</tbody>\n",
              "</table>\n"
            ],
            "text/markdown": "\nA matrix: 2 × 6 of type dbl\n\n| <!--/--> | used | (Mb) | gc trigger | (Mb) | max used | (Mb) |\n|---|---|---|---|---|---|---|\n| Ncells | 1591474 | 85.0 |  2946194 | 157.4 |  2946194 | 157.4 |\n| Vcells | 2919503 | 22.3 | 10146329 |  77.5 | 10146329 |  77.5 |\n\n",
            "text/latex": "A matrix: 2 × 6 of type dbl\n\\begin{tabular}{r|llllll}\n  & used & (Mb) & gc trigger & (Mb) & max used & (Mb)\\\\\n\\hline\n\tNcells & 1591474 & 85.0 &  2946194 & 157.4 &  2946194 & 157.4\\\\\n\tVcells & 2919503 & 22.3 & 10146329 &  77.5 & 10146329 &  77.5\\\\\n\\end{tabular}\n",
            "text/plain": [
              "       used    (Mb) gc trigger (Mb)  max used (Mb) \n",
              "Ncells 1591474 85.0  2946194   157.4  2946194 157.4\n",
              "Vcells 2919503 22.3 10146329    77.5 10146329  77.5"
            ]
          },
          "metadata": {}
        },
        {
          "output_type": "stream",
          "name": "stdout",
          "text": [
            "[1] 1357296\n",
            "                                                   num\n",
            ":=                                               56152\n",
            "a                                                 9768\n",
            "av_link_km                                          56\n",
            "bounds_function_1w_path                          23888\n",
            "bounds_function_node                             29000\n",
            "calc_full_traffic_for_matrix                     41040\n",
            "calc_queue_delay_burst                           20888\n",
            "calc_traffic_links_for_matrix                    14200\n",
            "calc_traffic_nodes_for_matrix                    29040\n",
            "CapacityGbps                                        56\n",
            "Cs2                                                 56\n",
            "data_99                                            368\n",
            "data_99_c10_dg_l05                                 368\n",
            "data_99_c100_d05g_l05                              368\n",
            "data_99_c100_d10g_l05                              368\n",
            "data_99_c100_d2g_l05                               368\n",
            "data_99_c100_d4g_l05                               368\n",
            "data_99_c100_dg_l05                                368\n",
            "data_99_c40_dg_l05                                 368\n",
            "data_99_c400_dg_l05                                368\n",
            "data_av                                            368\n",
            "data_av_c10_dg_l05                                 368\n",
            "data_av_c100_d05g_l05                              368\n",
            "data_av_c100_d10g_l05                              368\n",
            "data_av_c100_d2g_l05                               368\n",
            "data_av_c100_d4g_l05                               368\n",
            "data_av_c100_dg_l05                                368\n",
            "data_av_c40_dg_l05                                 368\n",
            "data_av_c400_dg_l05                                368\n",
            "deg                                               1864\n",
            "df_plot_capacity                                 11768\n",
            "df_plot_dist                                     11064\n",
            "diam_km                                             56\n",
            "distance                                          2992\n",
            "end_mem                                             56\n",
            "end_time                                           848\n",
            "execution_time                                     848\n",
            "file_name_v2                                       232\n",
            "func_bounds_chebyshev                             5152\n",
            "func_bounds_hoeffding                            12936\n",
            "func_bounds_markov                                2856\n",
            "func_bounds_theoretical                           7464\n",
            "func_bounds_VP                                   23088\n",
            "g                                                20928\n",
            "g_c10                                            14464\n",
            "g_c10_dg_l05                                     12032\n",
            "g_c100_d05g_l05                                  12032\n",
            "g_c100_d10g_l05                                  12032\n",
            "g_c100_d2g_l05                                   12032\n",
            "g_c100_d4g_l05                                   12032\n",
            "g_c100_dg_l05                                    12032\n",
            "g_c40_dg_l05                                     12032\n",
            "g_c400_dg_l05                                    12032\n",
            "g1                                                8152\n",
            "i                                                   56\n",
            "igraph_df_calc                                    2792\n",
            "l                                                  584\n",
            "links_info                                        6952\n",
            "links_info_df                                     7784\n",
            "Load_local                                          56\n",
            "Load_national                                       56\n",
            "Load_regional                                       56\n",
            "mem_usage_calc                                   28216\n",
            "memory_used                                         56\n",
            "N                                                   56\n",
            "N_means                                             80\n",
            "N_means_delay                                       80\n",
            "N_means_delay_y                                     80\n",
            "N_means_y                                           80\n",
            "name_05                                            152\n",
            "name_1                                             152\n",
            "name_10                                            152\n",
            "name_2                                             152\n",
            "name_4                                             152\n",
            "national_nodes                                      64\n",
            "nodes_info                                        7192\n",
            "prefix_base                                        112\n",
            "prop_queue_tr_delay_e2e                         187608\n",
            "PS_size                                            112\n",
            "PS_weights                                         112\n",
            "read.transposed.xlsx                              4256\n",
            "regional_nodes                                      64\n",
            "simmer_crosstrajectory_simulation                26464\n",
            "simmer_crosstrajectory_simulation_mg1            32120\n",
            "simmer_generator                                  2464\n",
            "simmer_node_trajectory                            4088\n",
            "simmer_resources                                  2968\n",
            "simmer_simulation                                 8632\n",
            "simmer_simulation_mg1                             8520\n",
            "simmer_trajectory_simulation                     30768\n",
            "simmer_trajectory_simulation_gg1                 30768\n",
            "simmer_trajectory_simulation_mg1                 38944\n",
            "simmer_trajectory_simulation_without_prop_delay  29760\n",
            "simulation_igraph                               196608\n",
            "simulation_simmer                               215960\n",
            "start_mem                                           56\n",
            "start_time                                         848\n",
            "text_size                                           56\n",
            "topology_choice                                    112\n",
            "topology_name                                      112\n",
            "traffic_file                                      9320\n",
            "traffic_file_v2                                   8792\n",
            "type_of_calc                                      2752\n",
            "update_file                                       5464\n",
            "value                                             2608\n",
            "var_N                                               56\n"
          ]
        }
      ],
      "source": [
        "a = data.frame(sapply(ls(),function(x){object.size(get(x))}))\n",
        "names(a)[1] <- \"num\"\n",
        "print(sum(a[1]))\n",
        "#rm(traffic_file_v2)\n",
        "gc()\n",
        "a = data.frame(sapply(ls(),function(x){object.size(get(x))}))\n",
        "names(a)[1] <- \"num\"\n",
        "print(sum(a[1]))\n",
        "#install.packages(\"pryr\")\n",
        "#library(pryr)\n",
        "print(a)\n"
      ]
    },
    {
      "cell_type": "markdown",
      "metadata": {
        "id": "cog-kehi2QXz"
      },
      "source": [
        "#Results"
      ]
    },
    {
      "cell_type": "code",
      "execution_count": 108,
      "metadata": {
        "id": "8HZSEd-f2nyR",
        "vscode": {
          "languageId": "r"
        },
        "colab": {
          "base_uri": "https://localhost:8080/",
          "height": 1000
        },
        "outputId": "e6d7f931-dd9b-4ce2-ae17-d195cd913d8b"
      },
      "outputs": [
        {
          "output_type": "display_data",
          "data": {
            "text/html": [
              "<table class=\"dataframe\">\n",
              "<caption>A tibble: 86 × 5</caption>\n",
              "<thead>\n",
              "\t<tr><th scope=col>sourceID</th><th scope=col>destinationID</th><th scope=col>distanceKm</th><th scope=col>capacityGbps</th><th scope=col>prop_delay_s</th></tr>\n",
              "\t<tr><th scope=col>&lt;chr&gt;</th><th scope=col>&lt;chr&gt;</th><th scope=col>&lt;dbl&gt;</th><th scope=col>&lt;dbl&gt;</th><th scope=col>&lt;dbl&gt;</th></tr>\n",
              "</thead>\n",
              "<tbody>\n",
              "\t<tr><td>Tokyo_01</td><td>Tokyo_02</td><td>1.0</td><td> 1346.3282</td><td>5e-06</td></tr>\n",
              "\t<tr><td>Tokyo_01</td><td>Tokyo_03</td><td>1.0</td><td>  928.3888</td><td>5e-06</td></tr>\n",
              "\t<tr><td>Tokyo_01</td><td>Tokyo_04</td><td>0.8</td><td>    0.0000</td><td>4e-06</td></tr>\n",
              "\t<tr><td>Tokyo_01</td><td>Tokyo_05</td><td>0.8</td><td>    0.0000</td><td>4e-06</td></tr>\n",
              "\t<tr><td>Tokyo_01</td><td>Tokyo_06</td><td>0.8</td><td> 1750.3771</td><td>4e-06</td></tr>\n",
              "\t<tr><td>Tokyo_02</td><td>Tokyo_01</td><td>1.0</td><td> 8856.2896</td><td>5e-06</td></tr>\n",
              "\t<tr><td>Tokyo_02</td><td>Tokyo_03</td><td>1.0</td><td>    0.0000</td><td>5e-06</td></tr>\n",
              "\t<tr><td>Tokyo_02</td><td>Tokyo_08</td><td>1.0</td><td>  917.3704</td><td>5e-06</td></tr>\n",
              "\t<tr><td>Tokyo_03</td><td>Tokyo_01</td><td>1.0</td><td> 7263.4942</td><td>5e-06</td></tr>\n",
              "\t<tr><td>Tokyo_03</td><td>Tokyo_02</td><td>1.0</td><td>    0.0000</td><td>5e-06</td></tr>\n",
              "\t<tr><td>Tokyo_03</td><td>Tokyo_09</td><td>1.0</td><td>  712.7616</td><td>5e-06</td></tr>\n",
              "\t<tr><td>Tokyo_03</td><td>Tokyo_13</td><td>1.0</td><td>    0.0000</td><td>5e-06</td></tr>\n",
              "\t<tr><td>Tokyo_04</td><td>Tokyo_01</td><td>0.8</td><td>    0.0000</td><td>4e-06</td></tr>\n",
              "\t<tr><td>Tokyo_04</td><td>Tokyo_05</td><td>0.6</td><td>    0.0000</td><td>3e-06</td></tr>\n",
              "\t<tr><td>Tokyo_04</td><td>Tokyo_13</td><td>0.8</td><td> 1301.1969</td><td>4e-06</td></tr>\n",
              "\t<tr><td>Tokyo_04</td><td>Tokyo_14</td><td>0.6</td><td> 1610.8882</td><td>3e-06</td></tr>\n",
              "\t<tr><td>Tokyo_04</td><td>Tokyo_16</td><td>0.6</td><td> 1744.9478</td><td>3e-06</td></tr>\n",
              "\t<tr><td>Tokyo_05</td><td>Tokyo_01</td><td>0.8</td><td>    0.0000</td><td>4e-06</td></tr>\n",
              "\t<tr><td>Tokyo_05</td><td>Tokyo_04</td><td>0.6</td><td>    0.0000</td><td>3e-06</td></tr>\n",
              "\t<tr><td>Tokyo_05</td><td>Tokyo_16</td><td>0.6</td><td>    0.0000</td><td>3e-06</td></tr>\n",
              "\t<tr><td>Tokyo_05</td><td>Tokyo_18</td><td>0.6</td><td> 1111.4615</td><td>3e-06</td></tr>\n",
              "\t<tr><td>Tokyo_06</td><td>Tokyo_01</td><td>0.8</td><td>20585.5853</td><td>4e-06</td></tr>\n",
              "\t<tr><td>Tokyo_06</td><td>Tokyo_07</td><td>0.8</td><td> 1134.0608</td><td>4e-06</td></tr>\n",
              "\t<tr><td>Tokyo_06</td><td>Tokyo_18</td><td>0.8</td><td>    0.0000</td><td>4e-06</td></tr>\n",
              "\t<tr><td>Tokyo_07</td><td>Tokyo_06</td><td>0.8</td><td>13592.3869</td><td>4e-06</td></tr>\n",
              "\t<tr><td>Tokyo_07</td><td>Tokyo_08</td><td>1.0</td><td>    0.0000</td><td>5e-06</td></tr>\n",
              "\t<tr><td>Tokyo_07</td><td>Tokyo_21</td><td>0.8</td><td>    0.0000</td><td>4e-06</td></tr>\n",
              "\t<tr><td>Tokyo_07</td><td>Tokyo_22</td><td>0.8</td><td>  734.9286</td><td>4e-06</td></tr>\n",
              "\t<tr><td>Tokyo_07</td><td>Tokyo_23</td><td>1.0</td><td>    0.0000</td><td>5e-06</td></tr>\n",
              "\t<tr><td>Tokyo_08</td><td>Tokyo_02</td><td>1.0</td><td> 5765.3713</td><td>5e-06</td></tr>\n",
              "\t<tr><td>⋮</td><td>⋮</td><td>⋮</td><td>⋮</td><td>⋮</td></tr>\n",
              "\t<tr><td>Tokyo_15</td><td>Tokyo_14</td><td>0.6</td><td> 1744.1770</td><td>3e-06</td></tr>\n",
              "\t<tr><td>Tokyo_15</td><td>Tokyo_20</td><td>0.6</td><td>    0.0000</td><td>3e-06</td></tr>\n",
              "\t<tr><td>Tokyo_16</td><td>Tokyo_04</td><td>0.6</td><td>12583.7275</td><td>3e-06</td></tr>\n",
              "\t<tr><td>Tokyo_16</td><td>Tokyo_05</td><td>0.6</td><td>    0.0000</td><td>3e-06</td></tr>\n",
              "\t<tr><td>Tokyo_16</td><td>Tokyo_17</td><td>0.4</td><td>  321.8197</td><td>2e-06</td></tr>\n",
              "\t<tr><td>Tokyo_16</td><td>Tokyo_19</td><td>0.4</td><td>  723.9875</td><td>2e-06</td></tr>\n",
              "\t<tr><td>Tokyo_16</td><td>Tokyo_20</td><td>0.4</td><td>    0.0000</td><td>2e-06</td></tr>\n",
              "\t<tr><td>Tokyo_17</td><td>Tokyo_16</td><td>0.4</td><td> 3055.6256</td><td>2e-06</td></tr>\n",
              "\t<tr><td>Tokyo_17</td><td>Tokyo_18</td><td>0.6</td><td>    0.0000</td><td>3e-06</td></tr>\n",
              "\t<tr><td>Tokyo_17</td><td>Tokyo_19</td><td>0.4</td><td>    0.0000</td><td>2e-06</td></tr>\n",
              "\t<tr><td>Tokyo_18</td><td>Tokyo_05</td><td>0.6</td><td> 9075.2094</td><td>3e-06</td></tr>\n",
              "\t<tr><td>Tokyo_18</td><td>Tokyo_06</td><td>0.8</td><td>    0.0000</td><td>4e-06</td></tr>\n",
              "\t<tr><td>Tokyo_18</td><td>Tokyo_17</td><td>0.6</td><td>    0.0000</td><td>3e-06</td></tr>\n",
              "\t<tr><td>Tokyo_18</td><td>Tokyo_21</td><td>0.6</td><td>  233.3009</td><td>3e-06</td></tr>\n",
              "\t<tr><td>Tokyo_19</td><td>Tokyo_16</td><td>0.4</td><td> 5146.2944</td><td>2e-06</td></tr>\n",
              "\t<tr><td>Tokyo_19</td><td>Tokyo_17</td><td>0.4</td><td>    0.0000</td><td>2e-06</td></tr>\n",
              "\t<tr><td>Tokyo_19</td><td>Tokyo_20</td><td>0.4</td><td>    0.0000</td><td>2e-06</td></tr>\n",
              "\t<tr><td>Tokyo_20</td><td>Tokyo_14</td><td>0.6</td><td> 4492.2495</td><td>3e-06</td></tr>\n",
              "\t<tr><td>Tokyo_20</td><td>Tokyo_15</td><td>0.6</td><td>    0.0000</td><td>3e-06</td></tr>\n",
              "\t<tr><td>Tokyo_20</td><td>Tokyo_16</td><td>0.4</td><td>    0.0000</td><td>2e-06</td></tr>\n",
              "\t<tr><td>Tokyo_20</td><td>Tokyo_19</td><td>0.4</td><td>    0.0000</td><td>2e-06</td></tr>\n",
              "\t<tr><td>Tokyo_21</td><td>Tokyo_07</td><td>0.8</td><td>    0.0000</td><td>4e-06</td></tr>\n",
              "\t<tr><td>Tokyo_21</td><td>Tokyo_18</td><td>0.6</td><td> 1836.0085</td><td>3e-06</td></tr>\n",
              "\t<tr><td>Tokyo_21</td><td>Tokyo_22</td><td>0.8</td><td>    0.0000</td><td>4e-06</td></tr>\n",
              "\t<tr><td>Tokyo_22</td><td>Tokyo_07</td><td>0.8</td><td> 5940.9781</td><td>4e-06</td></tr>\n",
              "\t<tr><td>Tokyo_22</td><td>Tokyo_21</td><td>0.8</td><td>    0.0000</td><td>4e-06</td></tr>\n",
              "\t<tr><td>Tokyo_22</td><td>Tokyo_23</td><td>1.0</td><td>    0.0000</td><td>5e-06</td></tr>\n",
              "\t<tr><td>Tokyo_23</td><td>Tokyo_07</td><td>1.0</td><td> 1701.4657</td><td>5e-06</td></tr>\n",
              "\t<tr><td>Tokyo_23</td><td>Tokyo_08</td><td>1.0</td><td>    0.0000</td><td>5e-06</td></tr>\n",
              "\t<tr><td>Tokyo_23</td><td>Tokyo_22</td><td>1.0</td><td>    0.0000</td><td>5e-06</td></tr>\n",
              "</tbody>\n",
              "</table>\n"
            ],
            "text/markdown": "\nA tibble: 86 × 5\n\n| sourceID &lt;chr&gt; | destinationID &lt;chr&gt; | distanceKm &lt;dbl&gt; | capacityGbps &lt;dbl&gt; | prop_delay_s &lt;dbl&gt; |\n|---|---|---|---|---|\n| Tokyo_01 | Tokyo_02 | 1.0 |  1346.3282 | 5e-06 |\n| Tokyo_01 | Tokyo_03 | 1.0 |   928.3888 | 5e-06 |\n| Tokyo_01 | Tokyo_04 | 0.8 |     0.0000 | 4e-06 |\n| Tokyo_01 | Tokyo_05 | 0.8 |     0.0000 | 4e-06 |\n| Tokyo_01 | Tokyo_06 | 0.8 |  1750.3771 | 4e-06 |\n| Tokyo_02 | Tokyo_01 | 1.0 |  8856.2896 | 5e-06 |\n| Tokyo_02 | Tokyo_03 | 1.0 |     0.0000 | 5e-06 |\n| Tokyo_02 | Tokyo_08 | 1.0 |   917.3704 | 5e-06 |\n| Tokyo_03 | Tokyo_01 | 1.0 |  7263.4942 | 5e-06 |\n| Tokyo_03 | Tokyo_02 | 1.0 |     0.0000 | 5e-06 |\n| Tokyo_03 | Tokyo_09 | 1.0 |   712.7616 | 5e-06 |\n| Tokyo_03 | Tokyo_13 | 1.0 |     0.0000 | 5e-06 |\n| Tokyo_04 | Tokyo_01 | 0.8 |     0.0000 | 4e-06 |\n| Tokyo_04 | Tokyo_05 | 0.6 |     0.0000 | 3e-06 |\n| Tokyo_04 | Tokyo_13 | 0.8 |  1301.1969 | 4e-06 |\n| Tokyo_04 | Tokyo_14 | 0.6 |  1610.8882 | 3e-06 |\n| Tokyo_04 | Tokyo_16 | 0.6 |  1744.9478 | 3e-06 |\n| Tokyo_05 | Tokyo_01 | 0.8 |     0.0000 | 4e-06 |\n| Tokyo_05 | Tokyo_04 | 0.6 |     0.0000 | 3e-06 |\n| Tokyo_05 | Tokyo_16 | 0.6 |     0.0000 | 3e-06 |\n| Tokyo_05 | Tokyo_18 | 0.6 |  1111.4615 | 3e-06 |\n| Tokyo_06 | Tokyo_01 | 0.8 | 20585.5853 | 4e-06 |\n| Tokyo_06 | Tokyo_07 | 0.8 |  1134.0608 | 4e-06 |\n| Tokyo_06 | Tokyo_18 | 0.8 |     0.0000 | 4e-06 |\n| Tokyo_07 | Tokyo_06 | 0.8 | 13592.3869 | 4e-06 |\n| Tokyo_07 | Tokyo_08 | 1.0 |     0.0000 | 5e-06 |\n| Tokyo_07 | Tokyo_21 | 0.8 |     0.0000 | 4e-06 |\n| Tokyo_07 | Tokyo_22 | 0.8 |   734.9286 | 4e-06 |\n| Tokyo_07 | Tokyo_23 | 1.0 |     0.0000 | 5e-06 |\n| Tokyo_08 | Tokyo_02 | 1.0 |  5765.3713 | 5e-06 |\n| ⋮ | ⋮ | ⋮ | ⋮ | ⋮ |\n| Tokyo_15 | Tokyo_14 | 0.6 |  1744.1770 | 3e-06 |\n| Tokyo_15 | Tokyo_20 | 0.6 |     0.0000 | 3e-06 |\n| Tokyo_16 | Tokyo_04 | 0.6 | 12583.7275 | 3e-06 |\n| Tokyo_16 | Tokyo_05 | 0.6 |     0.0000 | 3e-06 |\n| Tokyo_16 | Tokyo_17 | 0.4 |   321.8197 | 2e-06 |\n| Tokyo_16 | Tokyo_19 | 0.4 |   723.9875 | 2e-06 |\n| Tokyo_16 | Tokyo_20 | 0.4 |     0.0000 | 2e-06 |\n| Tokyo_17 | Tokyo_16 | 0.4 |  3055.6256 | 2e-06 |\n| Tokyo_17 | Tokyo_18 | 0.6 |     0.0000 | 3e-06 |\n| Tokyo_17 | Tokyo_19 | 0.4 |     0.0000 | 2e-06 |\n| Tokyo_18 | Tokyo_05 | 0.6 |  9075.2094 | 3e-06 |\n| Tokyo_18 | Tokyo_06 | 0.8 |     0.0000 | 4e-06 |\n| Tokyo_18 | Tokyo_17 | 0.6 |     0.0000 | 3e-06 |\n| Tokyo_18 | Tokyo_21 | 0.6 |   233.3009 | 3e-06 |\n| Tokyo_19 | Tokyo_16 | 0.4 |  5146.2944 | 2e-06 |\n| Tokyo_19 | Tokyo_17 | 0.4 |     0.0000 | 2e-06 |\n| Tokyo_19 | Tokyo_20 | 0.4 |     0.0000 | 2e-06 |\n| Tokyo_20 | Tokyo_14 | 0.6 |  4492.2495 | 3e-06 |\n| Tokyo_20 | Tokyo_15 | 0.6 |     0.0000 | 3e-06 |\n| Tokyo_20 | Tokyo_16 | 0.4 |     0.0000 | 2e-06 |\n| Tokyo_20 | Tokyo_19 | 0.4 |     0.0000 | 2e-06 |\n| Tokyo_21 | Tokyo_07 | 0.8 |     0.0000 | 4e-06 |\n| Tokyo_21 | Tokyo_18 | 0.6 |  1836.0085 | 3e-06 |\n| Tokyo_21 | Tokyo_22 | 0.8 |     0.0000 | 4e-06 |\n| Tokyo_22 | Tokyo_07 | 0.8 |  5940.9781 | 4e-06 |\n| Tokyo_22 | Tokyo_21 | 0.8 |     0.0000 | 4e-06 |\n| Tokyo_22 | Tokyo_23 | 1.0 |     0.0000 | 5e-06 |\n| Tokyo_23 | Tokyo_07 | 1.0 |  1701.4657 | 5e-06 |\n| Tokyo_23 | Tokyo_08 | 1.0 |     0.0000 | 5e-06 |\n| Tokyo_23 | Tokyo_22 | 1.0 |     0.0000 | 5e-06 |\n\n",
            "text/latex": "A tibble: 86 × 5\n\\begin{tabular}{lllll}\n sourceID & destinationID & distanceKm & capacityGbps & prop\\_delay\\_s\\\\\n <chr> & <chr> & <dbl> & <dbl> & <dbl>\\\\\n\\hline\n\t Tokyo\\_01 & Tokyo\\_02 & 1.0 &  1346.3282 & 5e-06\\\\\n\t Tokyo\\_01 & Tokyo\\_03 & 1.0 &   928.3888 & 5e-06\\\\\n\t Tokyo\\_01 & Tokyo\\_04 & 0.8 &     0.0000 & 4e-06\\\\\n\t Tokyo\\_01 & Tokyo\\_05 & 0.8 &     0.0000 & 4e-06\\\\\n\t Tokyo\\_01 & Tokyo\\_06 & 0.8 &  1750.3771 & 4e-06\\\\\n\t Tokyo\\_02 & Tokyo\\_01 & 1.0 &  8856.2896 & 5e-06\\\\\n\t Tokyo\\_02 & Tokyo\\_03 & 1.0 &     0.0000 & 5e-06\\\\\n\t Tokyo\\_02 & Tokyo\\_08 & 1.0 &   917.3704 & 5e-06\\\\\n\t Tokyo\\_03 & Tokyo\\_01 & 1.0 &  7263.4942 & 5e-06\\\\\n\t Tokyo\\_03 & Tokyo\\_02 & 1.0 &     0.0000 & 5e-06\\\\\n\t Tokyo\\_03 & Tokyo\\_09 & 1.0 &   712.7616 & 5e-06\\\\\n\t Tokyo\\_03 & Tokyo\\_13 & 1.0 &     0.0000 & 5e-06\\\\\n\t Tokyo\\_04 & Tokyo\\_01 & 0.8 &     0.0000 & 4e-06\\\\\n\t Tokyo\\_04 & Tokyo\\_05 & 0.6 &     0.0000 & 3e-06\\\\\n\t Tokyo\\_04 & Tokyo\\_13 & 0.8 &  1301.1969 & 4e-06\\\\\n\t Tokyo\\_04 & Tokyo\\_14 & 0.6 &  1610.8882 & 3e-06\\\\\n\t Tokyo\\_04 & Tokyo\\_16 & 0.6 &  1744.9478 & 3e-06\\\\\n\t Tokyo\\_05 & Tokyo\\_01 & 0.8 &     0.0000 & 4e-06\\\\\n\t Tokyo\\_05 & Tokyo\\_04 & 0.6 &     0.0000 & 3e-06\\\\\n\t Tokyo\\_05 & Tokyo\\_16 & 0.6 &     0.0000 & 3e-06\\\\\n\t Tokyo\\_05 & Tokyo\\_18 & 0.6 &  1111.4615 & 3e-06\\\\\n\t Tokyo\\_06 & Tokyo\\_01 & 0.8 & 20585.5853 & 4e-06\\\\\n\t Tokyo\\_06 & Tokyo\\_07 & 0.8 &  1134.0608 & 4e-06\\\\\n\t Tokyo\\_06 & Tokyo\\_18 & 0.8 &     0.0000 & 4e-06\\\\\n\t Tokyo\\_07 & Tokyo\\_06 & 0.8 & 13592.3869 & 4e-06\\\\\n\t Tokyo\\_07 & Tokyo\\_08 & 1.0 &     0.0000 & 5e-06\\\\\n\t Tokyo\\_07 & Tokyo\\_21 & 0.8 &     0.0000 & 4e-06\\\\\n\t Tokyo\\_07 & Tokyo\\_22 & 0.8 &   734.9286 & 4e-06\\\\\n\t Tokyo\\_07 & Tokyo\\_23 & 1.0 &     0.0000 & 5e-06\\\\\n\t Tokyo\\_08 & Tokyo\\_02 & 1.0 &  5765.3713 & 5e-06\\\\\n\t ⋮ & ⋮ & ⋮ & ⋮ & ⋮\\\\\n\t Tokyo\\_15 & Tokyo\\_14 & 0.6 &  1744.1770 & 3e-06\\\\\n\t Tokyo\\_15 & Tokyo\\_20 & 0.6 &     0.0000 & 3e-06\\\\\n\t Tokyo\\_16 & Tokyo\\_04 & 0.6 & 12583.7275 & 3e-06\\\\\n\t Tokyo\\_16 & Tokyo\\_05 & 0.6 &     0.0000 & 3e-06\\\\\n\t Tokyo\\_16 & Tokyo\\_17 & 0.4 &   321.8197 & 2e-06\\\\\n\t Tokyo\\_16 & Tokyo\\_19 & 0.4 &   723.9875 & 2e-06\\\\\n\t Tokyo\\_16 & Tokyo\\_20 & 0.4 &     0.0000 & 2e-06\\\\\n\t Tokyo\\_17 & Tokyo\\_16 & 0.4 &  3055.6256 & 2e-06\\\\\n\t Tokyo\\_17 & Tokyo\\_18 & 0.6 &     0.0000 & 3e-06\\\\\n\t Tokyo\\_17 & Tokyo\\_19 & 0.4 &     0.0000 & 2e-06\\\\\n\t Tokyo\\_18 & Tokyo\\_05 & 0.6 &  9075.2094 & 3e-06\\\\\n\t Tokyo\\_18 & Tokyo\\_06 & 0.8 &     0.0000 & 4e-06\\\\\n\t Tokyo\\_18 & Tokyo\\_17 & 0.6 &     0.0000 & 3e-06\\\\\n\t Tokyo\\_18 & Tokyo\\_21 & 0.6 &   233.3009 & 3e-06\\\\\n\t Tokyo\\_19 & Tokyo\\_16 & 0.4 &  5146.2944 & 2e-06\\\\\n\t Tokyo\\_19 & Tokyo\\_17 & 0.4 &     0.0000 & 2e-06\\\\\n\t Tokyo\\_19 & Tokyo\\_20 & 0.4 &     0.0000 & 2e-06\\\\\n\t Tokyo\\_20 & Tokyo\\_14 & 0.6 &  4492.2495 & 3e-06\\\\\n\t Tokyo\\_20 & Tokyo\\_15 & 0.6 &     0.0000 & 3e-06\\\\\n\t Tokyo\\_20 & Tokyo\\_16 & 0.4 &     0.0000 & 2e-06\\\\\n\t Tokyo\\_20 & Tokyo\\_19 & 0.4 &     0.0000 & 2e-06\\\\\n\t Tokyo\\_21 & Tokyo\\_07 & 0.8 &     0.0000 & 4e-06\\\\\n\t Tokyo\\_21 & Tokyo\\_18 & 0.6 &  1836.0085 & 3e-06\\\\\n\t Tokyo\\_21 & Tokyo\\_22 & 0.8 &     0.0000 & 4e-06\\\\\n\t Tokyo\\_22 & Tokyo\\_07 & 0.8 &  5940.9781 & 4e-06\\\\\n\t Tokyo\\_22 & Tokyo\\_21 & 0.8 &     0.0000 & 4e-06\\\\\n\t Tokyo\\_22 & Tokyo\\_23 & 1.0 &     0.0000 & 5e-06\\\\\n\t Tokyo\\_23 & Tokyo\\_07 & 1.0 &  1701.4657 & 5e-06\\\\\n\t Tokyo\\_23 & Tokyo\\_08 & 1.0 &     0.0000 & 5e-06\\\\\n\t Tokyo\\_23 & Tokyo\\_22 & 1.0 &     0.0000 & 5e-06\\\\\n\\end{tabular}\n",
            "text/plain": [
              "   sourceID destinationID distanceKm capacityGbps prop_delay_s\n",
              "1  Tokyo_01 Tokyo_02      1.0         1346.3282   5e-06       \n",
              "2  Tokyo_01 Tokyo_03      1.0          928.3888   5e-06       \n",
              "3  Tokyo_01 Tokyo_04      0.8            0.0000   4e-06       \n",
              "4  Tokyo_01 Tokyo_05      0.8            0.0000   4e-06       \n",
              "5  Tokyo_01 Tokyo_06      0.8         1750.3771   4e-06       \n",
              "6  Tokyo_02 Tokyo_01      1.0         8856.2896   5e-06       \n",
              "7  Tokyo_02 Tokyo_03      1.0            0.0000   5e-06       \n",
              "8  Tokyo_02 Tokyo_08      1.0          917.3704   5e-06       \n",
              "9  Tokyo_03 Tokyo_01      1.0         7263.4942   5e-06       \n",
              "10 Tokyo_03 Tokyo_02      1.0            0.0000   5e-06       \n",
              "11 Tokyo_03 Tokyo_09      1.0          712.7616   5e-06       \n",
              "12 Tokyo_03 Tokyo_13      1.0            0.0000   5e-06       \n",
              "13 Tokyo_04 Tokyo_01      0.8            0.0000   4e-06       \n",
              "14 Tokyo_04 Tokyo_05      0.6            0.0000   3e-06       \n",
              "15 Tokyo_04 Tokyo_13      0.8         1301.1969   4e-06       \n",
              "16 Tokyo_04 Tokyo_14      0.6         1610.8882   3e-06       \n",
              "17 Tokyo_04 Tokyo_16      0.6         1744.9478   3e-06       \n",
              "18 Tokyo_05 Tokyo_01      0.8            0.0000   4e-06       \n",
              "19 Tokyo_05 Tokyo_04      0.6            0.0000   3e-06       \n",
              "20 Tokyo_05 Tokyo_16      0.6            0.0000   3e-06       \n",
              "21 Tokyo_05 Tokyo_18      0.6         1111.4615   3e-06       \n",
              "22 Tokyo_06 Tokyo_01      0.8        20585.5853   4e-06       \n",
              "23 Tokyo_06 Tokyo_07      0.8         1134.0608   4e-06       \n",
              "24 Tokyo_06 Tokyo_18      0.8            0.0000   4e-06       \n",
              "25 Tokyo_07 Tokyo_06      0.8        13592.3869   4e-06       \n",
              "26 Tokyo_07 Tokyo_08      1.0            0.0000   5e-06       \n",
              "27 Tokyo_07 Tokyo_21      0.8            0.0000   4e-06       \n",
              "28 Tokyo_07 Tokyo_22      0.8          734.9286   4e-06       \n",
              "29 Tokyo_07 Tokyo_23      1.0            0.0000   5e-06       \n",
              "30 Tokyo_08 Tokyo_02      1.0         5765.3713   5e-06       \n",
              "⋮  ⋮        ⋮             ⋮          ⋮            ⋮           \n",
              "57 Tokyo_15 Tokyo_14      0.6         1744.1770   3e-06       \n",
              "58 Tokyo_15 Tokyo_20      0.6            0.0000   3e-06       \n",
              "59 Tokyo_16 Tokyo_04      0.6        12583.7275   3e-06       \n",
              "60 Tokyo_16 Tokyo_05      0.6            0.0000   3e-06       \n",
              "61 Tokyo_16 Tokyo_17      0.4          321.8197   2e-06       \n",
              "62 Tokyo_16 Tokyo_19      0.4          723.9875   2e-06       \n",
              "63 Tokyo_16 Tokyo_20      0.4            0.0000   2e-06       \n",
              "64 Tokyo_17 Tokyo_16      0.4         3055.6256   2e-06       \n",
              "65 Tokyo_17 Tokyo_18      0.6            0.0000   3e-06       \n",
              "66 Tokyo_17 Tokyo_19      0.4            0.0000   2e-06       \n",
              "67 Tokyo_18 Tokyo_05      0.6         9075.2094   3e-06       \n",
              "68 Tokyo_18 Tokyo_06      0.8            0.0000   4e-06       \n",
              "69 Tokyo_18 Tokyo_17      0.6            0.0000   3e-06       \n",
              "70 Tokyo_18 Tokyo_21      0.6          233.3009   3e-06       \n",
              "71 Tokyo_19 Tokyo_16      0.4         5146.2944   2e-06       \n",
              "72 Tokyo_19 Tokyo_17      0.4            0.0000   2e-06       \n",
              "73 Tokyo_19 Tokyo_20      0.4            0.0000   2e-06       \n",
              "74 Tokyo_20 Tokyo_14      0.6         4492.2495   3e-06       \n",
              "75 Tokyo_20 Tokyo_15      0.6            0.0000   3e-06       \n",
              "76 Tokyo_20 Tokyo_16      0.4            0.0000   2e-06       \n",
              "77 Tokyo_20 Tokyo_19      0.4            0.0000   2e-06       \n",
              "78 Tokyo_21 Tokyo_07      0.8            0.0000   4e-06       \n",
              "79 Tokyo_21 Tokyo_18      0.6         1836.0085   3e-06       \n",
              "80 Tokyo_21 Tokyo_22      0.8            0.0000   4e-06       \n",
              "81 Tokyo_22 Tokyo_07      0.8         5940.9781   4e-06       \n",
              "82 Tokyo_22 Tokyo_21      0.8            0.0000   4e-06       \n",
              "83 Tokyo_22 Tokyo_23      1.0            0.0000   5e-06       \n",
              "84 Tokyo_23 Tokyo_07      1.0         1701.4657   5e-06       \n",
              "85 Tokyo_23 Tokyo_08      1.0            0.0000   5e-06       \n",
              "86 Tokyo_23 Tokyo_22      1.0            0.0000   5e-06       "
            ]
          },
          "metadata": {}
        }
      ],
      "source": [
        "links_info_df"
      ]
    },
    {
      "cell_type": "code",
      "execution_count": 109,
      "metadata": {
        "id": "UEeLbs98Utbt",
        "vscode": {
          "languageId": "r"
        },
        "colab": {
          "base_uri": "https://localhost:8080/",
          "height": 1000
        },
        "outputId": "d7823565-ba31-49b9-b96f-3add1701ff0f"
      },
      "outputs": [
        {
          "output_type": "display_data",
          "data": {
            "text/html": [
              "<table class=\"dataframe\">\n",
              "<caption>A tibble: 40 × 11</caption>\n",
              "<thead>\n",
              "\t<tr><th scope=col>sourceID</th><th scope=col>destinationID</th><th scope=col>trafficGbps</th><th scope=col>service</th><th scope=col>traffic_ps</th><th scope=col>latencyPropTransQueuing_theor_s_mg1</th><th scope=col>latencyPercentile99_theor_s_mg1</th><th scope=col>Delay_sim_s</th><th scope=col>Delay_th_s</th><th scope=col>D99_sim_s</th><th scope=col>VPbound_99th_s</th></tr>\n",
              "\t<tr><th scope=col>&lt;chr&gt;</th><th scope=col>&lt;chr&gt;</th><th scope=col>&lt;dbl&gt;</th><th scope=col>&lt;chr&gt;</th><th scope=col>&lt;dbl&gt;</th><th scope=col>&lt;dbl&gt;</th><th scope=col>&lt;dbl&gt;</th><th scope=col>&lt;dbl&gt;</th><th scope=col>&lt;dbl&gt;</th><th scope=col>&lt;dbl&gt;</th><th scope=col>&lt;dbl&gt;</th></tr>\n",
              "</thead>\n",
              "<tbody>\n",
              "\t<tr><td>Tokyo_02</td><td>Tokyo_01</td><td>3</td><td>CWB</td><td>367995.2</td><td>2.642017e-06</td><td>3.588795e-06</td><td>2.631339e-06</td><td>2.642017e-06</td><td>3.141110e-06</td><td>3.588795e-06</td></tr>\n",
              "\t<tr><td>Tokyo_03</td><td>Tokyo_01</td><td>3</td><td>CWB</td><td>367995.2</td><td>2.642017e-06</td><td>3.588795e-06</td><td>2.631339e-06</td><td>2.642017e-06</td><td>3.141110e-06</td><td>3.588795e-06</td></tr>\n",
              "\t<tr><td>Tokyo_06</td><td>Tokyo_01</td><td>3</td><td>CWB</td><td>367995.2</td><td>2.142017e-06</td><td>3.088795e-06</td><td>2.131339e-06</td><td>2.142017e-06</td><td>2.641110e-06</td><td>3.088795e-06</td></tr>\n",
              "\t<tr><td>Tokyo_07</td><td>Tokyo_01</td><td>3</td><td>CWB</td><td>367995.2</td><td>5.481032e-06</td><td>1.445786e-05</td><td>5.362629e-06</td><td>5.481032e-06</td><td>1.018707e-05</td><td>1.445786e-05</td></tr>\n",
              "\t<tr><td>Tokyo_08</td><td>Tokyo_01</td><td>3</td><td>CWB</td><td>367995.2</td><td>6.481032e-06</td><td>1.545786e-05</td><td>6.354782e-06</td><td>6.481032e-06</td><td>1.097502e-05</td><td>1.545786e-05</td></tr>\n",
              "\t<tr><td>Tokyo_09</td><td>Tokyo_01</td><td>3</td><td>CWB</td><td>367995.2</td><td>6.481032e-06</td><td>1.545786e-05</td><td>6.354782e-06</td><td>6.481032e-06</td><td>1.097502e-05</td><td>1.545786e-05</td></tr>\n",
              "\t<tr><td>Tokyo_10</td><td>Tokyo_04</td><td>3</td><td>CWB</td><td>367995.2</td><td>6.016637e-06</td><td>1.854992e-05</td><td>5.920128e-06</td><td>6.016637e-06</td><td>1.290013e-05</td><td>1.854992e-05</td></tr>\n",
              "\t<tr><td>Tokyo_11</td><td>Tokyo_01</td><td>3</td><td>CWB</td><td>367995.2</td><td>1.032005e-05</td><td>2.297985e-05</td><td>1.010755e-05</td><td>1.032005e-05</td><td>1.667746e-05</td><td>2.297985e-05</td></tr>\n",
              "\t<tr><td>Tokyo_12</td><td>Tokyo_04</td><td>3</td><td>CWB</td><td>367995.2</td><td>6.016637e-06</td><td>1.854992e-05</td><td>5.920128e-06</td><td>6.016637e-06</td><td>1.290013e-05</td><td>1.854992e-05</td></tr>\n",
              "\t<tr><td>Tokyo_13</td><td>Tokyo_04</td><td>3</td><td>CWB</td><td>367995.2</td><td>2.142017e-06</td><td>3.088795e-06</td><td>2.131339e-06</td><td>2.142017e-06</td><td>2.641110e-06</td><td>3.088795e-06</td></tr>\n",
              "\t<tr><td>Tokyo_14</td><td>Tokyo_04</td><td>3</td><td>CWB</td><td>367995.2</td><td>1.642017e-06</td><td>2.588795e-06</td><td>1.631339e-06</td><td>1.642017e-06</td><td>2.141110e-06</td><td>2.588795e-06</td></tr>\n",
              "\t<tr><td>Tokyo_15</td><td>Tokyo_04</td><td>3</td><td>CWB</td><td>367995.2</td><td>4.481032e-06</td><td>1.345786e-05</td><td>4.367047e-06</td><td>4.481032e-06</td><td>9.041275e-06</td><td>1.345786e-05</td></tr>\n",
              "\t<tr><td>Tokyo_16</td><td>Tokyo_04</td><td>3</td><td>CWB</td><td>367995.2</td><td>1.642017e-06</td><td>2.588795e-06</td><td>1.631339e-06</td><td>1.642017e-06</td><td>2.141110e-06</td><td>2.588795e-06</td></tr>\n",
              "\t<tr><td>Tokyo_17</td><td>Tokyo_04</td><td>3</td><td>CWB</td><td>367995.2</td><td>4.516637e-06</td><td>1.704992e-05</td><td>4.441680e-06</td><td>4.516637e-06</td><td>1.199526e-05</td><td>1.704992e-05</td></tr>\n",
              "\t<tr><td>Tokyo_18</td><td>Tokyo_05</td><td>3</td><td>CWB</td><td>367995.2</td><td>1.890546e-06</td><td>4.494186e-06</td><td>1.861022e-06</td><td>1.890546e-06</td><td>3.346836e-06</td><td>4.494186e-06</td></tr>\n",
              "\t<tr><td>Tokyo_19</td><td>Tokyo_04</td><td>3</td><td>CWB</td><td>367995.2</td><td>4.516637e-06</td><td>1.704992e-05</td><td>4.441680e-06</td><td>4.516637e-06</td><td>1.199526e-05</td><td>1.704992e-05</td></tr>\n",
              "\t<tr><td>Tokyo_20</td><td>Tokyo_04</td><td>3</td><td>CWB</td><td>367995.2</td><td>4.481032e-06</td><td>1.345786e-05</td><td>4.367047e-06</td><td>4.481032e-06</td><td>9.041275e-06</td><td>1.345786e-05</td></tr>\n",
              "\t<tr><td>Tokyo_21</td><td>Tokyo_05</td><td>3</td><td>CWB</td><td>367995.2</td><td>4.729561e-06</td><td>1.402827e-05</td><td>4.606034e-06</td><td>4.729561e-06</td><td>9.290443e-06</td><td>1.402827e-05</td></tr>\n",
              "\t<tr><td>Tokyo_22</td><td>Tokyo_01</td><td>3</td><td>CWB</td><td>367995.2</td><td>9.355652e-06</td><td>2.474300e-05</td><td>9.146406e-06</td><td>9.355652e-06</td><td>1.666799e-05</td><td>2.474300e-05</td></tr>\n",
              "\t<tr><td>Tokyo_23</td><td>Tokyo_01</td><td>3</td><td>CWB</td><td>367995.2</td><td>9.855652e-06</td><td>2.524300e-05</td><td>9.662122e-06</td><td>9.855652e-06</td><td>1.768558e-05</td><td>2.524300e-05</td></tr>\n",
              "\t<tr><td>Tokyo_01</td><td>Tokyo_02</td><td>3</td><td>CWB</td><td>367995.2</td><td>3.839015e-06</td><td>1.276578e-05</td><td>3.697348e-06</td><td>3.839015e-06</td><td>8.327364e-06</td><td>1.276578e-05</td></tr>\n",
              "\t<tr><td>Tokyo_01</td><td>Tokyo_03</td><td>3</td><td>CWB</td><td>367995.2</td><td>3.839015e-06</td><td>1.276578e-05</td><td>3.697348e-06</td><td>3.839015e-06</td><td>8.327364e-06</td><td>1.276578e-05</td></tr>\n",
              "\t<tr><td>Tokyo_01</td><td>Tokyo_06</td><td>3</td><td>CWB</td><td>367995.2</td><td>3.339015e-06</td><td>1.226578e-05</td><td>3.197348e-06</td><td>3.339015e-06</td><td>7.827364e-06</td><td>1.226578e-05</td></tr>\n",
              "\t<tr><td>Tokyo_01</td><td>Tokyo_07</td><td>3</td><td>CWB</td><td>367995.2</td><td>7.213636e-06</td><td>2.257182e-05</td><td>7.054131e-06</td><td>7.213636e-06</td><td>1.524793e-05</td><td>2.257182e-05</td></tr>\n",
              "\t<tr><td>Tokyo_01</td><td>Tokyo_08</td><td>3</td><td>CWB</td><td>367995.2</td><td>7.678030e-06</td><td>2.030238e-05</td><td>7.416550e-06</td><td>7.678030e-06</td><td>1.407032e-05</td><td>2.030238e-05</td></tr>\n",
              "\t<tr><td>Tokyo_01</td><td>Tokyo_09</td><td>3</td><td>CWB</td><td>367995.2</td><td>7.678030e-06</td><td>2.030238e-05</td><td>7.416550e-06</td><td>7.678030e-06</td><td>1.407032e-05</td><td>2.030238e-05</td></tr>\n",
              "\t<tr><td>Tokyo_04</td><td>Tokyo_10</td><td>3</td><td>CWB</td><td>367995.2</td><td>7.213636e-06</td><td>2.257182e-05</td><td>7.148629e-06</td><td>7.213636e-06</td><td>1.537229e-05</td><td>2.257182e-05</td></tr>\n",
              "\t<tr><td>Tokyo_01</td><td>Tokyo_11</td><td>3</td><td>CWB</td><td>367995.2</td><td>1.151704e-05</td><td>2.697866e-05</td><td>1.116775e-05</td><td>1.151704e-05</td><td>1.833469e-05</td><td>2.697866e-05</td></tr>\n",
              "\t<tr><td>Tokyo_04</td><td>Tokyo_12</td><td>3</td><td>CWB</td><td>367995.2</td><td>7.213636e-06</td><td>2.257182e-05</td><td>7.148629e-06</td><td>7.213636e-06</td><td>1.537229e-05</td><td>2.257182e-05</td></tr>\n",
              "\t<tr><td>Tokyo_04</td><td>Tokyo_13</td><td>3</td><td>CWB</td><td>367995.2</td><td>3.874621e-06</td><td>1.637209e-05</td><td>3.736765e-06</td><td>3.874621e-06</td><td>1.077266e-05</td><td>1.637209e-05</td></tr>\n",
              "\t<tr><td>Tokyo_04</td><td>Tokyo_14</td><td>3</td><td>CWB</td><td>367995.2</td><td>2.839015e-06</td><td>1.176578e-05</td><td>2.697348e-06</td><td>2.839015e-06</td><td>7.327364e-06</td><td>1.176578e-05</td></tr>\n",
              "\t<tr><td>Tokyo_04</td><td>Tokyo_15</td><td>3</td><td>CWB</td><td>367995.2</td><td>5.678030e-06</td><td>1.830238e-05</td><td>5.372279e-06</td><td>5.678030e-06</td><td>1.158256e-05</td><td>1.830238e-05</td></tr>\n",
              "\t<tr><td>Tokyo_04</td><td>Tokyo_16</td><td>3</td><td>CWB</td><td>367995.2</td><td>3.374621e-06</td><td>1.587209e-05</td><td>3.236765e-06</td><td>3.374621e-06</td><td>1.027266e-05</td><td>1.587209e-05</td></tr>\n",
              "\t<tr><td>Tokyo_04</td><td>Tokyo_17</td><td>3</td><td>CWB</td><td>367995.2</td><td>5.713636e-06</td><td>2.107182e-05</td><td>5.522336e-06</td><td>5.713636e-06</td><td>1.418423e-05</td><td>2.107182e-05</td></tr>\n",
              "\t<tr><td>Tokyo_05</td><td>Tokyo_18</td><td>3</td><td>CWB</td><td>367995.2</td><td>2.839015e-06</td><td>1.176578e-05</td><td>2.697348e-06</td><td>2.839015e-06</td><td>7.327364e-06</td><td>1.176578e-05</td></tr>\n",
              "\t<tr><td>Tokyo_04</td><td>Tokyo_19</td><td>3</td><td>CWB</td><td>367995.2</td><td>5.713636e-06</td><td>2.107182e-05</td><td>5.522336e-06</td><td>5.713636e-06</td><td>1.418423e-05</td><td>2.107182e-05</td></tr>\n",
              "\t<tr><td>Tokyo_04</td><td>Tokyo_20</td><td>3</td><td>CWB</td><td>367995.2</td><td>5.678030e-06</td><td>1.830238e-05</td><td>5.372279e-06</td><td>5.678030e-06</td><td>1.158256e-05</td><td>1.830238e-05</td></tr>\n",
              "\t<tr><td>Tokyo_05</td><td>Tokyo_21</td><td>3</td><td>CWB</td><td>367995.2</td><td>5.678030e-06</td><td>1.830238e-05</td><td>5.372279e-06</td><td>5.678030e-06</td><td>1.158256e-05</td><td>1.830238e-05</td></tr>\n",
              "\t<tr><td>Tokyo_01</td><td>Tokyo_22</td><td>3</td><td>CWB</td><td>367995.2</td><td>1.055265e-05</td><td>2.831669e-05</td><td>1.025910e-05</td><td>1.055265e-05</td><td>1.945040e-05</td><td>2.831669e-05</td></tr>\n",
              "\t<tr><td>Tokyo_01</td><td>Tokyo_23</td><td>3</td><td>CWB</td><td>367995.2</td><td>1.151704e-05</td><td>2.697866e-05</td><td>1.116775e-05</td><td>1.151704e-05</td><td>1.833469e-05</td><td>2.697866e-05</td></tr>\n",
              "</tbody>\n",
              "</table>\n"
            ],
            "text/markdown": "\nA tibble: 40 × 11\n\n| sourceID &lt;chr&gt; | destinationID &lt;chr&gt; | trafficGbps &lt;dbl&gt; | service &lt;chr&gt; | traffic_ps &lt;dbl&gt; | latencyPropTransQueuing_theor_s_mg1 &lt;dbl&gt; | latencyPercentile99_theor_s_mg1 &lt;dbl&gt; | Delay_sim_s &lt;dbl&gt; | Delay_th_s &lt;dbl&gt; | D99_sim_s &lt;dbl&gt; | VPbound_99th_s &lt;dbl&gt; |\n|---|---|---|---|---|---|---|---|---|---|---|\n| Tokyo_02 | Tokyo_01 | 3 | CWB | 367995.2 | 2.642017e-06 | 3.588795e-06 | 2.631339e-06 | 2.642017e-06 | 3.141110e-06 | 3.588795e-06 |\n| Tokyo_03 | Tokyo_01 | 3 | CWB | 367995.2 | 2.642017e-06 | 3.588795e-06 | 2.631339e-06 | 2.642017e-06 | 3.141110e-06 | 3.588795e-06 |\n| Tokyo_06 | Tokyo_01 | 3 | CWB | 367995.2 | 2.142017e-06 | 3.088795e-06 | 2.131339e-06 | 2.142017e-06 | 2.641110e-06 | 3.088795e-06 |\n| Tokyo_07 | Tokyo_01 | 3 | CWB | 367995.2 | 5.481032e-06 | 1.445786e-05 | 5.362629e-06 | 5.481032e-06 | 1.018707e-05 | 1.445786e-05 |\n| Tokyo_08 | Tokyo_01 | 3 | CWB | 367995.2 | 6.481032e-06 | 1.545786e-05 | 6.354782e-06 | 6.481032e-06 | 1.097502e-05 | 1.545786e-05 |\n| Tokyo_09 | Tokyo_01 | 3 | CWB | 367995.2 | 6.481032e-06 | 1.545786e-05 | 6.354782e-06 | 6.481032e-06 | 1.097502e-05 | 1.545786e-05 |\n| Tokyo_10 | Tokyo_04 | 3 | CWB | 367995.2 | 6.016637e-06 | 1.854992e-05 | 5.920128e-06 | 6.016637e-06 | 1.290013e-05 | 1.854992e-05 |\n| Tokyo_11 | Tokyo_01 | 3 | CWB | 367995.2 | 1.032005e-05 | 2.297985e-05 | 1.010755e-05 | 1.032005e-05 | 1.667746e-05 | 2.297985e-05 |\n| Tokyo_12 | Tokyo_04 | 3 | CWB | 367995.2 | 6.016637e-06 | 1.854992e-05 | 5.920128e-06 | 6.016637e-06 | 1.290013e-05 | 1.854992e-05 |\n| Tokyo_13 | Tokyo_04 | 3 | CWB | 367995.2 | 2.142017e-06 | 3.088795e-06 | 2.131339e-06 | 2.142017e-06 | 2.641110e-06 | 3.088795e-06 |\n| Tokyo_14 | Tokyo_04 | 3 | CWB | 367995.2 | 1.642017e-06 | 2.588795e-06 | 1.631339e-06 | 1.642017e-06 | 2.141110e-06 | 2.588795e-06 |\n| Tokyo_15 | Tokyo_04 | 3 | CWB | 367995.2 | 4.481032e-06 | 1.345786e-05 | 4.367047e-06 | 4.481032e-06 | 9.041275e-06 | 1.345786e-05 |\n| Tokyo_16 | Tokyo_04 | 3 | CWB | 367995.2 | 1.642017e-06 | 2.588795e-06 | 1.631339e-06 | 1.642017e-06 | 2.141110e-06 | 2.588795e-06 |\n| Tokyo_17 | Tokyo_04 | 3 | CWB | 367995.2 | 4.516637e-06 | 1.704992e-05 | 4.441680e-06 | 4.516637e-06 | 1.199526e-05 | 1.704992e-05 |\n| Tokyo_18 | Tokyo_05 | 3 | CWB | 367995.2 | 1.890546e-06 | 4.494186e-06 | 1.861022e-06 | 1.890546e-06 | 3.346836e-06 | 4.494186e-06 |\n| Tokyo_19 | Tokyo_04 | 3 | CWB | 367995.2 | 4.516637e-06 | 1.704992e-05 | 4.441680e-06 | 4.516637e-06 | 1.199526e-05 | 1.704992e-05 |\n| Tokyo_20 | Tokyo_04 | 3 | CWB | 367995.2 | 4.481032e-06 | 1.345786e-05 | 4.367047e-06 | 4.481032e-06 | 9.041275e-06 | 1.345786e-05 |\n| Tokyo_21 | Tokyo_05 | 3 | CWB | 367995.2 | 4.729561e-06 | 1.402827e-05 | 4.606034e-06 | 4.729561e-06 | 9.290443e-06 | 1.402827e-05 |\n| Tokyo_22 | Tokyo_01 | 3 | CWB | 367995.2 | 9.355652e-06 | 2.474300e-05 | 9.146406e-06 | 9.355652e-06 | 1.666799e-05 | 2.474300e-05 |\n| Tokyo_23 | Tokyo_01 | 3 | CWB | 367995.2 | 9.855652e-06 | 2.524300e-05 | 9.662122e-06 | 9.855652e-06 | 1.768558e-05 | 2.524300e-05 |\n| Tokyo_01 | Tokyo_02 | 3 | CWB | 367995.2 | 3.839015e-06 | 1.276578e-05 | 3.697348e-06 | 3.839015e-06 | 8.327364e-06 | 1.276578e-05 |\n| Tokyo_01 | Tokyo_03 | 3 | CWB | 367995.2 | 3.839015e-06 | 1.276578e-05 | 3.697348e-06 | 3.839015e-06 | 8.327364e-06 | 1.276578e-05 |\n| Tokyo_01 | Tokyo_06 | 3 | CWB | 367995.2 | 3.339015e-06 | 1.226578e-05 | 3.197348e-06 | 3.339015e-06 | 7.827364e-06 | 1.226578e-05 |\n| Tokyo_01 | Tokyo_07 | 3 | CWB | 367995.2 | 7.213636e-06 | 2.257182e-05 | 7.054131e-06 | 7.213636e-06 | 1.524793e-05 | 2.257182e-05 |\n| Tokyo_01 | Tokyo_08 | 3 | CWB | 367995.2 | 7.678030e-06 | 2.030238e-05 | 7.416550e-06 | 7.678030e-06 | 1.407032e-05 | 2.030238e-05 |\n| Tokyo_01 | Tokyo_09 | 3 | CWB | 367995.2 | 7.678030e-06 | 2.030238e-05 | 7.416550e-06 | 7.678030e-06 | 1.407032e-05 | 2.030238e-05 |\n| Tokyo_04 | Tokyo_10 | 3 | CWB | 367995.2 | 7.213636e-06 | 2.257182e-05 | 7.148629e-06 | 7.213636e-06 | 1.537229e-05 | 2.257182e-05 |\n| Tokyo_01 | Tokyo_11 | 3 | CWB | 367995.2 | 1.151704e-05 | 2.697866e-05 | 1.116775e-05 | 1.151704e-05 | 1.833469e-05 | 2.697866e-05 |\n| Tokyo_04 | Tokyo_12 | 3 | CWB | 367995.2 | 7.213636e-06 | 2.257182e-05 | 7.148629e-06 | 7.213636e-06 | 1.537229e-05 | 2.257182e-05 |\n| Tokyo_04 | Tokyo_13 | 3 | CWB | 367995.2 | 3.874621e-06 | 1.637209e-05 | 3.736765e-06 | 3.874621e-06 | 1.077266e-05 | 1.637209e-05 |\n| Tokyo_04 | Tokyo_14 | 3 | CWB | 367995.2 | 2.839015e-06 | 1.176578e-05 | 2.697348e-06 | 2.839015e-06 | 7.327364e-06 | 1.176578e-05 |\n| Tokyo_04 | Tokyo_15 | 3 | CWB | 367995.2 | 5.678030e-06 | 1.830238e-05 | 5.372279e-06 | 5.678030e-06 | 1.158256e-05 | 1.830238e-05 |\n| Tokyo_04 | Tokyo_16 | 3 | CWB | 367995.2 | 3.374621e-06 | 1.587209e-05 | 3.236765e-06 | 3.374621e-06 | 1.027266e-05 | 1.587209e-05 |\n| Tokyo_04 | Tokyo_17 | 3 | CWB | 367995.2 | 5.713636e-06 | 2.107182e-05 | 5.522336e-06 | 5.713636e-06 | 1.418423e-05 | 2.107182e-05 |\n| Tokyo_05 | Tokyo_18 | 3 | CWB | 367995.2 | 2.839015e-06 | 1.176578e-05 | 2.697348e-06 | 2.839015e-06 | 7.327364e-06 | 1.176578e-05 |\n| Tokyo_04 | Tokyo_19 | 3 | CWB | 367995.2 | 5.713636e-06 | 2.107182e-05 | 5.522336e-06 | 5.713636e-06 | 1.418423e-05 | 2.107182e-05 |\n| Tokyo_04 | Tokyo_20 | 3 | CWB | 367995.2 | 5.678030e-06 | 1.830238e-05 | 5.372279e-06 | 5.678030e-06 | 1.158256e-05 | 1.830238e-05 |\n| Tokyo_05 | Tokyo_21 | 3 | CWB | 367995.2 | 5.678030e-06 | 1.830238e-05 | 5.372279e-06 | 5.678030e-06 | 1.158256e-05 | 1.830238e-05 |\n| Tokyo_01 | Tokyo_22 | 3 | CWB | 367995.2 | 1.055265e-05 | 2.831669e-05 | 1.025910e-05 | 1.055265e-05 | 1.945040e-05 | 2.831669e-05 |\n| Tokyo_01 | Tokyo_23 | 3 | CWB | 367995.2 | 1.151704e-05 | 2.697866e-05 | 1.116775e-05 | 1.151704e-05 | 1.833469e-05 | 2.697866e-05 |\n\n",
            "text/latex": "A tibble: 40 × 11\n\\begin{tabular}{lllllllllll}\n sourceID & destinationID & trafficGbps & service & traffic\\_ps & latencyPropTransQueuing\\_theor\\_s\\_mg1 & latencyPercentile99\\_theor\\_s\\_mg1 & Delay\\_sim\\_s & Delay\\_th\\_s & D99\\_sim\\_s & VPbound\\_99th\\_s\\\\\n <chr> & <chr> & <dbl> & <chr> & <dbl> & <dbl> & <dbl> & <dbl> & <dbl> & <dbl> & <dbl>\\\\\n\\hline\n\t Tokyo\\_02 & Tokyo\\_01 & 3 & CWB & 367995.2 & 2.642017e-06 & 3.588795e-06 & 2.631339e-06 & 2.642017e-06 & 3.141110e-06 & 3.588795e-06\\\\\n\t Tokyo\\_03 & Tokyo\\_01 & 3 & CWB & 367995.2 & 2.642017e-06 & 3.588795e-06 & 2.631339e-06 & 2.642017e-06 & 3.141110e-06 & 3.588795e-06\\\\\n\t Tokyo\\_06 & Tokyo\\_01 & 3 & CWB & 367995.2 & 2.142017e-06 & 3.088795e-06 & 2.131339e-06 & 2.142017e-06 & 2.641110e-06 & 3.088795e-06\\\\\n\t Tokyo\\_07 & Tokyo\\_01 & 3 & CWB & 367995.2 & 5.481032e-06 & 1.445786e-05 & 5.362629e-06 & 5.481032e-06 & 1.018707e-05 & 1.445786e-05\\\\\n\t Tokyo\\_08 & Tokyo\\_01 & 3 & CWB & 367995.2 & 6.481032e-06 & 1.545786e-05 & 6.354782e-06 & 6.481032e-06 & 1.097502e-05 & 1.545786e-05\\\\\n\t Tokyo\\_09 & Tokyo\\_01 & 3 & CWB & 367995.2 & 6.481032e-06 & 1.545786e-05 & 6.354782e-06 & 6.481032e-06 & 1.097502e-05 & 1.545786e-05\\\\\n\t Tokyo\\_10 & Tokyo\\_04 & 3 & CWB & 367995.2 & 6.016637e-06 & 1.854992e-05 & 5.920128e-06 & 6.016637e-06 & 1.290013e-05 & 1.854992e-05\\\\\n\t Tokyo\\_11 & Tokyo\\_01 & 3 & CWB & 367995.2 & 1.032005e-05 & 2.297985e-05 & 1.010755e-05 & 1.032005e-05 & 1.667746e-05 & 2.297985e-05\\\\\n\t Tokyo\\_12 & Tokyo\\_04 & 3 & CWB & 367995.2 & 6.016637e-06 & 1.854992e-05 & 5.920128e-06 & 6.016637e-06 & 1.290013e-05 & 1.854992e-05\\\\\n\t Tokyo\\_13 & Tokyo\\_04 & 3 & CWB & 367995.2 & 2.142017e-06 & 3.088795e-06 & 2.131339e-06 & 2.142017e-06 & 2.641110e-06 & 3.088795e-06\\\\\n\t Tokyo\\_14 & Tokyo\\_04 & 3 & CWB & 367995.2 & 1.642017e-06 & 2.588795e-06 & 1.631339e-06 & 1.642017e-06 & 2.141110e-06 & 2.588795e-06\\\\\n\t Tokyo\\_15 & Tokyo\\_04 & 3 & CWB & 367995.2 & 4.481032e-06 & 1.345786e-05 & 4.367047e-06 & 4.481032e-06 & 9.041275e-06 & 1.345786e-05\\\\\n\t Tokyo\\_16 & Tokyo\\_04 & 3 & CWB & 367995.2 & 1.642017e-06 & 2.588795e-06 & 1.631339e-06 & 1.642017e-06 & 2.141110e-06 & 2.588795e-06\\\\\n\t Tokyo\\_17 & Tokyo\\_04 & 3 & CWB & 367995.2 & 4.516637e-06 & 1.704992e-05 & 4.441680e-06 & 4.516637e-06 & 1.199526e-05 & 1.704992e-05\\\\\n\t Tokyo\\_18 & Tokyo\\_05 & 3 & CWB & 367995.2 & 1.890546e-06 & 4.494186e-06 & 1.861022e-06 & 1.890546e-06 & 3.346836e-06 & 4.494186e-06\\\\\n\t Tokyo\\_19 & Tokyo\\_04 & 3 & CWB & 367995.2 & 4.516637e-06 & 1.704992e-05 & 4.441680e-06 & 4.516637e-06 & 1.199526e-05 & 1.704992e-05\\\\\n\t Tokyo\\_20 & Tokyo\\_04 & 3 & CWB & 367995.2 & 4.481032e-06 & 1.345786e-05 & 4.367047e-06 & 4.481032e-06 & 9.041275e-06 & 1.345786e-05\\\\\n\t Tokyo\\_21 & Tokyo\\_05 & 3 & CWB & 367995.2 & 4.729561e-06 & 1.402827e-05 & 4.606034e-06 & 4.729561e-06 & 9.290443e-06 & 1.402827e-05\\\\\n\t Tokyo\\_22 & Tokyo\\_01 & 3 & CWB & 367995.2 & 9.355652e-06 & 2.474300e-05 & 9.146406e-06 & 9.355652e-06 & 1.666799e-05 & 2.474300e-05\\\\\n\t Tokyo\\_23 & Tokyo\\_01 & 3 & CWB & 367995.2 & 9.855652e-06 & 2.524300e-05 & 9.662122e-06 & 9.855652e-06 & 1.768558e-05 & 2.524300e-05\\\\\n\t Tokyo\\_01 & Tokyo\\_02 & 3 & CWB & 367995.2 & 3.839015e-06 & 1.276578e-05 & 3.697348e-06 & 3.839015e-06 & 8.327364e-06 & 1.276578e-05\\\\\n\t Tokyo\\_01 & Tokyo\\_03 & 3 & CWB & 367995.2 & 3.839015e-06 & 1.276578e-05 & 3.697348e-06 & 3.839015e-06 & 8.327364e-06 & 1.276578e-05\\\\\n\t Tokyo\\_01 & Tokyo\\_06 & 3 & CWB & 367995.2 & 3.339015e-06 & 1.226578e-05 & 3.197348e-06 & 3.339015e-06 & 7.827364e-06 & 1.226578e-05\\\\\n\t Tokyo\\_01 & Tokyo\\_07 & 3 & CWB & 367995.2 & 7.213636e-06 & 2.257182e-05 & 7.054131e-06 & 7.213636e-06 & 1.524793e-05 & 2.257182e-05\\\\\n\t Tokyo\\_01 & Tokyo\\_08 & 3 & CWB & 367995.2 & 7.678030e-06 & 2.030238e-05 & 7.416550e-06 & 7.678030e-06 & 1.407032e-05 & 2.030238e-05\\\\\n\t Tokyo\\_01 & Tokyo\\_09 & 3 & CWB & 367995.2 & 7.678030e-06 & 2.030238e-05 & 7.416550e-06 & 7.678030e-06 & 1.407032e-05 & 2.030238e-05\\\\\n\t Tokyo\\_04 & Tokyo\\_10 & 3 & CWB & 367995.2 & 7.213636e-06 & 2.257182e-05 & 7.148629e-06 & 7.213636e-06 & 1.537229e-05 & 2.257182e-05\\\\\n\t Tokyo\\_01 & Tokyo\\_11 & 3 & CWB & 367995.2 & 1.151704e-05 & 2.697866e-05 & 1.116775e-05 & 1.151704e-05 & 1.833469e-05 & 2.697866e-05\\\\\n\t Tokyo\\_04 & Tokyo\\_12 & 3 & CWB & 367995.2 & 7.213636e-06 & 2.257182e-05 & 7.148629e-06 & 7.213636e-06 & 1.537229e-05 & 2.257182e-05\\\\\n\t Tokyo\\_04 & Tokyo\\_13 & 3 & CWB & 367995.2 & 3.874621e-06 & 1.637209e-05 & 3.736765e-06 & 3.874621e-06 & 1.077266e-05 & 1.637209e-05\\\\\n\t Tokyo\\_04 & Tokyo\\_14 & 3 & CWB & 367995.2 & 2.839015e-06 & 1.176578e-05 & 2.697348e-06 & 2.839015e-06 & 7.327364e-06 & 1.176578e-05\\\\\n\t Tokyo\\_04 & Tokyo\\_15 & 3 & CWB & 367995.2 & 5.678030e-06 & 1.830238e-05 & 5.372279e-06 & 5.678030e-06 & 1.158256e-05 & 1.830238e-05\\\\\n\t Tokyo\\_04 & Tokyo\\_16 & 3 & CWB & 367995.2 & 3.374621e-06 & 1.587209e-05 & 3.236765e-06 & 3.374621e-06 & 1.027266e-05 & 1.587209e-05\\\\\n\t Tokyo\\_04 & Tokyo\\_17 & 3 & CWB & 367995.2 & 5.713636e-06 & 2.107182e-05 & 5.522336e-06 & 5.713636e-06 & 1.418423e-05 & 2.107182e-05\\\\\n\t Tokyo\\_05 & Tokyo\\_18 & 3 & CWB & 367995.2 & 2.839015e-06 & 1.176578e-05 & 2.697348e-06 & 2.839015e-06 & 7.327364e-06 & 1.176578e-05\\\\\n\t Tokyo\\_04 & Tokyo\\_19 & 3 & CWB & 367995.2 & 5.713636e-06 & 2.107182e-05 & 5.522336e-06 & 5.713636e-06 & 1.418423e-05 & 2.107182e-05\\\\\n\t Tokyo\\_04 & Tokyo\\_20 & 3 & CWB & 367995.2 & 5.678030e-06 & 1.830238e-05 & 5.372279e-06 & 5.678030e-06 & 1.158256e-05 & 1.830238e-05\\\\\n\t Tokyo\\_05 & Tokyo\\_21 & 3 & CWB & 367995.2 & 5.678030e-06 & 1.830238e-05 & 5.372279e-06 & 5.678030e-06 & 1.158256e-05 & 1.830238e-05\\\\\n\t Tokyo\\_01 & Tokyo\\_22 & 3 & CWB & 367995.2 & 1.055265e-05 & 2.831669e-05 & 1.025910e-05 & 1.055265e-05 & 1.945040e-05 & 2.831669e-05\\\\\n\t Tokyo\\_01 & Tokyo\\_23 & 3 & CWB & 367995.2 & 1.151704e-05 & 2.697866e-05 & 1.116775e-05 & 1.151704e-05 & 1.833469e-05 & 2.697866e-05\\\\\n\\end{tabular}\n",
            "text/plain": [
              "   sourceID destinationID trafficGbps service traffic_ps\n",
              "1  Tokyo_02 Tokyo_01      3           CWB     367995.2  \n",
              "2  Tokyo_03 Tokyo_01      3           CWB     367995.2  \n",
              "3  Tokyo_06 Tokyo_01      3           CWB     367995.2  \n",
              "4  Tokyo_07 Tokyo_01      3           CWB     367995.2  \n",
              "5  Tokyo_08 Tokyo_01      3           CWB     367995.2  \n",
              "6  Tokyo_09 Tokyo_01      3           CWB     367995.2  \n",
              "7  Tokyo_10 Tokyo_04      3           CWB     367995.2  \n",
              "8  Tokyo_11 Tokyo_01      3           CWB     367995.2  \n",
              "9  Tokyo_12 Tokyo_04      3           CWB     367995.2  \n",
              "10 Tokyo_13 Tokyo_04      3           CWB     367995.2  \n",
              "11 Tokyo_14 Tokyo_04      3           CWB     367995.2  \n",
              "12 Tokyo_15 Tokyo_04      3           CWB     367995.2  \n",
              "13 Tokyo_16 Tokyo_04      3           CWB     367995.2  \n",
              "14 Tokyo_17 Tokyo_04      3           CWB     367995.2  \n",
              "15 Tokyo_18 Tokyo_05      3           CWB     367995.2  \n",
              "16 Tokyo_19 Tokyo_04      3           CWB     367995.2  \n",
              "17 Tokyo_20 Tokyo_04      3           CWB     367995.2  \n",
              "18 Tokyo_21 Tokyo_05      3           CWB     367995.2  \n",
              "19 Tokyo_22 Tokyo_01      3           CWB     367995.2  \n",
              "20 Tokyo_23 Tokyo_01      3           CWB     367995.2  \n",
              "21 Tokyo_01 Tokyo_02      3           CWB     367995.2  \n",
              "22 Tokyo_01 Tokyo_03      3           CWB     367995.2  \n",
              "23 Tokyo_01 Tokyo_06      3           CWB     367995.2  \n",
              "24 Tokyo_01 Tokyo_07      3           CWB     367995.2  \n",
              "25 Tokyo_01 Tokyo_08      3           CWB     367995.2  \n",
              "26 Tokyo_01 Tokyo_09      3           CWB     367995.2  \n",
              "27 Tokyo_04 Tokyo_10      3           CWB     367995.2  \n",
              "28 Tokyo_01 Tokyo_11      3           CWB     367995.2  \n",
              "29 Tokyo_04 Tokyo_12      3           CWB     367995.2  \n",
              "30 Tokyo_04 Tokyo_13      3           CWB     367995.2  \n",
              "31 Tokyo_04 Tokyo_14      3           CWB     367995.2  \n",
              "32 Tokyo_04 Tokyo_15      3           CWB     367995.2  \n",
              "33 Tokyo_04 Tokyo_16      3           CWB     367995.2  \n",
              "34 Tokyo_04 Tokyo_17      3           CWB     367995.2  \n",
              "35 Tokyo_05 Tokyo_18      3           CWB     367995.2  \n",
              "36 Tokyo_04 Tokyo_19      3           CWB     367995.2  \n",
              "37 Tokyo_04 Tokyo_20      3           CWB     367995.2  \n",
              "38 Tokyo_05 Tokyo_21      3           CWB     367995.2  \n",
              "39 Tokyo_01 Tokyo_22      3           CWB     367995.2  \n",
              "40 Tokyo_01 Tokyo_23      3           CWB     367995.2  \n",
              "   latencyPropTransQueuing_theor_s_mg1 latencyPercentile99_theor_s_mg1\n",
              "1  2.642017e-06                        3.588795e-06                   \n",
              "2  2.642017e-06                        3.588795e-06                   \n",
              "3  2.142017e-06                        3.088795e-06                   \n",
              "4  5.481032e-06                        1.445786e-05                   \n",
              "5  6.481032e-06                        1.545786e-05                   \n",
              "6  6.481032e-06                        1.545786e-05                   \n",
              "7  6.016637e-06                        1.854992e-05                   \n",
              "8  1.032005e-05                        2.297985e-05                   \n",
              "9  6.016637e-06                        1.854992e-05                   \n",
              "10 2.142017e-06                        3.088795e-06                   \n",
              "11 1.642017e-06                        2.588795e-06                   \n",
              "12 4.481032e-06                        1.345786e-05                   \n",
              "13 1.642017e-06                        2.588795e-06                   \n",
              "14 4.516637e-06                        1.704992e-05                   \n",
              "15 1.890546e-06                        4.494186e-06                   \n",
              "16 4.516637e-06                        1.704992e-05                   \n",
              "17 4.481032e-06                        1.345786e-05                   \n",
              "18 4.729561e-06                        1.402827e-05                   \n",
              "19 9.355652e-06                        2.474300e-05                   \n",
              "20 9.855652e-06                        2.524300e-05                   \n",
              "21 3.839015e-06                        1.276578e-05                   \n",
              "22 3.839015e-06                        1.276578e-05                   \n",
              "23 3.339015e-06                        1.226578e-05                   \n",
              "24 7.213636e-06                        2.257182e-05                   \n",
              "25 7.678030e-06                        2.030238e-05                   \n",
              "26 7.678030e-06                        2.030238e-05                   \n",
              "27 7.213636e-06                        2.257182e-05                   \n",
              "28 1.151704e-05                        2.697866e-05                   \n",
              "29 7.213636e-06                        2.257182e-05                   \n",
              "30 3.874621e-06                        1.637209e-05                   \n",
              "31 2.839015e-06                        1.176578e-05                   \n",
              "32 5.678030e-06                        1.830238e-05                   \n",
              "33 3.374621e-06                        1.587209e-05                   \n",
              "34 5.713636e-06                        2.107182e-05                   \n",
              "35 2.839015e-06                        1.176578e-05                   \n",
              "36 5.713636e-06                        2.107182e-05                   \n",
              "37 5.678030e-06                        1.830238e-05                   \n",
              "38 5.678030e-06                        1.830238e-05                   \n",
              "39 1.055265e-05                        2.831669e-05                   \n",
              "40 1.151704e-05                        2.697866e-05                   \n",
              "   Delay_sim_s  Delay_th_s   D99_sim_s    VPbound_99th_s\n",
              "1  2.631339e-06 2.642017e-06 3.141110e-06 3.588795e-06  \n",
              "2  2.631339e-06 2.642017e-06 3.141110e-06 3.588795e-06  \n",
              "3  2.131339e-06 2.142017e-06 2.641110e-06 3.088795e-06  \n",
              "4  5.362629e-06 5.481032e-06 1.018707e-05 1.445786e-05  \n",
              "5  6.354782e-06 6.481032e-06 1.097502e-05 1.545786e-05  \n",
              "6  6.354782e-06 6.481032e-06 1.097502e-05 1.545786e-05  \n",
              "7  5.920128e-06 6.016637e-06 1.290013e-05 1.854992e-05  \n",
              "8  1.010755e-05 1.032005e-05 1.667746e-05 2.297985e-05  \n",
              "9  5.920128e-06 6.016637e-06 1.290013e-05 1.854992e-05  \n",
              "10 2.131339e-06 2.142017e-06 2.641110e-06 3.088795e-06  \n",
              "11 1.631339e-06 1.642017e-06 2.141110e-06 2.588795e-06  \n",
              "12 4.367047e-06 4.481032e-06 9.041275e-06 1.345786e-05  \n",
              "13 1.631339e-06 1.642017e-06 2.141110e-06 2.588795e-06  \n",
              "14 4.441680e-06 4.516637e-06 1.199526e-05 1.704992e-05  \n",
              "15 1.861022e-06 1.890546e-06 3.346836e-06 4.494186e-06  \n",
              "16 4.441680e-06 4.516637e-06 1.199526e-05 1.704992e-05  \n",
              "17 4.367047e-06 4.481032e-06 9.041275e-06 1.345786e-05  \n",
              "18 4.606034e-06 4.729561e-06 9.290443e-06 1.402827e-05  \n",
              "19 9.146406e-06 9.355652e-06 1.666799e-05 2.474300e-05  \n",
              "20 9.662122e-06 9.855652e-06 1.768558e-05 2.524300e-05  \n",
              "21 3.697348e-06 3.839015e-06 8.327364e-06 1.276578e-05  \n",
              "22 3.697348e-06 3.839015e-06 8.327364e-06 1.276578e-05  \n",
              "23 3.197348e-06 3.339015e-06 7.827364e-06 1.226578e-05  \n",
              "24 7.054131e-06 7.213636e-06 1.524793e-05 2.257182e-05  \n",
              "25 7.416550e-06 7.678030e-06 1.407032e-05 2.030238e-05  \n",
              "26 7.416550e-06 7.678030e-06 1.407032e-05 2.030238e-05  \n",
              "27 7.148629e-06 7.213636e-06 1.537229e-05 2.257182e-05  \n",
              "28 1.116775e-05 1.151704e-05 1.833469e-05 2.697866e-05  \n",
              "29 7.148629e-06 7.213636e-06 1.537229e-05 2.257182e-05  \n",
              "30 3.736765e-06 3.874621e-06 1.077266e-05 1.637209e-05  \n",
              "31 2.697348e-06 2.839015e-06 7.327364e-06 1.176578e-05  \n",
              "32 5.372279e-06 5.678030e-06 1.158256e-05 1.830238e-05  \n",
              "33 3.236765e-06 3.374621e-06 1.027266e-05 1.587209e-05  \n",
              "34 5.522336e-06 5.713636e-06 1.418423e-05 2.107182e-05  \n",
              "35 2.697348e-06 2.839015e-06 7.327364e-06 1.176578e-05  \n",
              "36 5.522336e-06 5.713636e-06 1.418423e-05 2.107182e-05  \n",
              "37 5.372279e-06 5.678030e-06 1.158256e-05 1.830238e-05  \n",
              "38 5.372279e-06 5.678030e-06 1.158256e-05 1.830238e-05  \n",
              "39 1.025910e-05 1.055265e-05 1.945040e-05 2.831669e-05  \n",
              "40 1.116775e-05 1.151704e-05 1.833469e-05 2.697866e-05  "
            ]
          },
          "metadata": {}
        }
      ],
      "source": [
        "traffic_file_v2"
      ]
    },
    {
      "cell_type": "markdown",
      "metadata": {
        "id": "ECZknusAh-9j"
      },
      "source": [
        "#Calculation of delays for different capacities"
      ]
    },
    {
      "cell_type": "code",
      "execution_count": 110,
      "metadata": {
        "id": "yuydsky-Zp8T",
        "vscode": {
          "languageId": "r"
        }
      },
      "outputs": [],
      "source": [
        "\n",
        "c(g_c10_dg_l05, data_av_c10_dg_l05, data_99_c10_dg_l05) :=simulation_igraph(nodes_info, links_info, traffic_file, Capacity = 10, calc_dist = 0, distance = 5, Load_local = Load_local, Load_regional = Load_regional, Load_national = Load_national, prefix_base, national_nodes, regional_nodes , N, Cs2)\n",
        "c(g_c40_dg_l05, data_av_c40_dg_l05, data_99_c40_dg_l05) :=simulation_igraph(nodes_info, links_info, traffic_file, Capacity = 40, calc_dist = 0,  distance = 5, Load_local = Load_local, Load_regional = Load_regional, Load_national = Load_national, prefix_base, national_nodes, regional_nodes , N, Cs2)\n",
        "c(g_c100_dg_l05, data_av_c100_dg_l05, data_99_c100_dg_l05) :=simulation_igraph(nodes_info, links_info, traffic_file, Capacity = 100, calc_dist = 0,  distance = 5, Load_local = Load_local, Load_regional = Load_regional, Load_national = Load_national, prefix_base, national_nodes, regional_nodes , N, Cs2)\n",
        "c(g_c400_dg_l05, data_av_c400_dg_l05, data_99_c400_dg_l05) :=simulation_igraph(nodes_info, links_info, traffic_file, Capacity = 400, calc_dist = 0,  distance = 5, Load_local = Load_local, Load_regional = Load_regional, Load_national = Load_national, prefix_base, national_nodes, regional_nodes , N, Cs2)"
      ]
    },
    {
      "cell_type": "code",
      "execution_count": 111,
      "metadata": {
        "id": "yH7O51xxH9Qm",
        "vscode": {
          "languageId": "r"
        },
        "colab": {
          "base_uri": "https://localhost:8080/",
          "height": 437
        },
        "outputId": "d699ee83-0f78-4d54-ad2e-97e736ec36a8"
      },
      "outputs": [
        {
          "output_type": "display_data",
          "data": {
            "text/plain": [
              "plot without title"
            ],
            "image/png": "[encoded data removed]"
          },
          "metadata": {
            "image/png": {
              "width": 420,
              "height": 420
            }
          }
        }
      ],
      "source": [
        "#Boxplots\n",
        "\n",
        "df_plot_capacity <- data.frame(capacity = c(rep(\"10G\", length(data_99_c10_dg_l05)),\n",
        "                                            rep(\"40G\", length(data_99_c40_dg_l05)),\n",
        "                                            rep(\"100G\", length(data_99_c100_dg_l05)),\n",
        "                                            rep(\"400G\", length(data_99_c400_dg_l05)),\n",
        "                                            rep(\"10G\", length(data_av_c10_dg_l05)),\n",
        "                                            rep(\"40G\", length(data_av_c40_dg_l05)),\n",
        "                                            rep(\"100G\", length(data_av_c100_dg_l05)),\n",
        "                                            rep(\"400G\", length(data_av_c400_dg_l05))),\n",
        "                               value = c(data_99_c10_dg_l05,\n",
        "                                         data_99_c40_dg_l05,\n",
        "                                         data_99_c100_dg_l05,\n",
        "                                         data_99_c400_dg_l05,\n",
        "                                         data_av_c10_dg_l05,\n",
        "                                         data_av_c40_dg_l05,\n",
        "                                         data_av_c100_dg_l05,\n",
        "                                         data_av_c400_dg_l05),\n",
        "                               type_of_calc = c(rep(\"Vysochanskij–Petunin 99th\",length(data_99_c10_dg_l05)*4),\n",
        "                                                rep(\"average delay\",length(data_99_c10_dg_l05)*4)),\n",
        "                               city = c(rep(topology_name,length(data_99_c10_dg_l05)*8)))\n",
        "\n",
        "# Calculate the mean N values for each capacity group\n",
        "N_means <- c(mean(data_99_c10_dg_l05)/mean(data_av_c10_dg_l05),\n",
        "             mean(data_99_c40_dg_l05)/mean(data_av_c40_dg_l05),\n",
        "             mean(data_99_c100_dg_l05)/mean(data_av_c100_dg_l05),\n",
        "             mean(data_99_c400_dg_l05)/mean(data_av_c400_dg_l05))\n",
        "N_means_y <- c(max(data_99_c10_dg_l05),\n",
        "               max(data_99_c40_dg_l05),\n",
        "               max(data_99_c100_dg_l05),\n",
        "               max(data_99_c400_dg_l05))\n",
        "\n",
        "text_size = 12\n",
        "# Grouped boxplot\n",
        "ggplot(df_plot_capacity, aes(x = fct_reorder(capacity, value, .desc = TRUE), y = value * 1000000, fill = type_of_calc)) +\n",
        "  geom_boxplot() +\n",
        "  theme_bw() +\n",
        "  theme(\n",
        "    legend.title = element_blank(),\n",
        "    legend.position = c(0.75, 0.8),\n",
        "    axis.title.y = element_text(size = text_size),\n",
        "    axis.title.x = element_text(size = text_size),\n",
        "    legend.text = element_text(size = text_size),\n",
        "    legend.background = element_rect(colour = \"black\"),\n",
        "    axis.text = element_text(size = text_size),\n",
        "    strip.text = element_text(size = text_size)\n",
        "  ) +\n",
        "  facet_grid(. ~ city ) +\n",
        "  ylab(\"Delay, us\") +\n",
        "  xlab(\"Capacity, Gbps\") +\n",
        "  annotate(\"text\", x = c(1,2,3,4), y = N_means_y*1e6 - 1,\n",
        "           label = paste0(round(N_means, 2), \"x\"), vjust = -0.5, size = text_size/2.5)"
      ]
    },
    {
      "cell_type": "markdown",
      "metadata": {
        "id": "P3H0XTJhiCWt"
      },
      "source": [
        "#Calculation of delays for different distances"
      ]
    },
    {
      "cell_type": "code",
      "execution_count": 112,
      "metadata": {
        "id": "3fIGy92mVpDk",
        "vscode": {
          "languageId": "r"
        }
      },
      "outputs": [],
      "source": [
        "#Calculation of delays for different distances\n",
        "c(g_c100_d05g_l05, data_av_c100_d05g_l05, data_99_c100_d05g_l05) :=simulation_igraph(nodes_info, links_info, traffic_file, Capacity = 100, calc_dist = 1, distance = 0.5, Load_local = Load_local, Load_regional = Load_regional, Load_national = Load_national, prefix_base, national_nodes, regional_nodes , N, Cs2)\n",
        "c(g_c100_d2g_l05, data_av_c100_d2g_l05, data_99_c100_d2g_l05) :=simulation_igraph(nodes_info, links_info, traffic_file, Capacity = 100, calc_dist = 1, distance = 2, Load_local = Load_local, Load_regional = Load_regional, Load_national = Load_national, prefix_base, national_nodes, regional_nodes , N, Cs2)\n",
        "c(g_c100_d4g_l05, data_av_c100_d4g_l05, data_99_c100_d4g_l05) :=simulation_igraph(nodes_info, links_info, traffic_file, Capacity = 100, calc_dist = 1, distance = 4, Load_local = Load_local, Load_regional = Load_regional, Load_national = Load_national, prefix_base, national_nodes, regional_nodes , N, Cs2)\n",
        "c(g_c100_d10g_l05, data_av_c100_d10g_l05, data_99_c100_d10g_l05) :=simulation_igraph(nodes_info, links_info, traffic_file, Capacity = 100, calc_dist = 1, distance = 10, Load_local = Load_local, Load_regional = Load_regional, Load_national = Load_national, prefix_base, national_nodes, regional_nodes , N, Cs2)"
      ]
    },
    {
      "cell_type": "code",
      "execution_count": 113,
      "metadata": {
        "id": "D6ddOG_-IGLr",
        "vscode": {
          "languageId": "r"
        },
        "colab": {
          "base_uri": "https://localhost:8080/",
          "height": 454
        },
        "outputId": "97bb14b8-6ce4-4881-a506-f111d4cfdfc4"
      },
      "outputs": [
        {
          "output_type": "display_data",
          "data": {
            "text/html": [
              "'0.5x diam 2.6 km av link dist 0.39 km'"
            ],
            "text/markdown": "'0.5x diam 2.6 km av link dist 0.39 km'",
            "text/latex": "'0.5x diam 2.6 km av link dist 0.39 km'",
            "text/plain": [
              "[1] \"0.5x diam 2.6 km av link dist 0.39 km\""
            ]
          },
          "metadata": {}
        },
        {
          "output_type": "display_data",
          "data": {
            "text/plain": [
              "plot without title"
            ],
            "image/png": "[encoded data removed]"
          },
          "metadata": {
            "image/png": {
              "width": 420,
              "height": 420
            }
          }
        }
      ],
      "source": [
        "diam_km <-  round(diameter(g_c100_d05g_l05, directed = TRUE, unconnected = TRUE, weights = E(g_c100_d05g_l05)$Distance), digits = 2)\n",
        "av_link_km <- round(mean(E(g_c100_d05g_l05)$Distance), digits = 2)\n",
        "name_05 <- paste0(\"0.5x\\n\", \"Diam = \", diam_km, \"km\\n av_link_dist\", \" = \", av_link_km, \"km\")\n",
        "name_1 <- paste(\"1x\\n\", \"Diam = \", round(diameter(g_c100_dg_l05, directed = TRUE, unconnected = TRUE, weights = E(g_c100_dg_l05)$Distance), digits = 2), \"km\\nav_link_dist = \", round(mean(E(g_c100_dg_l05)$Distance), digits = 2), \"km\")\n",
        "name_2 <- paste(\"2x\\n\", \"Diam = \", round(diameter(g_c100_d2g_l05, directed = TRUE, unconnected = TRUE, weights = E(g_c100_d2g_l05)$Distance), digits = 2), \"km\\nav_link_dist = \", round(mean(E(g_c100_d2g_l05)$Distance), digits = 2), \"km\")\n",
        "name_4 <- paste(\"4x\\n\", \"Diam = \", round(diameter(g_c100_d4g_l05, directed = TRUE, unconnected = TRUE, weights = E(g_c100_d4g_l05)$Distance), digits = 2), \"km\\nav_link_dist = \", round(mean(E(g_c100_d4g_l05)$Distance), digits = 2), \"km\")\n",
        "name_10 <- paste(\"10x\\n\", \"Diam = \", round(diameter(g_c100_d10g_l05, directed = TRUE, unconnected = TRUE, weights = E(g_c100_d10g_l05)$Distance), digits = 2), \"km\\nav_link_dist = \", round(mean(E(g_c100_d10g_l05)$Distance), digits = 2), \"km\")\n",
        "\n",
        "####distanceVSdelay\n",
        "distance = c(\n",
        "             rep(name_1, length(data_99_c100_dg_l05)),\n",
        "             rep(name_2, length(data_99_c100_d2g_l05)),\n",
        "             rep(name_4, length(data_99_c100_d4g_l05)),\n",
        "             rep(name_10, length(data_99_c100_d10g_l05)),\n",
        "             rep(name_1, length(data_av_c100_dg_l05)),\n",
        "             rep(name_2, length(data_av_c100_d2g_l05)),\n",
        "             rep(name_4, length(data_av_c100_d4g_l05)),\n",
        "             rep(name_10, length(data_av_c100_d10g_l05))\n",
        "  )\n",
        "\n",
        "type_of_calc = c(rep(\"Vysochanskij–Petunin 99th\",length(distance)/2),\n",
        "                 rep(\"average delay\",length(distance)/2))\n",
        "\n",
        "paste(\"0.5x\", \"diam\", diam_km, \"km av link dist\", av_link_km, \"km\")\n",
        "value = c(\n",
        "  data_99_c100_dg_l05,\n",
        "  data_99_c100_d2g_l05,\n",
        "  data_99_c100_d4g_l05,\n",
        "  data_99_c100_d10g_l05,\n",
        "  data_av_c100_dg_l05,\n",
        "  data_av_c100_d2g_l05,\n",
        "  data_av_c100_d4g_l05,\n",
        "  data_av_c100_d10g_l05\n",
        "  )\n",
        "\n",
        "df_plot_dist <- data.frame(distance, value, type_of_calc, city = c(rep(topology_name,length(type_of_calc))))\n",
        "\n",
        "N_means_delay <- c(\n",
        "  mean(data_99_c100_dg_l05) / mean(data_av_c100_dg_l05),\n",
        "  mean(data_99_c100_d2g_l05) / mean(data_av_c100_d2g_l05),\n",
        "  mean(data_99_c100_d4g_l05) / mean(data_av_c100_d4g_l05),\n",
        "  mean(data_99_c100_d10g_l05) / mean(data_av_c100_d10g_l05)\n",
        ")\n",
        "\n",
        "N_means_delay_y <- c(\n",
        "  max(data_99_c100_dg_l05) ,\n",
        "  max(data_99_c100_d2g_l05),\n",
        "  max(data_99_c100_d4g_l05),\n",
        "  max(data_99_c100_d10g_l05)\n",
        ")\n",
        "\n",
        "df_plot_dist$distance <- factor(df_plot_dist$distance, levels = c(name_1, name_2, name_4, name_10))\n",
        "\n",
        "text_size = 12\n",
        "# grouped df_plot_dist\n",
        "ggplot(df_plot_dist, aes(x=distance, y=value*1000000, fill=type_of_calc)) +\n",
        "  geom_boxplot()+\n",
        "  theme_gray() +\n",
        "  theme(\n",
        "     legend.title = element_blank(), legend.position = c(0.25, 0.85),\n",
        "     axis.title.y = element_text(size = text_size),\n",
        "     axis.title.x = element_text(size = text_size),\n",
        "     legend.text = element_text(size = text_size),\n",
        "     strip.text = element_text(size = text_size)\n",
        "   ) +\n",
        "  facet_grid(.~city)+\n",
        "  ylab(\"Delay, us\") +\n",
        "  xlab(\"Link distance\") +\n",
        "  annotate(\"text\", x = c(1,2,3,4), y = N_means_delay_y*1e6-3,\n",
        "           label = paste0(round(N_means_delay, 2), \"x\"), vjust = -0.5, size = text_size/2)\n",
        "\n"
      ]
    },
    {
      "cell_type": "markdown",
      "metadata": {
        "id": "BKP32pZn6JrU"
      },
      "source": [
        "#Creating the report file"
      ]
    },
    {
      "cell_type": "code",
      "execution_count": 114,
      "metadata": {
        "id": "4xXCHBE84PvV",
        "vscode": {
          "languageId": "r"
        }
      },
      "outputs": [],
      "source": [
        "update_file <- function(links_info_df, traffic_file, file_name = \"Milano_topology_result.xlsx\", file_old_name)\n",
        "{\n",
        "    wb <- createWorkbook()\n",
        "    addWorksheet(wb, sheetName = \"Nodes\")\n",
        "    writeData(wb, sheet = 1, read_excel(file_old_name, sheet = 1))\n",
        "    addWorksheet(wb, sheetName = \"Links\")\n",
        "    writeData(wb, sheet = 2, links_info_df)\n",
        "    addWorksheet(wb, sheetName = \"Services\")\n",
        "    writeData(wb, sheet = 3, traffic_file)\n",
        "    saveWorkbook(wb, file_name, overwrite = TRUE)\n",
        "}\n",
        "\n",
        "\n"
      ]
    },
    {
      "cell_type": "code",
      "execution_count": 115,
      "metadata": {
        "id": "M8NgLE-LoASX",
        "vscode": {
          "languageId": "r"
        }
      },
      "outputs": [],
      "source": [
        "update_file(links_info_df, traffic_file_v2, file_name = paste0(topology_name, \"_topology_result.xlsx\"), file_old_name = file_name_v2)\n"
      ]
    }
  ],
  "metadata": {
    "colab": {
      "machine_shape": "hm",
      "provenance": [],
      "include_colab_link": true
    },
    "kernelspec": {
      "display_name": "R",
      "name": "ir"
    },
    "language_info": {
      "name": "R"
    }
  },
  "nbformat": 4,
  "nbformat_minor": 0
}