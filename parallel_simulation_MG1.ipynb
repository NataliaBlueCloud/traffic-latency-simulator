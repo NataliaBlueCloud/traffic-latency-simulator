{
  "cells": [
    {
      "cell_type": "markdown",
      "metadata": {
        "id": "view-in-github",
        "colab_type": "text"
      },
      "source": [
        "<a href=\"https://colab.research.google.com/github/NataliaBlueCloud/traffic-latency-simulator/blob/main/parallel_simulation_MG1.ipynb\" target=\"_parent\"><img src=\"https://colab.research.google.com/assets/colab-badge.svg\" alt=\"Open In Colab\"/></a>"
      ]
    },
    {
      "cell_type": "code",
      "execution_count": 72,
      "metadata": {
        "id": "m46U-uP8Gm3s",
        "vscode": {
          "languageId": "r"
        }
      },
      "outputs": [],
      "source": [
        "system('git clone https://github.com/NataliaBlueCloud/traffic-latency-simulator.git')\n"
      ]
    },
    {
      "cell_type": "code",
      "execution_count": null,
      "metadata": {
        "colab": {
          "base_uri": "https://localhost:8080/"
        },
        "id": "i9Yof6HRMzkz",
        "outputId": "ada3e699-c23a-4d0a-fadf-77e1eee52c2a",
        "vscode": {
          "languageId": "r"
        }
      },
      "outputs": [
        {
          "output_type": "stream",
          "name": "stderr",
          "text": [
            "Installing package into ‘/usr/local/lib/R/site-library’\n",
            "(as ‘lib’ is unspecified)\n",
            "\n",
            "Warning message in install.packages(\"igraph\"):\n",
            "“installation of package ‘igraph’ had non-zero exit status”\n",
            "Installing package into ‘/usr/local/lib/R/site-library’\n",
            "(as ‘lib’ is unspecified)\n",
            "\n"
          ]
        }
      ],
      "source": [
        "install.packages(\"igraph\")\n",
        "install.packages(\"simmer\")\n",
        "install.packages(\"SciViews\")\n",
        "install.packages(\"hrbrthemes\")\n",
        "install.packages(\"viridis\")\n",
        "install.packages(\"googledrive\")\n",
        "install.packages(\"readxl\")\n",
        "install.packages(\"openxlsx\")\n",
        "install.packages(\"doParallel\")\n",
        "install.packages(\"foreach\")\n"
      ]
    },
    {
      "cell_type": "code",
      "execution_count": null,
      "metadata": {
        "id": "iFi0-Vv4MkU4",
        "vscode": {
          "languageId": "r"
        }
      },
      "outputs": [],
      "source": [
        "library(ggplot2)\n",
        "library(igraph)\n",
        "library(stringr)\n",
        "library(tidyverse)\n",
        "library(readr)\n",
        "library(SciViews)\n",
        "library(dplyr)\n",
        "library(viridis)\n",
        "library(readxl)\n",
        "library(openxlsx)\n",
        "library(simmer)\n",
        "library(doParallel)\n",
        "library(foreach)"
      ]
    },
    {
      "cell_type": "code",
      "execution_count": null,
      "metadata": {
        "id": "9yiG_F8YNY0J",
        "vscode": {
          "languageId": "r"
        }
      },
      "outputs": [],
      "source": [
        "source(\"/content/traffic-latency-simulator/func/igraph_functions.R\")\n",
        "source(\"/content/traffic-latency-simulator/func/general_function_base.R\")\n",
        "source(\"/content/traffic-latency-simulator/func/simmer_function_base.R\")"
      ]
    },
    {
      "cell_type": "markdown",
      "metadata": {
        "id": "kuVxhIS7vQ0o"
      },
      "source": [
        "#Input data"
      ]
    },
    {
      "cell_type": "markdown",
      "metadata": {
        "id": "ckvEg6keFBoE"
      },
      "source": [
        "The **average packet size** is taken from: Amsterdam Internet Exchange Ethernet Frame Size Distribution, statistics available online at https://stats.ams-ix.net/sflow/size.html, accessed on July 2023\n",
        "\n",
        "Packet sizes in Bytes: 64-127, 128-511, 512 - 1023, 1024 - 1513, 1514, more than 1515.\n",
        "\n",
        "\n",
        "With their probabilities: 0.332, 0.054, 0.033, 0.037, 0.346, 0.146, 0.052"
      ]
    },
    {
      "cell_type": "code",
      "execution_count": null,
      "metadata": {
        "id": "wcrOmHJ6ZZPd",
        "vscode": {
          "languageId": "r"
        }
      },
      "outputs": [],
      "source": [
        "PS_size=c((64+127)/2,(128+255)/2,(256+511)/2, (512+1023)/2, (1024+1513)/2, 1514, (1515+9100)/2)\n",
        "PS_weights=c(33.2/100, 5.4/100, 3.3/100, 3.7/100, 34.6/100, 14.6/100, 5.2/100)\n",
        "N = sum(PS_size*PS_weights)\n",
        "N\n",
        "var_N <- sum(PS_size^2*PS_weights) - N^2\n",
        "Cs2 <- var_N/(N^2)\n",
        "\n",
        "CapacityGbps = 10\n",
        "#Calculation of delays for different capacities\n",
        "Load_local = 0.3\n",
        "Load_regional = 0.5\n",
        "Load_national = 0.4"
      ]
    },
    {
      "cell_type": "markdown",
      "metadata": {
        "id": "EuPLs1y6vgyN"
      },
      "source": [
        "Input excel file with topology information: links, nodes, traffic\n",
        "\n",
        "Prefix base - the common name for the nodes in the file."
      ]
    },
    {
      "cell_type": "code",
      "execution_count": null,
      "metadata": {
        "id": "__KjYBXGzgnX",
        "vscode": {
          "languageId": "r"
        }
      },
      "outputs": [],
      "source": [
        "topology_choice <- readline(prompt = \"Enter 'Tokyo', 'Milano', or 'MAN157' to choose the respective topology: \")\n",
        "\n",
        "# Define the file paths based on user input\n",
        "if (tolower(topology_choice) == \"tokyo\" | tolower(topology_choice) == \"Tokyo\") {\n",
        "  file_name_v2 <- \"/content/traffic-latency-simulator/input_files/Metro_topology_full_Tokyo.xlsx\"\n",
        "  prefix_base <- \"Tokyo_\"\n",
        "  topology_name = \"Tokyo\"\n",
        "  print(file_name_v2)\n",
        "} else if (tolower(topology_choice) == \"milano\" | tolower(topology_choice) == \"Milano\") {\n",
        "  file_name_v2 <- \"/content/traffic-latency-simulator/input_files/Metro_topology_full_Milano.xlsx\"\n",
        "  prefix_base <- \"Node\"\n",
        "  topology_name = \"Milano\"\n",
        "  print(file_name_v2)\n",
        "} else if (tolower(topology_choice) == \"man157\" | tolower(topology_choice) == \"MAN157\") {\n",
        "  file_name_v2 <- \"/content/traffic-latency-simulator/input_files/Metro_topology_MAN157.xlsx\"\n",
        "  prefix_base <- \"Node\"\n",
        "  topology_name = \"MAN157\"\n",
        "  print(file_name_v2)\n",
        "} else {\n",
        "  stop(\"Invalid input. Please enter either 'Tokyo', 'Milano', or 'MAN157'.\")\n",
        "}"
      ]
    },
    {
      "cell_type": "code",
      "execution_count": null,
      "metadata": {
        "id": "MwmNHKnAfszI",
        "vscode": {
          "languageId": "r"
        }
      },
      "outputs": [],
      "source": [
        "nodes_info <- read_excel(file_name_v2, sheet = 1)\n",
        "links_info <- read_excel(file_name_v2, sheet = 2)\n",
        "traffic_file <- read_excel(file_name_v2, sheet = 3)"
      ]
    },
    {
      "cell_type": "code",
      "execution_count": null,
      "metadata": {
        "id": "aVvcRBOi6szb",
        "vscode": {
          "languageId": "r"
        }
      },
      "outputs": [],
      "source": [
        "print(links_info)\n",
        "print(nodes_info)\n",
        "print(traffic_file)"
      ]
    },
    {
      "cell_type": "markdown",
      "metadata": {
        "id": "FjuqTmIov7Jc"
      },
      "source": [
        "Definition of national and regional Cental Offices (COs)."
      ]
    },
    {
      "cell_type": "code",
      "execution_count": null,
      "metadata": {
        "id": "Ilk5V28yv6Qr",
        "vscode": {
          "languageId": "r"
        }
      },
      "outputs": [],
      "source": [
        "national_nodes <- c()\n",
        "regional_nodes <- c()\n",
        "\n",
        "for (i in seq_along(nodes_info$node_code)) {\n",
        "  if (nodes_info$node_code[i] == \"HL2\") {\n",
        "    national_nodes <- c(national_nodes, i)\n",
        "  }\n",
        "  if (nodes_info$node_code[i] == \"HL3\") {\n",
        "    regional_nodes <- c(regional_nodes, i)\n",
        "  }\n",
        "}\n",
        "\n",
        "cat(\"National nodes:\", national_nodes, \"\\n\")\n",
        "cat(\"Regional nodes:\", regional_nodes, \"\\n\")"
      ]
    },
    {
      "cell_type": "markdown",
      "metadata": {
        "id": "AGoIy4XH6e8y"
      },
      "source": [
        "#Functions"
      ]
    },
    {
      "cell_type": "markdown",
      "metadata": {
        "id": "Ouv6PIa_3brU"
      },
      "source": [
        "### Vysochanskij–Petunin's bound calculation function\n",
        "Inputs:\n",
        "- **delay_hops**: Vector of delay at each hop\n",
        "- **a**: Upper bound percentile from 0 to 1\n",
        "\n",
        "Output:\n",
        "- Vysochanskij–Petunin's upper bound\n"
      ]
    },
    {
      "cell_type": "code",
      "execution_count": null,
      "metadata": {
        "id": "3m0IbQs83UN6",
        "vscode": {
          "languageId": "r"
        }
      },
      "outputs": [],
      "source": [
        "func_bounds_VP <- function(delay_hops, a)\n",
        "{\n",
        "  mu = sum(delay_hops)\n",
        "  sigma = sqrt(sum(delay_hops^2))\n",
        "  k <- sqrt(4/9/(1-a))\n",
        "  Prop_VP <- 1 - 4/9/(k^2)\n",
        "  upper_bound_VP <- k * sigma + mu\n",
        "  return(upper_bound_VP)\n",
        "}"
      ]
    },
    {
      "cell_type": "markdown",
      "metadata": {
        "id": "BVsjRyLiF-L8"
      },
      "source": [
        "##Simmer simulation"
      ]
    },
    {
      "cell_type": "markdown",
      "metadata": {
        "id": "4DQ8v_371dH3"
      },
      "source": [
        "\n",
        "### Function to perform simulation in a simmer environment with M/G/1 queueing model\n",
        "Inputs:\n",
        "- **env**: Simmer environment\n",
        "- **from**: Source node\n",
        "- **to**: Destination node\n",
        "- **graph**: Graph object representing the network topology\n",
        "- **traffic_val**: Traffic value (lambda) for the simulation\n",
        "- **log_info**: Information for logging purposes\n",
        "- **PS_size**: Packet size\n",
        "- **PS_weights**: Packet weights\n",
        "\n",
        "Output:\n",
        "- List containing updated environment, trajectory name, transmission delay, and propagation delay\n"
      ]
    },
    {
      "cell_type": "code",
      "execution_count": null,
      "metadata": {
        "id": "-udvJ2D81ctK",
        "vscode": {
          "languageId": "r"
        }
      },
      "outputs": [],
      "source": [
        "simmer_simulation_mg1 <- function(env, from, to, graph, traffic_val, log_info, PS_size, PS_weights)\n",
        "{\n",
        "  name = paste0('traffic_', from, \"_\", to, \"_\", log_info)\n",
        "  if (from != to && traffic_val != 0) {\n",
        "    c(traffic, delay_transm, delay_prop) := simmer_trajectory_simulation_mg1(env, from, to, trajectory_name = traffic , graph, log_info, PS_size = PS_size, PS_weights = PS_weights) #creating trajectory\n",
        "    assign(name, traffic)\n",
        "    print(name)\n",
        "    #print(get(name))\n",
        "    env<- simmer_generator(env, get(name), name, traffic_val)\n",
        "  }\n",
        "  return(list(env, name, delay_transm, delay_prop))\n",
        "}"
      ]
    },
    {
      "cell_type": "markdown",
      "metadata": {
        "id": "1J_NZPIk3lMC"
      },
      "source": [
        "### Function to create cross trajectories in the simmer environment based on the network load\n",
        "Inputs:\n",
        "- **env**: Simmer environment\n",
        "- **g**: Graph object representing the network topology\n",
        "- **from**: Source node\n",
        "- **to**: Destination node\n",
        "- **lambda_simmer**: Traffic value (lambda) for the simulation\n",
        "- **PS_size**: Packet size\n",
        "- **PS_weights**: Packet weights\n",
        "\n",
        "Output:\n",
        "- Updated simmer environment"
      ]
    },
    {
      "cell_type": "code",
      "execution_count": null,
      "metadata": {
        "id": "R3VSMoF3D5OO",
        "vscode": {
          "languageId": "r"
        }
      },
      "outputs": [],
      "source": [
        "simmer_crosstrajectory_simulation_mg1 <- function(env, g, from, to, lambda_simmer, PS_size, PS_weights)\n",
        "{\n",
        "  path <- shortest_paths(g, from, to, weights = NULL, output = \"both\", algorithm = c(\"automatic\"))\n",
        "  N = sum(PS_size*PS_weights)\n",
        "  path_size <- length(path[[\"vpath\"]][[1]])\n",
        "  nodes_capacity <- rep(0, length(V(g)))\n",
        "  nodes_capacity[path[[\"vpath\"]][[1]][-path_size]] <- E(g)$capacityGbps[path[[\"epath\"]][[1]]]\n",
        "  nodes_capacity_Bps <- nodes_capacity*1e9\n",
        "  nodes_capacity <- nodes_capacity_Bps/(8*N)\n",
        "\n",
        "  nodes_load <- rep(0, length(V(g)))\n",
        "  nodes_load[path[[\"vpath\"]][[1]][-path_size]] <- E(g)$Load[path[[\"epath\"]][[1]]]\n",
        "\n",
        "  for (i in path[[\"vpath\"]][[1]][-path_size])\n",
        "  {\n",
        "\n",
        "    load_compare <- lambda_simmer/(nodes_capacity[i])\n",
        "    if (nodes_load[i] > load_compare )\n",
        "    {\n",
        "      print(paste0(\"node_\", i))\n",
        "      print(nodes_capacity[i])\n",
        "      print(nodes_load[i])\n",
        "      trajectory_name <- trajectory() %>%\n",
        "        seize(paste0(\"node_\", i)) %>%\n",
        "        set_attribute(\"capacity\", nodes_capacity_Bps[i]) %>%\n",
        "        timeout(function() 8*sample(PS_size,size = 1, replace = T, prob = PS_weights)/(get_attribute(env, \"capacity\"))) %>%\n",
        "        release(paste0(\"node_\", i)) #%>%\n",
        "\n",
        "      name <- paste0(\"traffic_cross_\", from,\"_\", to, \"_node_\", i,\"_\")\n",
        "      assign(name, trajectory_name)\n",
        "      traffic_val <- nodes_load[i] * nodes_capacity[i] - lambda_simmer\n",
        "      print(traffic_val)\n",
        "      print(lambda_simmer)\n",
        "      print(nodes_load[i]*nodes_capacity[i])\n",
        "      env<- simmer_generator(env, get(name), name, traffic_val)\n",
        "    }\n",
        "  }\n",
        "  return(env)\n",
        "}\n",
        "\n"
      ]
    },
    {
      "cell_type": "markdown",
      "metadata": {
        "id": "zzNbQqp53nuY"
      },
      "source": [
        "### Main function to perform simulation using trajectories in a simmer environment\n",
        "Inputs:\n",
        "- **g**: Graph object representing the network topology\n",
        "- **traffic_file**: Data frame containing traffic information\n",
        "- **PS_size**: Packet size\n",
        "- **PS_weights**: Packet weights\n",
        "- **load**: Traffic load (default: $0.3$)\n",
        "- **CapacityGbps**: Link capacity in Gbps (default: $10~Gb/s$)\n",
        "\n",
        "Output:\n",
        "- List containing delay and traffic information"
      ]
    },
    {
      "cell_type": "code",
      "execution_count": null,
      "metadata": {
        "id": "QuPB0Nmrr7yM",
        "vscode": {
          "languageId": "r"
        }
      },
      "outputs": [],
      "source": [
        "\n",
        "simulation_simmer <- function(g, traffic_file, PS_size, PS_weights, load = 0.3,\n",
        "                              CapacityGbps = 10, ncores=1){\n",
        "  E(g)$Queue_Delay_sim <- 0\n",
        "  E(g)$Queue_Delay_theor_VP_upbound99 <- 0\n",
        "  E(g)$Queue_Delay_sim_99p <- 0\n",
        "\n",
        "  #####################################simmer\n",
        "  queue_delay_tr_flow <- numeric(nrow(traffic_file))\n",
        "  # queue_delay_tr_flow <- numeric(nrow(traffic_file))\n",
        "  prop_delay_tr_flow <- numeric(nrow(traffic_file))\n",
        "  delay_tr_flow <- numeric(nrow(traffic_file))\n",
        "  delay_tr_flow_p_99 <- numeric(nrow(traffic_file))\n",
        "  exp_delay_igraph <- numeric(nrow(traffic_file))\n",
        "  delay_tr_flow_VP_upbound_p_99_100 <- numeric(nrow(traffic_file))\n",
        "  digits = 10\n",
        "  print(\"start simulation in simmer\")\n",
        "  N = sum(PS_size*PS_weights)\n",
        "  cat(\"Load = \",load, \"\\n\")\n",
        "  traffic_file$traffic_ps <- CapacityGbps*1e9/(8*N)*load\n",
        "  traffic_file$trafficGbps <- CapacityGbps*load\n",
        "  assign(\"traffic_file\", traffic_file, .GlobalEnv)\n",
        "  cluster <- makeCluster(ncores)\n",
        "  print(cluster)\n",
        "  registerDoParallel(cluster)\n",
        "  results = numeric(nrow(traffic_file))\n",
        "  results <- foreach (line = 1:nrow(traffic_file)) %dopar%\n",
        "  #forend <- foreach (line = 1:4) %dopar%\n",
        "  {\n",
        "    print(line)\n",
        "    if(traffic_file$sourceID[line] != traffic_file$destinationID[line] && traffic_file$traffic_ps[line] != 0)\n",
        "    {\n",
        "      file_param = paste0(line,\"_params\")\n",
        "      file_result = paste0(line, \"_results\")\n",
        "      save(line, traffic_file, g, PS_size, PS_weights, file=file_param)\n",
        "      command <- paste0(\"Rscript /content/traffic-latency-simulator/parallelized_v2/traffic_flow_simulation.R \", file_param)\n",
        "      out_res<-system(command)\n",
        "      print(out_res)\n",
        "      load(file_result)\n",
        "      unlink(file_param)\n",
        "      unlink(file_result)\n",
        "      results[line]<-res\n",
        "    } else{\n",
        "      print(\"no info of traffic\")\n",
        "      results[line]<-(c(0,0,NaN,0,0,0))\n",
        "    }\n",
        "  }\n",
        "  stopCluster(cluster)\n",
        "  print(results)\n",
        "  i=0\n",
        "  for (res in results){\n",
        "    i=i+1\n",
        "    exp_delay_igraph[i]<- res[1]\n",
        "    queue_delay_tr_flow[i] <- res[2]\n",
        "    prop_delay_tr_flow[i] <- res[3]\n",
        "    delay_tr_flow[i] <- res[4]\n",
        "    delay_tr_flow_p_99[i] <- res[5]\n",
        "    delay_tr_flow_VP_upbound_p_99_100[i] <-res[6]\n",
        "  }\n",
        "\n",
        "  igraph_df_calc <- data_frame(exp_delay_igraph, delay_tr_flow, delay_tr_flow_p_99, delay_tr_flow_VP_upbound_p_99_100)\n",
        "\n",
        "  assign(\"igraph_df_calc\", igraph_df_calc, .GlobalEnv)\n",
        "\n",
        "  return(list(delay_tr_flow, exp_delay_igraph, delay_tr_flow_p_99, delay_tr_flow_VP_upbound_p_99_100, g))\n",
        "}"
      ]
    },
    {
      "cell_type": "markdown",
      "metadata": {
        "id": "0PVf76ur3rFa"
      },
      "source": [
        "### Function to calculate end-to-end delays theoretically\n",
        "Inputs:\n",
        "- **g**: Graph object representing the network topology\n",
        "- **traffic_file**: Data frame containing traffic information\n",
        "- **Cs2**: coefficient of variation of service time\n",
        "\n",
        "Output:\n",
        "- List containing updated graph and theoretical delay values"
      ]
    },
    {
      "cell_type": "code",
      "execution_count": null,
      "metadata": {
        "id": "Mms2n4H0FKFO",
        "vscode": {
          "languageId": "r"
        }
      },
      "outputs": [],
      "source": [
        "prop_queue_tr_delay_e2e <- function(g, traffic_file, Cs2){\n",
        "\n",
        "  E(g)$Queue_Delay <- ifelse(E(g)$Traffic == 0, 0, E(g)$Load/(1-E(g)$Load)/E(g)$Traffic*(Cs2 + 1)/2) #M/G/1\n",
        "  latencyPropTransQueuing_theor_s <- rep(0, nrow(traffic_file))\n",
        "  latencyPercentile99_theor_s <- rep(0, nrow(traffic_file))\n",
        "  for (line in 1:nrow(traffic_file))\n",
        "  {\n",
        "    if(traffic_file$traffic_ps[line] != 0){\n",
        "      vertex_sourse <- which(V(g)$name==traffic_file$sourceID[line])\n",
        "      vertex_destination<- which(V(g)$name==traffic_file$destinationID[line])\n",
        "      path <- shortest_paths(g, vertex_sourse, vertex_destination,\n",
        "                             weights = NULL,\n",
        "                             output = \"both\",\n",
        "                             algorithm = c(\"automatic\"))\n",
        "      latencyPropTransQueuing_theor_s[line] = sum(E(g)[path[[\"epath\"]][[1]]]$Queue_Delay) + sum(E(g)[path[[\"epath\"]][[1]]]$Prop_Delay)\n",
        "      latencyPercentile99_theor_s[line] <- func_bounds_VP(E(g)[path[[\"epath\"]][[1]]]$Queue_Delay, 0.99) + sum(E(g)[path[[\"epath\"]][[1]]]$Prop_Delay)\n",
        "    }\n",
        "    else {\n",
        "      latencyPropTransQueuing_theor_s[line] <- 0\n",
        "      latencyPercentile99_theor_s[line] <- 0\n",
        "    }\n",
        "  }\n",
        "  return(list(g, latencyPropTransQueuing_theor_s, latencyPercentile99_theor_s))\n",
        "}\n"
      ]
    },
    {
      "cell_type": "markdown",
      "metadata": {
        "id": "_Mgt90Ot7Hn0"
      },
      "source": [
        "##Igraph calculations\n"
      ]
    },
    {
      "cell_type": "markdown",
      "metadata": {
        "id": "vpkRRJ4036Q2"
      },
      "source": [
        "### Main function to perform simulation using theoretical delay calculations\n",
        "Inputs:\n",
        "- **nodes_info**: Information about nodes in the network\n",
        "- **links_info**: Information about links in the network\n",
        "- **traffic_file**: Data frame containing traffic information\n",
        "- **Capacity**: Link capacity in Gbps (default: $10~Gb/s$)\n",
        "- **calc_dist**: Flag to calculate distance (default: $FALSE$)\n",
        "- **distance**: Custom distance parameter (default: $5$)\n",
        "- **Load_local**: Local traffic load (default: $0.3$)\n",
        "- **Load_regional**: Regional traffic load (default: $0.5$)\n",
        "- **Load_national**: National traffic load (default: $0.4$)\n",
        "- **prefix_base**: Base prefix for nodes\n",
        "- **national_nodes**: List of national nodes\n",
        "- **regional_nodes**: List of regional nodes\n",
        "- **N**: Number of packets\n",
        "- **Cs2**: coefficient of variation of service time\n",
        "\n",
        "Output:\n",
        "- List containing updated graph and delay information"
      ]
    },
    {
      "cell_type": "code",
      "execution_count": null,
      "metadata": {
        "id": "qfxxbejlFQvC",
        "vscode": {
          "languageId": "r"
        }
      },
      "outputs": [],
      "source": [
        "simulation_igraph <- function(nodes_info, links_info, traffic_file, Capacity = 10, calc_dist =  FALSE, distance = 5, Load_local = 0.3, Load_regional = 0.5, Load_national = 0.4, prefix_base, national_nodes, regional_nodes, N, Cs2){\n",
        "\n",
        "  traffic_file$traffic_ps <- traffic_file$trafficGbps*10^9/(8*N)\n",
        "  g = graph_from_data_frame(links_info, directed = TRUE)\n",
        "  E(g)$capacityGbps <- Capacity\n",
        "  for (NCO in national_nodes){\n",
        "    a <- (filter(traffic_file, traffic_file$destinationID == V(g)$name[NCO]))\n",
        "    size <- length(a$destinationID)\n",
        "    E(g)$capacityGbps[incident(g, NCO, mode = c(\"in\"))] <- Capacity*size\n",
        "  }\n",
        "  E(g)$Capacity <- E(g)$capacityGbps*1e9/(8*N) #p/s\n",
        "  ############distance put original distance(calc_dist = 1) or custom distance (calc_dist = 1) with paramentr \"distance\" in km\n",
        "  if( calc_dist == TRUE ) {\n",
        "    E(g)$Distance = E(g)$distanceKm * distance\n",
        "  }\n",
        "  else {\n",
        "    E(g)$Distance <- E(g)$distanceKm\n",
        "  }\n",
        "  ####Load of the links\n",
        "  #for Local CO\n",
        "  E(g)$Load <- Load_local\n",
        "  #national COs\n",
        "  for (NCO in national_nodes){\n",
        "    E(g)$Load[incident(g, NCO, mode = c(\"in\"))] <- Load_national\n",
        "  }\n",
        "  #regional COs\n",
        "  for (RCO in regional_nodes){\n",
        "    E(g)$Load[incident(g, RCO, mode = c(\"in\"))] <- Load_regional\n",
        "  }\n",
        "\n",
        "  E(g)$Traffic <- E(g)$Capacity * E(g)$Load\n",
        "  E(g)$Ni = E(g)$Load/(1-E(g)$Load) # average number of packets in each system\n",
        "  E(g)$Prop_Delay <- 5*10^(-6)*E(g)$Distance\n",
        "  c(g, traffic_file$latencyPropTransQueuing_theor_s_mg1, traffic_file$latencyPercentile99_theor_s_mg1) := prop_queue_tr_delay_e2e(g, traffic_file, Cs2)\n",
        "\n",
        "  data_av <- traffic_file$latencyPropTransQueuing_theor_s_mg1\n",
        "  data_99 <- traffic_file$latencyPercentile99_theor_s_mg1\n",
        "\n",
        "\n",
        "  assign(\"traffic_file\", traffic_file, .GlobalEnv)\n",
        "\n",
        "  links_info$prop_delay_s <- 5*10^(-6)*links_info$distanceKm\n",
        "  assign(\"links_info_df\", links_info, .GlobalEnv)\n",
        "\n",
        "  #removing the local traffic\n",
        "  data_av <- data_av[data_av != 0]\n",
        "  data_99 <- data_99[data_99 != 0]\n",
        "  return(list(g, data_av, data_99))\n",
        "\n",
        "}\n"
      ]
    },
    {
      "cell_type": "markdown",
      "metadata": {
        "id": "IBnLQmNbRVKG"
      },
      "source": [
        "##Building the graph:\n"
      ]
    },
    {
      "cell_type": "code",
      "execution_count": null,
      "metadata": {
        "id": "_LrIUCnkO0mn",
        "vscode": {
          "languageId": "r"
        }
      },
      "outputs": [],
      "source": [
        "g <- graph.data.frame(links_info, directed = TRUE, vertices = nodes_info)"
      ]
    },
    {
      "cell_type": "markdown",
      "metadata": {
        "id": "yBMu61N3p8ku"
      },
      "source": [
        "##Calculations of the capacity in p/s\n",
        "\n"
      ]
    },
    {
      "cell_type": "code",
      "execution_count": null,
      "metadata": {
        "id": "YKJhGdD0vXLe",
        "vscode": {
          "languageId": "r"
        }
      },
      "outputs": [],
      "source": [
        "E(g)$Distance <- E(g)$distanceKm\n",
        "E(g)$Definition <- paste0(get.edgelist(g)[,1],\"->\",get.edgelist(g)[,2])\n",
        "E(g)$Capacity <- E(g)$capacityGbps*10^9/(8*N)\n"
      ]
    },
    {
      "cell_type": "markdown",
      "metadata": {
        "id": "MQBkY531sUCl"
      },
      "source": [
        "##Plot graph"
      ]
    },
    {
      "cell_type": "code",
      "execution_count": null,
      "metadata": {
        "id": "Q3F-XqcUvVji",
        "vscode": {
          "languageId": "r"
        }
      },
      "outputs": [],
      "source": [
        "#plot graph\n",
        "V(g)$color <- \"tomato\"\n",
        "V(g)$color[national_nodes] <- \"yellow\"\n",
        "\n",
        "deg <- degree(g, mode=\"all\")\n",
        "V(g)$size <- deg*1.5\n",
        "l <- layout_nicely(g)\n",
        "plot(g, edge.arrow.size=.3, vertex.label = V(g)$name, edge.curved=.5, layout=l)\n"
      ]
    },
    {
      "cell_type": "code",
      "execution_count": null,
      "metadata": {
        "id": "TI2jKSzQ58DR",
        "vscode": {
          "languageId": "r"
        }
      },
      "outputs": [],
      "source": [
        "# Plot graph\n",
        "g1 <- as.undirected(g)\n",
        "V(g1)$name <- c(1:length(V(g1)))\n",
        "\n",
        "# Calculate degree and scale node size\n",
        "deg <- degree(g1, mode = \"all\")\n",
        "V(g1)$size <- 10  # Adjust scaling factor for better visibility\n",
        "\n",
        "V(g1)$color <- \"gray\"  # Default color for all nodes\n",
        "V(g1)$color[national_nodes] <- \"darkblue\"  # Color for national nodes\n",
        "\n",
        "# Set label color based on node type\n",
        "V(g1)$label.color <- \"black\"  # Default label color\n",
        "V(g1)$label.color[national_nodes] <- \"white\"  # Label color for national nodes\n",
        "\n",
        "\n",
        "# Calculate degree and scale node size\n",
        "deg <- degree(g1, mode = \"all\")\n",
        "V(g1)$size <- 10  # Adjust scaling factor for better visibility\n",
        "\n",
        "# Use an undirected layout\n",
        "l <- layout_nicely(g1)\n",
        "\n",
        "# Plot the graph with enhanced appearance\n",
        "plot(g1,\n",
        "     edge.arrow.size = 0,        # Remove edge arrows\n",
        "     vertex.shape = \"square\",\n",
        "     vertex.label = V(g1)$name,          # Remove node labels\n",
        "     vertex.label.color = V(g1)$label.color,  # Set label color\n",
        "\n",
        "     edge.curved = 0.1,          # Slight curve for edges\n",
        "     layout = l,\n",
        "     vertex.size = V(g1)$size,    # Set vertex size based on degree\n",
        "     vertex.color = V(g1)$color,  # Set vertex color\n",
        "     vertex.frame.color = \"white\",  # Remove border around vertices\n",
        "     edge.color = \"black\"         # Set edge color to gray\n",
        ")\n",
        "# Add the legend\n",
        "legend(\"topright\",                    # Position of the legend\n",
        "       legend = c(\"ACO\", \"MCO\"),       # Labels\n",
        "       fill = c(\"gray\", \"darkblue\"),   # Colors corresponding to the labels\n",
        "       title = \"Node Types\",           # Title of the legend\n",
        "       bty = \"n\",                      # No box around the legend\n",
        "       cex = 1.2)                      # Font size of legend text"
      ]
    },
    {
      "cell_type": "markdown",
      "metadata": {
        "id": "qHloL9vvV719"
      },
      "source": [
        "#Igraph calculations"
      ]
    },
    {
      "cell_type": "markdown",
      "metadata": {
        "id": "9FY0yggeRq8o"
      },
      "source": [
        "## Total traffic calculatons\n"
      ]
    },
    {
      "cell_type": "markdown",
      "metadata": {
        "id": "2A_XJRmvv-sb"
      },
      "source": [
        "## Calculations of the load, average number of packets, queueing and propagation delays:"
      ]
    },
    {
      "cell_type": "markdown",
      "metadata": {
        "id": "T46jfsTDsrwN"
      },
      "source": [
        "Load for Local COs $0.3$;\n",
        "\n",
        "Regional COs $0.5$;\n",
        "\n",
        "Rational COs $0.4$"
      ]
    },
    {
      "cell_type": "code",
      "execution_count": null,
      "metadata": {
        "id": "uq8ANa32ioh9",
        "vscode": {
          "languageId": "r"
        }
      },
      "outputs": [],
      "source": [
        "c(g_c10, data_av, data_99) := simulation_igraph(nodes_info, links_info, traffic_file, Capacity = 10, calc_dist = 1, distance = 0.5, Load_local, Load_regional, Load_national, prefix_base, national_nodes, regional_nodes , N, Cs2)"
      ]
    },
    {
      "cell_type": "markdown",
      "metadata": {
        "id": "WV2phTnHiJR-"
      },
      "source": [
        "#Simmer simulation"
      ]
    },
    {
      "cell_type": "markdown",
      "metadata": {
        "id": "FxMgknc-hvYq"
      },
      "source": [
        "Including queuing, transmission, propagation delay"
      ]
    },
    {
      "cell_type": "markdown",
      "metadata": {
        "id": "bPowjNII2p2j"
      },
      "source": [
        "Output table with links information"
      ]
    },
    {
      "cell_type": "markdown",
      "metadata": {
        "id": "JnMFUAsY1pvi"
      },
      "source": [
        "Simulation of all traffic flows, comparision of experimental with theretical\n",
        "\n",
        "## Memory Usage and running time estimation\n"
      ]
    },
    {
      "cell_type": "markdown",
      "metadata": {
        "id": "-hJWPWChDgtl"
      },
      "source": [
        "For Google Collab"
      ]
    },
    {
      "cell_type": "code",
      "execution_count": null,
      "metadata": {
        "id": "4A1TccoKDIjf",
        "vscode": {
          "languageId": "r"
        }
      },
      "outputs": [],
      "source": [
        "mem_usage_calc <- function(){\n",
        "  output <- system('grep \"MemTotal\" /proc/meminfo', intern = TRUE)\n",
        "\n",
        "  # Extract the Total Physical Memory values (remove 'Mem Usage: ' and keep the numeric part)\n",
        "\n",
        "  mem_lines <- sub(\"MemTotal:       \", \"\", output)\n",
        "  memory_total <- sub(\" kB\", \"\", mem_lines)\n",
        "\n",
        "  memory_total <- as.numeric(memory_total)\n",
        "\n",
        "\n",
        "  output <- system('grep \"MemAvailable\" /proc/meminfo', intern = TRUE)\n",
        "  mem_lines <- sub(\"MemAvailable:   \", \"\", output)\n",
        "  memory_usage <- sub(\" kB\", \"\", mem_lines)\n",
        "  memory_usage <- as.numeric(memory_usage)\n",
        "\n",
        "  # Convert the total memory usage from KB to MB\n",
        "  total_mem_usage_mb <- memory_total - memory_usage\n",
        "\n",
        "  # Print the total memory usage in MB\n",
        "  cat(\"Total memory usage:\", total_mem_usage_mb/1024, \"MB\\n\")\n",
        "  return(total_mem_usage_mb)\n",
        "}"
      ]
    },
    {
      "cell_type": "code",
      "execution_count": null,
      "metadata": {
        "id": "evUYZEsz5lqb",
        "vscode": {
          "languageId": "r"
        }
      },
      "outputs": [],
      "source": [
        "detectCores()\n"
      ]
    },
    {
      "cell_type": "code",
      "execution_count": null,
      "metadata": {
        "id": "zyyrvhZmvDnA",
        "vscode": {
          "languageId": "r"
        }
      },
      "outputs": [],
      "source": [
        "gc(full=TRUE)"
      ]
    },
    {
      "cell_type": "code",
      "execution_count": null,
      "metadata": {
        "id": "dH-_kzoOMrJD",
        "vscode": {
          "languageId": "r"
        }
      },
      "outputs": [],
      "source": [
        "start_mem <- mem_usage_calc()\n",
        "start_time <- proc.time()\n",
        "c(traffic_file$Delay_sim_s, traffic_file$Delay_th_s, traffic_file$D99_sim_s, traffic_file$VPbound_99th_s, g_c10) :=\n",
        "  simulation_simmer(g_c10, traffic_file, PS_size, PS_weights, load = 0.3,\n",
        "  CapacityGbps = CapacityGbps, ncores=4)\n",
        "print(traffic_file)\n",
        "# c(traffic_file$Delay_sim_s, traffic_file$Delay_th_s, traffic_file$D99_sim_s, traffic_file$VPbound_99th_s, g_c10) := simulation_simmer(g_c10, traffic_file, PS_size, PS_weights, load = 0.3, CapacityGbps = CapacityGbps)\n",
        "traffic_file_v2 <- dplyr::filter(traffic_file, VPbound_99th_s != 0)\n",
        "print(traffic_file_v2)\n",
        "end_time <- proc.time()\n",
        "end_mem <- mem_usage_calc()\n",
        "gc(full=TRUE)"
      ]
    },
    {
      "cell_type": "code",
      "execution_count": null,
      "metadata": {
        "id": "YMIxyAP-43-I",
        "vscode": {
          "languageId": "r"
        }
      },
      "outputs": [],
      "source": [
        "traffic_file_v2"
      ]
    },
    {
      "cell_type": "code",
      "execution_count": null,
      "metadata": {
        "id": "1VV8cL855wOp",
        "vscode": {
          "languageId": "r"
        }
      },
      "outputs": [],
      "source": [
        "end_time <- proc.time()\n",
        "end_mem <- mem_usage_calc()#end_time <- proc.time()\n",
        "#end_mem <- mem_usage_calc()\n",
        "execution_time <- end_time - start_time\n",
        "memory_used <- end_mem - start_mem\n",
        "# Print with a custom message\n",
        "cat(\"Memory usage during code execution:\\n\")\n",
        "cat(\"  Used memory: \", memory_used, \"Mb \\n\")\n",
        "cat(sprintf(\"Execution time on DES:\\n Elapsed: %.3f seconds\\n\",\n",
        "            execution_time[\"elapsed\"]))"
      ]
    },
    {
      "cell_type": "code",
      "execution_count": null,
      "metadata": {
        "id": "OUAFSkBqr_1G",
        "vscode": {
          "languageId": "r"
        }
      },
      "outputs": [],
      "source": [
        "a = data.frame(sapply(ls(),function(x){object.size(get(x))}))\n",
        "names(a)[1] <- \"num\"\n",
        "print(sum(a[1]))\n",
        "#rm(traffic_file_v2)\n",
        "gc()\n",
        "a = data.frame(sapply(ls(),function(x){object.size(get(x))}))\n",
        "names(a)[1] <- \"num\"\n",
        "print(sum(a[1]))\n",
        "#install.packages(\"pryr\")\n",
        "#library(pryr)\n",
        "print(a)\n"
      ]
    },
    {
      "cell_type": "markdown",
      "metadata": {
        "id": "cog-kehi2QXz"
      },
      "source": [
        "#Results"
      ]
    },
    {
      "cell_type": "code",
      "execution_count": null,
      "metadata": {
        "id": "8HZSEd-f2nyR",
        "vscode": {
          "languageId": "r"
        }
      },
      "outputs": [],
      "source": [
        "links_info_df"
      ]
    },
    {
      "cell_type": "code",
      "execution_count": null,
      "metadata": {
        "id": "UEeLbs98Utbt",
        "vscode": {
          "languageId": "r"
        }
      },
      "outputs": [],
      "source": [
        "traffic_file_v2"
      ]
    },
    {
      "cell_type": "markdown",
      "metadata": {
        "id": "ECZknusAh-9j"
      },
      "source": [
        "#Calculation of delays for different capacities"
      ]
    },
    {
      "cell_type": "code",
      "execution_count": null,
      "metadata": {
        "id": "yuydsky-Zp8T",
        "vscode": {
          "languageId": "r"
        }
      },
      "outputs": [],
      "source": [
        "\n",
        "c(g_c10_dg_l05, data_av_c10_dg_l05, data_99_c10_dg_l05) :=simulation_igraph(nodes_info, links_info, traffic_file, Capacity = 10, calc_dist = 0, distance = 5, Load_local = Load_local, Load_regional = Load_regional, Load_national = Load_national, prefix_base, national_nodes, regional_nodes , N, Cs2)\n",
        "c(g_c40_dg_l05, data_av_c40_dg_l05, data_99_c40_dg_l05) :=simulation_igraph(nodes_info, links_info, traffic_file, Capacity = 40, calc_dist = 0,  distance = 5, Load_local = Load_local, Load_regional = Load_regional, Load_national = Load_national, prefix_base, national_nodes, regional_nodes , N, Cs2)\n",
        "c(g_c100_dg_l05, data_av_c100_dg_l05, data_99_c100_dg_l05) :=simulation_igraph(nodes_info, links_info, traffic_file, Capacity = 100, calc_dist = 0,  distance = 5, Load_local = Load_local, Load_regional = Load_regional, Load_national = Load_national, prefix_base, national_nodes, regional_nodes , N, Cs2)\n",
        "c(g_c400_dg_l05, data_av_c400_dg_l05, data_99_c400_dg_l05) :=simulation_igraph(nodes_info, links_info, traffic_file, Capacity = 400, calc_dist = 0,  distance = 5, Load_local = Load_local, Load_regional = Load_regional, Load_national = Load_national, prefix_base, national_nodes, regional_nodes , N, Cs2)"
      ]
    },
    {
      "cell_type": "code",
      "execution_count": null,
      "metadata": {
        "id": "yH7O51xxH9Qm",
        "vscode": {
          "languageId": "r"
        }
      },
      "outputs": [],
      "source": [
        "#Boxplots\n",
        "\n",
        "df_plot_capacity <- data.frame(capacity = c(rep(\"10G\", length(data_99_c10_dg_l05)),\n",
        "                                            rep(\"40G\", length(data_99_c40_dg_l05)),\n",
        "                                            rep(\"100G\", length(data_99_c100_dg_l05)),\n",
        "                                            rep(\"400G\", length(data_99_c400_dg_l05)),\n",
        "                                            rep(\"10G\", length(data_av_c10_dg_l05)),\n",
        "                                            rep(\"40G\", length(data_av_c40_dg_l05)),\n",
        "                                            rep(\"100G\", length(data_av_c100_dg_l05)),\n",
        "                                            rep(\"400G\", length(data_av_c400_dg_l05))),\n",
        "                               value = c(data_99_c10_dg_l05,\n",
        "                                         data_99_c40_dg_l05,\n",
        "                                         data_99_c100_dg_l05,\n",
        "                                         data_99_c400_dg_l05,\n",
        "                                         data_av_c10_dg_l05,\n",
        "                                         data_av_c40_dg_l05,\n",
        "                                         data_av_c100_dg_l05,\n",
        "                                         data_av_c400_dg_l05),\n",
        "                               type_of_calc = c(rep(\"Vysochanskij–Petunin 99th\",length(data_99_c10_dg_l05)*4),\n",
        "                                                rep(\"average delay\",length(data_99_c10_dg_l05)*4)),\n",
        "                               city = c(rep(topology_name,length(data_99_c10_dg_l05)*8)))\n",
        "\n",
        "# Calculate the mean N values for each capacity group\n",
        "N_means <- c(mean(data_99_c10_dg_l05)/mean(data_av_c10_dg_l05),\n",
        "             mean(data_99_c40_dg_l05)/mean(data_av_c40_dg_l05),\n",
        "             mean(data_99_c100_dg_l05)/mean(data_av_c100_dg_l05),\n",
        "             mean(data_99_c400_dg_l05)/mean(data_av_c400_dg_l05))\n",
        "N_means_y <- c(max(data_99_c10_dg_l05),\n",
        "               max(data_99_c40_dg_l05),\n",
        "               max(data_99_c100_dg_l05),\n",
        "               max(data_99_c400_dg_l05))\n",
        "\n",
        "text_size = 12\n",
        "# Grouped boxplot\n",
        "ggplot(df_plot_capacity, aes(x = fct_reorder(capacity, value, .desc = TRUE), y = value * 1000000, fill = type_of_calc)) +\n",
        "  geom_boxplot() +\n",
        "  theme_bw() +\n",
        "  theme(\n",
        "    legend.title = element_blank(),\n",
        "    legend.position = c(0.75, 0.8),\n",
        "    axis.title.y = element_text(size = text_size),\n",
        "    axis.title.x = element_text(size = text_size),\n",
        "    legend.text = element_text(size = text_size),\n",
        "    legend.background = element_rect(colour = \"black\"),\n",
        "    axis.text = element_text(size = text_size),\n",
        "    strip.text = element_text(size = text_size)\n",
        "  ) +\n",
        "  facet_grid(. ~ city ) +\n",
        "  ylab(\"Delay, us\") +\n",
        "  xlab(\"Capacity, Gbps\") +\n",
        "  annotate(\"text\", x = c(1,2,3,4), y = N_means_y*1e6 - 1,\n",
        "           label = paste0(round(N_means, 2), \"x\"), vjust = -0.5, size = text_size/2.5)"
      ]
    },
    {
      "cell_type": "markdown",
      "metadata": {
        "id": "P3H0XTJhiCWt"
      },
      "source": [
        "#Calculation of delays for different distances"
      ]
    },
    {
      "cell_type": "code",
      "execution_count": null,
      "metadata": {
        "id": "3fIGy92mVpDk",
        "vscode": {
          "languageId": "r"
        }
      },
      "outputs": [],
      "source": [
        "#Calculation of delays for different distances\n",
        "c(g_c100_d05g_l05, data_av_c100_d05g_l05, data_99_c100_d05g_l05) :=simulation_igraph(nodes_info, links_info, traffic_file, Capacity = 100, calc_dist = 1, distance = 0.5, Load_local = Load_local, Load_regional = Load_regional, Load_national = Load_national, prefix_base, national_nodes, regional_nodes , N, Cs2)\n",
        "c(g_c100_d2g_l05, data_av_c100_d2g_l05, data_99_c100_d2g_l05) :=simulation_igraph(nodes_info, links_info, traffic_file, Capacity = 100, calc_dist = 1, distance = 2, Load_local = Load_local, Load_regional = Load_regional, Load_national = Load_national, prefix_base, national_nodes, regional_nodes , N, Cs2)\n",
        "c(g_c100_d4g_l05, data_av_c100_d4g_l05, data_99_c100_d4g_l05) :=simulation_igraph(nodes_info, links_info, traffic_file, Capacity = 100, calc_dist = 1, distance = 4, Load_local = Load_local, Load_regional = Load_regional, Load_national = Load_national, prefix_base, national_nodes, regional_nodes , N, Cs2)\n",
        "c(g_c100_d10g_l05, data_av_c100_d10g_l05, data_99_c100_d10g_l05) :=simulation_igraph(nodes_info, links_info, traffic_file, Capacity = 100, calc_dist = 1, distance = 10, Load_local = Load_local, Load_regional = Load_regional, Load_national = Load_national, prefix_base, national_nodes, regional_nodes , N, Cs2)"
      ]
    },
    {
      "cell_type": "code",
      "execution_count": null,
      "metadata": {
        "id": "D6ddOG_-IGLr",
        "vscode": {
          "languageId": "r"
        }
      },
      "outputs": [],
      "source": [
        "diam_km <-  round(diameter(g_c100_d05g_l05, directed = TRUE, unconnected = TRUE, weights = E(g_c100_d05g_l05)$Distance), digits = 2)\n",
        "av_link_km <- round(mean(E(g_c100_d05g_l05)$Distance), digits = 2)\n",
        "name_05 <- paste0(\"0.5x\\n\", \"Diam = \", diam_km, \"km\\n av_link_dist\", \" = \", av_link_km, \"km\")\n",
        "name_1 <- paste(\"1x\\n\", \"Diam = \", round(diameter(g_c100_dg_l05, directed = TRUE, unconnected = TRUE, weights = E(g_c100_dg_l05)$Distance), digits = 2), \"km\\nav_link_dist = \", round(mean(E(g_c100_dg_l05)$Distance), digits = 2), \"km\")\n",
        "name_2 <- paste(\"2x\\n\", \"Diam = \", round(diameter(g_c100_d2g_l05, directed = TRUE, unconnected = TRUE, weights = E(g_c100_d2g_l05)$Distance), digits = 2), \"km\\nav_link_dist = \", round(mean(E(g_c100_d2g_l05)$Distance), digits = 2), \"km\")\n",
        "name_4 <- paste(\"4x\\n\", \"Diam = \", round(diameter(g_c100_d4g_l05, directed = TRUE, unconnected = TRUE, weights = E(g_c100_d4g_l05)$Distance), digits = 2), \"km\\nav_link_dist = \", round(mean(E(g_c100_d4g_l05)$Distance), digits = 2), \"km\")\n",
        "name_10 <- paste(\"10x\\n\", \"Diam = \", round(diameter(g_c100_d10g_l05, directed = TRUE, unconnected = TRUE, weights = E(g_c100_d10g_l05)$Distance), digits = 2), \"km\\nav_link_dist = \", round(mean(E(g_c100_d10g_l05)$Distance), digits = 2), \"km\")\n",
        "\n",
        "####distanceVSdelay\n",
        "distance = c(\n",
        "             rep(name_1, length(data_99_c100_dg_l05)),\n",
        "             rep(name_2, length(data_99_c100_d2g_l05)),\n",
        "             rep(name_4, length(data_99_c100_d4g_l05)),\n",
        "             rep(name_10, length(data_99_c100_d10g_l05)),\n",
        "             rep(name_1, length(data_av_c100_dg_l05)),\n",
        "             rep(name_2, length(data_av_c100_d2g_l05)),\n",
        "             rep(name_4, length(data_av_c100_d4g_l05)),\n",
        "             rep(name_10, length(data_av_c100_d10g_l05))\n",
        "  )\n",
        "\n",
        "type_of_calc = c(rep(\"Vysochanskij–Petunin 99th\",length(distance)/2),\n",
        "                 rep(\"average delay\",length(distance)/2))\n",
        "\n",
        "paste(\"0.5x\", \"diam\", diam_km, \"km av link dist\", av_link_km, \"km\")\n",
        "value = c(\n",
        "  data_99_c100_dg_l05,\n",
        "  data_99_c100_d2g_l05,\n",
        "  data_99_c100_d4g_l05,\n",
        "  data_99_c100_d10g_l05,\n",
        "  data_av_c100_dg_l05,\n",
        "  data_av_c100_d2g_l05,\n",
        "  data_av_c100_d4g_l05,\n",
        "  data_av_c100_d10g_l05\n",
        "  )\n",
        "\n",
        "df_plot_dist <- data.frame(distance, value, type_of_calc, city = c(rep(topology_name,length(type_of_calc))))\n",
        "\n",
        "N_means_delay <- c(\n",
        "  mean(data_99_c100_dg_l05) / mean(data_av_c100_dg_l05),\n",
        "  mean(data_99_c100_d2g_l05) / mean(data_av_c100_d2g_l05),\n",
        "  mean(data_99_c100_d4g_l05) / mean(data_av_c100_d4g_l05),\n",
        "  mean(data_99_c100_d10g_l05) / mean(data_av_c100_d10g_l05)\n",
        ")\n",
        "\n",
        "N_means_delay_y <- c(\n",
        "  max(data_99_c100_dg_l05) ,\n",
        "  max(data_99_c100_d2g_l05),\n",
        "  max(data_99_c100_d4g_l05),\n",
        "  max(data_99_c100_d10g_l05)\n",
        ")\n",
        "\n",
        "df_plot_dist$distance <- factor(df_plot_dist$distance, levels = c(name_1, name_2, name_4, name_10))\n",
        "\n",
        "text_size = 12\n",
        "# grouped df_plot_dist\n",
        "ggplot(df_plot_dist, aes(x=distance, y=value*1000000, fill=type_of_calc)) +\n",
        "  geom_boxplot()+\n",
        "  theme_gray() +\n",
        "  theme(\n",
        "     legend.title = element_blank(), legend.position = c(0.25, 0.85),\n",
        "     axis.title.y = element_text(size = text_size),\n",
        "     axis.title.x = element_text(size = text_size),\n",
        "     legend.text = element_text(size = text_size),\n",
        "     strip.text = element_text(size = text_size)\n",
        "   ) +\n",
        "  facet_grid(.~city)+\n",
        "  ylab(\"Delay, us\") +\n",
        "  xlab(\"Link distance\") +\n",
        "  annotate(\"text\", x = c(1,2,3,4), y = N_means_delay_y*1e6-3,\n",
        "           label = paste0(round(N_means_delay, 2), \"x\"), vjust = -0.5, size = text_size/2)\n",
        "\n"
      ]
    },
    {
      "cell_type": "markdown",
      "metadata": {
        "id": "BKP32pZn6JrU"
      },
      "source": [
        "#Creating the report file"
      ]
    },
    {
      "cell_type": "code",
      "execution_count": null,
      "metadata": {
        "id": "4xXCHBE84PvV",
        "vscode": {
          "languageId": "r"
        }
      },
      "outputs": [],
      "source": [
        "update_file <- function(links_info_df, traffic_file, file_name = \"Milano_topology_result.xlsx\", file_old_name)\n",
        "{\n",
        "    wb <- createWorkbook()\n",
        "    addWorksheet(wb, sheetName = \"Nodes\")\n",
        "    writeData(wb, sheet = 1, read_excel(file_old_name, sheet = 1))\n",
        "    addWorksheet(wb, sheetName = \"Links\")\n",
        "    writeData(wb, sheet = 2, links_info_df)\n",
        "    addWorksheet(wb, sheetName = \"Services\")\n",
        "    writeData(wb, sheet = 3, traffic_file)\n",
        "    saveWorkbook(wb, file_name, overwrite = TRUE)\n",
        "}\n",
        "\n",
        "\n"
      ]
    },
    {
      "cell_type": "code",
      "execution_count": null,
      "metadata": {
        "id": "M8NgLE-LoASX",
        "vscode": {
          "languageId": "r"
        }
      },
      "outputs": [],
      "source": [
        "update_file(links_info_df, traffic_file_v2, file_name = paste0(topology_name, \"_topology_result.xlsx\"), file_old_name = file_name_v2)\n"
      ]
    }
  ],
  "metadata": {
    "colab": {
      "machine_shape": "hm",
      "provenance": [],
      "include_colab_link": true
    },
    "kernelspec": {
      "display_name": "R",
      "name": "ir"
    },
    "language_info": {
      "name": "R"
    }
  },
  "nbformat": 4,
  "nbformat_minor": 0
}