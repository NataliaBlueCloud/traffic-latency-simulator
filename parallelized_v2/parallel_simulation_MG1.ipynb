{
 "cells": [
  {
   "cell_type": "markdown",
   "metadata": {
    "id": "view-in-github"
   },
   "source": [
    "<a href=\"https://colab.research.google.com/github/NataliaBlueCloud/traffic-latency-simulator/blob/main/simulation_MG1.ipynb\" target=\"_parent\"><img src=\"https://colab.research.google.com/assets/colab-badge.svg\" alt=\"Open In Colab\"/></a>"
   ]
  },
  {
   "cell_type": "code",
   "execution_count": 1,
   "metadata": {
    "id": "m46U-uP8Gm3s",
    "vscode": {
     "languageId": "r"
    }
   },
   "outputs": [],
   "source": [
    "system('git clone https://github.com/NataliaBlueCloud/traffic-latency-simulator.git')\n"
   ]
  },
  {
   "cell_type": "code",
   "execution_count": 2,
   "metadata": {
    "colab": {
     "base_uri": "https://localhost:8080/"
    },
    "id": "i9Yof6HRMzkz",
    "outputId": "70b264dc-a7c2-44a2-a1e4-1f0e274d8b27",
    "vscode": {
     "languageId": "r"
    }
   },
   "outputs": [
    {
     "name": "stderr",
     "output_type": "stream",
     "text": [
      "Installing package into ‘/usr/local/lib/R/site-library’\n",
      "(as ‘lib’ is unspecified)\n",
      "\n",
      "Installing package into ‘/usr/local/lib/R/site-library’\n",
      "(as ‘lib’ is unspecified)\n",
      "\n",
      "Installing package into ‘/usr/local/lib/R/site-library’\n",
      "(as ‘lib’ is unspecified)\n",
      "\n",
      "also installing the dependency ‘ellipse’\n",
      "\n",
      "\n",
      "Installing package into ‘/usr/local/lib/R/site-library’\n",
      "(as ‘lib’ is unspecified)\n",
      "\n",
      "also installing the dependencies ‘fontBitstreamVera’, ‘fontLiberation’, ‘extrafontdb’, ‘Rttf2pt1’, ‘fontquiver’, ‘extrafont’, ‘gdtools’\n",
      "\n",
      "\n",
      "Warning message in install.packages(\"hrbrthemes\"):\n",
      "“installation of package ‘gdtools’ had non-zero exit status”\n",
      "Warning message in install.packages(\"hrbrthemes\"):\n",
      "“installation of package ‘hrbrthemes’ had non-zero exit status”\n",
      "Installing package into ‘/usr/local/lib/R/site-library’\n",
      "(as ‘lib’ is unspecified)\n",
      "\n",
      "also installing the dependency ‘gridExtra’\n",
      "\n",
      "\n",
      "Installing package into ‘/usr/local/lib/R/site-library’\n",
      "(as ‘lib’ is unspecified)\n",
      "\n",
      "Installing package into ‘/usr/local/lib/R/site-library’\n",
      "(as ‘lib’ is unspecified)\n",
      "\n",
      "Installing package into ‘/usr/local/lib/R/site-library’\n",
      "(as ‘lib’ is unspecified)\n",
      "\n",
      "Installing package into ‘/usr/local/lib/R/site-library’\n",
      "(as ‘lib’ is unspecified)\n",
      "\n",
      "also installing the dependencies ‘foreach’, ‘iterators’\n",
      "\n",
      "\n",
      "Installing package into ‘/usr/local/lib/R/site-library’\n",
      "(as ‘lib’ is unspecified)\n",
      "\n"
     ]
    }
   ],
   "source": [
    "install.packages(\"igraph\")\n",
    "install.packages(\"simmer\")\n",
    "install.packages(\"SciViews\")\n",
    "install.packages(\"hrbrthemes\")\n",
    "install.packages(\"viridis\")\n",
    "install.packages(\"googledrive\")\n",
    "install.packages(\"readxl\")\n",
    "install.packages(\"openxlsx\")\n",
    "install.packages(\"doParallel\")\n",
    "install.packages(\"foreach\")\n"
   ]
  },
  {
   "cell_type": "code",
   "execution_count": 3,
   "metadata": {
    "colab": {
     "base_uri": "https://localhost:8080/"
    },
    "id": "iFi0-Vv4MkU4",
    "outputId": "14067362-1884-4a71-95bb-a12f14d7cbc2",
    "vscode": {
     "languageId": "r"
    }
   },
   "outputs": [
    {
     "name": "stderr",
     "output_type": "stream",
     "text": [
      "\n",
      "Attaching package: ‘igraph’\n",
      "\n",
      "\n",
      "The following objects are masked from ‘package:stats’:\n",
      "\n",
      "    decompose, spectrum\n",
      "\n",
      "\n",
      "The following object is masked from ‘package:base’:\n",
      "\n",
      "    union\n",
      "\n",
      "\n",
      "── \u001b[1mAttaching core tidyverse packages\u001b[22m ──────────────────────── tidyverse 2.0.0 ──\n",
      "\u001b[32m✔\u001b[39m \u001b[34mdplyr    \u001b[39m 1.1.4     \u001b[32m✔\u001b[39m \u001b[34mreadr    \u001b[39m 2.1.5\n",
      "\u001b[32m✔\u001b[39m \u001b[34mforcats  \u001b[39m 1.0.0     \u001b[32m✔\u001b[39m \u001b[34mtibble   \u001b[39m 3.2.1\n",
      "\u001b[32m✔\u001b[39m \u001b[34mlubridate\u001b[39m 1.9.3     \u001b[32m✔\u001b[39m \u001b[34mtidyr    \u001b[39m 1.3.1\n",
      "\u001b[32m✔\u001b[39m \u001b[34mpurrr    \u001b[39m 1.0.2     \n",
      "── \u001b[1mConflicts\u001b[22m ────────────────────────────────────────── tidyverse_conflicts() ──\n",
      "\u001b[31m✖\u001b[39m \u001b[34mlubridate\u001b[39m::\u001b[32m%--%()\u001b[39m      masks \u001b[34migraph\u001b[39m::%--%()\n",
      "\u001b[31m✖\u001b[39m \u001b[34mdplyr\u001b[39m::\u001b[32mas_data_frame()\u001b[39m masks \u001b[34mtibble\u001b[39m::as_data_frame(), \u001b[34migraph\u001b[39m::as_data_frame()\n",
      "\u001b[31m✖\u001b[39m \u001b[34mpurrr\u001b[39m::\u001b[32mcompose()\u001b[39m       masks \u001b[34migraph\u001b[39m::compose()\n",
      "\u001b[31m✖\u001b[39m \u001b[34mtidyr\u001b[39m::\u001b[32mcrossing()\u001b[39m      masks \u001b[34migraph\u001b[39m::crossing()\n",
      "\u001b[31m✖\u001b[39m \u001b[34mdplyr\u001b[39m::\u001b[32mfilter()\u001b[39m        masks \u001b[34mstats\u001b[39m::filter()\n",
      "\u001b[31m✖\u001b[39m \u001b[34mdplyr\u001b[39m::\u001b[32mlag()\u001b[39m           masks \u001b[34mstats\u001b[39m::lag()\n",
      "\u001b[31m✖\u001b[39m \u001b[34mpurrr\u001b[39m::\u001b[32msimplify()\u001b[39m      masks \u001b[34migraph\u001b[39m::simplify()\n",
      "\u001b[36mℹ\u001b[39m Use the conflicted package (\u001b[3m\u001b[34m<http://conflicted.r-lib.org/>\u001b[39m\u001b[23m) to force all conflicts to become errors\n",
      "Loading required package: viridisLite\n",
      "\n",
      "\n",
      "Attaching package: ‘simmer’\n",
      "\n",
      "\n",
      "The following objects are masked from ‘package:lubridate’:\n",
      "\n",
      "    now, rollback\n",
      "\n",
      "\n",
      "The following object is masked from ‘package:dplyr’:\n",
      "\n",
      "    select\n",
      "\n",
      "\n",
      "The following object is masked from ‘package:tidyr’:\n",
      "\n",
      "    separate\n",
      "\n",
      "\n",
      "Loading required package: foreach\n",
      "\n",
      "\n",
      "Attaching package: ‘foreach’\n",
      "\n",
      "\n",
      "The following objects are masked from ‘package:purrr’:\n",
      "\n",
      "    accumulate, when\n",
      "\n",
      "\n",
      "Loading required package: iterators\n",
      "\n",
      "Loading required package: parallel\n",
      "\n"
     ]
    }
   ],
   "source": [
    "library(ggplot2)\n",
    "library(igraph)\n",
    "library(stringr)\n",
    "library(tidyverse)\n",
    "library(readr)\n",
    "library(SciViews)\n",
    "library(dplyr)\n",
    "library(viridis)\n",
    "library(readxl)\n",
    "library(openxlsx)\n",
    "library(simmer)\n",
    "library(doParallel)\n",
    "library(foreach)"
   ]
  },
  {
   "cell_type": "code",
   "execution_count": 4,
   "metadata": {
    "id": "9yiG_F8YNY0J",
    "vscode": {
     "languageId": "r"
    }
   },
   "outputs": [],
   "source": [
    "source(\"/content/traffic-latency-simulator/func/igraph_functions.R\")\n",
    "source(\"/content/traffic-latency-simulator/func/general_function_base.R\")\n",
    "source(\"/content/traffic-latency-simulator/func/simmer_function_base.R\")"
   ]
  },
  {
   "cell_type": "markdown",
   "metadata": {
    "id": "kuVxhIS7vQ0o"
   },
   "source": [
    "#Input data"
   ]
  },
  {
   "cell_type": "markdown",
   "metadata": {
    "id": "ckvEg6keFBoE"
   },
   "source": [
    "The **average packet size** is taken from: Amsterdam Internet Exchange Ethernet Frame Size Distribution, statistics available online at https://stats.ams-ix.net/sflow/size.html, accessed on July 2023\n",
    "\n",
    "Packet sizes in Bytes: 64-127, 128-511, 512 - 1023, 1024 - 1513, 1514, more than 1515.\n",
    "\n",
    "\n",
    "With their probabilities: 0.332, 0.054, 0.033, 0.037, 0.346, 0.146, 0.052"
   ]
  },
  {
   "cell_type": "code",
   "execution_count": 5,
   "metadata": {
    "colab": {
     "base_uri": "https://localhost:8080/",
     "height": 34
    },
    "id": "wcrOmHJ6ZZPd",
    "outputId": "adcb8e4a-dd76-44e0-aa0d-d51e9642cc5b",
    "vscode": {
     "languageId": "r"
    }
   },
   "outputs": [
    {
     "data": {
      "text/html": [
       "1019.035"
      ],
      "text/latex": [
       "1019.035"
      ],
      "text/markdown": [
       "1019.035"
      ],
      "text/plain": [
       "[1] 1019.035"
      ]
     },
     "metadata": {},
     "output_type": "display_data"
    }
   ],
   "source": [
    "PS_size=c((64+127)/2,(128+255)/2,(256+511)/2, (512+1023)/2, (1024+1513)/2, 1514, (1515+9100)/2)\n",
    "PS_weights=c(33.2/100, 5.4/100, 3.3/100, 3.7/100, 34.6/100, 14.6/100, 5.2/100)\n",
    "N = sum(PS_size*PS_weights)\n",
    "N\n",
    "var_N <- sum(PS_size^2*PS_weights) - N^2\n",
    "Cs2 <- var_N/(N^2)\n",
    "\n",
    "CapacityGbps = 10\n",
    "#Calculation of delays for different capacities\n",
    "Load_local = 0.3\n",
    "Load_regional = 0.5\n",
    "Load_national = 0.4"
   ]
  },
  {
   "cell_type": "markdown",
   "metadata": {
    "id": "EuPLs1y6vgyN"
   },
   "source": [
    "Input excel file with topology information: links, nodes, traffic\n",
    "\n",
    "Prefix base - the common name for the nodes in the file."
   ]
  },
  {
   "cell_type": "code",
   "execution_count": 6,
   "metadata": {
    "colab": {
     "base_uri": "https://localhost:8080/"
    },
    "id": "__KjYBXGzgnX",
    "outputId": "31e79697-e39e-45aa-ac19-4b6ee841eb98",
    "vscode": {
     "languageId": "r"
    }
   },
   "outputs": [
    {
     "name": "stdout",
     "output_type": "stream",
     "text": [
      "Enter 'Tokyo', 'Milano', or 'MAN157' to choose the respective topology: Milano\n",
      "[1] \"/content/traffic-latency-simulator/input_files/Metro_topology_full_Milano.xlsx\"\n"
     ]
    }
   ],
   "source": [
    "topology_choice <- readline(prompt = \"Enter 'Tokyo', 'Milano', or 'MAN157' to choose the respective topology: \")\n",
    "\n",
    "# Define the file paths based on user input\n",
    "if (tolower(topology_choice) == \"tokyo\" | tolower(topology_choice) == \"Tokyo\") {\n",
    "  file_name_v2 <- \"/content/traffic-latency-simulator/input_files/Metro_topology_full_Tokyo.xlsx\"\n",
    "  prefix_base <- \"Tokyo_\"\n",
    "  topology_name = \"Tokyo\"\n",
    "  print(file_name_v2)\n",
    "} else if (tolower(topology_choice) == \"milano\" | tolower(topology_choice) == \"Milano\") {\n",
    "  file_name_v2 <- \"/content/traffic-latency-simulator/input_files/Metro_topology_full_Milano.xlsx\"\n",
    "  prefix_base <- \"Node\"\n",
    "  topology_name = \"Milano\"\n",
    "  print(file_name_v2)\n",
    "} else if (tolower(topology_choice) == \"man157\" | tolower(topology_choice) == \"MAN157\") {\n",
    "  file_name_v2 <- \"/content/traffic-latency-simulator/input_files/Metro_topology_MAN157.xlsx\"\n",
    "  prefix_base <- \"Node\"\n",
    "  topology_name = \"MAN157\"\n",
    "  print(file_name_v2)\n",
    "} else {\n",
    "  stop(\"Invalid input. Please enter either 'Tokyo', 'Milano', or 'MAN157'.\")\n",
    "}"
   ]
  },
  {
   "cell_type": "code",
   "execution_count": 7,
   "metadata": {
    "id": "MwmNHKnAfszI",
    "vscode": {
     "languageId": "r"
    }
   },
   "outputs": [],
   "source": [
    "nodes_info <- read_excel(file_name_v2, sheet = 1)\n",
    "links_info <- read_excel(file_name_v2, sheet = 2)\n",
    "traffic_file <- read_excel(file_name_v2, sheet = 3)"
   ]
  },
  {
   "cell_type": "code",
   "execution_count": 8,
   "metadata": {
    "colab": {
     "base_uri": "https://localhost:8080/"
    },
    "id": "aVvcRBOi6szb",
    "outputId": "372a6095-8981-4a24-813e-ab95c635ec13",
    "vscode": {
     "languageId": "r"
    }
   },
   "outputs": [
    {
     "name": "stdout",
     "output_type": "stream",
     "text": [
      "\u001b[90m# A tibble: 202 × 4\u001b[39m\n",
      "   sourceID destinationID distanceKm capacityGbps\n",
      "   \u001b[3m\u001b[90m<chr>\u001b[39m\u001b[23m    \u001b[3m\u001b[90m<chr>\u001b[39m\u001b[23m              \u001b[3m\u001b[90m<dbl>\u001b[39m\u001b[23m        \u001b[3m\u001b[90m<dbl>\u001b[39m\u001b[23m\n",
      "\u001b[90m 1\u001b[39m Node1    Node2                1             0 \n",
      "\u001b[90m 2\u001b[39m Node1    Node3                1             0 \n",
      "\u001b[90m 3\u001b[39m Node1    Node4                1             0 \n",
      "\u001b[90m 4\u001b[39m Node1    Node8                1          \u001b[4m3\u001b[24m824.\n",
      "\u001b[90m 5\u001b[39m Node2    Node1                1             0 \n",
      "\u001b[90m 6\u001b[39m Node2    Node5                1          \u001b[4m3\u001b[24m998.\n",
      "\u001b[90m 7\u001b[39m Node2    Node6                1             0 \n",
      "\u001b[90m 8\u001b[39m Node2    Node7                1             0 \n",
      "\u001b[90m 9\u001b[39m Node3    Node1                1             0 \n",
      "\u001b[90m10\u001b[39m Node3    Node4                0.8           0 \n",
      "\u001b[90m# ℹ 192 more rows\u001b[39m\n",
      "\u001b[90m# A tibble: 52 × 11\u001b[39m\n",
      "   node_name node_code `Node Type`  `Central office type` Reference Regional C…¹\n",
      "   \u001b[3m\u001b[90m<chr>\u001b[39m\u001b[23m     \u001b[3m\u001b[90m<chr>\u001b[39m\u001b[23m     \u001b[3m\u001b[90m<chr>\u001b[39m\u001b[23m        \u001b[3m\u001b[90m<chr>\u001b[39m\u001b[23m                 \u001b[3m\u001b[90m<chr>\u001b[39m\u001b[23m                 \n",
      "\u001b[90m 1\u001b[39m Node1     HL2       Metro Core   Regional CO           Node1                 \n",
      "\u001b[90m 2\u001b[39m Node2     HL2       Metro Core   Regional CO           Node2                 \n",
      "\u001b[90m 3\u001b[39m Node3     HL2       Metro Core   Regional CO           Node3                 \n",
      "\u001b[90m 4\u001b[39m Node4     HL2       Metro Core   Regional CO           Node4                 \n",
      "\u001b[90m 5\u001b[39m Node5     HL2       Metro Core   Regional CO           Node5                 \n",
      "\u001b[90m 6\u001b[39m Node6     HL2       Metro Core   Regional CO           Node6                 \n",
      "\u001b[90m 7\u001b[39m Node7     HL2       Metro Core   Regional CO           Node7                 \n",
      "\u001b[90m 8\u001b[39m Node8     HL2       Metro Core   Regional CO           Node8                 \n",
      "\u001b[90m 9\u001b[39m Node9     HL3       Metro Core … National CO           Node8                 \n",
      "\u001b[90m10\u001b[39m Node10    HL3       Metro Core … National CO           Node8                 \n",
      "\u001b[90m# ℹ 42 more rows\u001b[39m\n",
      "\u001b[90m# ℹ abbreviated name: ¹​`Reference Regional CO`\u001b[39m\n",
      "\u001b[90m# ℹ 6 more variables: `Reference National CO` <chr>, Households <dbl>,\u001b[39m\n",
      "\u001b[90m#   `Macro cells sites` <dbl>, `Small cell sites` <dbl>,\u001b[39m\n",
      "\u001b[90m#   `Twin Regional CO` <chr>, `Twin National CO` <chr>\u001b[39m\n",
      "\u001b[90m# A tibble: 104 × 4\u001b[39m\n",
      "   sourceID destinationID trafficGbps service\n",
      "   \u001b[3m\u001b[90m<chr>\u001b[39m\u001b[23m    \u001b[3m\u001b[90m<chr>\u001b[39m\u001b[23m               \u001b[3m\u001b[90m<dbl>\u001b[39m\u001b[23m \u001b[3m\u001b[90m<chr>\u001b[39m\u001b[23m  \n",
      "\u001b[90m 1\u001b[39m Node1    Node9               \u001b[4m1\u001b[24m945. CWB    \n",
      "\u001b[90m 2\u001b[39m Node2    Node16              \u001b[4m1\u001b[24m671. CWB    \n",
      "\u001b[90m 3\u001b[39m Node3    Node11              \u001b[4m1\u001b[24m498. CWB    \n",
      "\u001b[90m 4\u001b[39m Node4    Node13              \u001b[4m3\u001b[24m015. CWB    \n",
      "\u001b[90m 5\u001b[39m Node5    Node16              \u001b[4m1\u001b[24m805. CWB    \n",
      "\u001b[90m 6\u001b[39m Node6    Node19              \u001b[4m3\u001b[24m565. CWB    \n",
      "\u001b[90m 7\u001b[39m Node7    Node9               \u001b[4m2\u001b[24m618. CWB    \n",
      "\u001b[90m 8\u001b[39m Node8    Node9               \u001b[4m1\u001b[24m916. CWB    \n",
      "\u001b[90m 9\u001b[39m Node9    Node9               \u001b[4m3\u001b[24m798. CWB    \n",
      "\u001b[90m10\u001b[39m Node10   Node10              \u001b[4m3\u001b[24m911. CWB    \n",
      "\u001b[90m# ℹ 94 more rows\u001b[39m\n"
     ]
    }
   ],
   "source": [
    "print(links_info)\n",
    "print(nodes_info)\n",
    "print(traffic_file)"
   ]
  },
  {
   "cell_type": "markdown",
   "metadata": {
    "id": "FjuqTmIov7Jc"
   },
   "source": [
    "Definition of national and regional Cental Offices (COs)."
   ]
  },
  {
   "cell_type": "code",
   "execution_count": 9,
   "metadata": {
    "colab": {
     "base_uri": "https://localhost:8080/"
    },
    "id": "Ilk5V28yv6Qr",
    "outputId": "4d0c10a1-c85e-41f2-dd20-a98c4dd08ba2",
    "vscode": {
     "languageId": "r"
    }
   },
   "outputs": [
    {
     "name": "stdout",
     "output_type": "stream",
     "text": [
      "National nodes: 1 2 3 4 5 6 7 8 21 22 23 24 \n",
      "Regional nodes: 9 10 11 12 13 14 15 16 17 18 19 20 40 41 42 43 44 \n"
     ]
    }
   ],
   "source": [
    "national_nodes <- c()\n",
    "regional_nodes <- c()\n",
    "\n",
    "for (i in seq_along(nodes_info$node_code)) {\n",
    "  if (nodes_info$node_code[i] == \"HL2\") {\n",
    "    national_nodes <- c(national_nodes, i)\n",
    "  }\n",
    "  if (nodes_info$node_code[i] == \"HL3\") {\n",
    "    regional_nodes <- c(regional_nodes, i)\n",
    "  }\n",
    "}\n",
    "\n",
    "cat(\"National nodes:\", national_nodes, \"\\n\")\n",
    "cat(\"Regional nodes:\", regional_nodes, \"\\n\")"
   ]
  },
  {
   "cell_type": "markdown",
   "metadata": {
    "id": "AGoIy4XH6e8y"
   },
   "source": [
    "#Functions"
   ]
  },
  {
   "cell_type": "markdown",
   "metadata": {
    "id": "Ouv6PIa_3brU"
   },
   "source": [
    "### Vysochanskij–Petunin's bound calculation function\n",
    "Inputs:\n",
    "- **delay_hops**: Vector of delay at each hop\n",
    "- **a**: Upper bound percentile from 0 to 1\n",
    "\n",
    "Output:\n",
    "- Vysochanskij–Petunin's upper bound\n"
   ]
  },
  {
   "cell_type": "code",
   "execution_count": 10,
   "metadata": {
    "id": "3m0IbQs83UN6",
    "vscode": {
     "languageId": "r"
    }
   },
   "outputs": [],
   "source": [
    "func_bounds_VP <- function(delay_hops, a)\n",
    "{\n",
    "  mu = sum(delay_hops)\n",
    "  sigma = sqrt(sum(delay_hops^2))\n",
    "  k <- sqrt(4/9/(1-a))\n",
    "  Prop_VP <- 1 - 4/9/(k^2)\n",
    "  upper_bound_VP <- k * sigma + mu\n",
    "  return(upper_bound_VP)\n",
    "}"
   ]
  },
  {
   "cell_type": "markdown",
   "metadata": {
    "id": "BVsjRyLiF-L8"
   },
   "source": [
    "##Simmer simulation"
   ]
  },
  {
   "cell_type": "markdown",
   "metadata": {
    "id": "4DQ8v_371dH3"
   },
   "source": [
    "\n",
    "### Function to perform simulation in a simmer environment with M/G/1 queueing model\n",
    "Inputs:\n",
    "- **env**: Simmer environment\n",
    "- **from**: Source node\n",
    "- **to**: Destination node\n",
    "- **graph**: Graph object representing the network topology\n",
    "- **traffic_val**: Traffic value (lambda) for the simulation\n",
    "- **log_info**: Information for logging purposes\n",
    "- **PS_size**: Packet size\n",
    "- **PS_weights**: Packet weights\n",
    "\n",
    "Output:\n",
    "- List containing updated environment, trajectory name, transmission delay, and propagation delay\n"
   ]
  },
  {
   "cell_type": "code",
   "execution_count": 11,
   "metadata": {
    "id": "-udvJ2D81ctK",
    "vscode": {
     "languageId": "r"
    }
   },
   "outputs": [],
   "source": [
    "simmer_simulation_mg1 <- function(env, from, to, graph, traffic_val, log_info, PS_size, PS_weights)\n",
    "{\n",
    "  name = paste0('traffic_', from, \"_\", to, \"_\", log_info)\n",
    "  if (from != to && traffic_val != 0) {\n",
    "    c(traffic, delay_transm, delay_prop) := simmer_trajectory_simulation_mg1(env, from, to, trajectory_name = traffic , graph, log_info, PS_size = PS_size, PS_weights = PS_weights) #creating trajectory\n",
    "    assign(name, traffic)\n",
    "    print(name)\n",
    "    #print(get(name))\n",
    "    env<- simmer_generator(env, get(name), name, traffic_val)\n",
    "  }\n",
    "  return(list(env, name, delay_transm, delay_prop))\n",
    "}"
   ]
  },
  {
   "cell_type": "markdown",
   "metadata": {
    "id": "1J_NZPIk3lMC"
   },
   "source": [
    "### Function to create cross trajectories in the simmer environment based on the network load\n",
    "Inputs:\n",
    "- **env**: Simmer environment\n",
    "- **g**: Graph object representing the network topology\n",
    "- **from**: Source node\n",
    "- **to**: Destination node\n",
    "- **lambda_simmer**: Traffic value (lambda) for the simulation\n",
    "- **PS_size**: Packet size\n",
    "- **PS_weights**: Packet weights\n",
    "\n",
    "Output:\n",
    "- Updated simmer environment"
   ]
  },
  {
   "cell_type": "code",
   "execution_count": 12,
   "metadata": {
    "id": "R3VSMoF3D5OO",
    "vscode": {
     "languageId": "r"
    }
   },
   "outputs": [],
   "source": [
    "simmer_crosstrajectory_simulation_mg1 <- function(env, g, from, to, lambda_simmer, PS_size, PS_weights)\n",
    "{\n",
    "  path <- shortest_paths(g, from, to, weights = NULL, output = \"both\", algorithm = c(\"automatic\"))\n",
    "  N = sum(PS_size*PS_weights)\n",
    "  path_size <- length(path[[\"vpath\"]][[1]])\n",
    "  nodes_capacity <- rep(0, length(V(g)))\n",
    "  nodes_capacity[path[[\"vpath\"]][[1]][-path_size]] <- E(g)$capacityGbps[path[[\"epath\"]][[1]]]\n",
    "  nodes_capacity_Bps <- nodes_capacity*1e9\n",
    "  nodes_capacity <- nodes_capacity_Bps/(8*N)\n",
    "\n",
    "  nodes_load <- rep(0, length(V(g)))\n",
    "  nodes_load[path[[\"vpath\"]][[1]][-path_size]] <- E(g)$Load[path[[\"epath\"]][[1]]]\n",
    "\n",
    "  for (i in path[[\"vpath\"]][[1]][-path_size])\n",
    "  {\n",
    "\n",
    "    load_compare <- lambda_simmer/(nodes_capacity[i])\n",
    "    if (nodes_load[i] > load_compare )\n",
    "    {\n",
    "      print(paste0(\"node_\", i))\n",
    "      print(nodes_capacity[i])\n",
    "      print(nodes_load[i])\n",
    "      trajectory_name <- trajectory() %>%\n",
    "        seize(paste0(\"node_\", i)) %>%\n",
    "        set_attribute(\"capacity\", nodes_capacity_Bps[i]) %>%\n",
    "        timeout(function() 8*sample(PS_size,size = 1, replace = T, prob = PS_weights)/(get_attribute(env, \"capacity\"))) %>%\n",
    "        release(paste0(\"node_\", i)) #%>%\n",
    "\n",
    "      name <- paste0(\"traffic_cross_\", from,\"_\", to, \"_node_\", i,\"_\")\n",
    "      assign(name, trajectory_name)\n",
    "      traffic_val <- nodes_load[i] * nodes_capacity[i] - lambda_simmer\n",
    "      print(traffic_val)\n",
    "      print(lambda_simmer)\n",
    "      print(nodes_load[i]*nodes_capacity[i])\n",
    "      env<- simmer_generator(env, get(name), name, traffic_val)\n",
    "    }\n",
    "  }\n",
    "  return(env)\n",
    "}\n",
    "\n"
   ]
  },
  {
   "cell_type": "markdown",
   "metadata": {
    "id": "zzNbQqp53nuY"
   },
   "source": [
    "### Main function to perform simulation using trajectories in a simmer environment\n",
    "Inputs:\n",
    "- **g**: Graph object representing the network topology\n",
    "- **traffic_file**: Data frame containing traffic information\n",
    "- **PS_size**: Packet size\n",
    "- **PS_weights**: Packet weights\n",
    "- **load**: Traffic load (default: $0.3$)\n",
    "- **CapacityGbps**: Link capacity in Gbps (default: $10~Gb/s$)\n",
    "\n",
    "Output:\n",
    "- List containing delay and traffic information"
   ]
  },
  {
   "cell_type": "code",
   "execution_count": null,
   "metadata": {
    "id": "QuPB0Nmrr7yM",
    "vscode": {
     "languageId": "r"
    }
   },
   "outputs": [],
   "source": [
    "\n",
    "simulation_simmer <- function(g, traffic_file, PS_size, PS_weights, load = 0.3,\n",
    "                              CapacityGbps = 10, ncores=1){\n",
    "  E(g)$Queue_Delay_sim <- 0\n",
    "  E(g)$Queue_Delay_theor_VP_upbound99 <- 0\n",
    "  E(g)$Queue_Delay_sim_99p <- 0\n",
    "\n",
    "  #####################################simmer\n",
    "  queue_delay_tr_flow <- numeric(nrow(traffic_file))\n",
    "  # queue_delay_tr_flow <- numeric(nrow(traffic_file))\n",
    "  prop_delay_tr_flow <- numeric(nrow(traffic_file))\n",
    "  delay_tr_flow <- numeric(nrow(traffic_file))\n",
    "  delay_tr_flow_p_99 <- numeric(nrow(traffic_file))\n",
    "  exp_delay_igraph <- numeric(nrow(traffic_file))\n",
    "  delay_tr_flow_VP_upbound_p_99_100 <- numeric(nrow(traffic_file))\n",
    "  digits = 10\n",
    "  print(\"start simulation in simmer\")\n",
    "  N = sum(PS_size*PS_weights)\n",
    "  cat(\"Load = \",load, \"\\n\")\n",
    "  traffic_file$traffic_ps <- CapacityGbps*1e9/(8*N)*load\n",
    "  traffic_file$trafficGbps <- CapacityGbps*load\n",
    "  assign(\"traffic_file\", traffic_file, .GlobalEnv)\n",
    "  cluster <- makeCluster(ncores)\n",
    "  print(cluster)\n",
    "  registerDoParallel(cluster)\n",
    "  results = numeric(nrow(traffic_file))\n",
    "  results <- foreach (line = 1:nrow(traffic_file)) %dopar%\n",
    "  #forend <- foreach (line = 1:4) %dopar%\n",
    "  {\n",
    "    print(line)\n",
    "    if(traffic_file$sourceID[line] != traffic_file$destinationID[line] && traffic_file$traffic_ps[line] != 0)\n",
    "    {\n",
    "      file_param = paste0(line,\"_params\")\n",
    "      file_result = paste0(line, \"_results\")\n",
    "      save(line, traffic_file, g, PS_size, PS_weights, file=file_param)\n",
    "      command <- paste0(\"Rscript /content/traffic-latency-simulator/parallelized_v2/traffic_flow_simulation.R \", file_param)\n",
    "      out_res<-system(command)\n",
    "      print(out_res)\n",
    "      load(file_result)\n",
    "      unlink(file_param)\n",
    "      unlink(file_result)\n",
    "      results[line]<-res\n",
    "    } else{\n",
    "      print(\"no info of traffic\")\n",
    "      results[line]<-(c(0,0,NaN,0,0,0))\n",
    "    }\n",
    "  }\n",
    "  stopCluster(cluster)\n",
    "  print(results)\n",
    "  i=0\n",
    "  for (res in results){\n",
    "    i=i+1\n",
    "    exp_delay_igraph[i]<- res[1]\n",
    "    queue_delay_tr_flow[i] <- res[2]\n",
    "    prop_delay_tr_flow[i] <- res[3]\n",
    "    delay_tr_flow[i] <- res[4]\n",
    "    delay_tr_flow_p_99[i] <- res[5]\n",
    "    delay_tr_flow_VP_upbound_p_99_100[i] <-res[6]\n",
    "  }\n",
    "\n",
    "  igraph_df_calc <- data_frame(exp_delay_igraph, delay_tr_flow, delay_tr_flow_p_99, delay_tr_flow_VP_upbound_p_99_100)\n",
    "\n",
    "  assign(\"igraph_df_calc\", igraph_df_calc, .GlobalEnv)\n",
    "\n",
    "  return(list(delay_tr_flow, exp_delay_igraph, delay_tr_flow_p_99, delay_tr_flow_VP_upbound_p_99_100, g))\n",
    "}"
   ]
  },
  {
   "cell_type": "markdown",
   "metadata": {
    "id": "0PVf76ur3rFa"
   },
   "source": [
    "### Function to calculate end-to-end delays theoretically\n",
    "Inputs:\n",
    "- **g**: Graph object representing the network topology\n",
    "- **traffic_file**: Data frame containing traffic information\n",
    "- **Cs2**: coefficient of variation of service time\n",
    "\n",
    "Output:\n",
    "- List containing updated graph and theoretical delay values"
   ]
  },
  {
   "cell_type": "code",
   "execution_count": 14,
   "metadata": {
    "id": "Mms2n4H0FKFO",
    "vscode": {
     "languageId": "r"
    }
   },
   "outputs": [],
   "source": [
    "prop_queue_tr_delay_e2e <- function(g, traffic_file, Cs2){\n",
    "\n",
    "  E(g)$Queue_Delay <- ifelse(E(g)$Traffic == 0, 0, E(g)$Load/(1-E(g)$Load)/E(g)$Traffic*(Cs2 + 1)/2) #M/G/1\n",
    "  latencyPropTransQueuing_theor_s <- rep(0, nrow(traffic_file))\n",
    "  latencyPercentile99_theor_s <- rep(0, nrow(traffic_file))\n",
    "  for (line in 1:nrow(traffic_file))\n",
    "  {\n",
    "    if(traffic_file$traffic_ps[line] != 0){\n",
    "      vertex_sourse <- which(V(g)$name==traffic_file$sourceID[line])\n",
    "      vertex_destination<- which(V(g)$name==traffic_file$destinationID[line])\n",
    "      path <- shortest_paths(g, vertex_sourse, vertex_destination,\n",
    "                             weights = NULL,\n",
    "                             output = \"both\",\n",
    "                             algorithm = c(\"automatic\"))\n",
    "      latencyPropTransQueuing_theor_s[line] = sum(E(g)[path[[\"epath\"]][[1]]]$Queue_Delay) + sum(E(g)[path[[\"epath\"]][[1]]]$Prop_Delay)\n",
    "      latencyPercentile99_theor_s[line] <- func_bounds_VP(E(g)[path[[\"epath\"]][[1]]]$Queue_Delay, 0.99) + sum(E(g)[path[[\"epath\"]][[1]]]$Prop_Delay)\n",
    "    }\n",
    "    else {\n",
    "      latencyPropTransQueuing_theor_s[line] <- 0\n",
    "      latencyPercentile99_theor_s[line] <- 0\n",
    "    }\n",
    "  }\n",
    "  return(list(g, latencyPropTransQueuing_theor_s, latencyPercentile99_theor_s))\n",
    "}\n"
   ]
  },
  {
   "cell_type": "markdown",
   "metadata": {
    "id": "_Mgt90Ot7Hn0"
   },
   "source": [
    "##Igraph calculations\n"
   ]
  },
  {
   "cell_type": "markdown",
   "metadata": {
    "id": "vpkRRJ4036Q2"
   },
   "source": [
    "### Main function to perform simulation using theoretical delay calculations\n",
    "Inputs:\n",
    "- **nodes_info**: Information about nodes in the network\n",
    "- **links_info**: Information about links in the network\n",
    "- **traffic_file**: Data frame containing traffic information\n",
    "- **Capacity**: Link capacity in Gbps (default: $10~Gb/s$)\n",
    "- **calc_dist**: Flag to calculate distance (default: $FALSE$)\n",
    "- **distance**: Custom distance parameter (default: $5$)\n",
    "- **Load_local**: Local traffic load (default: $0.3$)\n",
    "- **Load_regional**: Regional traffic load (default: $0.5$)\n",
    "- **Load_national**: National traffic load (default: $0.4$)\n",
    "- **prefix_base**: Base prefix for nodes\n",
    "- **national_nodes**: List of national nodes\n",
    "- **regional_nodes**: List of regional nodes\n",
    "- **N**: Number of packets\n",
    "- **Cs2**: coefficient of variation of service time\n",
    "\n",
    "Output:\n",
    "- List containing updated graph and delay information"
   ]
  },
  {
   "cell_type": "code",
   "execution_count": 15,
   "metadata": {
    "id": "qfxxbejlFQvC",
    "vscode": {
     "languageId": "r"
    }
   },
   "outputs": [],
   "source": [
    "simulation_igraph <- function(nodes_info, links_info, traffic_file, Capacity = 10, calc_dist =  FALSE, distance = 5, Load_local = 0.3, Load_regional = 0.5, Load_national = 0.4, prefix_base, national_nodes, regional_nodes, N, Cs2){\n",
    "\n",
    "  traffic_file$traffic_ps <- traffic_file$trafficGbps*10^9/(8*N)\n",
    "  g = graph_from_data_frame(links_info, directed = TRUE)\n",
    "  E(g)$capacityGbps <- Capacity\n",
    "  for (NCO in national_nodes){\n",
    "    a <- (filter(traffic_file, traffic_file$destinationID == V(g)$name[NCO]))\n",
    "    size <- length(a$destinationID)\n",
    "    E(g)$capacityGbps[incident(g, NCO, mode = c(\"in\"))] <- Capacity*size\n",
    "  }\n",
    "  E(g)$Capacity <- E(g)$capacityGbps*1e9/(8*N) #p/s\n",
    "  ############distance put original distance(calc_dist = 1) or custom distance (calc_dist = 1) with paramentr \"distance\" in km\n",
    "  if( calc_dist == TRUE ) {\n",
    "    E(g)$Distance = E(g)$distanceKm * distance\n",
    "  }\n",
    "  else {\n",
    "    E(g)$Distance <- E(g)$distanceKm\n",
    "  }\n",
    "  ####Load of the links\n",
    "  #for Local CO\n",
    "  E(g)$Load <- Load_local\n",
    "  #national COs\n",
    "  for (NCO in national_nodes){\n",
    "    E(g)$Load[incident(g, NCO, mode = c(\"in\"))] <- Load_national\n",
    "  }\n",
    "  #regional COs\n",
    "  for (RCO in regional_nodes){\n",
    "    E(g)$Load[incident(g, RCO, mode = c(\"in\"))] <- Load_regional\n",
    "  }\n",
    "\n",
    "  E(g)$Traffic <- E(g)$Capacity * E(g)$Load\n",
    "  E(g)$Ni = E(g)$Load/(1-E(g)$Load) # average number of packets in each system\n",
    "  E(g)$Prop_Delay <- 5*10^(-6)*E(g)$Distance\n",
    "  c(g, traffic_file$latencyPropTransQueuing_theor_s_mg1, traffic_file$latencyPercentile99_theor_s_mg1) := prop_queue_tr_delay_e2e(g, traffic_file, Cs2)\n",
    "\n",
    "  data_av <- traffic_file$latencyPropTransQueuing_theor_s_mg1\n",
    "  data_99 <- traffic_file$latencyPercentile99_theor_s_mg1\n",
    "\n",
    "\n",
    "  assign(\"traffic_file\", traffic_file, .GlobalEnv)\n",
    "\n",
    "  links_info$prop_delay_s <- 5*10^(-6)*links_info$distanceKm\n",
    "  assign(\"links_info_df\", links_info, .GlobalEnv)\n",
    "\n",
    "  #removing the local traffic\n",
    "  data_av <- data_av[data_av != 0]\n",
    "  data_99 <- data_99[data_99 != 0]\n",
    "  return(list(g, data_av, data_99))\n",
    "\n",
    "}\n"
   ]
  },
  {
   "cell_type": "markdown",
   "metadata": {
    "id": "IBnLQmNbRVKG"
   },
   "source": [
    "##Building the graph:\n"
   ]
  },
  {
   "cell_type": "code",
   "execution_count": 16,
   "metadata": {
    "colab": {
     "base_uri": "https://localhost:8080/"
    },
    "id": "_LrIUCnkO0mn",
    "outputId": "b148ba18-1e1a-4adc-f2d8-7fb647889d5b",
    "vscode": {
     "languageId": "r"
    }
   },
   "outputs": [
    {
     "name": "stderr",
     "output_type": "stream",
     "text": [
      "Warning message:\n",
      "“\u001b[1m\u001b[22m`graph.data.frame()` was deprecated in igraph 2.0.0.\n",
      "\u001b[36mℹ\u001b[39m Please use `graph_from_data_frame()` instead.”\n"
     ]
    }
   ],
   "source": [
    "g <- graph.data.frame(links_info, directed = TRUE, vertices = nodes_info)"
   ]
  },
  {
   "cell_type": "markdown",
   "metadata": {
    "id": "yBMu61N3p8ku"
   },
   "source": [
    "##Calculations of the capacity in p/s\n",
    "\n"
   ]
  },
  {
   "cell_type": "code",
   "execution_count": 17,
   "metadata": {
    "colab": {
     "base_uri": "https://localhost:8080/"
    },
    "id": "YKJhGdD0vXLe",
    "outputId": "574ece3a-5adc-44fb-e708-1bee745f387c",
    "vscode": {
     "languageId": "r"
    }
   },
   "outputs": [
    {
     "name": "stderr",
     "output_type": "stream",
     "text": [
      "Warning message:\n",
      "“\u001b[1m\u001b[22m`get.edgelist()` was deprecated in igraph 2.0.0.\n",
      "\u001b[36mℹ\u001b[39m Please use `as_edgelist()` instead.”\n"
     ]
    }
   ],
   "source": [
    "E(g)$Distance <- E(g)$distanceKm\n",
    "E(g)$Definition <- paste0(get.edgelist(g)[,1],\"->\",get.edgelist(g)[,2])\n",
    "E(g)$Capacity <- E(g)$capacityGbps*10^9/(8*N)\n"
   ]
  },
  {
   "cell_type": "markdown",
   "metadata": {
    "id": "MQBkY531sUCl"
   },
   "source": [
    "##Plot graph"
   ]
  },
  {
   "cell_type": "code",
   "execution_count": 18,
   "metadata": {
    "colab": {
     "base_uri": "https://localhost:8080/",
     "height": 437
    },
    "id": "Q3F-XqcUvVji",
    "outputId": "56e60282-ad07-44b7-a314-aecff3ed2513",
    "vscode": {
     "languageId": "r"
    }
   },
   "outputs": [
    {
     "data": {
      "image/png": "[encoded data removed]",
      "text/plain": [
       "Plot with title “”"
      ]
     },
     "metadata": {
      "image/png": {
       "height": 420,
       "width": 420
      }
     },
     "output_type": "display_data"
    }
   ],
   "source": [
    "#plot graph\n",
    "V(g)$color <- \"tomato\"\n",
    "V(g)$color[national_nodes] <- \"yellow\"\n",
    "\n",
    "deg <- degree(g, mode=\"all\")\n",
    "V(g)$size <- deg*1.5\n",
    "l <- layout_nicely(g)\n",
    "plot(g, edge.arrow.size=.3, vertex.label = V(g)$name, edge.curved=.5, layout=l)\n"
   ]
  },
  {
   "cell_type": "code",
   "execution_count": 19,
   "metadata": {
    "colab": {
     "base_uri": "https://localhost:8080/",
     "height": 488
    },
    "id": "TI2jKSzQ58DR",
    "outputId": "67fab127-4ad0-4c90-f3e4-6db2fa7e88a6",
    "vscode": {
     "languageId": "r"
    }
   },
   "outputs": [
    {
     "name": "stderr",
     "output_type": "stream",
     "text": [
      "Warning message:\n",
      "“\u001b[1m\u001b[22m`as.undirected()` was deprecated in igraph 2.1.0.\n",
      "\u001b[36mℹ\u001b[39m Please use `as_undirected()` instead.”\n"
     ]
    },
    {
     "data": {
      "image/png": "[encoded data removed]",
      "text/plain": [
       "Plot with title “”"
      ]
     },
     "metadata": {
      "image/png": {
       "height": 420,
       "width": 420
      }
     },
     "output_type": "display_data"
    }
   ],
   "source": [
    "# Plot graph\n",
    "g1 <- as.undirected(g)\n",
    "V(g1)$name <- c(1:length(V(g1)))\n",
    "\n",
    "# Calculate degree and scale node size\n",
    "deg <- degree(g1, mode = \"all\")\n",
    "V(g1)$size <- 10  # Adjust scaling factor for better visibility\n",
    "\n",
    "V(g1)$color <- \"gray\"  # Default color for all nodes\n",
    "V(g1)$color[national_nodes] <- \"darkblue\"  # Color for national nodes\n",
    "\n",
    "# Set label color based on node type\n",
    "V(g1)$label.color <- \"black\"  # Default label color\n",
    "V(g1)$label.color[national_nodes] <- \"white\"  # Label color for national nodes\n",
    "\n",
    "\n",
    "# Calculate degree and scale node size\n",
    "deg <- degree(g1, mode = \"all\")\n",
    "V(g1)$size <- 10  # Adjust scaling factor for better visibility\n",
    "\n",
    "# Use an undirected layout\n",
    "l <- layout_nicely(g1)\n",
    "\n",
    "# Plot the graph with enhanced appearance\n",
    "plot(g1,\n",
    "     edge.arrow.size = 0,        # Remove edge arrows\n",
    "     vertex.shape = \"square\",\n",
    "     vertex.label = V(g1)$name,          # Remove node labels\n",
    "     vertex.label.color = V(g1)$label.color,  # Set label color\n",
    "\n",
    "     edge.curved = 0.1,          # Slight curve for edges\n",
    "     layout = l,\n",
    "     vertex.size = V(g1)$size,    # Set vertex size based on degree\n",
    "     vertex.color = V(g1)$color,  # Set vertex color\n",
    "     vertex.frame.color = \"white\",  # Remove border around vertices\n",
    "     edge.color = \"black\"         # Set edge color to gray\n",
    ")\n",
    "# Add the legend\n",
    "legend(\"topright\",                    # Position of the legend\n",
    "       legend = c(\"ACO\", \"MCO\"),       # Labels\n",
    "       fill = c(\"gray\", \"darkblue\"),   # Colors corresponding to the labels\n",
    "       title = \"Node Types\",           # Title of the legend\n",
    "       bty = \"n\",                      # No box around the legend\n",
    "       cex = 1.2)                      # Font size of legend text"
   ]
  },
  {
   "cell_type": "markdown",
   "metadata": {
    "id": "qHloL9vvV719"
   },
   "source": [
    "#Igraph calculations"
   ]
  },
  {
   "cell_type": "markdown",
   "metadata": {
    "id": "9FY0yggeRq8o"
   },
   "source": [
    "## Total traffic calculatons\n"
   ]
  },
  {
   "cell_type": "markdown",
   "metadata": {
    "id": "2A_XJRmvv-sb"
   },
   "source": [
    "## Calculations of the load, average number of packets, queueing and propagation delays:"
   ]
  },
  {
   "cell_type": "markdown",
   "metadata": {
    "id": "T46jfsTDsrwN"
   },
   "source": [
    "Load for Local COs $0.3$;\n",
    "\n",
    "Regional COs $0.5$;\n",
    "\n",
    "Rational COs $0.4$"
   ]
  },
  {
   "cell_type": "code",
   "execution_count": 20,
   "metadata": {
    "id": "uq8ANa32ioh9",
    "vscode": {
     "languageId": "r"
    }
   },
   "outputs": [],
   "source": [
    "c(g_c10, data_av, data_99) := simulation_igraph(nodes_info, links_info, traffic_file, Capacity = 10, calc_dist = 1, distance = 0.5, Load_local, Load_regional, Load_national, prefix_base, national_nodes, regional_nodes , N, Cs2)"
   ]
  },
  {
   "cell_type": "markdown",
   "metadata": {
    "id": "WV2phTnHiJR-"
   },
   "source": [
    "#Simmer simulation"
   ]
  },
  {
   "cell_type": "markdown",
   "metadata": {
    "id": "FxMgknc-hvYq"
   },
   "source": [
    "Including queuing, transmission, propagation delay"
   ]
  },
  {
   "cell_type": "markdown",
   "metadata": {
    "id": "bPowjNII2p2j"
   },
   "source": [
    "Output table with links information"
   ]
  },
  {
   "cell_type": "markdown",
   "metadata": {
    "id": "JnMFUAsY1pvi"
   },
   "source": [
    "Simulation of all traffic flows, comparision of experimental with theretical\n",
    "\n",
    "## Memory Usage and running time estimation\n"
   ]
  },
  {
   "cell_type": "markdown",
   "metadata": {
    "id": "-hJWPWChDgtl"
   },
   "source": [
    "For Google Collab"
   ]
  },
  {
   "cell_type": "code",
   "execution_count": 21,
   "metadata": {
    "id": "4A1TccoKDIjf",
    "vscode": {
     "languageId": "r"
    }
   },
   "outputs": [],
   "source": [
    "mem_usage_calc <- function(){\n",
    "  output <- system('grep \"MemTotal\" /proc/meminfo', intern = TRUE)\n",
    "\n",
    "  # Extract the Total Physical Memory values (remove 'Mem Usage: ' and keep the numeric part)\n",
    "\n",
    "  mem_lines <- sub(\"MemTotal:       \", \"\", output)\n",
    "  memory_total <- sub(\" kB\", \"\", mem_lines)\n",
    "\n",
    "  memory_total <- as.numeric(memory_total)\n",
    "\n",
    "\n",
    "  output <- system('grep \"MemAvailable\" /proc/meminfo', intern = TRUE)\n",
    "  mem_lines <- sub(\"MemAvailable:   \", \"\", output)\n",
    "  memory_usage <- sub(\" kB\", \"\", mem_lines)\n",
    "  memory_usage <- as.numeric(memory_usage)\n",
    "\n",
    "  # Convert the total memory usage from KB to MB\n",
    "  total_mem_usage_mb <- memory_total - memory_usage\n",
    "\n",
    "  # Print the total memory usage in MB\n",
    "  cat(\"Total memory usage:\", total_mem_usage_mb/1024, \"MB\\n\")\n",
    "  return(total_mem_usage_mb)\n",
    "}"
   ]
  },
  {
   "cell_type": "code",
   "execution_count": 24,
   "metadata": {
    "colab": {
     "base_uri": "https://localhost:8080/",
     "height": 34
    },
    "id": "evUYZEsz5lqb",
    "outputId": "770c2b19-3f08-4c68-e3be-1b3e8d7f50cf",
    "vscode": {
     "languageId": "r"
    }
   },
   "outputs": [
    {
     "data": {
      "text/html": [
       "8"
      ],
      "text/latex": [
       "8"
      ],
      "text/markdown": [
       "8"
      ],
      "text/plain": [
       "[1] 8"
      ]
     },
     "metadata": {},
     "output_type": "display_data"
    }
   ],
   "source": [
    "detectCores()\n"
   ]
  },
  {
   "cell_type": "code",
   "execution_count": 65,
   "metadata": {
    "colab": {
     "base_uri": "https://localhost:8080/",
     "height": 128
    },
    "id": "zyyrvhZmvDnA",
    "outputId": "7ac78532-5c60-4ed3-dbb6-fbda310764f2",
    "vscode": {
     "languageId": "r"
    }
   },
   "outputs": [
    {
     "data": {
      "text/html": [
       "<table class=\"dataframe\">\n",
       "<caption>A matrix: 2 × 6 of type dbl</caption>\n",
       "<thead>\n",
       "\t<tr><th></th><th scope=col>used</th><th scope=col>(Mb)</th><th scope=col>gc trigger</th><th scope=col>(Mb)</th><th scope=col>max used</th><th scope=col>(Mb)</th></tr>\n",
       "</thead>\n",
       "<tbody>\n",
       "\t<tr><th scope=row>Ncells</th><td>1414551</td><td>75.6</td><td>2211275</td><td>118.1</td><td>2211275</td><td>118.1</td></tr>\n",
       "\t<tr><th scope=row>Vcells</th><td>2593429</td><td>19.8</td><td>8388608</td><td> 64.0</td><td>8385838</td><td> 64.0</td></tr>\n",
       "</tbody>\n",
       "</table>\n"
      ],
      "text/latex": [
       "A matrix: 2 × 6 of type dbl\n",
       "\\begin{tabular}{r|llllll}\n",
       "  & used & (Mb) & gc trigger & (Mb) & max used & (Mb)\\\\\n",
       "\\hline\n",
       "\tNcells & 1414551 & 75.6 & 2211275 & 118.1 & 2211275 & 118.1\\\\\n",
       "\tVcells & 2593429 & 19.8 & 8388608 &  64.0 & 8385838 &  64.0\\\\\n",
       "\\end{tabular}\n"
      ],
      "text/markdown": [
       "\n",
       "A matrix: 2 × 6 of type dbl\n",
       "\n",
       "| <!--/--> | used | (Mb) | gc trigger | (Mb) | max used | (Mb) |\n",
       "|---|---|---|---|---|---|---|\n",
       "| Ncells | 1414551 | 75.6 | 2211275 | 118.1 | 2211275 | 118.1 |\n",
       "| Vcells | 2593429 | 19.8 | 8388608 |  64.0 | 8385838 |  64.0 |\n",
       "\n"
      ],
      "text/plain": [
       "       used    (Mb) gc trigger (Mb)  max used (Mb) \n",
       "Ncells 1414551 75.6 2211275    118.1 2211275  118.1\n",
       "Vcells 2593429 19.8 8388608     64.0 8385838   64.0"
      ]
     },
     "metadata": {},
     "output_type": "display_data"
    }
   ],
   "source": [
    "gc(full=TRUE)"
   ]
  },
  {
   "cell_type": "code",
   "execution_count": 30,
   "metadata": {
    "colab": {
     "base_uri": "https://localhost:8080/",
     "height": 1000
    },
    "id": "dH-_kzoOMrJD",
    "outputId": "e7556c7a-cde8-4cef-c6f4-e7db7857b13e",
    "vscode": {
     "languageId": "r"
    }
   },
   "outputs": [
    {
     "name": "stdout",
     "output_type": "stream",
     "text": [
      "Total memory usage: 1599.906 MB\n",
      "[1] \"start simulation in simmer\"\n",
      "Load =  0.3 \n",
      "socket cluster with 4 nodes on host ‘localhost’\n",
      "[[1]]\n",
      "[1] 7.436805e-06 3.436805e-06 4.000000e-06 7.663312e-06 1.688029e-05\n",
      "[6] 2.370487e-05\n",
      "\n",
      "[[2]]\n",
      "[1] 7.436805e-06 3.436805e-06 4.000000e-06 7.663312e-06 1.688029e-05\n",
      "[6] 2.370487e-05\n",
      "\n",
      "[[3]]\n",
      "[1] 3.374621e-06 1.874621e-06 1.500000e-06 3.184935e-06 8.917019e-06\n",
      "[6] 1.587209e-05\n",
      "\n",
      "[[4]]\n",
      "[1] 3.374621e-06 1.874621e-06 1.500000e-06 3.184935e-06 8.917019e-06\n",
      "[6] 1.587209e-05\n",
      "\n",
      "[[5]]\n",
      "[1] 3.374621e-06 1.874621e-06 1.500000e-06 3.184935e-06 8.917019e-06\n",
      "[6] 1.587209e-05\n",
      "\n",
      "[[6]]\n",
      "[1] 3.374621e-06 1.874621e-06 1.500000e-06 3.184935e-06 8.917019e-06\n",
      "[6] 1.587209e-05\n",
      "\n",
      "[[7]]\n",
      "[1] 6.936805e-06 3.436805e-06 3.500000e-06 6.951720e-06 1.434427e-05\n",
      "[6] 2.320487e-05\n",
      "\n",
      "[[8]]\n",
      "[1] 3.374621e-06 1.874621e-06 1.500000e-06 3.184935e-06 8.917019e-06\n",
      "[6] 1.587209e-05\n",
      "\n",
      "[[9]]\n",
      "[1]   0   0 NaN   0   0   0\n",
      "\n",
      "[[10]]\n",
      "[1]   0   0 NaN   0   0   0\n",
      "\n",
      "[[11]]\n",
      "[1]   0   0 NaN   0   0   0\n",
      "\n",
      "[[12]]\n",
      "[1]   0   0 NaN   0   0   0\n",
      "\n",
      "[[13]]\n",
      "[1]   0   0 NaN   0   0   0\n",
      "\n",
      "[[14]]\n",
      "[1]   0   0 NaN   0   0   0\n",
      "\n",
      "[[15]]\n",
      "[1]   0   0 NaN   0   0   0\n",
      "\n",
      "[[16]]\n",
      "[1]   0   0 NaN   0   0   0\n",
      "\n",
      "[[17]]\n",
      "[1]   0   0 NaN   0   0   0\n",
      "\n",
      "[[18]]\n",
      "[1]   0   0 NaN   0   0   0\n",
      "\n",
      "[[19]]\n",
      "[1]   0   0 NaN   0   0   0\n",
      "\n",
      "[[20]]\n",
      "[1] 3.374621e-06 1.874621e-06 1.500000e-06 3.184935e-06 8.917019e-06\n",
      "[6] 1.587209e-05\n",
      "\n",
      "[[21]]\n",
      "[1] 3.374621e-06 1.874621e-06 1.500000e-06 3.184935e-06 8.917019e-06\n",
      "[6] 1.587209e-05\n",
      "\n",
      "[[22]]\n",
      "[1] 3.374621e-06 1.874621e-06 1.500000e-06 3.184935e-06 8.917019e-06\n",
      "[6] 1.587209e-05\n",
      "\n",
      "[[23]]\n",
      "[1] 3.374621e-06 1.874621e-06 1.500000e-06 3.184935e-06 8.917019e-06\n",
      "[6] 1.587209e-05\n",
      "\n",
      "[[24]]\n",
      "[1] 3.374621e-06 1.874621e-06 1.500000e-06 3.184935e-06 8.917019e-06\n",
      "[6] 1.587209e-05\n",
      "\n",
      "[[25]]\n",
      "[1] 2.874621e-06 1.874621e-06 1.000000e-06 2.684935e-06 8.417019e-06\n",
      "[6] 1.537209e-05\n",
      "\n",
      "[[26]]\n",
      "[1] 2.874621e-06 1.874621e-06 1.000000e-06 2.684935e-06 8.417019e-06\n",
      "[6] 1.537209e-05\n",
      "\n",
      "[[27]]\n",
      "[1] 2.874621e-06 1.874621e-06 1.000000e-06 2.684935e-06 8.417019e-06\n",
      "[6] 1.537209e-05\n",
      "\n",
      "[[28]]\n",
      "[1] 2.874621e-06 1.874621e-06 1.000000e-06 2.684935e-06 8.417019e-06\n",
      "[6] 1.537209e-05\n",
      "\n",
      "[[29]]\n",
      "[1] 2.874621e-06 1.874621e-06 1.000000e-06 2.684935e-06 8.417019e-06\n",
      "[6] 1.537209e-05\n",
      "\n",
      "[[30]]\n",
      "[1] 2.874621e-06 1.874621e-06 1.000000e-06 2.684935e-06 8.417019e-06\n",
      "[6] 1.537209e-05\n",
      "\n",
      "[[31]]\n",
      "[1] 2.874621e-06 1.874621e-06 1.000000e-06 2.684935e-06 8.417019e-06\n",
      "[6] 1.537209e-05\n",
      "\n",
      "[[32]]\n",
      "[1] 2.874621e-06 1.874621e-06 1.000000e-06 2.684935e-06 8.417019e-06\n",
      "[6] 1.537209e-05\n",
      "\n",
      "[[33]]\n",
      "[1] 2.874621e-06 1.874621e-06 1.000000e-06 2.684935e-06 8.417019e-06\n",
      "[6] 1.537209e-05\n",
      "\n",
      "[[34]]\n",
      "[1] 2.874621e-06 1.874621e-06 1.000000e-06 2.684935e-06 8.417019e-06\n",
      "[6] 1.537209e-05\n",
      "\n",
      "[[35]]\n",
      "[1] 2.874621e-06 1.874621e-06 1.000000e-06 2.684935e-06 8.417019e-06\n",
      "[6] 1.537209e-05\n",
      "\n",
      "[[36]]\n",
      "[1] 2.874621e-06 1.874621e-06 1.000000e-06 2.684935e-06 8.417019e-06\n",
      "[6] 1.537209e-05\n",
      "\n",
      "[[37]]\n",
      "[1] 2.874621e-06 1.874621e-06 1.000000e-06 2.684935e-06 8.417019e-06\n",
      "[6] 1.537209e-05\n",
      "\n",
      "[[38]]\n",
      "[1] 2.874621e-06 1.874621e-06 1.000000e-06 2.684935e-06 8.417019e-06\n",
      "[6] 1.537209e-05\n",
      "\n",
      "[[39]]\n",
      "[1] 2.874621e-06 1.874621e-06 1.000000e-06 2.684935e-06 8.417019e-06\n",
      "[6] 1.537209e-05\n",
      "\n",
      "[[40]]\n",
      "[1]   0   0 NaN   0   0   0\n",
      "\n",
      "[[41]]\n",
      "[1]   0   0 NaN   0   0   0\n",
      "\n",
      "[[42]]\n",
      "[1]   0   0 NaN   0   0   0\n",
      "\n",
      "[[43]]\n",
      "[1]   0   0 NaN   0   0   0\n",
      "\n",
      "[[44]]\n",
      "[1]   0   0 NaN   0   0   0\n",
      "\n",
      "[[45]]\n",
      "[1] 2.874621e-06 1.874621e-06 1.000000e-06 2.684935e-06 8.417019e-06\n",
      "[6] 1.537209e-05\n",
      "\n",
      "[[46]]\n",
      "[1] 2.874621e-06 1.874621e-06 1.000000e-06 2.684935e-06 8.417019e-06\n",
      "[6] 1.537209e-05\n",
      "\n",
      "[[47]]\n",
      "[1] 2.874621e-06 1.874621e-06 1.000000e-06 2.684935e-06 8.417019e-06\n",
      "[6] 1.537209e-05\n",
      "\n",
      "[[48]]\n",
      "[1] 2.874621e-06 1.874621e-06 1.000000e-06 2.684935e-06 8.417019e-06\n",
      "[6] 1.537209e-05\n",
      "\n",
      "[[49]]\n",
      "[1] 2.874621e-06 1.874621e-06 1.000000e-06 2.684935e-06 8.417019e-06\n",
      "[6] 1.537209e-05\n",
      "\n",
      "[[50]]\n",
      "[1] 2.874621e-06 1.874621e-06 1.000000e-06 2.684935e-06 8.417019e-06\n",
      "[6] 1.537209e-05\n",
      "\n",
      "[[51]]\n",
      "[1] 2.874621e-06 1.874621e-06 1.000000e-06 2.684935e-06 8.417019e-06\n",
      "[6] 1.537209e-05\n",
      "\n",
      "[[52]]\n",
      "[1] 6.249241e-06 3.749241e-06 2.500000e-06 6.056360e-06 1.363177e-05\n",
      "[6] 2.392334e-05\n",
      "\n",
      "[[53]]\n",
      "[1] 7.124368e-06 3.124368e-06 4.000000e-06 7.024988e-06 1.445597e-05\n",
      "[6] 2.185278e-05\n",
      "\n",
      "[[54]]\n",
      "[1] 7.124368e-06 3.124368e-06 4.000000e-06 7.024988e-06 1.445597e-05\n",
      "[6] 2.185278e-05\n",
      "\n",
      "[[55]]\n",
      "[1] 3.062184e-06 1.562184e-06 1.500000e-06 2.954157e-06 8.040469e-06\n",
      "[6] 1.347674e-05\n",
      "\n",
      "[[56]]\n",
      "[1] 3.062184e-06 1.562184e-06 1.500000e-06 2.954157e-06 8.040469e-06\n",
      "[6] 1.347674e-05\n",
      "\n",
      "[[57]]\n",
      "[1] 3.062184e-06 1.562184e-06 1.500000e-06 2.954157e-06 8.040469e-06\n",
      "[6] 1.347674e-05\n",
      "\n",
      "[[58]]\n",
      "[1] 3.062184e-06 1.562184e-06 1.500000e-06 2.954157e-06 8.040469e-06\n",
      "[6] 1.347674e-05\n",
      "\n",
      "[[59]]\n",
      "[1] 6.624368e-06 3.124368e-06 3.500000e-06 6.524988e-06 1.395597e-05\n",
      "[6] 2.135278e-05\n",
      "\n",
      "[[60]]\n",
      "[1] 3.062184e-06 1.562184e-06 1.500000e-06 2.954157e-06 8.040469e-06\n",
      "[6] 1.347674e-05\n",
      "\n",
      "[[61]]\n",
      "[1]   0   0 NaN   0   0   0\n",
      "\n",
      "[[62]]\n",
      "[1]   0   0 NaN   0   0   0\n",
      "\n",
      "[[63]]\n",
      "[1]   0   0 NaN   0   0   0\n",
      "\n",
      "[[64]]\n",
      "[1]   0   0 NaN   0   0   0\n",
      "\n",
      "[[65]]\n",
      "[1]   0   0 NaN   0   0   0\n",
      "\n",
      "[[66]]\n",
      "[1]   0   0 NaN   0   0   0\n",
      "\n",
      "[[67]]\n",
      "[1]   0   0 NaN   0   0   0\n",
      "\n",
      "[[68]]\n",
      "[1]   0   0 NaN   0   0   0\n",
      "\n",
      "[[69]]\n",
      "[1]   0   0 NaN   0   0   0\n",
      "\n",
      "[[70]]\n",
      "[1]   0   0 NaN   0   0   0\n",
      "\n",
      "[[71]]\n",
      "[1]   0   0 NaN   0   0   0\n",
      "\n",
      "[[72]]\n",
      "[1] 3.374621e-06 1.874621e-06 1.500000e-06 3.184935e-06 8.917019e-06\n",
      "[6] 1.587209e-05\n",
      "\n",
      "[[73]]\n",
      "[1] 3.062184e-06 1.562184e-06 1.500000e-06 2.954157e-06 8.040469e-06\n",
      "[6] 1.347674e-05\n",
      "\n",
      "[[74]]\n",
      "[1] 3.062184e-06 1.562184e-06 1.500000e-06 2.954157e-06 8.040469e-06\n",
      "[6] 1.347674e-05\n",
      "\n",
      "[[75]]\n",
      "[1] 3.062184e-06 1.562184e-06 1.500000e-06 2.954157e-06 8.040469e-06\n",
      "[6] 1.347674e-05\n",
      "\n",
      "[[76]]\n",
      "[1] 3.062184e-06 1.562184e-06 1.500000e-06 2.954157e-06 8.040469e-06\n",
      "[6] 1.347674e-05\n",
      "\n",
      "[[77]]\n",
      "[1] 2.339015e-06 1.339015e-06 1.000000e-06 2.310505e-06 7.218208e-06\n",
      "[6] 1.126578e-05\n",
      "\n",
      "[[78]]\n",
      "[1] 2.339015e-06 1.339015e-06 1.000000e-06 2.310505e-06 7.218208e-06\n",
      "[6] 1.126578e-05\n",
      "\n",
      "[[79]]\n",
      "[1] 2.339015e-06 1.339015e-06 1.000000e-06 2.310505e-06 7.218208e-06\n",
      "[6] 1.126578e-05\n",
      "\n",
      "[[80]]\n",
      "[1] 2.339015e-06 1.339015e-06 1.000000e-06 2.310505e-06 7.218208e-06\n",
      "[6] 1.126578e-05\n",
      "\n",
      "[[81]]\n",
      "[1] 2.339015e-06 1.339015e-06 1.000000e-06 2.310505e-06 7.218208e-06\n",
      "[6] 1.126578e-05\n",
      "\n",
      "[[82]]\n",
      "[1] 2.339015e-06 1.339015e-06 1.000000e-06 2.310505e-06 7.218208e-06\n",
      "[6] 1.126578e-05\n",
      "\n",
      "[[83]]\n",
      "[1] 2.339015e-06 1.339015e-06 1.000000e-06 2.310505e-06 7.218208e-06\n",
      "[6] 1.126578e-05\n",
      "\n",
      "[[84]]\n",
      "[1] 2.339015e-06 1.339015e-06 1.000000e-06 2.310505e-06 7.218208e-06\n",
      "[6] 1.126578e-05\n",
      "\n",
      "[[85]]\n",
      "[1] 2.339015e-06 1.339015e-06 1.000000e-06 2.310505e-06 7.218208e-06\n",
      "[6] 1.126578e-05\n",
      "\n",
      "[[86]]\n",
      "[1] 2.339015e-06 1.339015e-06 1.000000e-06 2.310505e-06 7.218208e-06\n",
      "[6] 1.126578e-05\n",
      "\n",
      "[[87]]\n",
      "[1] 2.339015e-06 1.339015e-06 1.000000e-06 2.310505e-06 7.218208e-06\n",
      "[6] 1.126578e-05\n",
      "\n",
      "[[88]]\n",
      "[1] 2.339015e-06 1.339015e-06 1.000000e-06 2.310505e-06 7.218208e-06\n",
      "[6] 1.126578e-05\n",
      "\n",
      "[[89]]\n",
      "[1] 2.339015e-06 1.339015e-06 1.000000e-06 2.310505e-06 7.218208e-06\n",
      "[6] 1.126578e-05\n",
      "\n",
      "[[90]]\n",
      "[1] 2.339015e-06 1.339015e-06 1.000000e-06 2.310505e-06 7.218208e-06\n",
      "[6] 1.126578e-05\n",
      "\n",
      "[[91]]\n",
      "[1] 2.339015e-06 1.339015e-06 1.000000e-06 2.310505e-06 7.218208e-06\n",
      "[6] 1.126578e-05\n",
      "\n",
      "[[92]]\n",
      "[1]   0   0 NaN   0   0   0\n",
      "\n",
      "[[93]]\n",
      "[1]   0   0 NaN   0   0   0\n",
      "\n",
      "[[94]]\n",
      "[1]   0   0 NaN   0   0   0\n",
      "\n",
      "[[95]]\n",
      "[1]   0   0 NaN   0   0   0\n",
      "\n",
      "[[96]]\n",
      "[1]   0   0 NaN   0   0   0\n",
      "\n",
      "[[97]]\n",
      "[1] 2.339015e-06 1.339015e-06 1.000000e-06 2.310505e-06 7.218208e-06\n",
      "[6] 1.126578e-05\n",
      "\n",
      "[[98]]\n",
      "[1] 2.339015e-06 1.339015e-06 1.000000e-06 2.310505e-06 7.218208e-06\n",
      "[6] 1.126578e-05\n",
      "\n",
      "[[99]]\n",
      "[1] 2.339015e-06 1.339015e-06 1.000000e-06 2.310505e-06 7.218208e-06\n",
      "[6] 1.126578e-05\n",
      "\n",
      "[[100]]\n",
      "[1] 2.339015e-06 1.339015e-06 1.000000e-06 2.310505e-06 7.218208e-06\n",
      "[6] 1.126578e-05\n",
      "\n",
      "[[101]]\n",
      "[1] 2.339015e-06 1.339015e-06 1.000000e-06 2.310505e-06 7.218208e-06\n",
      "[6] 1.126578e-05\n",
      "\n",
      "[[102]]\n",
      "[1] 2.339015e-06 1.339015e-06 1.000000e-06 2.310505e-06 7.218208e-06\n",
      "[6] 1.126578e-05\n",
      "\n",
      "[[103]]\n",
      "[1] 2.339015e-06 1.339015e-06 1.000000e-06 2.310505e-06 7.218208e-06\n",
      "[6] 1.126578e-05\n",
      "\n",
      "[[104]]\n",
      "[1] 5.713636e-06 3.213636e-06 2.500000e-06 5.987720e-06 1.624211e-05\n",
      "[6] 2.107182e-05\n",
      "\n",
      "\u001b[90m# A tibble: 104 × 11\u001b[39m\n",
      "   sourceID destinationID trafficGbps service traffic_ps latencyPropTransQueui…¹\n",
      "   \u001b[3m\u001b[90m<chr>\u001b[39m\u001b[23m    \u001b[3m\u001b[90m<chr>\u001b[39m\u001b[23m               \u001b[3m\u001b[90m<dbl>\u001b[39m\u001b[23m \u001b[3m\u001b[90m<chr>\u001b[39m\u001b[23m        \u001b[3m\u001b[90m<dbl>\u001b[39m\u001b[23m                   \u001b[3m\u001b[90m<dbl>\u001b[39m\u001b[23m\n",
      "\u001b[90m 1\u001b[39m Node1    Node9                   3 CWB        \u001b[4m3\u001b[24m\u001b[4m6\u001b[24m\u001b[4m7\u001b[24m995.              0.000\u001b[4m0\u001b[24m\u001b[4m0\u001b[24m\u001b[4m7\u001b[24m44\n",
      "\u001b[90m 2\u001b[39m Node2    Node16                  3 CWB        \u001b[4m3\u001b[24m\u001b[4m6\u001b[24m\u001b[4m7\u001b[24m995.              0.000\u001b[4m0\u001b[24m\u001b[4m0\u001b[24m\u001b[4m7\u001b[24m44\n",
      "\u001b[90m 3\u001b[39m Node3    Node11                  3 CWB        \u001b[4m3\u001b[24m\u001b[4m6\u001b[24m\u001b[4m7\u001b[24m995.              0.000\u001b[4m0\u001b[24m\u001b[4m0\u001b[24m\u001b[4m3\u001b[24m37\n",
      "\u001b[90m 4\u001b[39m Node4    Node13                  3 CWB        \u001b[4m3\u001b[24m\u001b[4m6\u001b[24m\u001b[4m7\u001b[24m995.              0.000\u001b[4m0\u001b[24m\u001b[4m0\u001b[24m\u001b[4m3\u001b[24m37\n",
      "\u001b[90m 5\u001b[39m Node5    Node16                  3 CWB        \u001b[4m3\u001b[24m\u001b[4m6\u001b[24m\u001b[4m7\u001b[24m995.              0.000\u001b[4m0\u001b[24m\u001b[4m0\u001b[24m\u001b[4m3\u001b[24m37\n",
      "\u001b[90m 6\u001b[39m Node6    Node19                  3 CWB        \u001b[4m3\u001b[24m\u001b[4m6\u001b[24m\u001b[4m7\u001b[24m995.              0.000\u001b[4m0\u001b[24m\u001b[4m0\u001b[24m\u001b[4m3\u001b[24m37\n",
      "\u001b[90m 7\u001b[39m Node7    Node9                   3 CWB        \u001b[4m3\u001b[24m\u001b[4m6\u001b[24m\u001b[4m7\u001b[24m995.              0.000\u001b[4m0\u001b[24m\u001b[4m0\u001b[24m\u001b[4m6\u001b[24m94\n",
      "\u001b[90m 8\u001b[39m Node8    Node9                   3 CWB        \u001b[4m3\u001b[24m\u001b[4m6\u001b[24m\u001b[4m7\u001b[24m995.              0.000\u001b[4m0\u001b[24m\u001b[4m0\u001b[24m\u001b[4m3\u001b[24m37\n",
      "\u001b[90m 9\u001b[39m Node9    Node9                   3 CWB        \u001b[4m3\u001b[24m\u001b[4m6\u001b[24m\u001b[4m7\u001b[24m995.              0         \n",
      "\u001b[90m10\u001b[39m Node10   Node10                  3 CWB        \u001b[4m3\u001b[24m\u001b[4m6\u001b[24m\u001b[4m7\u001b[24m995.              0         \n",
      "\u001b[90m# ℹ 94 more rows\u001b[39m\n",
      "\u001b[90m# ℹ abbreviated name: ¹​latencyPropTransQueuing_theor_s_mg1\u001b[39m\n",
      "\u001b[90m# ℹ 5 more variables: latencyPercentile99_theor_s_mg1 <dbl>, Delay_sim_s <dbl>,\u001b[39m\n",
      "\u001b[90m#   Delay_th_s <dbl>, D99_sim_s <dbl>, VPbound_99th_s <dbl>\u001b[39m\n",
      "\u001b[90m# A tibble: 72 × 11\u001b[39m\n",
      "   sourceID destinationID trafficGbps service traffic_ps latencyPropTransQueui…¹\n",
      "   \u001b[3m\u001b[90m<chr>\u001b[39m\u001b[23m    \u001b[3m\u001b[90m<chr>\u001b[39m\u001b[23m               \u001b[3m\u001b[90m<dbl>\u001b[39m\u001b[23m \u001b[3m\u001b[90m<chr>\u001b[39m\u001b[23m        \u001b[3m\u001b[90m<dbl>\u001b[39m\u001b[23m                   \u001b[3m\u001b[90m<dbl>\u001b[39m\u001b[23m\n",
      "\u001b[90m 1\u001b[39m Node1    Node9                   3 CWB        \u001b[4m3\u001b[24m\u001b[4m6\u001b[24m\u001b[4m7\u001b[24m995.              0.000\u001b[4m0\u001b[24m\u001b[4m0\u001b[24m\u001b[4m7\u001b[24m44\n",
      "\u001b[90m 2\u001b[39m Node2    Node16                  3 CWB        \u001b[4m3\u001b[24m\u001b[4m6\u001b[24m\u001b[4m7\u001b[24m995.              0.000\u001b[4m0\u001b[24m\u001b[4m0\u001b[24m\u001b[4m7\u001b[24m44\n",
      "\u001b[90m 3\u001b[39m Node3    Node11                  3 CWB        \u001b[4m3\u001b[24m\u001b[4m6\u001b[24m\u001b[4m7\u001b[24m995.              0.000\u001b[4m0\u001b[24m\u001b[4m0\u001b[24m\u001b[4m3\u001b[24m37\n",
      "\u001b[90m 4\u001b[39m Node4    Node13                  3 CWB        \u001b[4m3\u001b[24m\u001b[4m6\u001b[24m\u001b[4m7\u001b[24m995.              0.000\u001b[4m0\u001b[24m\u001b[4m0\u001b[24m\u001b[4m3\u001b[24m37\n",
      "\u001b[90m 5\u001b[39m Node5    Node16                  3 CWB        \u001b[4m3\u001b[24m\u001b[4m6\u001b[24m\u001b[4m7\u001b[24m995.              0.000\u001b[4m0\u001b[24m\u001b[4m0\u001b[24m\u001b[4m3\u001b[24m37\n",
      "\u001b[90m 6\u001b[39m Node6    Node19                  3 CWB        \u001b[4m3\u001b[24m\u001b[4m6\u001b[24m\u001b[4m7\u001b[24m995.              0.000\u001b[4m0\u001b[24m\u001b[4m0\u001b[24m\u001b[4m3\u001b[24m37\n",
      "\u001b[90m 7\u001b[39m Node7    Node9                   3 CWB        \u001b[4m3\u001b[24m\u001b[4m6\u001b[24m\u001b[4m7\u001b[24m995.              0.000\u001b[4m0\u001b[24m\u001b[4m0\u001b[24m\u001b[4m6\u001b[24m94\n",
      "\u001b[90m 8\u001b[39m Node8    Node9                   3 CWB        \u001b[4m3\u001b[24m\u001b[4m6\u001b[24m\u001b[4m7\u001b[24m995.              0.000\u001b[4m0\u001b[24m\u001b[4m0\u001b[24m\u001b[4m3\u001b[24m37\n",
      "\u001b[90m 9\u001b[39m Node20   Node19                  3 CWB        \u001b[4m3\u001b[24m\u001b[4m6\u001b[24m\u001b[4m7\u001b[24m995.              0.000\u001b[4m0\u001b[24m\u001b[4m0\u001b[24m\u001b[4m3\u001b[24m37\n",
      "\u001b[90m10\u001b[39m Node21   Node40                  3 CWB        \u001b[4m3\u001b[24m\u001b[4m6\u001b[24m\u001b[4m7\u001b[24m995.              0.000\u001b[4m0\u001b[24m\u001b[4m0\u001b[24m\u001b[4m3\u001b[24m37\n",
      "\u001b[90m# ℹ 62 more rows\u001b[39m\n",
      "\u001b[90m# ℹ abbreviated name: ¹​latencyPropTransQueuing_theor_s_mg1\u001b[39m\n",
      "\u001b[90m# ℹ 5 more variables: latencyPercentile99_theor_s_mg1 <dbl>, Delay_sim_s <dbl>,\u001b[39m\n",
      "\u001b[90m#   Delay_th_s <dbl>, D99_sim_s <dbl>, VPbound_99th_s <dbl>\u001b[39m\n",
      "Total memory usage: 1576.035 MB\n"
     ]
    },
    {
     "data": {
      "text/html": [
       "<table class=\"dataframe\">\n",
       "<caption>A matrix: 2 × 6 of type dbl</caption>\n",
       "<thead>\n",
       "\t<tr><th></th><th scope=col>used</th><th scope=col>(Mb)</th><th scope=col>gc trigger</th><th scope=col>(Mb)</th><th scope=col>max used</th><th scope=col>(Mb)</th></tr>\n",
       "</thead>\n",
       "<tbody>\n",
       "\t<tr><th scope=row>Ncells</th><td>1408632</td><td>75.3</td><td>2491864</td><td>133.1</td><td>2491864</td><td>133.1</td></tr>\n",
       "\t<tr><th scope=row>Vcells</th><td>2578608</td><td>19.7</td><td>8388608</td><td> 64.0</td><td>8386473</td><td> 64.0</td></tr>\n",
       "</tbody>\n",
       "</table>\n"
      ],
      "text/latex": [
       "A matrix: 2 × 6 of type dbl\n",
       "\\begin{tabular}{r|llllll}\n",
       "  & used & (Mb) & gc trigger & (Mb) & max used & (Mb)\\\\\n",
       "\\hline\n",
       "\tNcells & 1408632 & 75.3 & 2491864 & 133.1 & 2491864 & 133.1\\\\\n",
       "\tVcells & 2578608 & 19.7 & 8388608 &  64.0 & 8386473 &  64.0\\\\\n",
       "\\end{tabular}\n"
      ],
      "text/markdown": [
       "\n",
       "A matrix: 2 × 6 of type dbl\n",
       "\n",
       "| <!--/--> | used | (Mb) | gc trigger | (Mb) | max used | (Mb) |\n",
       "|---|---|---|---|---|---|---|\n",
       "| Ncells | 1408632 | 75.3 | 2491864 | 133.1 | 2491864 | 133.1 |\n",
       "| Vcells | 2578608 | 19.7 | 8388608 |  64.0 | 8386473 |  64.0 |\n",
       "\n"
      ],
      "text/plain": [
       "       used    (Mb) gc trigger (Mb)  max used (Mb) \n",
       "Ncells 1408632 75.3 2491864    133.1 2491864  133.1\n",
       "Vcells 2578608 19.7 8388608     64.0 8386473   64.0"
      ]
     },
     "metadata": {},
     "output_type": "display_data"
    }
   ],
   "source": [
    "start_mem <- mem_usage_calc()\n",
    "start_time <- proc.time()\n",
    "c(traffic_file$Delay_sim_s, traffic_file$Delay_th_s, traffic_file$D99_sim_s, traffic_file$VPbound_99th_s, g_c10) :=\n",
    "  simulation_simmer(g_c10, traffic_file, PS_size, PS_weights, load = 0.3,\n",
    "  CapacityGbps = CapacityGbps, ncores=4)\n",
    "print(traffic_file)\n",
    "# c(traffic_file$Delay_sim_s, traffic_file$Delay_th_s, traffic_file$D99_sim_s, traffic_file$VPbound_99th_s, g_c10) := simulation_simmer(g_c10, traffic_file, PS_size, PS_weights, load = 0.3, CapacityGbps = CapacityGbps)\n",
    "traffic_file_v2 <- dplyr::filter(traffic_file, VPbound_99th_s != 0)\n",
    "print(traffic_file_v2)\n",
    "end_time <- proc.time()\n",
    "end_mem <- mem_usage_calc()\n",
    "gc(full=TRUE)"
   ]
  },
  {
   "cell_type": "code",
   "execution_count": 26,
   "metadata": {
    "colab": {
     "base_uri": "https://localhost:8080/",
     "height": 117
    },
    "id": "YMIxyAP-43-I",
    "outputId": "48ec7e1e-b5dc-4b9a-90cb-b82b7b3d7b1f",
    "vscode": {
     "languageId": "r"
    }
   },
   "outputs": [
    {
     "data": {
      "text/html": [
       "<table class=\"dataframe\">\n",
       "<caption>A tibble: 0 × 11</caption>\n",
       "<thead>\n",
       "\t<tr><th scope=col>sourceID</th><th scope=col>destinationID</th><th scope=col>trafficGbps</th><th scope=col>service</th><th scope=col>traffic_ps</th><th scope=col>latencyPropTransQueuing_theor_s_mg1</th><th scope=col>latencyPercentile99_theor_s_mg1</th><th scope=col>Delay_sim_s</th><th scope=col>Delay_th_s</th><th scope=col>D99_sim_s</th><th scope=col>VPbound_99th_s</th></tr>\n",
       "\t<tr><th scope=col>&lt;chr&gt;</th><th scope=col>&lt;chr&gt;</th><th scope=col>&lt;dbl&gt;</th><th scope=col>&lt;chr&gt;</th><th scope=col>&lt;dbl&gt;</th><th scope=col>&lt;dbl&gt;</th><th scope=col>&lt;dbl&gt;</th><th scope=col>&lt;dbl&gt;</th><th scope=col>&lt;dbl&gt;</th><th scope=col>&lt;dbl&gt;</th><th scope=col>&lt;dbl&gt;</th></tr>\n",
       "</thead>\n",
       "<tbody>\n",
       "</tbody>\n",
       "</table>\n"
      ],
      "text/latex": [
       "A tibble: 0 × 11\n",
       "\\begin{tabular}{lllllllllll}\n",
       " sourceID & destinationID & trafficGbps & service & traffic\\_ps & latencyPropTransQueuing\\_theor\\_s\\_mg1 & latencyPercentile99\\_theor\\_s\\_mg1 & Delay\\_sim\\_s & Delay\\_th\\_s & D99\\_sim\\_s & VPbound\\_99th\\_s\\\\\n",
       " <chr> & <chr> & <dbl> & <chr> & <dbl> & <dbl> & <dbl> & <dbl> & <dbl> & <dbl> & <dbl>\\\\\n",
       "\\hline\n",
       "\\end{tabular}\n"
      ],
      "text/markdown": [
       "\n",
       "A tibble: 0 × 11\n",
       "\n",
       "| sourceID &lt;chr&gt; | destinationID &lt;chr&gt; | trafficGbps &lt;dbl&gt; | service &lt;chr&gt; | traffic_ps &lt;dbl&gt; | latencyPropTransQueuing_theor_s_mg1 &lt;dbl&gt; | latencyPercentile99_theor_s_mg1 &lt;dbl&gt; | Delay_sim_s &lt;dbl&gt; | Delay_th_s &lt;dbl&gt; | D99_sim_s &lt;dbl&gt; | VPbound_99th_s &lt;dbl&gt; |\n",
       "|---|---|---|---|---|---|---|---|---|---|---|\n",
       "\n"
      ],
      "text/plain": [
       "     sourceID destinationID trafficGbps service traffic_ps\n",
       "     latencyPropTransQueuing_theor_s_mg1 latencyPercentile99_theor_s_mg1\n",
       "     Delay_sim_s Delay_th_s D99_sim_s VPbound_99th_s"
      ]
     },
     "metadata": {},
     "output_type": "display_data"
    }
   ],
   "source": [
    "traffic_file_v2"
   ]
  },
  {
   "cell_type": "code",
   "execution_count": 95,
   "metadata": {
    "colab": {
     "base_uri": "https://localhost:8080/"
    },
    "id": "1VV8cL855wOp",
    "outputId": "759c5ea2-bf04-4f66-b9eb-fae098242d73",
    "vscode": {
     "languageId": "r"
    }
   },
   "outputs": [
    {
     "name": "stdout",
     "output_type": "stream",
     "text": [
      "Total memory usage: 1422.445 MB\n",
      "Memory usage during code execution:\n",
      "  Used memory:  -787496 Mb \n",
      "Execution time on DES:\n",
      " Elapsed: 1545.738 seconds\n"
     ]
    }
   ],
   "source": [
    "end_time <- proc.time()\n",
    "end_mem <- mem_usage_calc()#end_time <- proc.time()\n",
    "#end_mem <- mem_usage_calc()\n",
    "execution_time <- end_time - start_time\n",
    "memory_used <- end_mem - start_mem\n",
    "# Print with a custom message\n",
    "cat(\"Memory usage during code execution:\\n\")\n",
    "cat(\"  Used memory: \", memory_used, \"Mb \\n\")\n",
    "cat(sprintf(\"Execution time on DES:\\n Elapsed: %.3f seconds\\n\",\n",
    "            execution_time[\"elapsed\"]))"
   ]
  },
  {
   "cell_type": "code",
   "execution_count": null,
   "metadata": {
    "colab": {
     "base_uri": "https://localhost:8080/",
     "height": 1000
    },
    "id": "OUAFSkBqr_1G",
    "outputId": "aa69fd56-956e-441f-a3fa-a0591e9874ab",
    "vscode": {
     "languageId": "r"
    }
   },
   "outputs": [
    {
     "name": "stdout",
     "output_type": "stream",
     "text": [
      "[1] 1261032\n"
     ]
    },
    {
     "data": {
      "text/html": [
       "<table class=\"dataframe\">\n",
       "<caption>A matrix: 2 × 6 of type dbl</caption>\n",
       "<thead>\n",
       "\t<tr><th></th><th scope=col>used</th><th scope=col>(Mb)</th><th scope=col>gc trigger</th><th scope=col>(Mb)</th><th scope=col>max used</th><th scope=col>(Mb)</th></tr>\n",
       "</thead>\n",
       "<tbody>\n",
       "\t<tr><th scope=row>Ncells</th><td>1433131</td><td>76.6</td><td> 5778985</td><td>308.7</td><td> 7223731</td><td>385.8</td></tr>\n",
       "\t<tr><th scope=row>Vcells</th><td>4571546</td><td>34.9</td><td>51551634</td><td>393.4</td><td>53432351</td><td>407.7</td></tr>\n",
       "</tbody>\n",
       "</table>\n"
      ],
      "text/latex": [
       "A matrix: 2 × 6 of type dbl\n",
       "\\begin{tabular}{r|llllll}\n",
       "  & used & (Mb) & gc trigger & (Mb) & max used & (Mb)\\\\\n",
       "\\hline\n",
       "\tNcells & 1433131 & 76.6 &  5778985 & 308.7 &  7223731 & 385.8\\\\\n",
       "\tVcells & 4571546 & 34.9 & 51551634 & 393.4 & 53432351 & 407.7\\\\\n",
       "\\end{tabular}\n"
      ],
      "text/markdown": [
       "\n",
       "A matrix: 2 × 6 of type dbl\n",
       "\n",
       "| <!--/--> | used | (Mb) | gc trigger | (Mb) | max used | (Mb) |\n",
       "|---|---|---|---|---|---|---|\n",
       "| Ncells | 1433131 | 76.6 |  5778985 | 308.7 |  7223731 | 385.8 |\n",
       "| Vcells | 4571546 | 34.9 | 51551634 | 393.4 | 53432351 | 407.7 |\n",
       "\n"
      ],
      "text/plain": [
       "       used    (Mb) gc trigger (Mb)  max used (Mb) \n",
       "Ncells 1433131 76.6  5778985   308.7  7223731 385.8\n",
       "Vcells 4571546 34.9 51551634   393.4 53432351 407.7"
      ]
     },
     "metadata": {},
     "output_type": "display_data"
    },
    {
     "name": "stdout",
     "output_type": "stream",
     "text": [
      "[1] 1267176\n",
      "                                                   num\n",
      ":=                                               56152\n",
      "a                                                 6144\n",
      "bounds_function_1w_path                          23888\n",
      "bounds_function_node                             29000\n",
      "calc_full_traffic_for_matrix                     41040\n",
      "calc_queue_delay_burst                           20888\n",
      "calc_traffic_links_for_matrix                    14200\n",
      "calc_traffic_nodes_for_matrix                    29040\n",
      "CapacityGbps                                        56\n",
      "Cs2                                                 56\n",
      "data_99                                            368\n",
      "data_av                                            368\n",
      "deg                                               1864\n",
      "end_mem                                             56\n",
      "end_time                                           848\n",
      "file_name_v2                                       232\n",
      "func_bounds_chebyshev                             5152\n",
      "func_bounds_hoeffding                            12936\n",
      "func_bounds_markov                                2856\n",
      "func_bounds_theoretical                           7464\n",
      "func_bounds_VP                                   23088\n",
      "g                                                20928\n",
      "g_c10                                            14464\n",
      "g1                                                8152\n",
      "i                                                   56\n",
      "igraph_df_calc                                    2792\n",
      "l                                                  584\n",
      "links_info                                        6952\n",
      "links_info_df                                     7784\n",
      "Load_local                                          56\n",
      "Load_national                                       56\n",
      "Load_regional                                       56\n",
      "mem_usage_calc                                   28216\n",
      "N                                                   56\n",
      "national_nodes                                      64\n",
      "nodes_info                                        7192\n",
      "parallel_simmer_simulation                       56672\n",
      "prefix_base                                        112\n",
      "prop_queue_tr_delay_e2e                         187608\n",
      "PS_size                                            112\n",
      "PS_weights                                         112\n",
      "read.transposed.xlsx                              4256\n",
      "regional_nodes                                      64\n",
      "simmer_crosstrajectory_simulation                26464\n",
      "simmer_crosstrajectory_simulation_mg1            32120\n",
      "simmer_generator                                  2464\n",
      "simmer_node_trajectory                            4088\n",
      "simmer_resources                                  2968\n",
      "simmer_simulation                                 8632\n",
      "simmer_simulation_mg1                             8520\n",
      "simmer_trajectory_simulation                     30768\n",
      "simmer_trajectory_simulation_gg1                 30768\n",
      "simmer_trajectory_simulation_mg1                 38944\n",
      "simmer_trajectory_simulation_without_prop_delay  29760\n",
      "simulation_igraph                               196608\n",
      "simulation_simmer                               180296\n",
      "start_mem                                           56\n",
      "start_time                                         848\n",
      "topology_choice                                    112\n",
      "topology_name                                      112\n",
      "traffic_file                                      9320\n",
      "traffic_file_v2                                   8792\n",
      "update_file                                      33440\n",
      "var_N                                               56\n"
     ]
    }
   ],
   "source": [
    "a = data.frame(sapply(ls(),function(x){object.size(get(x))}))\n",
    "names(a)[1] <- \"num\"\n",
    "print(sum(a[1]))\n",
    "#rm(traffic_file_v2)\n",
    "gc()\n",
    "a = data.frame(sapply(ls(),function(x){object.size(get(x))}))\n",
    "names(a)[1] <- \"num\"\n",
    "print(sum(a[1]))\n",
    "#install.packages(\"pryr\")\n",
    "#library(pryr)\n",
    "print(a)\n"
   ]
  },
  {
   "cell_type": "markdown",
   "metadata": {
    "id": "cog-kehi2QXz"
   },
   "source": [
    "#Results"
   ]
  },
  {
   "cell_type": "code",
   "execution_count": null,
   "metadata": {
    "colab": {
     "base_uri": "https://localhost:8080/",
     "height": 1000
    },
    "id": "8HZSEd-f2nyR",
    "outputId": "be1886b4-08e8-4e25-ec33-44ca7069cfb2",
    "vscode": {
     "languageId": "r"
    }
   },
   "outputs": [
    {
     "data": {
      "text/html": [
       "<table class=\"dataframe\">\n",
       "<caption>A tibble: 202 × 5</caption>\n",
       "<thead>\n",
       "\t<tr><th scope=col>sourceID</th><th scope=col>destinationID</th><th scope=col>distanceKm</th><th scope=col>capacityGbps</th><th scope=col>prop_delay_s</th></tr>\n",
       "\t<tr><th scope=col>&lt;chr&gt;</th><th scope=col>&lt;chr&gt;</th><th scope=col>&lt;dbl&gt;</th><th scope=col>&lt;dbl&gt;</th><th scope=col>&lt;dbl&gt;</th></tr>\n",
       "</thead>\n",
       "<tbody>\n",
       "\t<tr><td>Node1</td><td>Node2 </td><td>1.0</td><td>   0.0000</td><td>5e-06</td></tr>\n",
       "\t<tr><td>Node1</td><td>Node3 </td><td>1.0</td><td>   0.0000</td><td>5e-06</td></tr>\n",
       "\t<tr><td>Node1</td><td>Node4 </td><td>1.0</td><td>   0.0000</td><td>5e-06</td></tr>\n",
       "\t<tr><td>Node1</td><td>Node8 </td><td>1.0</td><td>3824.0075</td><td>5e-06</td></tr>\n",
       "\t<tr><td>Node2</td><td>Node1 </td><td>1.0</td><td>   0.0000</td><td>5e-06</td></tr>\n",
       "\t<tr><td>Node2</td><td>Node5 </td><td>1.0</td><td>3997.5144</td><td>5e-06</td></tr>\n",
       "\t<tr><td>Node2</td><td>Node6 </td><td>1.0</td><td>   0.0000</td><td>5e-06</td></tr>\n",
       "\t<tr><td>Node2</td><td>Node7 </td><td>1.0</td><td>   0.0000</td><td>5e-06</td></tr>\n",
       "\t<tr><td>Node3</td><td>Node1 </td><td>1.0</td><td>   0.0000</td><td>5e-06</td></tr>\n",
       "\t<tr><td>Node3</td><td>Node4 </td><td>0.8</td><td>   0.0000</td><td>4e-06</td></tr>\n",
       "\t<tr><td>Node3</td><td>Node8 </td><td>0.8</td><td>   0.0000</td><td>4e-06</td></tr>\n",
       "\t<tr><td>Node3</td><td>Node11</td><td>0.6</td><td>2881.1857</td><td>3e-06</td></tr>\n",
       "\t<tr><td>Node3</td><td>Node12</td><td>0.6</td><td>   0.0000</td><td>3e-06</td></tr>\n",
       "\t<tr><td>Node4</td><td>Node1 </td><td>1.0</td><td>   0.0000</td><td>5e-06</td></tr>\n",
       "\t<tr><td>Node4</td><td>Node3 </td><td>0.8</td><td>   0.0000</td><td>4e-06</td></tr>\n",
       "\t<tr><td>Node4</td><td>Node5 </td><td>0.8</td><td>   0.0000</td><td>4e-06</td></tr>\n",
       "\t<tr><td>Node4</td><td>Node13</td><td>0.6</td><td>4565.5323</td><td>3e-06</td></tr>\n",
       "\t<tr><td>Node4</td><td>Node14</td><td>0.6</td><td>   0.0000</td><td>3e-06</td></tr>\n",
       "\t<tr><td>Node4</td><td>Node15</td><td>0.6</td><td>   0.0000</td><td>3e-06</td></tr>\n",
       "\t<tr><td>Node5</td><td>Node2 </td><td>1.0</td><td> 434.3485</td><td>5e-06</td></tr>\n",
       "\t<tr><td>Node5</td><td>Node4 </td><td>0.8</td><td>   0.0000</td><td>4e-06</td></tr>\n",
       "\t<tr><td>Node5</td><td>Node6 </td><td>0.8</td><td>   0.0000</td><td>4e-06</td></tr>\n",
       "\t<tr><td>Node5</td><td>Node16</td><td>0.6</td><td>5228.7994</td><td>3e-06</td></tr>\n",
       "\t<tr><td>Node5</td><td>Node17</td><td>0.6</td><td>   0.0000</td><td>3e-06</td></tr>\n",
       "\t<tr><td>Node5</td><td>Node18</td><td>0.6</td><td>   0.0000</td><td>3e-06</td></tr>\n",
       "\t<tr><td>Node6</td><td>Node2 </td><td>1.0</td><td>   0.0000</td><td>5e-06</td></tr>\n",
       "\t<tr><td>Node6</td><td>Node5 </td><td>0.8</td><td>   0.0000</td><td>4e-06</td></tr>\n",
       "\t<tr><td>Node6</td><td>Node7 </td><td>1.0</td><td>   0.0000</td><td>5e-06</td></tr>\n",
       "\t<tr><td>Node6</td><td>Node19</td><td>0.6</td><td>6266.7480</td><td>3e-06</td></tr>\n",
       "\t<tr><td>Node6</td><td>Node20</td><td>0.6</td><td>   0.0000</td><td>3e-06</td></tr>\n",
       "\t<tr><td>⋮</td><td>⋮</td><td>⋮</td><td>⋮</td><td>⋮</td></tr>\n",
       "\t<tr><td>Node43</td><td>Node48</td><td>0.4</td><td> 428.2485</td><td>2e-06</td></tr>\n",
       "\t<tr><td>Node44</td><td>Node9 </td><td>0.6</td><td>   0.0000</td><td>3e-06</td></tr>\n",
       "\t<tr><td>Node44</td><td>Node24</td><td>0.6</td><td> 841.7477</td><td>3e-06</td></tr>\n",
       "\t<tr><td>Node44</td><td>Node43</td><td>0.6</td><td>   0.0000</td><td>3e-06</td></tr>\n",
       "\t<tr><td>Node44</td><td>Node45</td><td>0.4</td><td> 158.2845</td><td>2e-06</td></tr>\n",
       "\t<tr><td>Node44</td><td>Node46</td><td>0.4</td><td> 340.7540</td><td>2e-06</td></tr>\n",
       "\t<tr><td>Node45</td><td>Node25</td><td>0.4</td><td>   0.0000</td><td>2e-06</td></tr>\n",
       "\t<tr><td>Node45</td><td>Node44</td><td>0.4</td><td>1384.2245</td><td>2e-06</td></tr>\n",
       "\t<tr><td>Node45</td><td>Node46</td><td>0.4</td><td>   0.0000</td><td>2e-06</td></tr>\n",
       "\t<tr><td>Node46</td><td>Node44</td><td>0.4</td><td>2671.1130</td><td>2e-06</td></tr>\n",
       "\t<tr><td>Node46</td><td>Node45</td><td>0.4</td><td>   0.0000</td><td>2e-06</td></tr>\n",
       "\t<tr><td>Node46</td><td>Node47</td><td>0.4</td><td>   0.0000</td><td>2e-06</td></tr>\n",
       "\t<tr><td>Node47</td><td>Node43</td><td>0.4</td><td>7928.0408</td><td>2e-06</td></tr>\n",
       "\t<tr><td>Node47</td><td>Node46</td><td>0.4</td><td>   0.0000</td><td>2e-06</td></tr>\n",
       "\t<tr><td>Node47</td><td>Node48</td><td>0.4</td><td>   0.0000</td><td>2e-06</td></tr>\n",
       "\t<tr><td>Node48</td><td>Node43</td><td>0.4</td><td>3403.2227</td><td>2e-06</td></tr>\n",
       "\t<tr><td>Node48</td><td>Node47</td><td>0.4</td><td>   0.0000</td><td>2e-06</td></tr>\n",
       "\t<tr><td>Node48</td><td>Node49</td><td>0.4</td><td>   0.0000</td><td>2e-06</td></tr>\n",
       "\t<tr><td>Node49</td><td>Node42</td><td>0.4</td><td>4427.8470</td><td>2e-06</td></tr>\n",
       "\t<tr><td>Node49</td><td>Node48</td><td>0.4</td><td>   0.0000</td><td>2e-06</td></tr>\n",
       "\t<tr><td>Node49</td><td>Node50</td><td>0.4</td><td>   0.0000</td><td>2e-06</td></tr>\n",
       "\t<tr><td>Node50</td><td>Node41</td><td>0.4</td><td> 777.0552</td><td>2e-06</td></tr>\n",
       "\t<tr><td>Node50</td><td>Node49</td><td>0.4</td><td>   0.0000</td><td>2e-06</td></tr>\n",
       "\t<tr><td>Node50</td><td>Node51</td><td>0.4</td><td>   0.0000</td><td>2e-06</td></tr>\n",
       "\t<tr><td>Node51</td><td>Node40</td><td>0.4</td><td>5948.4903</td><td>2e-06</td></tr>\n",
       "\t<tr><td>Node51</td><td>Node50</td><td>0.4</td><td>   0.0000</td><td>2e-06</td></tr>\n",
       "\t<tr><td>Node51</td><td>Node52</td><td>0.4</td><td>   0.0000</td><td>2e-06</td></tr>\n",
       "\t<tr><td>Node52</td><td>Node20</td><td>0.4</td><td>2185.2023</td><td>2e-06</td></tr>\n",
       "\t<tr><td>Node52</td><td>Node39</td><td>0.4</td><td>   0.0000</td><td>2e-06</td></tr>\n",
       "\t<tr><td>Node52</td><td>Node51</td><td>0.4</td><td>   0.0000</td><td>2e-06</td></tr>\n",
       "</tbody>\n",
       "</table>\n"
      ],
      "text/latex": [
       "A tibble: 202 × 5\n",
       "\\begin{tabular}{lllll}\n",
       " sourceID & destinationID & distanceKm & capacityGbps & prop\\_delay\\_s\\\\\n",
       " <chr> & <chr> & <dbl> & <dbl> & <dbl>\\\\\n",
       "\\hline\n",
       "\t Node1 & Node2  & 1.0 &    0.0000 & 5e-06\\\\\n",
       "\t Node1 & Node3  & 1.0 &    0.0000 & 5e-06\\\\\n",
       "\t Node1 & Node4  & 1.0 &    0.0000 & 5e-06\\\\\n",
       "\t Node1 & Node8  & 1.0 & 3824.0075 & 5e-06\\\\\n",
       "\t Node2 & Node1  & 1.0 &    0.0000 & 5e-06\\\\\n",
       "\t Node2 & Node5  & 1.0 & 3997.5144 & 5e-06\\\\\n",
       "\t Node2 & Node6  & 1.0 &    0.0000 & 5e-06\\\\\n",
       "\t Node2 & Node7  & 1.0 &    0.0000 & 5e-06\\\\\n",
       "\t Node3 & Node1  & 1.0 &    0.0000 & 5e-06\\\\\n",
       "\t Node3 & Node4  & 0.8 &    0.0000 & 4e-06\\\\\n",
       "\t Node3 & Node8  & 0.8 &    0.0000 & 4e-06\\\\\n",
       "\t Node3 & Node11 & 0.6 & 2881.1857 & 3e-06\\\\\n",
       "\t Node3 & Node12 & 0.6 &    0.0000 & 3e-06\\\\\n",
       "\t Node4 & Node1  & 1.0 &    0.0000 & 5e-06\\\\\n",
       "\t Node4 & Node3  & 0.8 &    0.0000 & 4e-06\\\\\n",
       "\t Node4 & Node5  & 0.8 &    0.0000 & 4e-06\\\\\n",
       "\t Node4 & Node13 & 0.6 & 4565.5323 & 3e-06\\\\\n",
       "\t Node4 & Node14 & 0.6 &    0.0000 & 3e-06\\\\\n",
       "\t Node4 & Node15 & 0.6 &    0.0000 & 3e-06\\\\\n",
       "\t Node5 & Node2  & 1.0 &  434.3485 & 5e-06\\\\\n",
       "\t Node5 & Node4  & 0.8 &    0.0000 & 4e-06\\\\\n",
       "\t Node5 & Node6  & 0.8 &    0.0000 & 4e-06\\\\\n",
       "\t Node5 & Node16 & 0.6 & 5228.7994 & 3e-06\\\\\n",
       "\t Node5 & Node17 & 0.6 &    0.0000 & 3e-06\\\\\n",
       "\t Node5 & Node18 & 0.6 &    0.0000 & 3e-06\\\\\n",
       "\t Node6 & Node2  & 1.0 &    0.0000 & 5e-06\\\\\n",
       "\t Node6 & Node5  & 0.8 &    0.0000 & 4e-06\\\\\n",
       "\t Node6 & Node7  & 1.0 &    0.0000 & 5e-06\\\\\n",
       "\t Node6 & Node19 & 0.6 & 6266.7480 & 3e-06\\\\\n",
       "\t Node6 & Node20 & 0.6 &    0.0000 & 3e-06\\\\\n",
       "\t ⋮ & ⋮ & ⋮ & ⋮ & ⋮\\\\\n",
       "\t Node43 & Node48 & 0.4 &  428.2485 & 2e-06\\\\\n",
       "\t Node44 & Node9  & 0.6 &    0.0000 & 3e-06\\\\\n",
       "\t Node44 & Node24 & 0.6 &  841.7477 & 3e-06\\\\\n",
       "\t Node44 & Node43 & 0.6 &    0.0000 & 3e-06\\\\\n",
       "\t Node44 & Node45 & 0.4 &  158.2845 & 2e-06\\\\\n",
       "\t Node44 & Node46 & 0.4 &  340.7540 & 2e-06\\\\\n",
       "\t Node45 & Node25 & 0.4 &    0.0000 & 2e-06\\\\\n",
       "\t Node45 & Node44 & 0.4 & 1384.2245 & 2e-06\\\\\n",
       "\t Node45 & Node46 & 0.4 &    0.0000 & 2e-06\\\\\n",
       "\t Node46 & Node44 & 0.4 & 2671.1130 & 2e-06\\\\\n",
       "\t Node46 & Node45 & 0.4 &    0.0000 & 2e-06\\\\\n",
       "\t Node46 & Node47 & 0.4 &    0.0000 & 2e-06\\\\\n",
       "\t Node47 & Node43 & 0.4 & 7928.0408 & 2e-06\\\\\n",
       "\t Node47 & Node46 & 0.4 &    0.0000 & 2e-06\\\\\n",
       "\t Node47 & Node48 & 0.4 &    0.0000 & 2e-06\\\\\n",
       "\t Node48 & Node43 & 0.4 & 3403.2227 & 2e-06\\\\\n",
       "\t Node48 & Node47 & 0.4 &    0.0000 & 2e-06\\\\\n",
       "\t Node48 & Node49 & 0.4 &    0.0000 & 2e-06\\\\\n",
       "\t Node49 & Node42 & 0.4 & 4427.8470 & 2e-06\\\\\n",
       "\t Node49 & Node48 & 0.4 &    0.0000 & 2e-06\\\\\n",
       "\t Node49 & Node50 & 0.4 &    0.0000 & 2e-06\\\\\n",
       "\t Node50 & Node41 & 0.4 &  777.0552 & 2e-06\\\\\n",
       "\t Node50 & Node49 & 0.4 &    0.0000 & 2e-06\\\\\n",
       "\t Node50 & Node51 & 0.4 &    0.0000 & 2e-06\\\\\n",
       "\t Node51 & Node40 & 0.4 & 5948.4903 & 2e-06\\\\\n",
       "\t Node51 & Node50 & 0.4 &    0.0000 & 2e-06\\\\\n",
       "\t Node51 & Node52 & 0.4 &    0.0000 & 2e-06\\\\\n",
       "\t Node52 & Node20 & 0.4 & 2185.2023 & 2e-06\\\\\n",
       "\t Node52 & Node39 & 0.4 &    0.0000 & 2e-06\\\\\n",
       "\t Node52 & Node51 & 0.4 &    0.0000 & 2e-06\\\\\n",
       "\\end{tabular}\n"
      ],
      "text/markdown": [
       "\n",
       "A tibble: 202 × 5\n",
       "\n",
       "| sourceID &lt;chr&gt; | destinationID &lt;chr&gt; | distanceKm &lt;dbl&gt; | capacityGbps &lt;dbl&gt; | prop_delay_s &lt;dbl&gt; |\n",
       "|---|---|---|---|---|\n",
       "| Node1 | Node2  | 1.0 |    0.0000 | 5e-06 |\n",
       "| Node1 | Node3  | 1.0 |    0.0000 | 5e-06 |\n",
       "| Node1 | Node4  | 1.0 |    0.0000 | 5e-06 |\n",
       "| Node1 | Node8  | 1.0 | 3824.0075 | 5e-06 |\n",
       "| Node2 | Node1  | 1.0 |    0.0000 | 5e-06 |\n",
       "| Node2 | Node5  | 1.0 | 3997.5144 | 5e-06 |\n",
       "| Node2 | Node6  | 1.0 |    0.0000 | 5e-06 |\n",
       "| Node2 | Node7  | 1.0 |    0.0000 | 5e-06 |\n",
       "| Node3 | Node1  | 1.0 |    0.0000 | 5e-06 |\n",
       "| Node3 | Node4  | 0.8 |    0.0000 | 4e-06 |\n",
       "| Node3 | Node8  | 0.8 |    0.0000 | 4e-06 |\n",
       "| Node3 | Node11 | 0.6 | 2881.1857 | 3e-06 |\n",
       "| Node3 | Node12 | 0.6 |    0.0000 | 3e-06 |\n",
       "| Node4 | Node1  | 1.0 |    0.0000 | 5e-06 |\n",
       "| Node4 | Node3  | 0.8 |    0.0000 | 4e-06 |\n",
       "| Node4 | Node5  | 0.8 |    0.0000 | 4e-06 |\n",
       "| Node4 | Node13 | 0.6 | 4565.5323 | 3e-06 |\n",
       "| Node4 | Node14 | 0.6 |    0.0000 | 3e-06 |\n",
       "| Node4 | Node15 | 0.6 |    0.0000 | 3e-06 |\n",
       "| Node5 | Node2  | 1.0 |  434.3485 | 5e-06 |\n",
       "| Node5 | Node4  | 0.8 |    0.0000 | 4e-06 |\n",
       "| Node5 | Node6  | 0.8 |    0.0000 | 4e-06 |\n",
       "| Node5 | Node16 | 0.6 | 5228.7994 | 3e-06 |\n",
       "| Node5 | Node17 | 0.6 |    0.0000 | 3e-06 |\n",
       "| Node5 | Node18 | 0.6 |    0.0000 | 3e-06 |\n",
       "| Node6 | Node2  | 1.0 |    0.0000 | 5e-06 |\n",
       "| Node6 | Node5  | 0.8 |    0.0000 | 4e-06 |\n",
       "| Node6 | Node7  | 1.0 |    0.0000 | 5e-06 |\n",
       "| Node6 | Node19 | 0.6 | 6266.7480 | 3e-06 |\n",
       "| Node6 | Node20 | 0.6 |    0.0000 | 3e-06 |\n",
       "| ⋮ | ⋮ | ⋮ | ⋮ | ⋮ |\n",
       "| Node43 | Node48 | 0.4 |  428.2485 | 2e-06 |\n",
       "| Node44 | Node9  | 0.6 |    0.0000 | 3e-06 |\n",
       "| Node44 | Node24 | 0.6 |  841.7477 | 3e-06 |\n",
       "| Node44 | Node43 | 0.6 |    0.0000 | 3e-06 |\n",
       "| Node44 | Node45 | 0.4 |  158.2845 | 2e-06 |\n",
       "| Node44 | Node46 | 0.4 |  340.7540 | 2e-06 |\n",
       "| Node45 | Node25 | 0.4 |    0.0000 | 2e-06 |\n",
       "| Node45 | Node44 | 0.4 | 1384.2245 | 2e-06 |\n",
       "| Node45 | Node46 | 0.4 |    0.0000 | 2e-06 |\n",
       "| Node46 | Node44 | 0.4 | 2671.1130 | 2e-06 |\n",
       "| Node46 | Node45 | 0.4 |    0.0000 | 2e-06 |\n",
       "| Node46 | Node47 | 0.4 |    0.0000 | 2e-06 |\n",
       "| Node47 | Node43 | 0.4 | 7928.0408 | 2e-06 |\n",
       "| Node47 | Node46 | 0.4 |    0.0000 | 2e-06 |\n",
       "| Node47 | Node48 | 0.4 |    0.0000 | 2e-06 |\n",
       "| Node48 | Node43 | 0.4 | 3403.2227 | 2e-06 |\n",
       "| Node48 | Node47 | 0.4 |    0.0000 | 2e-06 |\n",
       "| Node48 | Node49 | 0.4 |    0.0000 | 2e-06 |\n",
       "| Node49 | Node42 | 0.4 | 4427.8470 | 2e-06 |\n",
       "| Node49 | Node48 | 0.4 |    0.0000 | 2e-06 |\n",
       "| Node49 | Node50 | 0.4 |    0.0000 | 2e-06 |\n",
       "| Node50 | Node41 | 0.4 |  777.0552 | 2e-06 |\n",
       "| Node50 | Node49 | 0.4 |    0.0000 | 2e-06 |\n",
       "| Node50 | Node51 | 0.4 |    0.0000 | 2e-06 |\n",
       "| Node51 | Node40 | 0.4 | 5948.4903 | 2e-06 |\n",
       "| Node51 | Node50 | 0.4 |    0.0000 | 2e-06 |\n",
       "| Node51 | Node52 | 0.4 |    0.0000 | 2e-06 |\n",
       "| Node52 | Node20 | 0.4 | 2185.2023 | 2e-06 |\n",
       "| Node52 | Node39 | 0.4 |    0.0000 | 2e-06 |\n",
       "| Node52 | Node51 | 0.4 |    0.0000 | 2e-06 |\n",
       "\n"
      ],
      "text/plain": [
       "    sourceID destinationID distanceKm capacityGbps prop_delay_s\n",
       "1   Node1    Node2         1.0           0.0000    5e-06       \n",
       "2   Node1    Node3         1.0           0.0000    5e-06       \n",
       "3   Node1    Node4         1.0           0.0000    5e-06       \n",
       "4   Node1    Node8         1.0        3824.0075    5e-06       \n",
       "5   Node2    Node1         1.0           0.0000    5e-06       \n",
       "6   Node2    Node5         1.0        3997.5144    5e-06       \n",
       "7   Node2    Node6         1.0           0.0000    5e-06       \n",
       "8   Node2    Node7         1.0           0.0000    5e-06       \n",
       "9   Node3    Node1         1.0           0.0000    5e-06       \n",
       "10  Node3    Node4         0.8           0.0000    4e-06       \n",
       "11  Node3    Node8         0.8           0.0000    4e-06       \n",
       "12  Node3    Node11        0.6        2881.1857    3e-06       \n",
       "13  Node3    Node12        0.6           0.0000    3e-06       \n",
       "14  Node4    Node1         1.0           0.0000    5e-06       \n",
       "15  Node4    Node3         0.8           0.0000    4e-06       \n",
       "16  Node4    Node5         0.8           0.0000    4e-06       \n",
       "17  Node4    Node13        0.6        4565.5323    3e-06       \n",
       "18  Node4    Node14        0.6           0.0000    3e-06       \n",
       "19  Node4    Node15        0.6           0.0000    3e-06       \n",
       "20  Node5    Node2         1.0         434.3485    5e-06       \n",
       "21  Node5    Node4         0.8           0.0000    4e-06       \n",
       "22  Node5    Node6         0.8           0.0000    4e-06       \n",
       "23  Node5    Node16        0.6        5228.7994    3e-06       \n",
       "24  Node5    Node17        0.6           0.0000    3e-06       \n",
       "25  Node5    Node18        0.6           0.0000    3e-06       \n",
       "26  Node6    Node2         1.0           0.0000    5e-06       \n",
       "27  Node6    Node5         0.8           0.0000    4e-06       \n",
       "28  Node6    Node7         1.0           0.0000    5e-06       \n",
       "29  Node6    Node19        0.6        6266.7480    3e-06       \n",
       "30  Node6    Node20        0.6           0.0000    3e-06       \n",
       "⋮   ⋮        ⋮             ⋮          ⋮            ⋮           \n",
       "173 Node43   Node48        0.4         428.2485    2e-06       \n",
       "174 Node44   Node9         0.6           0.0000    3e-06       \n",
       "175 Node44   Node24        0.6         841.7477    3e-06       \n",
       "176 Node44   Node43        0.6           0.0000    3e-06       \n",
       "177 Node44   Node45        0.4         158.2845    2e-06       \n",
       "178 Node44   Node46        0.4         340.7540    2e-06       \n",
       "179 Node45   Node25        0.4           0.0000    2e-06       \n",
       "180 Node45   Node44        0.4        1384.2245    2e-06       \n",
       "181 Node45   Node46        0.4           0.0000    2e-06       \n",
       "182 Node46   Node44        0.4        2671.1130    2e-06       \n",
       "183 Node46   Node45        0.4           0.0000    2e-06       \n",
       "184 Node46   Node47        0.4           0.0000    2e-06       \n",
       "185 Node47   Node43        0.4        7928.0408    2e-06       \n",
       "186 Node47   Node46        0.4           0.0000    2e-06       \n",
       "187 Node47   Node48        0.4           0.0000    2e-06       \n",
       "188 Node48   Node43        0.4        3403.2227    2e-06       \n",
       "189 Node48   Node47        0.4           0.0000    2e-06       \n",
       "190 Node48   Node49        0.4           0.0000    2e-06       \n",
       "191 Node49   Node42        0.4        4427.8470    2e-06       \n",
       "192 Node49   Node48        0.4           0.0000    2e-06       \n",
       "193 Node49   Node50        0.4           0.0000    2e-06       \n",
       "194 Node50   Node41        0.4         777.0552    2e-06       \n",
       "195 Node50   Node49        0.4           0.0000    2e-06       \n",
       "196 Node50   Node51        0.4           0.0000    2e-06       \n",
       "197 Node51   Node40        0.4        5948.4903    2e-06       \n",
       "198 Node51   Node50        0.4           0.0000    2e-06       \n",
       "199 Node51   Node52        0.4           0.0000    2e-06       \n",
       "200 Node52   Node20        0.4        2185.2023    2e-06       \n",
       "201 Node52   Node39        0.4           0.0000    2e-06       \n",
       "202 Node52   Node51        0.4           0.0000    2e-06       "
      ]
     },
     "metadata": {},
     "output_type": "display_data"
    }
   ],
   "source": [
    "links_info_df"
   ]
  },
  {
   "cell_type": "code",
   "execution_count": null,
   "metadata": {
    "colab": {
     "base_uri": "https://localhost:8080/",
     "height": 1000
    },
    "id": "UEeLbs98Utbt",
    "outputId": "1231a9a2-c229-4964-b85d-971031c7fbc9",
    "vscode": {
     "languageId": "r"
    }
   },
   "outputs": [
    {
     "data": {
      "text/html": [
       "<table class=\"dataframe\">\n",
       "<caption>A tibble: 72 × 11</caption>\n",
       "<thead>\n",
       "\t<tr><th scope=col>sourceID</th><th scope=col>destinationID</th><th scope=col>trafficGbps</th><th scope=col>service</th><th scope=col>traffic_ps</th><th scope=col>latencyPropTransQueuing_theor_s_mg1</th><th scope=col>latencyPercentile99_theor_s_mg1</th><th scope=col>Delay_sim_s</th><th scope=col>Delay_th_s</th><th scope=col>D99_sim_s</th><th scope=col>VPbound_99th_s</th></tr>\n",
       "\t<tr><th scope=col>&lt;chr&gt;</th><th scope=col>&lt;chr&gt;</th><th scope=col>&lt;dbl&gt;</th><th scope=col>&lt;chr&gt;</th><th scope=col>&lt;dbl&gt;</th><th scope=col>&lt;dbl&gt;</th><th scope=col>&lt;dbl&gt;</th><th scope=col>&lt;dbl&gt;</th><th scope=col>&lt;dbl&gt;</th><th scope=col>&lt;dbl&gt;</th><th scope=col>&lt;dbl&gt;</th></tr>\n",
       "</thead>\n",
       "<tbody>\n",
       "\t<tr><td>Node1 </td><td>Node9 </td><td>3</td><td>CWB</td><td>367995.2</td><td>7.436805e-06</td><td>2.370487e-05</td><td>7.212010e-06</td><td>7.436805e-06</td><td>1.537633e-05</td><td>2.370487e-05</td></tr>\n",
       "\t<tr><td>Node2 </td><td>Node16</td><td>3</td><td>CWB</td><td>367995.2</td><td>7.436805e-06</td><td>2.370487e-05</td><td>7.212010e-06</td><td>7.436805e-06</td><td>1.537633e-05</td><td>2.370487e-05</td></tr>\n",
       "\t<tr><td>Node3 </td><td>Node11</td><td>3</td><td>CWB</td><td>367995.2</td><td>3.374621e-06</td><td>1.587209e-05</td><td>3.255116e-06</td><td>3.374621e-06</td><td>1.012569e-05</td><td>1.587209e-05</td></tr>\n",
       "\t<tr><td>Node4 </td><td>Node13</td><td>3</td><td>CWB</td><td>367995.2</td><td>3.374621e-06</td><td>1.587209e-05</td><td>3.255116e-06</td><td>3.374621e-06</td><td>1.012569e-05</td><td>1.587209e-05</td></tr>\n",
       "\t<tr><td>Node5 </td><td>Node16</td><td>3</td><td>CWB</td><td>367995.2</td><td>3.374621e-06</td><td>1.587209e-05</td><td>3.255116e-06</td><td>3.374621e-06</td><td>1.012569e-05</td><td>1.587209e-05</td></tr>\n",
       "\t<tr><td>Node6 </td><td>Node19</td><td>3</td><td>CWB</td><td>367995.2</td><td>3.374621e-06</td><td>1.587209e-05</td><td>3.255116e-06</td><td>3.374621e-06</td><td>1.012569e-05</td><td>1.587209e-05</td></tr>\n",
       "\t<tr><td>Node7 </td><td>Node9 </td><td>3</td><td>CWB</td><td>367995.2</td><td>6.936805e-06</td><td>2.320487e-05</td><td>6.717610e-06</td><td>6.936805e-06</td><td>1.489532e-05</td><td>2.320487e-05</td></tr>\n",
       "\t<tr><td>Node8 </td><td>Node9 </td><td>3</td><td>CWB</td><td>367995.2</td><td>3.374621e-06</td><td>1.587209e-05</td><td>3.255116e-06</td><td>3.374621e-06</td><td>1.012569e-05</td><td>1.587209e-05</td></tr>\n",
       "\t<tr><td>Node20</td><td>Node19</td><td>3</td><td>CWB</td><td>367995.2</td><td>3.374621e-06</td><td>1.587209e-05</td><td>3.255116e-06</td><td>3.374621e-06</td><td>1.012569e-05</td><td>1.587209e-05</td></tr>\n",
       "\t<tr><td>Node21</td><td>Node40</td><td>3</td><td>CWB</td><td>367995.2</td><td>3.374621e-06</td><td>1.587209e-05</td><td>3.255116e-06</td><td>3.374621e-06</td><td>1.012569e-05</td><td>1.587209e-05</td></tr>\n",
       "\t<tr><td>Node22</td><td>Node41</td><td>3</td><td>CWB</td><td>367995.2</td><td>3.374621e-06</td><td>1.587209e-05</td><td>3.255116e-06</td><td>3.374621e-06</td><td>1.012569e-05</td><td>1.587209e-05</td></tr>\n",
       "\t<tr><td>Node23</td><td>Node42</td><td>3</td><td>CWB</td><td>367995.2</td><td>3.374621e-06</td><td>1.587209e-05</td><td>3.255116e-06</td><td>3.374621e-06</td><td>1.012569e-05</td><td>1.587209e-05</td></tr>\n",
       "\t<tr><td>Node24</td><td>Node44</td><td>3</td><td>CWB</td><td>367995.2</td><td>3.374621e-06</td><td>1.587209e-05</td><td>3.255116e-06</td><td>3.374621e-06</td><td>1.012569e-05</td><td>1.587209e-05</td></tr>\n",
       "\t<tr><td>Node25</td><td>Node9 </td><td>3</td><td>CWB</td><td>367995.2</td><td>2.874621e-06</td><td>1.537209e-05</td><td>2.755116e-06</td><td>2.874621e-06</td><td>9.625688e-06</td><td>1.537209e-05</td></tr>\n",
       "\t<tr><td>Node26</td><td>Node10</td><td>3</td><td>CWB</td><td>367995.2</td><td>2.874621e-06</td><td>1.537209e-05</td><td>2.755116e-06</td><td>2.874621e-06</td><td>9.625688e-06</td><td>1.537209e-05</td></tr>\n",
       "\t<tr><td>Node27</td><td>Node11</td><td>3</td><td>CWB</td><td>367995.2</td><td>2.874621e-06</td><td>1.537209e-05</td><td>2.755116e-06</td><td>2.874621e-06</td><td>9.625688e-06</td><td>1.537209e-05</td></tr>\n",
       "\t<tr><td>Node28</td><td>Node12</td><td>3</td><td>CWB</td><td>367995.2</td><td>2.874621e-06</td><td>1.537209e-05</td><td>2.755116e-06</td><td>2.874621e-06</td><td>9.625688e-06</td><td>1.537209e-05</td></tr>\n",
       "\t<tr><td>Node29</td><td>Node13</td><td>3</td><td>CWB</td><td>367995.2</td><td>2.874621e-06</td><td>1.537209e-05</td><td>2.755116e-06</td><td>2.874621e-06</td><td>9.625688e-06</td><td>1.537209e-05</td></tr>\n",
       "\t<tr><td>Node30</td><td>Node14</td><td>3</td><td>CWB</td><td>367995.2</td><td>2.874621e-06</td><td>1.537209e-05</td><td>2.755116e-06</td><td>2.874621e-06</td><td>9.625688e-06</td><td>1.537209e-05</td></tr>\n",
       "\t<tr><td>Node31</td><td>Node15</td><td>3</td><td>CWB</td><td>367995.2</td><td>2.874621e-06</td><td>1.537209e-05</td><td>2.755116e-06</td><td>2.874621e-06</td><td>9.625688e-06</td><td>1.537209e-05</td></tr>\n",
       "\t<tr><td>Node32</td><td>Node15</td><td>3</td><td>CWB</td><td>367995.2</td><td>2.874621e-06</td><td>1.537209e-05</td><td>2.755116e-06</td><td>2.874621e-06</td><td>9.625688e-06</td><td>1.537209e-05</td></tr>\n",
       "\t<tr><td>Node33</td><td>Node16</td><td>3</td><td>CWB</td><td>367995.2</td><td>2.874621e-06</td><td>1.537209e-05</td><td>2.755116e-06</td><td>2.874621e-06</td><td>9.625688e-06</td><td>1.537209e-05</td></tr>\n",
       "\t<tr><td>Node34</td><td>Node17</td><td>3</td><td>CWB</td><td>367995.2</td><td>2.874621e-06</td><td>1.537209e-05</td><td>2.755116e-06</td><td>2.874621e-06</td><td>9.625688e-06</td><td>1.537209e-05</td></tr>\n",
       "\t<tr><td>Node35</td><td>Node17</td><td>3</td><td>CWB</td><td>367995.2</td><td>2.874621e-06</td><td>1.537209e-05</td><td>2.755116e-06</td><td>2.874621e-06</td><td>9.625688e-06</td><td>1.537209e-05</td></tr>\n",
       "\t<tr><td>Node36</td><td>Node18</td><td>3</td><td>CWB</td><td>367995.2</td><td>2.874621e-06</td><td>1.537209e-05</td><td>2.755116e-06</td><td>2.874621e-06</td><td>9.625688e-06</td><td>1.537209e-05</td></tr>\n",
       "\t<tr><td>Node37</td><td>Node18</td><td>3</td><td>CWB</td><td>367995.2</td><td>2.874621e-06</td><td>1.537209e-05</td><td>2.755116e-06</td><td>2.874621e-06</td><td>9.625688e-06</td><td>1.537209e-05</td></tr>\n",
       "\t<tr><td>Node38</td><td>Node19</td><td>3</td><td>CWB</td><td>367995.2</td><td>2.874621e-06</td><td>1.537209e-05</td><td>2.755116e-06</td><td>2.874621e-06</td><td>9.625688e-06</td><td>1.537209e-05</td></tr>\n",
       "\t<tr><td>Node39</td><td>Node19</td><td>3</td><td>CWB</td><td>367995.2</td><td>2.874621e-06</td><td>1.537209e-05</td><td>2.755116e-06</td><td>2.874621e-06</td><td>9.625688e-06</td><td>1.537209e-05</td></tr>\n",
       "\t<tr><td>Node45</td><td>Node44</td><td>3</td><td>CWB</td><td>367995.2</td><td>2.874621e-06</td><td>1.537209e-05</td><td>2.755116e-06</td><td>2.874621e-06</td><td>9.625688e-06</td><td>1.537209e-05</td></tr>\n",
       "\t<tr><td>Node46</td><td>Node44</td><td>3</td><td>CWB</td><td>367995.2</td><td>2.874621e-06</td><td>1.537209e-05</td><td>2.755116e-06</td><td>2.874621e-06</td><td>9.625688e-06</td><td>1.537209e-05</td></tr>\n",
       "\t<tr><td>⋮</td><td>⋮</td><td>⋮</td><td>⋮</td><td>⋮</td><td>⋮</td><td>⋮</td><td>⋮</td><td>⋮</td><td>⋮</td><td>⋮</td></tr>\n",
       "\t<tr><td>Node9 </td><td>Node7 </td><td>3</td><td>CWB</td><td>367995.2</td><td>6.624368e-06</td><td>2.135278e-05</td><td>6.391564e-06</td><td>6.624368e-06</td><td>1.372348e-05</td><td>2.135278e-05</td></tr>\n",
       "\t<tr><td>Node9 </td><td>Node8 </td><td>3</td><td>CWB</td><td>367995.2</td><td>3.062184e-06</td><td>1.347674e-05</td><td>2.937918e-06</td><td>3.062184e-06</td><td>8.678445e-06</td><td>1.347674e-05</td></tr>\n",
       "\t<tr><td>Node19</td><td>Node20</td><td>3</td><td>CWB</td><td>367995.2</td><td>3.374621e-06</td><td>1.587209e-05</td><td>3.255116e-06</td><td>3.374621e-06</td><td>1.012569e-05</td><td>1.587209e-05</td></tr>\n",
       "\t<tr><td>Node40</td><td>Node21</td><td>3</td><td>CWB</td><td>367995.2</td><td>3.062184e-06</td><td>1.347674e-05</td><td>2.937918e-06</td><td>3.062184e-06</td><td>8.678445e-06</td><td>1.347674e-05</td></tr>\n",
       "\t<tr><td>Node41</td><td>Node22</td><td>3</td><td>CWB</td><td>367995.2</td><td>3.062184e-06</td><td>1.347674e-05</td><td>2.937918e-06</td><td>3.062184e-06</td><td>8.678445e-06</td><td>1.347674e-05</td></tr>\n",
       "\t<tr><td>Node42</td><td>Node23</td><td>3</td><td>CWB</td><td>367995.2</td><td>3.062184e-06</td><td>1.347674e-05</td><td>2.937918e-06</td><td>3.062184e-06</td><td>8.678445e-06</td><td>1.347674e-05</td></tr>\n",
       "\t<tr><td>Node44</td><td>Node24</td><td>3</td><td>CWB</td><td>367995.2</td><td>3.062184e-06</td><td>1.347674e-05</td><td>2.937918e-06</td><td>3.062184e-06</td><td>8.678445e-06</td><td>1.347674e-05</td></tr>\n",
       "\t<tr><td>Node9 </td><td>Node25</td><td>3</td><td>CWB</td><td>367995.2</td><td>2.339015e-06</td><td>1.126578e-05</td><td>2.219167e-06</td><td>2.339015e-06</td><td>6.926344e-06</td><td>1.126578e-05</td></tr>\n",
       "\t<tr><td>Node10</td><td>Node26</td><td>3</td><td>CWB</td><td>367995.2</td><td>2.339015e-06</td><td>1.126578e-05</td><td>2.219167e-06</td><td>2.339015e-06</td><td>6.926344e-06</td><td>1.126578e-05</td></tr>\n",
       "\t<tr><td>Node11</td><td>Node27</td><td>3</td><td>CWB</td><td>367995.2</td><td>2.339015e-06</td><td>1.126578e-05</td><td>2.219167e-06</td><td>2.339015e-06</td><td>6.926344e-06</td><td>1.126578e-05</td></tr>\n",
       "\t<tr><td>Node12</td><td>Node28</td><td>3</td><td>CWB</td><td>367995.2</td><td>2.339015e-06</td><td>1.126578e-05</td><td>2.219167e-06</td><td>2.339015e-06</td><td>6.926344e-06</td><td>1.126578e-05</td></tr>\n",
       "\t<tr><td>Node13</td><td>Node29</td><td>3</td><td>CWB</td><td>367995.2</td><td>2.339015e-06</td><td>1.126578e-05</td><td>2.219167e-06</td><td>2.339015e-06</td><td>6.926344e-06</td><td>1.126578e-05</td></tr>\n",
       "\t<tr><td>Node14</td><td>Node30</td><td>3</td><td>CWB</td><td>367995.2</td><td>2.339015e-06</td><td>1.126578e-05</td><td>2.219167e-06</td><td>2.339015e-06</td><td>6.926344e-06</td><td>1.126578e-05</td></tr>\n",
       "\t<tr><td>Node15</td><td>Node31</td><td>3</td><td>CWB</td><td>367995.2</td><td>2.339015e-06</td><td>1.126578e-05</td><td>2.219167e-06</td><td>2.339015e-06</td><td>6.926344e-06</td><td>1.126578e-05</td></tr>\n",
       "\t<tr><td>Node15</td><td>Node32</td><td>3</td><td>CWB</td><td>367995.2</td><td>2.339015e-06</td><td>1.126578e-05</td><td>2.219167e-06</td><td>2.339015e-06</td><td>6.926344e-06</td><td>1.126578e-05</td></tr>\n",
       "\t<tr><td>Node16</td><td>Node33</td><td>3</td><td>CWB</td><td>367995.2</td><td>2.339015e-06</td><td>1.126578e-05</td><td>2.219167e-06</td><td>2.339015e-06</td><td>6.926344e-06</td><td>1.126578e-05</td></tr>\n",
       "\t<tr><td>Node17</td><td>Node34</td><td>3</td><td>CWB</td><td>367995.2</td><td>2.339015e-06</td><td>1.126578e-05</td><td>2.219167e-06</td><td>2.339015e-06</td><td>6.926344e-06</td><td>1.126578e-05</td></tr>\n",
       "\t<tr><td>Node17</td><td>Node35</td><td>3</td><td>CWB</td><td>367995.2</td><td>2.339015e-06</td><td>1.126578e-05</td><td>2.219167e-06</td><td>2.339015e-06</td><td>6.926344e-06</td><td>1.126578e-05</td></tr>\n",
       "\t<tr><td>Node18</td><td>Node36</td><td>3</td><td>CWB</td><td>367995.2</td><td>2.339015e-06</td><td>1.126578e-05</td><td>2.219167e-06</td><td>2.339015e-06</td><td>6.926344e-06</td><td>1.126578e-05</td></tr>\n",
       "\t<tr><td>Node18</td><td>Node37</td><td>3</td><td>CWB</td><td>367995.2</td><td>2.339015e-06</td><td>1.126578e-05</td><td>2.219167e-06</td><td>2.339015e-06</td><td>6.926344e-06</td><td>1.126578e-05</td></tr>\n",
       "\t<tr><td>Node19</td><td>Node38</td><td>3</td><td>CWB</td><td>367995.2</td><td>2.339015e-06</td><td>1.126578e-05</td><td>2.219167e-06</td><td>2.339015e-06</td><td>6.926344e-06</td><td>1.126578e-05</td></tr>\n",
       "\t<tr><td>Node19</td><td>Node39</td><td>3</td><td>CWB</td><td>367995.2</td><td>2.339015e-06</td><td>1.126578e-05</td><td>2.219167e-06</td><td>2.339015e-06</td><td>6.926344e-06</td><td>1.126578e-05</td></tr>\n",
       "\t<tr><td>Node44</td><td>Node45</td><td>3</td><td>CWB</td><td>367995.2</td><td>2.339015e-06</td><td>1.126578e-05</td><td>2.219167e-06</td><td>2.339015e-06</td><td>6.926344e-06</td><td>1.126578e-05</td></tr>\n",
       "\t<tr><td>Node44</td><td>Node46</td><td>3</td><td>CWB</td><td>367995.2</td><td>2.339015e-06</td><td>1.126578e-05</td><td>2.219167e-06</td><td>2.339015e-06</td><td>6.926344e-06</td><td>1.126578e-05</td></tr>\n",
       "\t<tr><td>Node43</td><td>Node47</td><td>3</td><td>CWB</td><td>367995.2</td><td>2.339015e-06</td><td>1.126578e-05</td><td>2.219167e-06</td><td>2.339015e-06</td><td>6.926344e-06</td><td>1.126578e-05</td></tr>\n",
       "\t<tr><td>Node43</td><td>Node48</td><td>3</td><td>CWB</td><td>367995.2</td><td>2.339015e-06</td><td>1.126578e-05</td><td>2.219167e-06</td><td>2.339015e-06</td><td>6.926344e-06</td><td>1.126578e-05</td></tr>\n",
       "\t<tr><td>Node42</td><td>Node49</td><td>3</td><td>CWB</td><td>367995.2</td><td>2.339015e-06</td><td>1.126578e-05</td><td>2.219167e-06</td><td>2.339015e-06</td><td>6.926344e-06</td><td>1.126578e-05</td></tr>\n",
       "\t<tr><td>Node41</td><td>Node50</td><td>3</td><td>CWB</td><td>367995.2</td><td>2.339015e-06</td><td>1.126578e-05</td><td>2.219167e-06</td><td>2.339015e-06</td><td>6.926344e-06</td><td>1.126578e-05</td></tr>\n",
       "\t<tr><td>Node40</td><td>Node51</td><td>3</td><td>CWB</td><td>367995.2</td><td>2.339015e-06</td><td>1.126578e-05</td><td>2.219167e-06</td><td>2.339015e-06</td><td>6.926344e-06</td><td>1.126578e-05</td></tr>\n",
       "\t<tr><td>Node19</td><td>Node52</td><td>3</td><td>CWB</td><td>367995.2</td><td>5.713636e-06</td><td>2.107182e-05</td><td>5.477297e-06</td><td>5.713636e-06</td><td>1.326212e-05</td><td>2.107182e-05</td></tr>\n",
       "</tbody>\n",
       "</table>\n"
      ],
      "text/latex": [
       "A tibble: 72 × 11\n",
       "\\begin{tabular}{lllllllllll}\n",
       " sourceID & destinationID & trafficGbps & service & traffic\\_ps & latencyPropTransQueuing\\_theor\\_s\\_mg1 & latencyPercentile99\\_theor\\_s\\_mg1 & Delay\\_sim\\_s & Delay\\_th\\_s & D99\\_sim\\_s & VPbound\\_99th\\_s\\\\\n",
       " <chr> & <chr> & <dbl> & <chr> & <dbl> & <dbl> & <dbl> & <dbl> & <dbl> & <dbl> & <dbl>\\\\\n",
       "\\hline\n",
       "\t Node1  & Node9  & 3 & CWB & 367995.2 & 7.436805e-06 & 2.370487e-05 & 7.212010e-06 & 7.436805e-06 & 1.537633e-05 & 2.370487e-05\\\\\n",
       "\t Node2  & Node16 & 3 & CWB & 367995.2 & 7.436805e-06 & 2.370487e-05 & 7.212010e-06 & 7.436805e-06 & 1.537633e-05 & 2.370487e-05\\\\\n",
       "\t Node3  & Node11 & 3 & CWB & 367995.2 & 3.374621e-06 & 1.587209e-05 & 3.255116e-06 & 3.374621e-06 & 1.012569e-05 & 1.587209e-05\\\\\n",
       "\t Node4  & Node13 & 3 & CWB & 367995.2 & 3.374621e-06 & 1.587209e-05 & 3.255116e-06 & 3.374621e-06 & 1.012569e-05 & 1.587209e-05\\\\\n",
       "\t Node5  & Node16 & 3 & CWB & 367995.2 & 3.374621e-06 & 1.587209e-05 & 3.255116e-06 & 3.374621e-06 & 1.012569e-05 & 1.587209e-05\\\\\n",
       "\t Node6  & Node19 & 3 & CWB & 367995.2 & 3.374621e-06 & 1.587209e-05 & 3.255116e-06 & 3.374621e-06 & 1.012569e-05 & 1.587209e-05\\\\\n",
       "\t Node7  & Node9  & 3 & CWB & 367995.2 & 6.936805e-06 & 2.320487e-05 & 6.717610e-06 & 6.936805e-06 & 1.489532e-05 & 2.320487e-05\\\\\n",
       "\t Node8  & Node9  & 3 & CWB & 367995.2 & 3.374621e-06 & 1.587209e-05 & 3.255116e-06 & 3.374621e-06 & 1.012569e-05 & 1.587209e-05\\\\\n",
       "\t Node20 & Node19 & 3 & CWB & 367995.2 & 3.374621e-06 & 1.587209e-05 & 3.255116e-06 & 3.374621e-06 & 1.012569e-05 & 1.587209e-05\\\\\n",
       "\t Node21 & Node40 & 3 & CWB & 367995.2 & 3.374621e-06 & 1.587209e-05 & 3.255116e-06 & 3.374621e-06 & 1.012569e-05 & 1.587209e-05\\\\\n",
       "\t Node22 & Node41 & 3 & CWB & 367995.2 & 3.374621e-06 & 1.587209e-05 & 3.255116e-06 & 3.374621e-06 & 1.012569e-05 & 1.587209e-05\\\\\n",
       "\t Node23 & Node42 & 3 & CWB & 367995.2 & 3.374621e-06 & 1.587209e-05 & 3.255116e-06 & 3.374621e-06 & 1.012569e-05 & 1.587209e-05\\\\\n",
       "\t Node24 & Node44 & 3 & CWB & 367995.2 & 3.374621e-06 & 1.587209e-05 & 3.255116e-06 & 3.374621e-06 & 1.012569e-05 & 1.587209e-05\\\\\n",
       "\t Node25 & Node9  & 3 & CWB & 367995.2 & 2.874621e-06 & 1.537209e-05 & 2.755116e-06 & 2.874621e-06 & 9.625688e-06 & 1.537209e-05\\\\\n",
       "\t Node26 & Node10 & 3 & CWB & 367995.2 & 2.874621e-06 & 1.537209e-05 & 2.755116e-06 & 2.874621e-06 & 9.625688e-06 & 1.537209e-05\\\\\n",
       "\t Node27 & Node11 & 3 & CWB & 367995.2 & 2.874621e-06 & 1.537209e-05 & 2.755116e-06 & 2.874621e-06 & 9.625688e-06 & 1.537209e-05\\\\\n",
       "\t Node28 & Node12 & 3 & CWB & 367995.2 & 2.874621e-06 & 1.537209e-05 & 2.755116e-06 & 2.874621e-06 & 9.625688e-06 & 1.537209e-05\\\\\n",
       "\t Node29 & Node13 & 3 & CWB & 367995.2 & 2.874621e-06 & 1.537209e-05 & 2.755116e-06 & 2.874621e-06 & 9.625688e-06 & 1.537209e-05\\\\\n",
       "\t Node30 & Node14 & 3 & CWB & 367995.2 & 2.874621e-06 & 1.537209e-05 & 2.755116e-06 & 2.874621e-06 & 9.625688e-06 & 1.537209e-05\\\\\n",
       "\t Node31 & Node15 & 3 & CWB & 367995.2 & 2.874621e-06 & 1.537209e-05 & 2.755116e-06 & 2.874621e-06 & 9.625688e-06 & 1.537209e-05\\\\\n",
       "\t Node32 & Node15 & 3 & CWB & 367995.2 & 2.874621e-06 & 1.537209e-05 & 2.755116e-06 & 2.874621e-06 & 9.625688e-06 & 1.537209e-05\\\\\n",
       "\t Node33 & Node16 & 3 & CWB & 367995.2 & 2.874621e-06 & 1.537209e-05 & 2.755116e-06 & 2.874621e-06 & 9.625688e-06 & 1.537209e-05\\\\\n",
       "\t Node34 & Node17 & 3 & CWB & 367995.2 & 2.874621e-06 & 1.537209e-05 & 2.755116e-06 & 2.874621e-06 & 9.625688e-06 & 1.537209e-05\\\\\n",
       "\t Node35 & Node17 & 3 & CWB & 367995.2 & 2.874621e-06 & 1.537209e-05 & 2.755116e-06 & 2.874621e-06 & 9.625688e-06 & 1.537209e-05\\\\\n",
       "\t Node36 & Node18 & 3 & CWB & 367995.2 & 2.874621e-06 & 1.537209e-05 & 2.755116e-06 & 2.874621e-06 & 9.625688e-06 & 1.537209e-05\\\\\n",
       "\t Node37 & Node18 & 3 & CWB & 367995.2 & 2.874621e-06 & 1.537209e-05 & 2.755116e-06 & 2.874621e-06 & 9.625688e-06 & 1.537209e-05\\\\\n",
       "\t Node38 & Node19 & 3 & CWB & 367995.2 & 2.874621e-06 & 1.537209e-05 & 2.755116e-06 & 2.874621e-06 & 9.625688e-06 & 1.537209e-05\\\\\n",
       "\t Node39 & Node19 & 3 & CWB & 367995.2 & 2.874621e-06 & 1.537209e-05 & 2.755116e-06 & 2.874621e-06 & 9.625688e-06 & 1.537209e-05\\\\\n",
       "\t Node45 & Node44 & 3 & CWB & 367995.2 & 2.874621e-06 & 1.537209e-05 & 2.755116e-06 & 2.874621e-06 & 9.625688e-06 & 1.537209e-05\\\\\n",
       "\t Node46 & Node44 & 3 & CWB & 367995.2 & 2.874621e-06 & 1.537209e-05 & 2.755116e-06 & 2.874621e-06 & 9.625688e-06 & 1.537209e-05\\\\\n",
       "\t ⋮ & ⋮ & ⋮ & ⋮ & ⋮ & ⋮ & ⋮ & ⋮ & ⋮ & ⋮ & ⋮\\\\\n",
       "\t Node9  & Node7  & 3 & CWB & 367995.2 & 6.624368e-06 & 2.135278e-05 & 6.391564e-06 & 6.624368e-06 & 1.372348e-05 & 2.135278e-05\\\\\n",
       "\t Node9  & Node8  & 3 & CWB & 367995.2 & 3.062184e-06 & 1.347674e-05 & 2.937918e-06 & 3.062184e-06 & 8.678445e-06 & 1.347674e-05\\\\\n",
       "\t Node19 & Node20 & 3 & CWB & 367995.2 & 3.374621e-06 & 1.587209e-05 & 3.255116e-06 & 3.374621e-06 & 1.012569e-05 & 1.587209e-05\\\\\n",
       "\t Node40 & Node21 & 3 & CWB & 367995.2 & 3.062184e-06 & 1.347674e-05 & 2.937918e-06 & 3.062184e-06 & 8.678445e-06 & 1.347674e-05\\\\\n",
       "\t Node41 & Node22 & 3 & CWB & 367995.2 & 3.062184e-06 & 1.347674e-05 & 2.937918e-06 & 3.062184e-06 & 8.678445e-06 & 1.347674e-05\\\\\n",
       "\t Node42 & Node23 & 3 & CWB & 367995.2 & 3.062184e-06 & 1.347674e-05 & 2.937918e-06 & 3.062184e-06 & 8.678445e-06 & 1.347674e-05\\\\\n",
       "\t Node44 & Node24 & 3 & CWB & 367995.2 & 3.062184e-06 & 1.347674e-05 & 2.937918e-06 & 3.062184e-06 & 8.678445e-06 & 1.347674e-05\\\\\n",
       "\t Node9  & Node25 & 3 & CWB & 367995.2 & 2.339015e-06 & 1.126578e-05 & 2.219167e-06 & 2.339015e-06 & 6.926344e-06 & 1.126578e-05\\\\\n",
       "\t Node10 & Node26 & 3 & CWB & 367995.2 & 2.339015e-06 & 1.126578e-05 & 2.219167e-06 & 2.339015e-06 & 6.926344e-06 & 1.126578e-05\\\\\n",
       "\t Node11 & Node27 & 3 & CWB & 367995.2 & 2.339015e-06 & 1.126578e-05 & 2.219167e-06 & 2.339015e-06 & 6.926344e-06 & 1.126578e-05\\\\\n",
       "\t Node12 & Node28 & 3 & CWB & 367995.2 & 2.339015e-06 & 1.126578e-05 & 2.219167e-06 & 2.339015e-06 & 6.926344e-06 & 1.126578e-05\\\\\n",
       "\t Node13 & Node29 & 3 & CWB & 367995.2 & 2.339015e-06 & 1.126578e-05 & 2.219167e-06 & 2.339015e-06 & 6.926344e-06 & 1.126578e-05\\\\\n",
       "\t Node14 & Node30 & 3 & CWB & 367995.2 & 2.339015e-06 & 1.126578e-05 & 2.219167e-06 & 2.339015e-06 & 6.926344e-06 & 1.126578e-05\\\\\n",
       "\t Node15 & Node31 & 3 & CWB & 367995.2 & 2.339015e-06 & 1.126578e-05 & 2.219167e-06 & 2.339015e-06 & 6.926344e-06 & 1.126578e-05\\\\\n",
       "\t Node15 & Node32 & 3 & CWB & 367995.2 & 2.339015e-06 & 1.126578e-05 & 2.219167e-06 & 2.339015e-06 & 6.926344e-06 & 1.126578e-05\\\\\n",
       "\t Node16 & Node33 & 3 & CWB & 367995.2 & 2.339015e-06 & 1.126578e-05 & 2.219167e-06 & 2.339015e-06 & 6.926344e-06 & 1.126578e-05\\\\\n",
       "\t Node17 & Node34 & 3 & CWB & 367995.2 & 2.339015e-06 & 1.126578e-05 & 2.219167e-06 & 2.339015e-06 & 6.926344e-06 & 1.126578e-05\\\\\n",
       "\t Node17 & Node35 & 3 & CWB & 367995.2 & 2.339015e-06 & 1.126578e-05 & 2.219167e-06 & 2.339015e-06 & 6.926344e-06 & 1.126578e-05\\\\\n",
       "\t Node18 & Node36 & 3 & CWB & 367995.2 & 2.339015e-06 & 1.126578e-05 & 2.219167e-06 & 2.339015e-06 & 6.926344e-06 & 1.126578e-05\\\\\n",
       "\t Node18 & Node37 & 3 & CWB & 367995.2 & 2.339015e-06 & 1.126578e-05 & 2.219167e-06 & 2.339015e-06 & 6.926344e-06 & 1.126578e-05\\\\\n",
       "\t Node19 & Node38 & 3 & CWB & 367995.2 & 2.339015e-06 & 1.126578e-05 & 2.219167e-06 & 2.339015e-06 & 6.926344e-06 & 1.126578e-05\\\\\n",
       "\t Node19 & Node39 & 3 & CWB & 367995.2 & 2.339015e-06 & 1.126578e-05 & 2.219167e-06 & 2.339015e-06 & 6.926344e-06 & 1.126578e-05\\\\\n",
       "\t Node44 & Node45 & 3 & CWB & 367995.2 & 2.339015e-06 & 1.126578e-05 & 2.219167e-06 & 2.339015e-06 & 6.926344e-06 & 1.126578e-05\\\\\n",
       "\t Node44 & Node46 & 3 & CWB & 367995.2 & 2.339015e-06 & 1.126578e-05 & 2.219167e-06 & 2.339015e-06 & 6.926344e-06 & 1.126578e-05\\\\\n",
       "\t Node43 & Node47 & 3 & CWB & 367995.2 & 2.339015e-06 & 1.126578e-05 & 2.219167e-06 & 2.339015e-06 & 6.926344e-06 & 1.126578e-05\\\\\n",
       "\t Node43 & Node48 & 3 & CWB & 367995.2 & 2.339015e-06 & 1.126578e-05 & 2.219167e-06 & 2.339015e-06 & 6.926344e-06 & 1.126578e-05\\\\\n",
       "\t Node42 & Node49 & 3 & CWB & 367995.2 & 2.339015e-06 & 1.126578e-05 & 2.219167e-06 & 2.339015e-06 & 6.926344e-06 & 1.126578e-05\\\\\n",
       "\t Node41 & Node50 & 3 & CWB & 367995.2 & 2.339015e-06 & 1.126578e-05 & 2.219167e-06 & 2.339015e-06 & 6.926344e-06 & 1.126578e-05\\\\\n",
       "\t Node40 & Node51 & 3 & CWB & 367995.2 & 2.339015e-06 & 1.126578e-05 & 2.219167e-06 & 2.339015e-06 & 6.926344e-06 & 1.126578e-05\\\\\n",
       "\t Node19 & Node52 & 3 & CWB & 367995.2 & 5.713636e-06 & 2.107182e-05 & 5.477297e-06 & 5.713636e-06 & 1.326212e-05 & 2.107182e-05\\\\\n",
       "\\end{tabular}\n"
      ],
      "text/markdown": [
       "\n",
       "A tibble: 72 × 11\n",
       "\n",
       "| sourceID &lt;chr&gt; | destinationID &lt;chr&gt; | trafficGbps &lt;dbl&gt; | service &lt;chr&gt; | traffic_ps &lt;dbl&gt; | latencyPropTransQueuing_theor_s_mg1 &lt;dbl&gt; | latencyPercentile99_theor_s_mg1 &lt;dbl&gt; | Delay_sim_s &lt;dbl&gt; | Delay_th_s &lt;dbl&gt; | D99_sim_s &lt;dbl&gt; | VPbound_99th_s &lt;dbl&gt; |\n",
       "|---|---|---|---|---|---|---|---|---|---|---|\n",
       "| Node1  | Node9  | 3 | CWB | 367995.2 | 7.436805e-06 | 2.370487e-05 | 7.212010e-06 | 7.436805e-06 | 1.537633e-05 | 2.370487e-05 |\n",
       "| Node2  | Node16 | 3 | CWB | 367995.2 | 7.436805e-06 | 2.370487e-05 | 7.212010e-06 | 7.436805e-06 | 1.537633e-05 | 2.370487e-05 |\n",
       "| Node3  | Node11 | 3 | CWB | 367995.2 | 3.374621e-06 | 1.587209e-05 | 3.255116e-06 | 3.374621e-06 | 1.012569e-05 | 1.587209e-05 |\n",
       "| Node4  | Node13 | 3 | CWB | 367995.2 | 3.374621e-06 | 1.587209e-05 | 3.255116e-06 | 3.374621e-06 | 1.012569e-05 | 1.587209e-05 |\n",
       "| Node5  | Node16 | 3 | CWB | 367995.2 | 3.374621e-06 | 1.587209e-05 | 3.255116e-06 | 3.374621e-06 | 1.012569e-05 | 1.587209e-05 |\n",
       "| Node6  | Node19 | 3 | CWB | 367995.2 | 3.374621e-06 | 1.587209e-05 | 3.255116e-06 | 3.374621e-06 | 1.012569e-05 | 1.587209e-05 |\n",
       "| Node7  | Node9  | 3 | CWB | 367995.2 | 6.936805e-06 | 2.320487e-05 | 6.717610e-06 | 6.936805e-06 | 1.489532e-05 | 2.320487e-05 |\n",
       "| Node8  | Node9  | 3 | CWB | 367995.2 | 3.374621e-06 | 1.587209e-05 | 3.255116e-06 | 3.374621e-06 | 1.012569e-05 | 1.587209e-05 |\n",
       "| Node20 | Node19 | 3 | CWB | 367995.2 | 3.374621e-06 | 1.587209e-05 | 3.255116e-06 | 3.374621e-06 | 1.012569e-05 | 1.587209e-05 |\n",
       "| Node21 | Node40 | 3 | CWB | 367995.2 | 3.374621e-06 | 1.587209e-05 | 3.255116e-06 | 3.374621e-06 | 1.012569e-05 | 1.587209e-05 |\n",
       "| Node22 | Node41 | 3 | CWB | 367995.2 | 3.374621e-06 | 1.587209e-05 | 3.255116e-06 | 3.374621e-06 | 1.012569e-05 | 1.587209e-05 |\n",
       "| Node23 | Node42 | 3 | CWB | 367995.2 | 3.374621e-06 | 1.587209e-05 | 3.255116e-06 | 3.374621e-06 | 1.012569e-05 | 1.587209e-05 |\n",
       "| Node24 | Node44 | 3 | CWB | 367995.2 | 3.374621e-06 | 1.587209e-05 | 3.255116e-06 | 3.374621e-06 | 1.012569e-05 | 1.587209e-05 |\n",
       "| Node25 | Node9  | 3 | CWB | 367995.2 | 2.874621e-06 | 1.537209e-05 | 2.755116e-06 | 2.874621e-06 | 9.625688e-06 | 1.537209e-05 |\n",
       "| Node26 | Node10 | 3 | CWB | 367995.2 | 2.874621e-06 | 1.537209e-05 | 2.755116e-06 | 2.874621e-06 | 9.625688e-06 | 1.537209e-05 |\n",
       "| Node27 | Node11 | 3 | CWB | 367995.2 | 2.874621e-06 | 1.537209e-05 | 2.755116e-06 | 2.874621e-06 | 9.625688e-06 | 1.537209e-05 |\n",
       "| Node28 | Node12 | 3 | CWB | 367995.2 | 2.874621e-06 | 1.537209e-05 | 2.755116e-06 | 2.874621e-06 | 9.625688e-06 | 1.537209e-05 |\n",
       "| Node29 | Node13 | 3 | CWB | 367995.2 | 2.874621e-06 | 1.537209e-05 | 2.755116e-06 | 2.874621e-06 | 9.625688e-06 | 1.537209e-05 |\n",
       "| Node30 | Node14 | 3 | CWB | 367995.2 | 2.874621e-06 | 1.537209e-05 | 2.755116e-06 | 2.874621e-06 | 9.625688e-06 | 1.537209e-05 |\n",
       "| Node31 | Node15 | 3 | CWB | 367995.2 | 2.874621e-06 | 1.537209e-05 | 2.755116e-06 | 2.874621e-06 | 9.625688e-06 | 1.537209e-05 |\n",
       "| Node32 | Node15 | 3 | CWB | 367995.2 | 2.874621e-06 | 1.537209e-05 | 2.755116e-06 | 2.874621e-06 | 9.625688e-06 | 1.537209e-05 |\n",
       "| Node33 | Node16 | 3 | CWB | 367995.2 | 2.874621e-06 | 1.537209e-05 | 2.755116e-06 | 2.874621e-06 | 9.625688e-06 | 1.537209e-05 |\n",
       "| Node34 | Node17 | 3 | CWB | 367995.2 | 2.874621e-06 | 1.537209e-05 | 2.755116e-06 | 2.874621e-06 | 9.625688e-06 | 1.537209e-05 |\n",
       "| Node35 | Node17 | 3 | CWB | 367995.2 | 2.874621e-06 | 1.537209e-05 | 2.755116e-06 | 2.874621e-06 | 9.625688e-06 | 1.537209e-05 |\n",
       "| Node36 | Node18 | 3 | CWB | 367995.2 | 2.874621e-06 | 1.537209e-05 | 2.755116e-06 | 2.874621e-06 | 9.625688e-06 | 1.537209e-05 |\n",
       "| Node37 | Node18 | 3 | CWB | 367995.2 | 2.874621e-06 | 1.537209e-05 | 2.755116e-06 | 2.874621e-06 | 9.625688e-06 | 1.537209e-05 |\n",
       "| Node38 | Node19 | 3 | CWB | 367995.2 | 2.874621e-06 | 1.537209e-05 | 2.755116e-06 | 2.874621e-06 | 9.625688e-06 | 1.537209e-05 |\n",
       "| Node39 | Node19 | 3 | CWB | 367995.2 | 2.874621e-06 | 1.537209e-05 | 2.755116e-06 | 2.874621e-06 | 9.625688e-06 | 1.537209e-05 |\n",
       "| Node45 | Node44 | 3 | CWB | 367995.2 | 2.874621e-06 | 1.537209e-05 | 2.755116e-06 | 2.874621e-06 | 9.625688e-06 | 1.537209e-05 |\n",
       "| Node46 | Node44 | 3 | CWB | 367995.2 | 2.874621e-06 | 1.537209e-05 | 2.755116e-06 | 2.874621e-06 | 9.625688e-06 | 1.537209e-05 |\n",
       "| ⋮ | ⋮ | ⋮ | ⋮ | ⋮ | ⋮ | ⋮ | ⋮ | ⋮ | ⋮ | ⋮ |\n",
       "| Node9  | Node7  | 3 | CWB | 367995.2 | 6.624368e-06 | 2.135278e-05 | 6.391564e-06 | 6.624368e-06 | 1.372348e-05 | 2.135278e-05 |\n",
       "| Node9  | Node8  | 3 | CWB | 367995.2 | 3.062184e-06 | 1.347674e-05 | 2.937918e-06 | 3.062184e-06 | 8.678445e-06 | 1.347674e-05 |\n",
       "| Node19 | Node20 | 3 | CWB | 367995.2 | 3.374621e-06 | 1.587209e-05 | 3.255116e-06 | 3.374621e-06 | 1.012569e-05 | 1.587209e-05 |\n",
       "| Node40 | Node21 | 3 | CWB | 367995.2 | 3.062184e-06 | 1.347674e-05 | 2.937918e-06 | 3.062184e-06 | 8.678445e-06 | 1.347674e-05 |\n",
       "| Node41 | Node22 | 3 | CWB | 367995.2 | 3.062184e-06 | 1.347674e-05 | 2.937918e-06 | 3.062184e-06 | 8.678445e-06 | 1.347674e-05 |\n",
       "| Node42 | Node23 | 3 | CWB | 367995.2 | 3.062184e-06 | 1.347674e-05 | 2.937918e-06 | 3.062184e-06 | 8.678445e-06 | 1.347674e-05 |\n",
       "| Node44 | Node24 | 3 | CWB | 367995.2 | 3.062184e-06 | 1.347674e-05 | 2.937918e-06 | 3.062184e-06 | 8.678445e-06 | 1.347674e-05 |\n",
       "| Node9  | Node25 | 3 | CWB | 367995.2 | 2.339015e-06 | 1.126578e-05 | 2.219167e-06 | 2.339015e-06 | 6.926344e-06 | 1.126578e-05 |\n",
       "| Node10 | Node26 | 3 | CWB | 367995.2 | 2.339015e-06 | 1.126578e-05 | 2.219167e-06 | 2.339015e-06 | 6.926344e-06 | 1.126578e-05 |\n",
       "| Node11 | Node27 | 3 | CWB | 367995.2 | 2.339015e-06 | 1.126578e-05 | 2.219167e-06 | 2.339015e-06 | 6.926344e-06 | 1.126578e-05 |\n",
       "| Node12 | Node28 | 3 | CWB | 367995.2 | 2.339015e-06 | 1.126578e-05 | 2.219167e-06 | 2.339015e-06 | 6.926344e-06 | 1.126578e-05 |\n",
       "| Node13 | Node29 | 3 | CWB | 367995.2 | 2.339015e-06 | 1.126578e-05 | 2.219167e-06 | 2.339015e-06 | 6.926344e-06 | 1.126578e-05 |\n",
       "| Node14 | Node30 | 3 | CWB | 367995.2 | 2.339015e-06 | 1.126578e-05 | 2.219167e-06 | 2.339015e-06 | 6.926344e-06 | 1.126578e-05 |\n",
       "| Node15 | Node31 | 3 | CWB | 367995.2 | 2.339015e-06 | 1.126578e-05 | 2.219167e-06 | 2.339015e-06 | 6.926344e-06 | 1.126578e-05 |\n",
       "| Node15 | Node32 | 3 | CWB | 367995.2 | 2.339015e-06 | 1.126578e-05 | 2.219167e-06 | 2.339015e-06 | 6.926344e-06 | 1.126578e-05 |\n",
       "| Node16 | Node33 | 3 | CWB | 367995.2 | 2.339015e-06 | 1.126578e-05 | 2.219167e-06 | 2.339015e-06 | 6.926344e-06 | 1.126578e-05 |\n",
       "| Node17 | Node34 | 3 | CWB | 367995.2 | 2.339015e-06 | 1.126578e-05 | 2.219167e-06 | 2.339015e-06 | 6.926344e-06 | 1.126578e-05 |\n",
       "| Node17 | Node35 | 3 | CWB | 367995.2 | 2.339015e-06 | 1.126578e-05 | 2.219167e-06 | 2.339015e-06 | 6.926344e-06 | 1.126578e-05 |\n",
       "| Node18 | Node36 | 3 | CWB | 367995.2 | 2.339015e-06 | 1.126578e-05 | 2.219167e-06 | 2.339015e-06 | 6.926344e-06 | 1.126578e-05 |\n",
       "| Node18 | Node37 | 3 | CWB | 367995.2 | 2.339015e-06 | 1.126578e-05 | 2.219167e-06 | 2.339015e-06 | 6.926344e-06 | 1.126578e-05 |\n",
       "| Node19 | Node38 | 3 | CWB | 367995.2 | 2.339015e-06 | 1.126578e-05 | 2.219167e-06 | 2.339015e-06 | 6.926344e-06 | 1.126578e-05 |\n",
       "| Node19 | Node39 | 3 | CWB | 367995.2 | 2.339015e-06 | 1.126578e-05 | 2.219167e-06 | 2.339015e-06 | 6.926344e-06 | 1.126578e-05 |\n",
       "| Node44 | Node45 | 3 | CWB | 367995.2 | 2.339015e-06 | 1.126578e-05 | 2.219167e-06 | 2.339015e-06 | 6.926344e-06 | 1.126578e-05 |\n",
       "| Node44 | Node46 | 3 | CWB | 367995.2 | 2.339015e-06 | 1.126578e-05 | 2.219167e-06 | 2.339015e-06 | 6.926344e-06 | 1.126578e-05 |\n",
       "| Node43 | Node47 | 3 | CWB | 367995.2 | 2.339015e-06 | 1.126578e-05 | 2.219167e-06 | 2.339015e-06 | 6.926344e-06 | 1.126578e-05 |\n",
       "| Node43 | Node48 | 3 | CWB | 367995.2 | 2.339015e-06 | 1.126578e-05 | 2.219167e-06 | 2.339015e-06 | 6.926344e-06 | 1.126578e-05 |\n",
       "| Node42 | Node49 | 3 | CWB | 367995.2 | 2.339015e-06 | 1.126578e-05 | 2.219167e-06 | 2.339015e-06 | 6.926344e-06 | 1.126578e-05 |\n",
       "| Node41 | Node50 | 3 | CWB | 367995.2 | 2.339015e-06 | 1.126578e-05 | 2.219167e-06 | 2.339015e-06 | 6.926344e-06 | 1.126578e-05 |\n",
       "| Node40 | Node51 | 3 | CWB | 367995.2 | 2.339015e-06 | 1.126578e-05 | 2.219167e-06 | 2.339015e-06 | 6.926344e-06 | 1.126578e-05 |\n",
       "| Node19 | Node52 | 3 | CWB | 367995.2 | 5.713636e-06 | 2.107182e-05 | 5.477297e-06 | 5.713636e-06 | 1.326212e-05 | 2.107182e-05 |\n",
       "\n"
      ],
      "text/plain": [
       "   sourceID destinationID trafficGbps service traffic_ps\n",
       "1  Node1    Node9         3           CWB     367995.2  \n",
       "2  Node2    Node16        3           CWB     367995.2  \n",
       "3  Node3    Node11        3           CWB     367995.2  \n",
       "4  Node4    Node13        3           CWB     367995.2  \n",
       "5  Node5    Node16        3           CWB     367995.2  \n",
       "6  Node6    Node19        3           CWB     367995.2  \n",
       "7  Node7    Node9         3           CWB     367995.2  \n",
       "8  Node8    Node9         3           CWB     367995.2  \n",
       "9  Node20   Node19        3           CWB     367995.2  \n",
       "10 Node21   Node40        3           CWB     367995.2  \n",
       "11 Node22   Node41        3           CWB     367995.2  \n",
       "12 Node23   Node42        3           CWB     367995.2  \n",
       "13 Node24   Node44        3           CWB     367995.2  \n",
       "14 Node25   Node9         3           CWB     367995.2  \n",
       "15 Node26   Node10        3           CWB     367995.2  \n",
       "16 Node27   Node11        3           CWB     367995.2  \n",
       "17 Node28   Node12        3           CWB     367995.2  \n",
       "18 Node29   Node13        3           CWB     367995.2  \n",
       "19 Node30   Node14        3           CWB     367995.2  \n",
       "20 Node31   Node15        3           CWB     367995.2  \n",
       "21 Node32   Node15        3           CWB     367995.2  \n",
       "22 Node33   Node16        3           CWB     367995.2  \n",
       "23 Node34   Node17        3           CWB     367995.2  \n",
       "24 Node35   Node17        3           CWB     367995.2  \n",
       "25 Node36   Node18        3           CWB     367995.2  \n",
       "26 Node37   Node18        3           CWB     367995.2  \n",
       "27 Node38   Node19        3           CWB     367995.2  \n",
       "28 Node39   Node19        3           CWB     367995.2  \n",
       "29 Node45   Node44        3           CWB     367995.2  \n",
       "30 Node46   Node44        3           CWB     367995.2  \n",
       "⋮  ⋮        ⋮             ⋮           ⋮       ⋮         \n",
       "43 Node9    Node7         3           CWB     367995.2  \n",
       "44 Node9    Node8         3           CWB     367995.2  \n",
       "45 Node19   Node20        3           CWB     367995.2  \n",
       "46 Node40   Node21        3           CWB     367995.2  \n",
       "47 Node41   Node22        3           CWB     367995.2  \n",
       "48 Node42   Node23        3           CWB     367995.2  \n",
       "49 Node44   Node24        3           CWB     367995.2  \n",
       "50 Node9    Node25        3           CWB     367995.2  \n",
       "51 Node10   Node26        3           CWB     367995.2  \n",
       "52 Node11   Node27        3           CWB     367995.2  \n",
       "53 Node12   Node28        3           CWB     367995.2  \n",
       "54 Node13   Node29        3           CWB     367995.2  \n",
       "55 Node14   Node30        3           CWB     367995.2  \n",
       "56 Node15   Node31        3           CWB     367995.2  \n",
       "57 Node15   Node32        3           CWB     367995.2  \n",
       "58 Node16   Node33        3           CWB     367995.2  \n",
       "59 Node17   Node34        3           CWB     367995.2  \n",
       "60 Node17   Node35        3           CWB     367995.2  \n",
       "61 Node18   Node36        3           CWB     367995.2  \n",
       "62 Node18   Node37        3           CWB     367995.2  \n",
       "63 Node19   Node38        3           CWB     367995.2  \n",
       "64 Node19   Node39        3           CWB     367995.2  \n",
       "65 Node44   Node45        3           CWB     367995.2  \n",
       "66 Node44   Node46        3           CWB     367995.2  \n",
       "67 Node43   Node47        3           CWB     367995.2  \n",
       "68 Node43   Node48        3           CWB     367995.2  \n",
       "69 Node42   Node49        3           CWB     367995.2  \n",
       "70 Node41   Node50        3           CWB     367995.2  \n",
       "71 Node40   Node51        3           CWB     367995.2  \n",
       "72 Node19   Node52        3           CWB     367995.2  \n",
       "   latencyPropTransQueuing_theor_s_mg1 latencyPercentile99_theor_s_mg1\n",
       "1  7.436805e-06                        2.370487e-05                   \n",
       "2  7.436805e-06                        2.370487e-05                   \n",
       "3  3.374621e-06                        1.587209e-05                   \n",
       "4  3.374621e-06                        1.587209e-05                   \n",
       "5  3.374621e-06                        1.587209e-05                   \n",
       "6  3.374621e-06                        1.587209e-05                   \n",
       "7  6.936805e-06                        2.320487e-05                   \n",
       "8  3.374621e-06                        1.587209e-05                   \n",
       "9  3.374621e-06                        1.587209e-05                   \n",
       "10 3.374621e-06                        1.587209e-05                   \n",
       "11 3.374621e-06                        1.587209e-05                   \n",
       "12 3.374621e-06                        1.587209e-05                   \n",
       "13 3.374621e-06                        1.587209e-05                   \n",
       "14 2.874621e-06                        1.537209e-05                   \n",
       "15 2.874621e-06                        1.537209e-05                   \n",
       "16 2.874621e-06                        1.537209e-05                   \n",
       "17 2.874621e-06                        1.537209e-05                   \n",
       "18 2.874621e-06                        1.537209e-05                   \n",
       "19 2.874621e-06                        1.537209e-05                   \n",
       "20 2.874621e-06                        1.537209e-05                   \n",
       "21 2.874621e-06                        1.537209e-05                   \n",
       "22 2.874621e-06                        1.537209e-05                   \n",
       "23 2.874621e-06                        1.537209e-05                   \n",
       "24 2.874621e-06                        1.537209e-05                   \n",
       "25 2.874621e-06                        1.537209e-05                   \n",
       "26 2.874621e-06                        1.537209e-05                   \n",
       "27 2.874621e-06                        1.537209e-05                   \n",
       "28 2.874621e-06                        1.537209e-05                   \n",
       "29 2.874621e-06                        1.537209e-05                   \n",
       "30 2.874621e-06                        1.537209e-05                   \n",
       "⋮  ⋮                                   ⋮                              \n",
       "43 6.624368e-06                        2.135278e-05                   \n",
       "44 3.062184e-06                        1.347674e-05                   \n",
       "45 3.374621e-06                        1.587209e-05                   \n",
       "46 3.062184e-06                        1.347674e-05                   \n",
       "47 3.062184e-06                        1.347674e-05                   \n",
       "48 3.062184e-06                        1.347674e-05                   \n",
       "49 3.062184e-06                        1.347674e-05                   \n",
       "50 2.339015e-06                        1.126578e-05                   \n",
       "51 2.339015e-06                        1.126578e-05                   \n",
       "52 2.339015e-06                        1.126578e-05                   \n",
       "53 2.339015e-06                        1.126578e-05                   \n",
       "54 2.339015e-06                        1.126578e-05                   \n",
       "55 2.339015e-06                        1.126578e-05                   \n",
       "56 2.339015e-06                        1.126578e-05                   \n",
       "57 2.339015e-06                        1.126578e-05                   \n",
       "58 2.339015e-06                        1.126578e-05                   \n",
       "59 2.339015e-06                        1.126578e-05                   \n",
       "60 2.339015e-06                        1.126578e-05                   \n",
       "61 2.339015e-06                        1.126578e-05                   \n",
       "62 2.339015e-06                        1.126578e-05                   \n",
       "63 2.339015e-06                        1.126578e-05                   \n",
       "64 2.339015e-06                        1.126578e-05                   \n",
       "65 2.339015e-06                        1.126578e-05                   \n",
       "66 2.339015e-06                        1.126578e-05                   \n",
       "67 2.339015e-06                        1.126578e-05                   \n",
       "68 2.339015e-06                        1.126578e-05                   \n",
       "69 2.339015e-06                        1.126578e-05                   \n",
       "70 2.339015e-06                        1.126578e-05                   \n",
       "71 2.339015e-06                        1.126578e-05                   \n",
       "72 5.713636e-06                        2.107182e-05                   \n",
       "   Delay_sim_s  Delay_th_s   D99_sim_s    VPbound_99th_s\n",
       "1  7.212010e-06 7.436805e-06 1.537633e-05 2.370487e-05  \n",
       "2  7.212010e-06 7.436805e-06 1.537633e-05 2.370487e-05  \n",
       "3  3.255116e-06 3.374621e-06 1.012569e-05 1.587209e-05  \n",
       "4  3.255116e-06 3.374621e-06 1.012569e-05 1.587209e-05  \n",
       "5  3.255116e-06 3.374621e-06 1.012569e-05 1.587209e-05  \n",
       "6  3.255116e-06 3.374621e-06 1.012569e-05 1.587209e-05  \n",
       "7  6.717610e-06 6.936805e-06 1.489532e-05 2.320487e-05  \n",
       "8  3.255116e-06 3.374621e-06 1.012569e-05 1.587209e-05  \n",
       "9  3.255116e-06 3.374621e-06 1.012569e-05 1.587209e-05  \n",
       "10 3.255116e-06 3.374621e-06 1.012569e-05 1.587209e-05  \n",
       "11 3.255116e-06 3.374621e-06 1.012569e-05 1.587209e-05  \n",
       "12 3.255116e-06 3.374621e-06 1.012569e-05 1.587209e-05  \n",
       "13 3.255116e-06 3.374621e-06 1.012569e-05 1.587209e-05  \n",
       "14 2.755116e-06 2.874621e-06 9.625688e-06 1.537209e-05  \n",
       "15 2.755116e-06 2.874621e-06 9.625688e-06 1.537209e-05  \n",
       "16 2.755116e-06 2.874621e-06 9.625688e-06 1.537209e-05  \n",
       "17 2.755116e-06 2.874621e-06 9.625688e-06 1.537209e-05  \n",
       "18 2.755116e-06 2.874621e-06 9.625688e-06 1.537209e-05  \n",
       "19 2.755116e-06 2.874621e-06 9.625688e-06 1.537209e-05  \n",
       "20 2.755116e-06 2.874621e-06 9.625688e-06 1.537209e-05  \n",
       "21 2.755116e-06 2.874621e-06 9.625688e-06 1.537209e-05  \n",
       "22 2.755116e-06 2.874621e-06 9.625688e-06 1.537209e-05  \n",
       "23 2.755116e-06 2.874621e-06 9.625688e-06 1.537209e-05  \n",
       "24 2.755116e-06 2.874621e-06 9.625688e-06 1.537209e-05  \n",
       "25 2.755116e-06 2.874621e-06 9.625688e-06 1.537209e-05  \n",
       "26 2.755116e-06 2.874621e-06 9.625688e-06 1.537209e-05  \n",
       "27 2.755116e-06 2.874621e-06 9.625688e-06 1.537209e-05  \n",
       "28 2.755116e-06 2.874621e-06 9.625688e-06 1.537209e-05  \n",
       "29 2.755116e-06 2.874621e-06 9.625688e-06 1.537209e-05  \n",
       "30 2.755116e-06 2.874621e-06 9.625688e-06 1.537209e-05  \n",
       "⋮  ⋮            ⋮            ⋮            ⋮             \n",
       "43 6.391564e-06 6.624368e-06 1.372348e-05 2.135278e-05  \n",
       "44 2.937918e-06 3.062184e-06 8.678445e-06 1.347674e-05  \n",
       "45 3.255116e-06 3.374621e-06 1.012569e-05 1.587209e-05  \n",
       "46 2.937918e-06 3.062184e-06 8.678445e-06 1.347674e-05  \n",
       "47 2.937918e-06 3.062184e-06 8.678445e-06 1.347674e-05  \n",
       "48 2.937918e-06 3.062184e-06 8.678445e-06 1.347674e-05  \n",
       "49 2.937918e-06 3.062184e-06 8.678445e-06 1.347674e-05  \n",
       "50 2.219167e-06 2.339015e-06 6.926344e-06 1.126578e-05  \n",
       "51 2.219167e-06 2.339015e-06 6.926344e-06 1.126578e-05  \n",
       "52 2.219167e-06 2.339015e-06 6.926344e-06 1.126578e-05  \n",
       "53 2.219167e-06 2.339015e-06 6.926344e-06 1.126578e-05  \n",
       "54 2.219167e-06 2.339015e-06 6.926344e-06 1.126578e-05  \n",
       "55 2.219167e-06 2.339015e-06 6.926344e-06 1.126578e-05  \n",
       "56 2.219167e-06 2.339015e-06 6.926344e-06 1.126578e-05  \n",
       "57 2.219167e-06 2.339015e-06 6.926344e-06 1.126578e-05  \n",
       "58 2.219167e-06 2.339015e-06 6.926344e-06 1.126578e-05  \n",
       "59 2.219167e-06 2.339015e-06 6.926344e-06 1.126578e-05  \n",
       "60 2.219167e-06 2.339015e-06 6.926344e-06 1.126578e-05  \n",
       "61 2.219167e-06 2.339015e-06 6.926344e-06 1.126578e-05  \n",
       "62 2.219167e-06 2.339015e-06 6.926344e-06 1.126578e-05  \n",
       "63 2.219167e-06 2.339015e-06 6.926344e-06 1.126578e-05  \n",
       "64 2.219167e-06 2.339015e-06 6.926344e-06 1.126578e-05  \n",
       "65 2.219167e-06 2.339015e-06 6.926344e-06 1.126578e-05  \n",
       "66 2.219167e-06 2.339015e-06 6.926344e-06 1.126578e-05  \n",
       "67 2.219167e-06 2.339015e-06 6.926344e-06 1.126578e-05  \n",
       "68 2.219167e-06 2.339015e-06 6.926344e-06 1.126578e-05  \n",
       "69 2.219167e-06 2.339015e-06 6.926344e-06 1.126578e-05  \n",
       "70 2.219167e-06 2.339015e-06 6.926344e-06 1.126578e-05  \n",
       "71 2.219167e-06 2.339015e-06 6.926344e-06 1.126578e-05  \n",
       "72 5.477297e-06 5.713636e-06 1.326212e-05 2.107182e-05  "
      ]
     },
     "metadata": {},
     "output_type": "display_data"
    }
   ],
   "source": [
    "traffic_file_v2"
   ]
  },
  {
   "cell_type": "markdown",
   "metadata": {
    "id": "ECZknusAh-9j"
   },
   "source": [
    "#Calculation of delays for different capacities"
   ]
  },
  {
   "cell_type": "code",
   "execution_count": null,
   "metadata": {
    "id": "yuydsky-Zp8T",
    "vscode": {
     "languageId": "r"
    }
   },
   "outputs": [],
   "source": [
    "\n",
    "c(g_c10_dg_l05, data_av_c10_dg_l05, data_99_c10_dg_l05) :=simulation_igraph(nodes_info, links_info, traffic_file, Capacity = 10, calc_dist = 0, distance = 5, Load_local = Load_local, Load_regional = Load_regional, Load_national = Load_national, prefix_base, national_nodes, regional_nodes , N, Cs2)\n",
    "c(g_c40_dg_l05, data_av_c40_dg_l05, data_99_c40_dg_l05) :=simulation_igraph(nodes_info, links_info, traffic_file, Capacity = 40, calc_dist = 0,  distance = 5, Load_local = Load_local, Load_regional = Load_regional, Load_national = Load_national, prefix_base, national_nodes, regional_nodes , N, Cs2)\n",
    "c(g_c100_dg_l05, data_av_c100_dg_l05, data_99_c100_dg_l05) :=simulation_igraph(nodes_info, links_info, traffic_file, Capacity = 100, calc_dist = 0,  distance = 5, Load_local = Load_local, Load_regional = Load_regional, Load_national = Load_national, prefix_base, national_nodes, regional_nodes , N, Cs2)\n",
    "c(g_c400_dg_l05, data_av_c400_dg_l05, data_99_c400_dg_l05) :=simulation_igraph(nodes_info, links_info, traffic_file, Capacity = 400, calc_dist = 0,  distance = 5, Load_local = Load_local, Load_regional = Load_regional, Load_national = Load_national, prefix_base, national_nodes, regional_nodes , N, Cs2)"
   ]
  },
  {
   "cell_type": "code",
   "execution_count": null,
   "metadata": {
    "colab": {
     "base_uri": "https://localhost:8080/",
     "height": 505
    },
    "id": "yH7O51xxH9Qm",
    "outputId": "59f7a38d-dfef-4cec-d1c9-f76e738a0956",
    "vscode": {
     "languageId": "r"
    }
   },
   "outputs": [
    {
     "name": "stderr",
     "output_type": "stream",
     "text": [
      "Warning message:\n",
      "“\u001b[1m\u001b[22mA numeric `legend.position` argument in `theme()` was deprecated in ggplot2\n",
      "3.5.0.\n",
      "\u001b[36mℹ\u001b[39m Please use the `legend.position.inside` argument of `theme()` instead.”\n"
     ]
    },
    {
     "data": {
      "image/png": "[encoded data removed]",
      "text/plain": [
       "plot without title"
      ]
     },
     "metadata": {
      "image/png": {
       "height": 420,
       "width": 420
      }
     },
     "output_type": "display_data"
    }
   ],
   "source": [
    "#Boxplots\n",
    "\n",
    "df_plot_capacity <- data.frame(capacity = c(rep(\"10G\", length(data_99_c10_dg_l05)),\n",
    "                                            rep(\"40G\", length(data_99_c40_dg_l05)),\n",
    "                                            rep(\"100G\", length(data_99_c100_dg_l05)),\n",
    "                                            rep(\"400G\", length(data_99_c400_dg_l05)),\n",
    "                                            rep(\"10G\", length(data_av_c10_dg_l05)),\n",
    "                                            rep(\"40G\", length(data_av_c40_dg_l05)),\n",
    "                                            rep(\"100G\", length(data_av_c100_dg_l05)),\n",
    "                                            rep(\"400G\", length(data_av_c400_dg_l05))),\n",
    "                               value = c(data_99_c10_dg_l05,\n",
    "                                         data_99_c40_dg_l05,\n",
    "                                         data_99_c100_dg_l05,\n",
    "                                         data_99_c400_dg_l05,\n",
    "                                         data_av_c10_dg_l05,\n",
    "                                         data_av_c40_dg_l05,\n",
    "                                         data_av_c100_dg_l05,\n",
    "                                         data_av_c400_dg_l05),\n",
    "                               type_of_calc = c(rep(\"Vysochanskij–Petunin 99th\",length(data_99_c10_dg_l05)*4),\n",
    "                                                rep(\"average delay\",length(data_99_c10_dg_l05)*4)),\n",
    "                               city = c(rep(topology_name,length(data_99_c10_dg_l05)*8)))\n",
    "\n",
    "# Calculate the mean N values for each capacity group\n",
    "N_means <- c(mean(data_99_c10_dg_l05)/mean(data_av_c10_dg_l05),\n",
    "             mean(data_99_c40_dg_l05)/mean(data_av_c40_dg_l05),\n",
    "             mean(data_99_c100_dg_l05)/mean(data_av_c100_dg_l05),\n",
    "             mean(data_99_c400_dg_l05)/mean(data_av_c400_dg_l05))\n",
    "N_means_y <- c(max(data_99_c10_dg_l05),\n",
    "               max(data_99_c40_dg_l05),\n",
    "               max(data_99_c100_dg_l05),\n",
    "               max(data_99_c400_dg_l05))\n",
    "\n",
    "text_size = 12\n",
    "# Grouped boxplot\n",
    "ggplot(df_plot_capacity, aes(x = fct_reorder(capacity, value, .desc = TRUE), y = value * 1000000, fill = type_of_calc)) +\n",
    "  geom_boxplot() +\n",
    "  theme_bw() +\n",
    "  theme(\n",
    "    legend.title = element_blank(),\n",
    "    legend.position = c(0.75, 0.8),\n",
    "    axis.title.y = element_text(size = text_size),\n",
    "    axis.title.x = element_text(size = text_size),\n",
    "    legend.text = element_text(size = text_size),\n",
    "    legend.background = element_rect(colour = \"black\"),\n",
    "    axis.text = element_text(size = text_size),\n",
    "    strip.text = element_text(size = text_size)\n",
    "  ) +\n",
    "  facet_grid(. ~ city ) +\n",
    "  ylab(\"Delay, us\") +\n",
    "  xlab(\"Capacity, Gbps\") +\n",
    "  annotate(\"text\", x = c(1,2,3,4), y = N_means_y*1e6 - 1,\n",
    "           label = paste0(round(N_means, 2), \"x\"), vjust = -0.5, size = text_size/2.5)"
   ]
  },
  {
   "cell_type": "markdown",
   "metadata": {
    "id": "P3H0XTJhiCWt"
   },
   "source": [
    "#Calculation of delays for different distances"
   ]
  },
  {
   "cell_type": "code",
   "execution_count": null,
   "metadata": {
    "id": "3fIGy92mVpDk",
    "vscode": {
     "languageId": "r"
    }
   },
   "outputs": [],
   "source": [
    "#Calculation of delays for different distances\n",
    "c(g_c100_d05g_l05, data_av_c100_d05g_l05, data_99_c100_d05g_l05) :=simulation_igraph(nodes_info, links_info, traffic_file, Capacity = 100, calc_dist = 1, distance = 0.5, Load_local = Load_local, Load_regional = Load_regional, Load_national = Load_national, prefix_base, national_nodes, regional_nodes , N, Cs2)\n",
    "c(g_c100_d2g_l05, data_av_c100_d2g_l05, data_99_c100_d2g_l05) :=simulation_igraph(nodes_info, links_info, traffic_file, Capacity = 100, calc_dist = 1, distance = 2, Load_local = Load_local, Load_regional = Load_regional, Load_national = Load_national, prefix_base, national_nodes, regional_nodes , N, Cs2)\n",
    "c(g_c100_d4g_l05, data_av_c100_d4g_l05, data_99_c100_d4g_l05) :=simulation_igraph(nodes_info, links_info, traffic_file, Capacity = 100, calc_dist = 1, distance = 4, Load_local = Load_local, Load_regional = Load_regional, Load_national = Load_national, prefix_base, national_nodes, regional_nodes , N, Cs2)\n",
    "c(g_c100_d10g_l05, data_av_c100_d10g_l05, data_99_c100_d10g_l05) :=simulation_igraph(nodes_info, links_info, traffic_file, Capacity = 100, calc_dist = 1, distance = 10, Load_local = Load_local, Load_regional = Load_regional, Load_national = Load_national, prefix_base, national_nodes, regional_nodes , N, Cs2)"
   ]
  },
  {
   "cell_type": "code",
   "execution_count": null,
   "metadata": {
    "colab": {
     "base_uri": "https://localhost:8080/",
     "height": 454
    },
    "id": "D6ddOG_-IGLr",
    "outputId": "cc49cd67-a3e9-464c-954d-8706421decc6",
    "vscode": {
     "languageId": "r"
    }
   },
   "outputs": [
    {
     "data": {
      "text/html": [
       "'0.5x diam 2.3 km av link dist 0.28 km'"
      ],
      "text/latex": [
       "'0.5x diam 2.3 km av link dist 0.28 km'"
      ],
      "text/markdown": [
       "'0.5x diam 2.3 km av link dist 0.28 km'"
      ],
      "text/plain": [
       "[1] \"0.5x diam 2.3 km av link dist 0.28 km\""
      ]
     },
     "metadata": {},
     "output_type": "display_data"
    },
    {
     "data": {
      "image/png": "[encoded data removed]",
      "text/plain": [
       "plot without title"
      ]
     },
     "metadata": {
      "image/png": {
       "height": 420,
       "width": 420
      }
     },
     "output_type": "display_data"
    }
   ],
   "source": [
    "diam_km <-  round(diameter(g_c100_d05g_l05, directed = TRUE, unconnected = TRUE, weights = E(g_c100_d05g_l05)$Distance), digits = 2)\n",
    "av_link_km <- round(mean(E(g_c100_d05g_l05)$Distance), digits = 2)\n",
    "name_05 <- paste0(\"0.5x\\n\", \"Diam = \", diam_km, \"km\\n av_link_dist\", \" = \", av_link_km, \"km\")\n",
    "name_1 <- paste(\"1x\\n\", \"Diam = \", round(diameter(g_c100_dg_l05, directed = TRUE, unconnected = TRUE, weights = E(g_c100_dg_l05)$Distance), digits = 2), \"km\\nav_link_dist = \", round(mean(E(g_c100_dg_l05)$Distance), digits = 2), \"km\")\n",
    "name_2 <- paste(\"2x\\n\", \"Diam = \", round(diameter(g_c100_d2g_l05, directed = TRUE, unconnected = TRUE, weights = E(g_c100_d2g_l05)$Distance), digits = 2), \"km\\nav_link_dist = \", round(mean(E(g_c100_d2g_l05)$Distance), digits = 2), \"km\")\n",
    "name_4 <- paste(\"4x\\n\", \"Diam = \", round(diameter(g_c100_d4g_l05, directed = TRUE, unconnected = TRUE, weights = E(g_c100_d4g_l05)$Distance), digits = 2), \"km\\nav_link_dist = \", round(mean(E(g_c100_d4g_l05)$Distance), digits = 2), \"km\")\n",
    "name_10 <- paste(\"10x\\n\", \"Diam = \", round(diameter(g_c100_d10g_l05, directed = TRUE, unconnected = TRUE, weights = E(g_c100_d10g_l05)$Distance), digits = 2), \"km\\nav_link_dist = \", round(mean(E(g_c100_d10g_l05)$Distance), digits = 2), \"km\")\n",
    "\n",
    "####distanceVSdelay\n",
    "distance = c(\n",
    "             rep(name_1, length(data_99_c100_dg_l05)),\n",
    "             rep(name_2, length(data_99_c100_d2g_l05)),\n",
    "             rep(name_4, length(data_99_c100_d4g_l05)),\n",
    "             rep(name_10, length(data_99_c100_d10g_l05)),\n",
    "             rep(name_1, length(data_av_c100_dg_l05)),\n",
    "             rep(name_2, length(data_av_c100_d2g_l05)),\n",
    "             rep(name_4, length(data_av_c100_d4g_l05)),\n",
    "             rep(name_10, length(data_av_c100_d10g_l05))\n",
    "  )\n",
    "\n",
    "type_of_calc = c(rep(\"Vysochanskij–Petunin 99th\",length(distance)/2),\n",
    "                 rep(\"average delay\",length(distance)/2))\n",
    "\n",
    "paste(\"0.5x\", \"diam\", diam_km, \"km av link dist\", av_link_km, \"km\")\n",
    "value = c(\n",
    "  data_99_c100_dg_l05,\n",
    "  data_99_c100_d2g_l05,\n",
    "  data_99_c100_d4g_l05,\n",
    "  data_99_c100_d10g_l05,\n",
    "  data_av_c100_dg_l05,\n",
    "  data_av_c100_d2g_l05,\n",
    "  data_av_c100_d4g_l05,\n",
    "  data_av_c100_d10g_l05\n",
    "  )\n",
    "\n",
    "df_plot_dist <- data.frame(distance, value, type_of_calc, city = c(rep(topology_name,length(type_of_calc))))\n",
    "\n",
    "N_means_delay <- c(\n",
    "  mean(data_99_c100_dg_l05) / mean(data_av_c100_dg_l05),\n",
    "  mean(data_99_c100_d2g_l05) / mean(data_av_c100_d2g_l05),\n",
    "  mean(data_99_c100_d4g_l05) / mean(data_av_c100_d4g_l05),\n",
    "  mean(data_99_c100_d10g_l05) / mean(data_av_c100_d10g_l05)\n",
    ")\n",
    "\n",
    "N_means_delay_y <- c(\n",
    "  max(data_99_c100_dg_l05) ,\n",
    "  max(data_99_c100_d2g_l05),\n",
    "  max(data_99_c100_d4g_l05),\n",
    "  max(data_99_c100_d10g_l05)\n",
    ")\n",
    "\n",
    "df_plot_dist$distance <- factor(df_plot_dist$distance, levels = c(name_1, name_2, name_4, name_10))\n",
    "\n",
    "text_size = 12\n",
    "# grouped df_plot_dist\n",
    "ggplot(df_plot_dist, aes(x=distance, y=value*1000000, fill=type_of_calc)) +\n",
    "  geom_boxplot()+\n",
    "  theme_gray() +\n",
    "  theme(\n",
    "     legend.title = element_blank(), legend.position = c(0.25, 0.85),\n",
    "     axis.title.y = element_text(size = text_size),\n",
    "     axis.title.x = element_text(size = text_size),\n",
    "     legend.text = element_text(size = text_size),\n",
    "     strip.text = element_text(size = text_size)\n",
    "   ) +\n",
    "  facet_grid(.~city)+\n",
    "  ylab(\"Delay, us\") +\n",
    "  xlab(\"Link distance\") +\n",
    "  annotate(\"text\", x = c(1,2,3,4), y = N_means_delay_y*1e6-3,\n",
    "           label = paste0(round(N_means_delay, 2), \"x\"), vjust = -0.5, size = text_size/2)\n",
    "\n"
   ]
  },
  {
   "cell_type": "markdown",
   "metadata": {
    "id": "BKP32pZn6JrU"
   },
   "source": [
    "#Creating the report file"
   ]
  },
  {
   "cell_type": "code",
   "execution_count": null,
   "metadata": {
    "id": "4xXCHBE84PvV",
    "vscode": {
     "languageId": "r"
    }
   },
   "outputs": [],
   "source": [
    "update_file <- function(links_info_df, traffic_file, file_name = \"Milano_topology_result.xlsx\", file_old_name)\n",
    "{\n",
    "    wb <- createWorkbook()\n",
    "    addWorksheet(wb, sheetName = \"Nodes\")\n",
    "    writeData(wb, sheet = 1, read_excel(file_old_name, sheet = 1))\n",
    "    addWorksheet(wb, sheetName = \"Links\")\n",
    "    writeData(wb, sheet = 2, links_info_df)\n",
    "    addWorksheet(wb, sheetName = \"Services\")\n",
    "    writeData(wb, sheet = 3, traffic_file)\n",
    "    saveWorkbook(wb, file_name, overwrite = TRUE)\n",
    "}\n",
    "\n",
    "\n"
   ]
  },
  {
   "cell_type": "code",
   "execution_count": null,
   "metadata": {
    "id": "M8NgLE-LoASX",
    "vscode": {
     "languageId": "r"
    }
   },
   "outputs": [],
   "source": [
    "update_file(links_info_df, traffic_file_v2, file_name = paste0(topology_name, \"_topology_result.xlsx\"), file_old_name = file_name_v2)\n"
   ]
  }
 ],
 "metadata": {
  "colab": {
   "machine_shape": "hm",
   "provenance": []
  },
  "kernelspec": {
   "display_name": "R",
   "name": "ir"
  },
  "language_info": {
   "name": "R"
  }
 },
 "nbformat": 4,
 "nbformat_minor": 0
}
